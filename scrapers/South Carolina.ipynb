{
 "cells": [
  {
   "cell_type": "code",
   "execution_count": 108,
   "metadata": {},
   "outputs": [],
   "source": [
    "import requests\n",
    "from bs4 import BeautifulSoup\n",
    "import re\n",
    "import numpy as np\n",
    "import unicodedata\n",
    "import pandas as pd"
   ]
  },
  {
   "cell_type": "code",
   "execution_count": 2,
   "metadata": {},
   "outputs": [],
   "source": [
    "URL = 'https://www.scvotes.gov/how-register-absentee-voting'\n",
    "page = requests.get(URL)\n",
    "\n",
    "soup = BeautifulSoup(page.content, 'html.parser')"
   ]
  },
  {
   "cell_type": "code",
   "execution_count": 3,
   "metadata": {},
   "outputs": [],
   "source": [
    "results = soup.find(id=\"block-vc3-content\")"
   ]
  },
  {
   "cell_type": "code",
   "execution_count": 4,
   "metadata": {},
   "outputs": [],
   "source": [
    "countyLinks = results.find_all(\"a\")"
   ]
  },
  {
   "cell_type": "code",
   "execution_count": 5,
   "metadata": {
    "scrolled": true
   },
   "outputs": [
    {
     "name": "stdout",
     "output_type": "stream",
     "text": [
      "[<a href=\"/abbeville\">Abbeville</a>, <a href=\"/aiken\">Aiken</a>, <a href=\"/allendale\">Allendale</a>, <a href=\"/anderson\">Anderson</a>, <a href=\"/bamberg\">Bamberg</a>, <a href=\"/barnwell\">Barnwell</a>, <a href=\"/beaufort\">Beaufort</a>, <a href=\"/berkeley\">Berkeley</a>, <a href=\"/calhoun\">Calhoun</a>, <a href=\"/charleston\">Charleston</a>, <a href=\"/cherokee\">Cherokee</a>, <a href=\"/chester\">Chester</a>, <a href=\"/chesterfield\">Chesterfield</a>, <a href=\"/clarendon\">Clarendon</a>, <a href=\"/colleton\">Colleton</a>, <a href=\"/darlington\">Darlington</a>, <a href=\"/dillon\">Dillon</a>, <a href=\"/dorchester\">Dorchester</a>, <a href=\"/edgefield\">Edgefield</a>, <a href=\"/fairfield\">Fairfield</a>, <a href=\"/florence\">Florence</a>, <a href=\"/georgetown\">Georgetown</a>, <a href=\"/greenville\">Greenville</a>, <a href=\"/greenwood\">Greenwood</a>, <a href=\"/hampton\">Hampton</a>, <a href=\"/horry\">Horry</a>, <a href=\"/jasper\">Jasper</a>, <a href=\"/kershaw\">Kershaw</a>, <a href=\"/lancaster\">Lancaster</a>, <a href=\"/laurens\">Laurens</a>, <a href=\"/lee\">Lee</a>, <a href=\"/lexington\">Lexington</a>, <a href=\"/marion\">Marion</a>, <a href=\"/marlboro\">Marlboro</a>, <a href=\"/mccormick\">McCormick</a>, <a href=\"/newberry\">Newberry</a>, <a href=\"/oconee\">Oconee</a>, <a href=\"/orangeburg\">Orangeburg</a>, <a href=\"/pickens\">Pickens</a>, <a href=\"/richland\">Richland</a>, <a href=\"/saluda\">Saluda</a>, <a href=\"/spartanburg\">Spartanburg</a>, <a href=\"/sumter\">Sumter</a>, <a href=\"/union\">Union</a>, <a href=\"/williamsburg\">Williamsburg</a>, <a href=\"/york\">York</a>]\n"
     ]
    }
   ],
   "source": [
    "print(countyLinks)"
   ]
  },
  {
   "cell_type": "code",
   "execution_count": 26,
   "metadata": {},
   "outputs": [],
   "source": [
    "countyURLs = {}\n",
    "for element in countyLinks:\n",
    "    raw = str(element)\n",
    "    name = element.text\n",
    "    indexes=[]\n",
    "    for i in range(0, len(raw)): \n",
    "        if raw[i] == '\"': \n",
    "            indexes.append(i)\n",
    "    url = \"https://www.scvotes.gov\" + raw[(indexes[0]+1): (indexes[1])]\n",
    "    countyURLs[name] = url"
   ]
  },
  {
   "cell_type": "code",
   "execution_count": 27,
   "metadata": {},
   "outputs": [
    {
     "name": "stdout",
     "output_type": "stream",
     "text": [
      "{'Abbeville': 'https://www.scvotes.gov/abbeville', 'Aiken': 'https://www.scvotes.gov/aiken', 'Allendale': 'https://www.scvotes.gov/allendale', 'Anderson': 'https://www.scvotes.gov/anderson', 'Bamberg': 'https://www.scvotes.gov/bamberg', 'Barnwell': 'https://www.scvotes.gov/barnwell', 'Beaufort': 'https://www.scvotes.gov/beaufort', 'Berkeley': 'https://www.scvotes.gov/berkeley', 'Calhoun': 'https://www.scvotes.gov/calhoun', 'Charleston': 'https://www.scvotes.gov/charleston', 'Cherokee': 'https://www.scvotes.gov/cherokee', 'Chester': 'https://www.scvotes.gov/chester', 'Chesterfield': 'https://www.scvotes.gov/chesterfield', 'Clarendon': 'https://www.scvotes.gov/clarendon', 'Colleton': 'https://www.scvotes.gov/colleton', 'Darlington': 'https://www.scvotes.gov/darlington', 'Dillon': 'https://www.scvotes.gov/dillon', 'Dorchester': 'https://www.scvotes.gov/dorchester', 'Edgefield': 'https://www.scvotes.gov/edgefield', 'Fairfield': 'https://www.scvotes.gov/fairfield', 'Florence': 'https://www.scvotes.gov/florence', 'Georgetown': 'https://www.scvotes.gov/georgetown', 'Greenville': 'https://www.scvotes.gov/greenville', 'Greenwood': 'https://www.scvotes.gov/greenwood', 'Hampton': 'https://www.scvotes.gov/hampton', 'Horry': 'https://www.scvotes.gov/horry', 'Jasper': 'https://www.scvotes.gov/jasper', 'Kershaw': 'https://www.scvotes.gov/kershaw', 'Lancaster': 'https://www.scvotes.gov/lancaster', 'Laurens': 'https://www.scvotes.gov/laurens', 'Lee': 'https://www.scvotes.gov/lee', 'Lexington': 'https://www.scvotes.gov/lexington', 'Marion': 'https://www.scvotes.gov/marion', 'Marlboro': 'https://www.scvotes.gov/marlboro', 'McCormick': 'https://www.scvotes.gov/mccormick', 'Newberry': 'https://www.scvotes.gov/newberry', 'Oconee': 'https://www.scvotes.gov/oconee', 'Orangeburg': 'https://www.scvotes.gov/orangeburg', 'Pickens': 'https://www.scvotes.gov/pickens', 'Richland': 'https://www.scvotes.gov/richland', 'Saluda': 'https://www.scvotes.gov/saluda', 'Spartanburg': 'https://www.scvotes.gov/spartanburg', 'Sumter': 'https://www.scvotes.gov/sumter', 'Union': 'https://www.scvotes.gov/union', 'Williamsburg': 'https://www.scvotes.gov/williamsburg', 'York': 'https://www.scvotes.gov/york'}\n"
     ]
    }
   ],
   "source": [
    "print(countyURLs)"
   ]
  },
  {
   "cell_type": "code",
   "execution_count": 110,
   "metadata": {},
   "outputs": [],
   "source": [
    "columns_list = ['state', 'county', 'location_type', 'name','address_1', 'address_2', 'city', 'state','zip', 'phone', 'county_website_url', 'email', 'fax']\n",
    "#[state, county, location_type, name, address_1, address_2, city, state, zip_code, phone, county_website_url, email, fax ]\n",
    "parsed_Data = []"
   ]
  },
  {
   "cell_type": "code",
   "execution_count": 111,
   "metadata": {},
   "outputs": [
    {
     "name": "stdout",
     "output_type": "stream",
     "text": [
      "['SC', 'Abbeville', 'Board of Voter Registration', 'Kim London - Director', '903 West Greenwood Street, Suite 2500', nan, 'Abbeville', 'SC', '29620', '(864) 366-2400, ext. 53', 'https://www.scvotes.gov/abbeville', 'klondon@abbevillecountysc.com', '(864) 366-5797']\n",
      "['SC', 'Aiken', 'Board of Voter Registration', 'Cynthia Holland-Director', '1930 University Parkway', 'Post Office Box 3127', 'Aiken', 'SC', '29802', '(803) 642-2028', 'https://www.scvotes.gov/aiken', 'cholland@aikencountysc.gov', '(803) 642-2029']\n",
      "['SC', 'Allendale', 'Board of Voter Registration', 'Sonya Prince-Director', '158 McNair Street', nan, 'Allendale', 'SC', '29810', '(803) 584-4178', 'https://www.scvotes.gov/allendale', 'Sprince@allendalecounty.com', '(803) 584-8147']\n",
      "['SC', 'Anderson', 'Board of Voter Registration', 'Katy Smith- Director', '301 N. Main St.', 'Post Office Box 8002 (29622)', 'Anderson', 'SC', '29621', '(864) 260-4035', 'http://www.andersoncountysc.org/Departments/Registration-Elections', 'acvote@andersoncountysc.org', '(864) 260-4203']\n",
      "['SC', 'Bamberg', 'Board of Voter Registration', 'Melinda C. Johnson -Director', '1234 North St.', 'Post Office Box 947', 'Bamberg', 'SC', '29003', '(803) 245-3028', 'https://www.scvotes.gov/bamberg', 'johnsonmc@bambergcounty.sc.gov', '(803) 245-7968']\n",
      "['SC', 'Barnwell', 'Board of Voter Registration', 'Naomi DeFrenn- Director', '367 Fuldner Rd.', nan, 'Barnwell', 'SC', '29812', '(803) 541-1060', 'https://www.scvotes.gov/barnwell', 'ndefrenn@barnwellsc.com', '(803) 541-3683']\n",
      "['SC', 'Beaufort', 'Board of Voter Registration', 'Marie S. Smalls- Director', '15 John Galt Road (29906-4290)', 'Post Office Drawer 1228', 'Beaufort', 'SC', '29901', 'Toll Free (866) 851-8683', 'http://www.bcgov.net/vote', 'vote.beaufort@elections.sc.gov', '(843) 255-9429']\n",
      "['SC', 'Berkeley', 'Board of Voter Registration', 'Adam Hammons- Director', '6 Belt Drive', 'PO Box 6122', 'Moncks Corner', 'SC', '29461', '(843) 719-4056', 'https://www.scvotes.gov/berkeley', 'webvre@berkeleycountysc.gov', '(843) 719-4060']\n",
      "['SC', 'Calhoun', 'Board of Voter Registration', 'Shayla Jenkins- Director', '102 Courthouse Drive, Suite 115', nan, 'St. Matthews', 'SC', '29135', '(803) 874-2929', 'https://www.scvotes.gov/calhoun', 'sjenkins@calhouncounty.sc.gov', '(803) 874-2014']\n",
      "['SC', 'Charleston', 'Board of Voter Registration', 'Joseph Debney - Director', '4367 Headquarters Road', 'Post Office Box 71419', 'Charleston', 'SC', '29405', '(843) 744-8683', 'https://www.scvotes.gov/charleston', 'voterregistration@charlestoncounty.org', '(843) 745-2236']\n",
      "['SC', 'Cherokee', 'Board of Voter Registration', 'Amanda Walker - Director', '110 Railroad Avenue\\nGaffney, SC  29340', nan, nan, 'SC', nan, '864-487-8536 fax', 'https://www.scvotes.gov/cherokee', 'amanda.walker@cherokeecountysc.com', '(864) 902-1127']\n",
      "['SC', 'Chester', 'Board of Voter Registration', 'Karen Roach-Director', '109 Ella Street', 'Post Office Box 750', 'Chester', 'SC', '29706', '(803) 385-2562', 'https://www.scvotes.gov/chester', 'kroach', '(855) 946-0429']\n",
      "['SC', 'Chesterfield', 'Board of Voter Registration', 'Kevin Thurman', '205 West Main Street', nan, 'Chesterfield', 'SC', '29709', '(843) 623-2265', 'https://www.scvotes.gov/chesterfield', 'kthurman1@shtc.net', '(843) 623-3196']\n",
      "['SC', 'Clarendon', 'Board of Voter Registration', 'Director: Shirley Black-Oliver', '411 Sunset Drive', nan, 'Manning', 'SC', '29102', '(803) 435-8215', 'https://www.scvotes.gov/clarendon', 'sblackoliver@clarendoncountygov.org', '(803) 435-9074']\n",
      "['SC', 'Colleton', 'Board of Voter Registration', 'Angela Upchurch-Director', '2471 Jefferies Highway', 'Post Office Box 97', 'Walterboro', 'SC', '29488', '(843) 549-2842', 'https://www.scvotes.gov/colleton', 'aupchurch@colletoncounty.org', '(843) 549-2812']\n",
      "['SC', 'Darlington', 'Board of Voter Registration', 'Hoyt Campbell- Director', '131 Cashua Street', nan, 'Darlington', 'SC', '29532', '(843) 398-4900', 'https://www.scvotes.gov/darlington', 'hcampbell@darcosc.net', '(843)398-4907']\n",
      "['SC', 'Dillon', 'Board of Voter Registration', 'Susie Edwards- Director', '305 West Hampton Street', 'Post Office Box 973 Dillon SC 29536', nan, 'SC', nan, '(843) 774-1403', 'https://www.scvotes.gov/dillon', 'lsedwards@dilloncountysc.org', '(843) 841-3728']\n",
      "['SC', 'Dorchester', 'Board of Voter Registration', 'Deputy Director - Meredith Murray', '201 Johnston Street', nan, 'St. George', 'SC', '29477', '(843) 563-0132 or (843) 832-0132', 'https://www.scvotes.gov/dorchester', 'vote@dorchestercountysc.gov', '(843) 563-0186']\n",
      "['SC', 'Edgefield', 'Board of Voter Registration', 'Tricia G. Butler- Director', '210 Penn Street, Suite 1', 'Post Office Box 442', 'Edgefield', 'SC', '29824', '(803) 637-4072', 'https://www.scvotes.gov/edgefield', 'tbutler@edgefieldcounty.sc.gov', '(803) 637-4134']\n",
      "['SC', 'Fairfield', 'Board of Voter Registration', 'Debby Stidham -Director', '315 South Congress St.', 'Post Office Drawer 60', 'Winnsboro', 'SC', '29180', '(803) 635-6255', 'https://www.scvotes.gov/fairfield', 'voter.registration@fairfield.sc.gov', '(803) 635-5095']\n",
      "['SC', 'Florence', 'Board of Voter Registration', 'David K. Alford,- Director', '219 Third Loop Road', nan, 'Florence', 'SC', '29505', '(843) 665-3094', 'http://www.florenceco.org/elections.html', 'Vote.Florence@elections.sc.gov', '(843) 292-1613']\n",
      "['SC', 'Georgetown', 'Board of Voter Registration', 'Kristie Richardson- Director', '303 N. Hazard Street', nan, 'Georgetown', 'SC', '29440', '(843) 545-3339', 'http://www.georgetowncountysc.org/voterreg/default.html', 'vote@georgetowncountysc.org', nan]\n",
      "['SC', 'Greenville', 'Board of Voter Registration', 'Conway Belangia- Director', '301 University Ridge, Suite 1900', nan, 'Greenville', 'SC', '29601', '(864) 467-7250', 'http://www.greenvillecounty.org/VoterRegistration/', 'cbelangia@greenvillecounty.org', '(864) 467-7256']\n",
      "['SC', 'Greenwood', 'Board of Voter Registration', 'Connie Moody- Director', '600 Monument Street, Suite 113', nan, 'Greenwood', 'SC', '29646', '(864) 942-3152, (864) 942-3153, (864) 942-5667', 'https://www.scvotes.gov/greenwood', 'vote.greenwood@elections.sc.gov', '(864) 942-5664']\n",
      "['SC', 'Hampton', 'Board of Voter Registration', 'Debra Bryant- Director', '201 Jackson Avenue West', nan, 'Hampton', 'SC', '29924', '(803) 914-2080', 'https://www.scvotes.gov/hampton', 'dbryant@hamptoncountysc.org', '(803) 914-2083']\n",
      "['SC', 'Horry', 'Board of Voter Registration', 'Sandy Martin - Director', '1515 4th Avenue', nan, 'Conway', 'SC', '29526', '(843) 915-5440', 'https://www.scvotes.gov/horry', 'MartinS@HorryCounty.org', '(843) 915-6440']\n",
      "['SC', 'Jasper', 'Board of Voter Registration', 'Jeanine Bostick- Director', '1506 Grays Highway, Unit B', 'Post Office Box 299', 'Ridgeland', 'SC', '29936', '(843) 726-7709', 'http://www.jaspercountysc.org/elections_board.htm', 'jbostick@jaspercountysc.gov', '(843) 726-7626']\n",
      "['SC', 'Kershaw', 'Board of Voter Registration', 'John Caughman-Director', '609 Lafayette Avenue', nan, 'Camden', 'SC', '29020', '(803) 424-4016', 'https://www.scvotes.gov/kershaw', 'voterregistration@kershaw.sc.gov', '(803) 424-4012']\n",
      "['SC', 'Lancaster', 'Board of Voter Registration', 'Mary Ann Hudson- Director', '101 North Main Street', 'Post Office Box 1809', 'Lancaster', 'SC', '29721', '(803) 285-2969', 'https://www.scvotes.gov/lancaster', 'mahudson@lancastercountysc.net', '(877) 636-5277']\n",
      "['SC', 'Laurens', 'Board of Voter Registration', 'Lynne West- Director', nan, 'Post Office Box 769', 'Laurens', 'SC', '29360', '(864) 984-4431', 'https://www.scvotes.gov/laurens', 'lwest@co.laurens.sc.us', '(864) 983-2529']\n",
      "['SC', 'Lee', 'Board of Voter Registration', 'Stan Barnhill- Director', '101 Gregg Street', 'Post Office Box 309', 'Bishopville', 'SC', '29010', '(803) 484-1832', 'https://www.scvotes.gov/lee', 'sbarnhill@leecountysc.org', '(803) 484-4392']\n",
      "['SC', 'Lexington', 'Board of Voter Registration', 'Mary Brack- Director', '605 West Main Street, Suite C', nan, 'Lexington', 'SC', '29072', '(803) 785-8361', 'https://www.scvotes.gov/lexington', 'MBrack@lex-co.com', '(803) 785-8390']\n",
      "['SC', 'Marion', 'Board of Voter Registration', 'Teresa Moody- Director', '2523 E. Highway 76', nan, 'Marion', 'SC', '29571', '(843) 423-8268', 'https://www.scvotes.gov/marion', 'tmoody@marionsc.org', '(843) 423-8267']\n"
     ]
    },
    {
     "name": "stdout",
     "output_type": "stream",
     "text": [
      "['SC', 'Marlboro', 'Board of Voter Registration', 'Lori Moses -Director', nan, 'Post Office Box 502', 'Bennettsville', 'SC', '29512', '(843) 479-5612', 'https://www.scvotes.gov/marlboro', 'lmoses@marlborocounty.sc.gov', '(843) 454-0633']\n",
      "['SC', 'McCormick', 'Board of Voter Registration', 'Sojourner Jennings- Director', '610 South Mine Street', 'Post Office Box 636', 'McCormick', 'SC', '29835', '(864) 852-2089', 'https://www.scvotes.gov/mccormick', 'sojennings@mccormickcountysc.org', '(864) 852-2489']\n",
      "['SC', 'Newberry', 'Board of Voter Registration', 'Shanna Proctor- Director', '1872 Wilson Road', 'Post Office Box 147', 'Newberry', 'SC', '29108', '(803) 321-2121', 'https://www.scvotes.gov/newberry', 'sproctor@newberrycounty.net', '(803) 321-2122']\n",
      "['SC', 'Oconee', 'Board of Voter Registration', 'Joy Scharich-Director', '415 South Pine Street\\n\\nWalhalla SC 29691\\n\\nOffice (864) 638-4196', nan, nan, 'SC', nan, nan, 'https://www.scvotes.gov/oconee', 'jscharich@oconeesc.com', nan]\n",
      "['SC', 'Orangeburg', 'Board of Voter Registration', 'Aurora Smalls- Director', '1475 Amelia Street', 'Post Office Box 9000', 'Orangeburg', 'SC', '29116', '(803) 533-6210', 'http://www.orangeburgcounty.org/VoterReg/Default.html', 'absentee@orangeburgcounty.org', '(803) 533-6215']\n",
      "['SC', 'Pickens', 'Board of Voter Registration', nan, 'Pickens County Board of Voter Registration & Elections\\n222 McDaniel Avenue B-9\\nPickens SC 29671', nan, nan, 'SC', nan, '864-898-5948\\n864-898-5949', 'http://pickenselections.org/', 'vote.Pickens@elections.sc.gov', '(864) 898-5637']\n",
      "['SC', 'Richland', 'Board of Voter Registration', nan, '2020 Hampton Street', 'PO Box 5330', 'Columbia', 'SC', '29250', '(803) 576-2240', 'http://www.richlandonline.com/Residents/NewResidents/VoterRegistration.aspx', 'rcvoterapplication@rcgov.us', '(803) 576-2249']\n",
      "['SC', 'Saluda', 'Board of Voter Registration', 'Ruth Padgett - Director', '702 Batesburg Hwy', nan, 'Saluda', 'SC', '29138', '(864) 445-4500, ext. 2361', 'https://www.scvotes.gov/saluda', 'rf.padgett@saludacounty.sc.gov ', '(864) 445-9187']\n",
      "['SC', 'Spartanburg', 'Board of Voter Registration', 'Henry M. Laye, III- Director', '366 North Church Street, Room 1630 (29303)', 'Post Office Box 1287', 'Spartanburg', 'SC', '29304', '(864) 596-2549', 'http://www.co.spartanburg.sc.us/govt/depts/regelec/index.htm', 'HLaye@Spartanburgcounty.org', '(864)  596-2958']\n",
      "['SC', 'Sumter', 'Board of Voter Registration', 'Patricia Jefferson-Director', '141 North Main Street', nan, 'Sumter', 'SC', '29150', '(803) 436-2313', 'http://www.sumtercountysc.org/voterreg.htm', 'pjefferson@sumtercountysc.org', '(803) 436-2405']\n",
      "['SC', 'Union', 'Board of Voter Registration', 'Darlene Pettit- Director', '1246 S. Duncan Bypass, Suite B', nan, 'Union', 'SC', '29379', '(864) 429-1616', 'https://www.scvotes.gov/union', 'dpettit@countyofunion.com', '(864) 427-7851']\n",
      "['SC', 'Williamsburg', 'Board of Voter Registration', 'Edith M. Redden, Director', '126 S. Jackson St.', nan, 'Kingstree', 'SC', '29556', '(843) 355-6044', 'https://www.scvotes.gov/williamsburg', 'Vote.Williamsburg@elections.sc.gov', '(843) 355-2039']\n",
      "['SC', 'York', 'Board of Voter Registration', 'Wanda Hemphill- Director', '6 South Congress Street', nan, 'York', 'SC', '29745', '(803) 684-1242', 'https://www.scvotes.gov/york', 'elections@yorkcountygov.com', '(803) 684-7801']\n"
     ]
    }
   ],
   "source": [
    "for county_name, county_url in countyURLs.items():\n",
    "    #print(county_url)\n",
    "    page2 = requests.get(county_url)\n",
    "    soup2 = BeautifulSoup(page2.content, 'html.parser')\n",
    "    result2 = soup2.find(id=\"block-vc3-content\")\n",
    "    content = result2.find_all(\"p\")\n",
    "    #print(content)\n",
    "    state = \"SC\"\n",
    "    county = county_name\n",
    "    location_type = \"Board of Voter Registration\"\n",
    "    name = np.nan\n",
    "    address_1 = np.nan\n",
    "    address_2 = np.nan\n",
    "    city = np.nan\n",
    "    zip_code = np.nan\n",
    "    phone = np.nan\n",
    "    county_website_url = county_url\n",
    "    validate_url = np.nan\n",
    "    email = np.nan\n",
    "    fax = np.nan\n",
    "    #full_text = []\n",
    "    for item in content:\n",
    "        item = unicodedata.normalize('NFKD', item.text)\n",
    "        #full_text.append(item)\n",
    "        if \"Director\" in item:\n",
    "            try: \n",
    "                name = re.search('\\w+\\s\\w+.*Director$', item).group()\n",
    "            except:\n",
    "                name = item.strip()\n",
    "        #Special case for Chesterfield\n",
    "        elif \"Kevin\" in item:\n",
    "            name = item.strip()\n",
    "        # Regex looking for addresses\n",
    "        elif re.search('\\d+\\s\\w+.\\s\\w+.*', item) and \"Post\" not in item:\n",
    "            address_1 = item.strip()\n",
    "        elif \"Post\" in item or \"PO\" in item:\n",
    "            address_2 = item.strip()\n",
    "        # Regex looking for City, State, Zip\n",
    "        elif re.search('(\\w+[.]*\\s*\\w*)[,]*\\s[SC].*(\\d{5})', item):\n",
    "            query = re.compile('(\\w+[.]*\\s*\\w*)[,]*\\s[SC].*(\\d{5})')\n",
    "            m = query.match(item)\n",
    "            city = m.group(1)\n",
    "            zip_code = m.group(2)\n",
    "        # Regex looking for phone number without Fax\n",
    "        elif re.search('[(]*\\d{3}[)]*\\s*[-]*\\d{3}[-]\\d{4}', item) and \"Fax\" not in item:\n",
    "            number = item.strip()\n",
    "            if 'Office' in number:\n",
    "                number = number.replace('Office', '').strip()\n",
    "            if 'Phone' in number:\n",
    "                number = number.replace('Phone', '').strip()\n",
    "            phone = number.replace(':', '').strip()\n",
    "        # Regex looking for phone number with Fax\n",
    "        elif re.search('[(]\\d{3}[)]\\s*\\d{3}[-]\\d{4}', item) and \"Fax\" in item:\n",
    "            query = re.compile('[(]\\d{3}[)]\\s*\\d{3}[-]\\d{4}')\n",
    "            # Use Search since desired text is not at the start of the string\n",
    "            m = query.search(item)\n",
    "            fax = m.group(0)\n",
    "    # Some sites have multiple url's, breaking out of loop to look at Full Content\n",
    "    # Regex looking for URL, If found replace Sec State URL with local\n",
    "    links = []\n",
    "    for link in result2.findAll('a', attrs={'href': re.compile(\"^http://\")}):\n",
    "        links.append(link.get('href'))\n",
    "    #print(links)\n",
    "    \n",
    "    if len(links) != 0:\n",
    "        #query = re.compile(r\"(?i)\\b((?:https?://|www\\d{0,3}[.]|[a-z0-9.\\-]+[.][a-z]{2,4}/)(?:[^\\s()<>]+|\\(([^\\s()<>]+|(\\([^\\s()<>]+\\)))*\\))+(?:\\(([^\\s()<>]+|(\\([^\\s()<>]+\\)))*\\)|[^\\s`!()\\[\\]{};:'\\\".,<>?«»“”‘’]))\")\n",
    "        #m=query.search(' '.join(links))\n",
    "        #county_website_url = m.group(0)\n",
    "        county_website_url = links[0]\n",
    "        \n",
    "    # Regex looking for email address\n",
    "    emails = []\n",
    "    for email_result in result2.findAll('a', attrs={'href': re.compile(\"^mailto:\")}):\n",
    "        emails.append(email_result.text)\n",
    "    if len(emails) != 0:\n",
    "        email = emails[0]\n",
    "    #print(county_listing)\n",
    "        \n",
    "    county_listing = [state, county, location_type, name, address_1, address_2, city, state, zip_code, phone, county_website_url, email, fax ]\n",
    "    print(county_listing)\n",
    "    parsed_Data.append(county_listing)"
   ]
  },
  {
   "cell_type": "code",
   "execution_count": 112,
   "metadata": {},
   "outputs": [
    {
     "data": {
      "text/html": [
       "<div>\n",
       "<style scoped>\n",
       "    .dataframe tbody tr th:only-of-type {\n",
       "        vertical-align: middle;\n",
       "    }\n",
       "\n",
       "    .dataframe tbody tr th {\n",
       "        vertical-align: top;\n",
       "    }\n",
       "\n",
       "    .dataframe thead th {\n",
       "        text-align: right;\n",
       "    }\n",
       "</style>\n",
       "<table border=\"1\" class=\"dataframe\">\n",
       "  <thead>\n",
       "    <tr style=\"text-align: right;\">\n",
       "      <th></th>\n",
       "      <th>state</th>\n",
       "      <th>county</th>\n",
       "      <th>location_type</th>\n",
       "      <th>name</th>\n",
       "      <th>address_1</th>\n",
       "      <th>address_2</th>\n",
       "      <th>city</th>\n",
       "      <th>state</th>\n",
       "      <th>zip</th>\n",
       "      <th>phone</th>\n",
       "      <th>county_website_url</th>\n",
       "      <th>email</th>\n",
       "      <th>fax</th>\n",
       "    </tr>\n",
       "  </thead>\n",
       "  <tbody>\n",
       "    <tr>\n",
       "      <th>0</th>\n",
       "      <td>SC</td>\n",
       "      <td>Abbeville</td>\n",
       "      <td>Board of Voter Registration</td>\n",
       "      <td>Kim London - Director</td>\n",
       "      <td>903 West Greenwood Street, Suite 2500</td>\n",
       "      <td>NaN</td>\n",
       "      <td>Abbeville</td>\n",
       "      <td>SC</td>\n",
       "      <td>29620</td>\n",
       "      <td>(864) 366-2400, ext. 53</td>\n",
       "      <td>https://www.scvotes.gov/abbeville</td>\n",
       "      <td>klondon@abbevillecountysc.com</td>\n",
       "      <td>(864) 366-5797</td>\n",
       "    </tr>\n",
       "    <tr>\n",
       "      <th>1</th>\n",
       "      <td>SC</td>\n",
       "      <td>Aiken</td>\n",
       "      <td>Board of Voter Registration</td>\n",
       "      <td>Cynthia Holland-Director</td>\n",
       "      <td>1930 University Parkway</td>\n",
       "      <td>Post Office Box 3127</td>\n",
       "      <td>Aiken</td>\n",
       "      <td>SC</td>\n",
       "      <td>29802</td>\n",
       "      <td>(803) 642-2028</td>\n",
       "      <td>https://www.scvotes.gov/aiken</td>\n",
       "      <td>cholland@aikencountysc.gov</td>\n",
       "      <td>(803) 642-2029</td>\n",
       "    </tr>\n",
       "    <tr>\n",
       "      <th>2</th>\n",
       "      <td>SC</td>\n",
       "      <td>Allendale</td>\n",
       "      <td>Board of Voter Registration</td>\n",
       "      <td>Sonya Prince-Director</td>\n",
       "      <td>158 McNair Street</td>\n",
       "      <td>NaN</td>\n",
       "      <td>Allendale</td>\n",
       "      <td>SC</td>\n",
       "      <td>29810</td>\n",
       "      <td>(803) 584-4178</td>\n",
       "      <td>https://www.scvotes.gov/allendale</td>\n",
       "      <td>Sprince@allendalecounty.com</td>\n",
       "      <td>(803) 584-8147</td>\n",
       "    </tr>\n",
       "    <tr>\n",
       "      <th>3</th>\n",
       "      <td>SC</td>\n",
       "      <td>Anderson</td>\n",
       "      <td>Board of Voter Registration</td>\n",
       "      <td>Katy Smith- Director</td>\n",
       "      <td>301 N. Main St.</td>\n",
       "      <td>Post Office Box 8002 (29622)</td>\n",
       "      <td>Anderson</td>\n",
       "      <td>SC</td>\n",
       "      <td>29621</td>\n",
       "      <td>(864) 260-4035</td>\n",
       "      <td>http://www.andersoncountysc.org/Departments/Re...</td>\n",
       "      <td>acvote@andersoncountysc.org</td>\n",
       "      <td>(864) 260-4203</td>\n",
       "    </tr>\n",
       "    <tr>\n",
       "      <th>4</th>\n",
       "      <td>SC</td>\n",
       "      <td>Bamberg</td>\n",
       "      <td>Board of Voter Registration</td>\n",
       "      <td>Melinda C. Johnson -Director</td>\n",
       "      <td>1234 North St.</td>\n",
       "      <td>Post Office Box 947</td>\n",
       "      <td>Bamberg</td>\n",
       "      <td>SC</td>\n",
       "      <td>29003</td>\n",
       "      <td>(803) 245-3028</td>\n",
       "      <td>https://www.scvotes.gov/bamberg</td>\n",
       "      <td>johnsonmc@bambergcounty.sc.gov</td>\n",
       "      <td>(803) 245-7968</td>\n",
       "    </tr>\n",
       "  </tbody>\n",
       "</table>\n",
       "</div>"
      ],
      "text/plain": [
       "  state     county                location_type                          name  \\\n",
       "0    SC  Abbeville  Board of Voter Registration         Kim London - Director   \n",
       "1    SC      Aiken  Board of Voter Registration      Cynthia Holland-Director   \n",
       "2    SC  Allendale  Board of Voter Registration         Sonya Prince-Director   \n",
       "3    SC   Anderson  Board of Voter Registration          Katy Smith- Director   \n",
       "4    SC    Bamberg  Board of Voter Registration  Melinda C. Johnson -Director   \n",
       "\n",
       "                               address_1                     address_2  \\\n",
       "0  903 West Greenwood Street, Suite 2500                           NaN   \n",
       "1                1930 University Parkway          Post Office Box 3127   \n",
       "2                      158 McNair Street                           NaN   \n",
       "3                        301 N. Main St.  Post Office Box 8002 (29622)   \n",
       "4                         1234 North St.           Post Office Box 947   \n",
       "\n",
       "        city state    zip                    phone  \\\n",
       "0  Abbeville    SC  29620  (864) 366-2400, ext. 53   \n",
       "1      Aiken    SC  29802           (803) 642-2028   \n",
       "2  Allendale    SC  29810           (803) 584-4178   \n",
       "3   Anderson    SC  29621           (864) 260-4035   \n",
       "4    Bamberg    SC  29003           (803) 245-3028   \n",
       "\n",
       "                                  county_website_url  \\\n",
       "0                  https://www.scvotes.gov/abbeville   \n",
       "1                      https://www.scvotes.gov/aiken   \n",
       "2                  https://www.scvotes.gov/allendale   \n",
       "3  http://www.andersoncountysc.org/Departments/Re...   \n",
       "4                    https://www.scvotes.gov/bamberg   \n",
       "\n",
       "                            email             fax  \n",
       "0   klondon@abbevillecountysc.com  (864) 366-5797  \n",
       "1      cholland@aikencountysc.gov  (803) 642-2029  \n",
       "2     Sprince@allendalecounty.com  (803) 584-8147  \n",
       "3     acvote@andersoncountysc.org  (864) 260-4203  \n",
       "4  johnsonmc@bambergcounty.sc.gov  (803) 245-7968  "
      ]
     },
     "execution_count": 112,
     "metadata": {},
     "output_type": "execute_result"
    }
   ],
   "source": [
    "test = pd.DataFrame(data = parsed_Data, columns = columns_list)\n",
    "test.head()"
   ]
  },
  {
   "cell_type": "code",
   "execution_count": 113,
   "metadata": {},
   "outputs": [],
   "source": [
    "test.to_csv('./test.csv')"
   ]
  },
  {
   "cell_type": "code",
   "execution_count": null,
   "metadata": {},
   "outputs": [],
   "source": [
    "result2 = soup2.find(id=\"block-vc3-content\")\n",
    "print(result2)"
   ]
  },
  {
   "cell_type": "code",
   "execution_count": null,
   "metadata": {},
   "outputs": [],
   "source": [
    "#content = result2.find_all(\"p\")\n",
    "content = result2.find(class_='content').find_all('p')"
   ]
  },
  {
   "cell_type": "code",
   "execution_count": null,
   "metadata": {},
   "outputs": [],
   "source": [
    "print(content[2].text)"
   ]
  },
  {
   "cell_type": "code",
   "execution_count": null,
   "metadata": {},
   "outputs": [],
   "source": []
  }
 ],
 "metadata": {
  "kernelspec": {
   "display_name": "Python 3",
   "language": "python",
   "name": "python3"
  },
  "language_info": {
   "codemirror_mode": {
    "name": "ipython",
    "version": 3
   },
   "file_extension": ".py",
   "mimetype": "text/x-python",
   "name": "python",
   "nbconvert_exporter": "python",
   "pygments_lexer": "ipython3",
   "version": "3.7.4"
  }
 },
 "nbformat": 4,
 "nbformat_minor": 2
}

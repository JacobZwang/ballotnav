{
 "cells": [
  {
   "cell_type": "markdown",
   "metadata": {
    "toc": true
   },
   "source": [
    "<h1>Table of Contents<span class=\"tocSkip\"></span></h1>\n",
    "<div class=\"toc\"><ul class=\"toc-item\"><li><span><a href=\"#Scrape-Nebraska-County---County-Officials\" data-toc-modified-id=\"Scrape-Nebraska-County---County-Officials-1\"><span class=\"toc-item-num\">1&nbsp;&nbsp;</span>Scrape Nebraska County - County Officials</a></span></li><li><span><a href=\"#Analyze-the-format-of-the-text\" data-toc-modified-id=\"Analyze-the-format-of-the-text-2\"><span class=\"toc-item-num\">2&nbsp;&nbsp;</span>Analyze the format of the text</a></span></li><li><span><a href=\"#Scrape-county,-name,-address,-city,-zip,-email,-fax,-phone-and-website\" data-toc-modified-id=\"Scrape-county,-name,-address,-city,-zip,-email,-fax,-phone-and-website-3\"><span class=\"toc-item-num\">3&nbsp;&nbsp;</span>Scrape county, name, address, city, zip, email, fax, phone and website</a></span></li><li><span><a href=\"#Create-a-DataFrame-to-hold-the-data\" data-toc-modified-id=\"Create-a-DataFrame-to-hold-the-data-4\"><span class=\"toc-item-num\">4&nbsp;&nbsp;</span>Create a DataFrame to hold the data</a></span></li><li><span><a href=\"#Write-DataFrame-to-csv\" data-toc-modified-id=\"Write-DataFrame-to-csv-5\"><span class=\"toc-item-num\">5&nbsp;&nbsp;</span>Write DataFrame to csv</a></span></li></ul></div>"
   ]
  },
  {
   "cell_type": "markdown",
   "metadata": {},
   "source": [
    "# Scrape Nebraska County - County Officials"
   ]
  },
  {
   "cell_type": "code",
   "execution_count": 1,
   "metadata": {
    "ExecuteTime": {
     "end_time": "2020-09-22T00:15:56.070356Z",
     "start_time": "2020-09-22T00:15:54.779845Z"
    }
   },
   "outputs": [],
   "source": [
    "import pandas as pd\n",
    "import numpy as np\n",
    "import requests\n",
    "from bs4 import BeautifulSoup\n",
    "import re"
   ]
  },
  {
   "cell_type": "code",
   "execution_count": 2,
   "metadata": {
    "ExecuteTime": {
     "end_time": "2020-09-22T00:15:56.081610Z",
     "start_time": "2020-09-22T00:15:56.074155Z"
    }
   },
   "outputs": [],
   "source": [
    "url='https://sos.nebraska.gov/elections/election-officials-contact-information'"
   ]
  },
  {
   "cell_type": "code",
   "execution_count": 3,
   "metadata": {
    "ExecuteTime": {
     "end_time": "2020-09-22T00:15:56.945973Z",
     "start_time": "2020-09-22T00:15:56.091802Z"
    }
   },
   "outputs": [],
   "source": [
    "res=requests.get(url)"
   ]
  },
  {
   "cell_type": "code",
   "execution_count": 4,
   "metadata": {
    "ExecuteTime": {
     "end_time": "2020-09-22T00:15:56.968337Z",
     "start_time": "2020-09-22T00:15:56.950433Z"
    }
   },
   "outputs": [
    {
     "data": {
      "text/plain": [
       "<Response [200]>"
      ]
     },
     "execution_count": 4,
     "metadata": {},
     "output_type": "execute_result"
    }
   ],
   "source": [
    "res"
   ]
  },
  {
   "cell_type": "code",
   "execution_count": 5,
   "metadata": {
    "ExecuteTime": {
     "end_time": "2020-09-22T00:15:57.126724Z",
     "start_time": "2020-09-22T00:15:56.972601Z"
    }
   },
   "outputs": [],
   "source": [
    "soup = BeautifulSoup(res.content, 'html.parser')"
   ]
  },
  {
   "cell_type": "markdown",
   "metadata": {},
   "source": [
    "# Analyze the format of the text\n",
    "- Scrape class=\"col-sm-6\"\n",
    "- The first div does not contain county data\n",
    "- Total of 93 counties"
   ]
  },
  {
   "cell_type": "code",
   "execution_count": 6,
   "metadata": {
    "ExecuteTime": {
     "end_time": "2020-09-22T00:15:57.167319Z",
     "start_time": "2020-09-22T00:15:57.129530Z"
    }
   },
   "outputs": [],
   "source": [
    "divs = soup.find_all(class_='col-sm-6')"
   ]
  },
  {
   "cell_type": "code",
   "execution_count": 7,
   "metadata": {
    "ExecuteTime": {
     "end_time": "2020-09-22T00:15:57.180834Z",
     "start_time": "2020-09-22T00:15:57.170620Z"
    }
   },
   "outputs": [
    {
     "data": {
      "text/plain": [
       "94"
      ]
     },
     "execution_count": 7,
     "metadata": {},
     "output_type": "execute_result"
    }
   ],
   "source": [
    "len(divs)"
   ]
  },
  {
   "cell_type": "code",
   "execution_count": 8,
   "metadata": {
    "ExecuteTime": {
     "end_time": "2020-09-22T00:15:57.211001Z",
     "start_time": "2020-09-22T00:15:57.195356Z"
    }
   },
   "outputs": [
    {
     "data": {
      "text/plain": [
       "<div class=\"col-sm-6 header-logo-text\"> <a class=\"logo navbar-btn opacity\" href=\"/\" title=\"Home\"> <span>Nebraska Secretary of State</span><br/>\n",
       "<span class=\"logo-name\">Robert B. Evnen</span></a> </div>"
      ]
     },
     "execution_count": 8,
     "metadata": {},
     "output_type": "execute_result"
    }
   ],
   "source": [
    "divs[0]"
   ]
  },
  {
   "cell_type": "code",
   "execution_count": 9,
   "metadata": {
    "ExecuteTime": {
     "end_time": "2020-09-22T00:15:57.233200Z",
     "start_time": "2020-09-22T00:15:57.222660Z"
    }
   },
   "outputs": [],
   "source": [
    "div_1 = divs[1]"
   ]
  },
  {
   "cell_type": "code",
   "execution_count": 10,
   "metadata": {
    "ExecuteTime": {
     "end_time": "2020-09-22T00:15:57.267049Z",
     "start_time": "2020-09-22T00:15:57.238079Z"
    }
   },
   "outputs": [
    {
     "data": {
      "text/plain": [
       "<div class=\"col-sm-6\"><a id=\"adams\" name=\"adams\"></a> <strong>County: </strong>Adams (14)<br><strong>Name: </strong>Ramona Thomas<br/><strong>Party Affiliation: </strong>Republican<br/><strong>Address:</strong> 500 W 4th St., Ste. 109<br/><strong>City: </strong>Hastings<br/><strong>Zip Code: </strong>68901<br/><strong>Phone Number: </strong>(402) 461-7107<br/><strong>Fax Number: </strong>(402) 461-7185<br/><strong>Email Address: </strong><a href=\"mailto:earlyvote@adamscounty.org\">earlyvote@adamscounty.org</a><br/>\n",
       " </br></div>"
      ]
     },
     "execution_count": 10,
     "metadata": {},
     "output_type": "execute_result"
    }
   ],
   "source": [
    "div_1"
   ]
  },
  {
   "cell_type": "code",
   "execution_count": 11,
   "metadata": {
    "ExecuteTime": {
     "end_time": "2020-09-22T00:15:57.296489Z",
     "start_time": "2020-09-22T00:15:57.274935Z"
    }
   },
   "outputs": [
    {
     "data": {
      "text/plain": [
       "' County: Adams (14)Name:\\xa0Ramona ThomasParty Affiliation: RepublicanAddress: 500 W 4th St., Ste. 109City: HastingsZip Code: 68901Phone Number: (402) 461-7107Fax Number: (402) 461-7185Email Address: earlyvote@adamscounty.org\\n\\xa0'"
      ]
     },
     "execution_count": 11,
     "metadata": {},
     "output_type": "execute_result"
    }
   ],
   "source": [
    "div_1.text"
   ]
  },
  {
   "cell_type": "code",
   "execution_count": 12,
   "metadata": {
    "ExecuteTime": {
     "end_time": "2020-09-22T00:15:57.317716Z",
     "start_time": "2020-09-22T00:15:57.303447Z"
    }
   },
   "outputs": [
    {
     "data": {
      "text/plain": [
       "'Adams (14)'"
      ]
     },
     "execution_count": 12,
     "metadata": {},
     "output_type": "execute_result"
    }
   ],
   "source": [
    "re.findall('County:(.*?)Name', div_1.text)[0].strip()"
   ]
  },
  {
   "cell_type": "code",
   "execution_count": 13,
   "metadata": {
    "ExecuteTime": {
     "end_time": "2020-09-22T00:15:57.350521Z",
     "start_time": "2020-09-22T00:15:57.335515Z"
    }
   },
   "outputs": [
    {
     "data": {
      "text/plain": [
       "'Hastings'"
      ]
     },
     "execution_count": 13,
     "metadata": {},
     "output_type": "execute_result"
    }
   ],
   "source": [
    "re.findall('City:(.*?)Zip Code:', divs[1].text)[0].strip()"
   ]
  },
  {
   "cell_type": "code",
   "execution_count": 14,
   "metadata": {
    "ExecuteTime": {
     "end_time": "2020-09-22T00:15:57.380408Z",
     "start_time": "2020-09-22T00:15:57.359548Z"
    }
   },
   "outputs": [
    {
     "data": {
      "text/plain": [
       "'68901'"
      ]
     },
     "execution_count": 14,
     "metadata": {},
     "output_type": "execute_result"
    }
   ],
   "source": [
    "re.findall('Zip Code:(.*?)Phone', divs[1].text)[0].strip()"
   ]
  },
  {
   "cell_type": "code",
   "execution_count": 15,
   "metadata": {
    "ExecuteTime": {
     "end_time": "2020-09-22T00:15:57.414746Z",
     "start_time": "2020-09-22T00:15:57.385680Z"
    }
   },
   "outputs": [
    {
     "data": {
      "text/plain": [
       "'(402) 461-7185'"
      ]
     },
     "execution_count": 15,
     "metadata": {},
     "output_type": "execute_result"
    }
   ],
   "source": [
    "re.findall('Fax Number:(.*?)Email', divs[1].text)[0].strip()"
   ]
  },
  {
   "cell_type": "markdown",
   "metadata": {},
   "source": [
    "# Scrape county, name, address, city, zip, email, fax, phone and website"
   ]
  },
  {
   "cell_type": "code",
   "execution_count": 16,
   "metadata": {
    "ExecuteTime": {
     "end_time": "2020-09-22T00:15:57.443723Z",
     "start_time": "2020-09-22T00:15:57.426066Z"
    }
   },
   "outputs": [
    {
     "data": {
      "text/plain": [
       "'  Nebraska Secretary of State\\nRobert B. Evnen '"
      ]
     },
     "execution_count": 16,
     "metadata": {},
     "output_type": "execute_result"
    }
   ],
   "source": [
    "divs[0].text"
   ]
  },
  {
   "cell_type": "code",
   "execution_count": 17,
   "metadata": {
    "ExecuteTime": {
     "end_time": "2020-09-22T00:15:57.518066Z",
     "start_time": "2020-09-22T00:15:57.453169Z"
    },
    "scrolled": false
   },
   "outputs": [],
   "source": [
    "all_data = []\n",
    "for div in divs[1:]:\n",
    "#     print(div.text)\n",
    "    county = re.findall('County:(.*?)Name', div.text)[0].strip()\n",
    "    name = re.findall('Name:(.*?)Party', div.text)[0].strip()\n",
    "    address = re.findall('Address:(.*?)City:', div.text)[0].strip()\n",
    "    city = re.findall('City:(.*?)Zip Code:', div.text)[0].strip()\n",
    "    zip_code = re.findall('Zip Code:(.*?)Phone', div.text)[0].strip()\n",
    "    email = re.findall('Email Address:(.*?)\\n', div.text)[0].strip()\n",
    "    fax = re.findall('Fax Number:(.*?)Email', div.text)[0].strip()\n",
    "    phone = re.findall('Phone Number:(.*?)Fax', div.text)[0].strip()\n",
    "    fax = re.findall('Fax Number:(.*?)Email', div.text)[0].strip()\n",
    "    county_website_url = 'https://sos.nebraska.gov/elections/election-officials-contact-information' \n",
    "    source_url = np.nan\n",
    "    \n",
    "    data = {\n",
    "            'county_state': county+'_NE',\n",
    "            'state': 'NE',\n",
    "            'county': county,\n",
    "            'location_type': np.nan,\n",
    "            'name': name,\n",
    "            'address_1': address,\n",
    "            'address_2': np.nan,\n",
    "            'city': city,\n",
    "            'zip': zip_code,\n",
    "            'phone': phone,\n",
    "            'county_website_url': 'https://sos.nebraska.gov/elections/election-officials-contact-information',\n",
    "            'validate_url': 'https://sos.nebraska.gov/elections/election-officials-contact-information',\n",
    "            'email': email,\n",
    "            'fax': fax,\n",
    "            'social': np.nan,\n",
    "            'notes': np.nan,\n",
    "            'scraper': 'Seymour Liao'\n",
    "    }\n",
    "    \n",
    "    all_data.append(data)"
   ]
  },
  {
   "cell_type": "code",
   "execution_count": 18,
   "metadata": {
    "ExecuteTime": {
     "end_time": "2020-09-22T00:15:57.546385Z",
     "start_time": "2020-09-22T00:15:57.527739Z"
    },
    "scrolled": false
   },
   "outputs": [
    {
     "data": {
      "text/plain": [
       "[{'county_state': 'Adams (14)_NE',\n",
       "  'state': 'NE',\n",
       "  'county': 'Adams (14)',\n",
       "  'location_type': nan,\n",
       "  'name': 'Ramona Thomas',\n",
       "  'address_1': '500 W 4th St., Ste. 109',\n",
       "  'address_2': nan,\n",
       "  'city': 'Hastings',\n",
       "  'zip': '68901',\n",
       "  'phone': '(402) 461-7107',\n",
       "  'county_website_url': 'https://sos.nebraska.gov/elections/election-officials-contact-information',\n",
       "  'validate_url': 'https://sos.nebraska.gov/elections/election-officials-contact-information',\n",
       "  'email': 'earlyvote@adamscounty.org',\n",
       "  'fax': '(402) 461-7185',\n",
       "  'social': nan,\n",
       "  'notes': nan,\n",
       "  'scraper': 'Seymour Liao'},\n",
       " {'county_state': 'Antelope (26)_NE',\n",
       "  'state': 'NE',\n",
       "  'county': 'Antelope (26)',\n",
       "  'location_type': nan,\n",
       "  'name': 'Lisa Payne',\n",
       "  'address_1': '501 Main Street, PO Box 26',\n",
       "  'address_2': nan,\n",
       "  'city': 'Neligh',\n",
       "  'zip': '68756',\n",
       "  'phone': '(402) 887-4410',\n",
       "  'county_website_url': 'https://sos.nebraska.gov/elections/election-officials-contact-information',\n",
       "  'validate_url': 'https://sos.nebraska.gov/elections/election-officials-contact-information',\n",
       "  'email': 'clerk@antelopecounty.org',\n",
       "  'fax': '(402) 887-4719',\n",
       "  'social': nan,\n",
       "  'notes': nan,\n",
       "  'scraper': 'Seymour Liao'},\n",
       " {'county_state': 'Arthur (91)_NE',\n",
       "  'state': 'NE',\n",
       "  'county': 'Arthur (91)',\n",
       "  'location_type': nan,\n",
       "  'name': 'Becky Swanson',\n",
       "  'address_1': '205 Fir St., PO Box 126',\n",
       "  'address_2': nan,\n",
       "  'city': 'Arthur',\n",
       "  'zip': '69121',\n",
       "  'phone': '(308) 764-2203',\n",
       "  'county_website_url': 'https://sos.nebraska.gov/elections/election-officials-contact-information',\n",
       "  'validate_url': 'https://sos.nebraska.gov/elections/election-officials-contact-information',\n",
       "  'email': 'becky.swanson@nebraska.gov',\n",
       "  'fax': '(308) 764-2216',\n",
       "  'social': nan,\n",
       "  'notes': nan,\n",
       "  'scraper': 'Seymour Liao'}]"
      ]
     },
     "execution_count": 18,
     "metadata": {},
     "output_type": "execute_result"
    }
   ],
   "source": [
    "all_data[:3]"
   ]
  },
  {
   "cell_type": "code",
   "execution_count": 19,
   "metadata": {
    "ExecuteTime": {
     "end_time": "2020-09-22T00:15:57.567237Z",
     "start_time": "2020-09-22T00:15:57.552505Z"
    }
   },
   "outputs": [
    {
     "data": {
      "text/plain": [
       "93"
      ]
     },
     "execution_count": 19,
     "metadata": {},
     "output_type": "execute_result"
    }
   ],
   "source": [
    "len(all_data)"
   ]
  },
  {
   "cell_type": "markdown",
   "metadata": {},
   "source": [
    "# Create a DataFrame to hold the data"
   ]
  },
  {
   "cell_type": "code",
   "execution_count": 20,
   "metadata": {
    "ExecuteTime": {
     "end_time": "2020-09-22T00:15:57.591953Z",
     "start_time": "2020-09-22T00:15:57.577671Z"
    }
   },
   "outputs": [],
   "source": [
    "all_data_df = pd.DataFrame(all_data)"
   ]
  },
  {
   "cell_type": "code",
   "execution_count": 21,
   "metadata": {
    "ExecuteTime": {
     "end_time": "2020-09-22T00:15:57.683894Z",
     "start_time": "2020-09-22T00:15:57.598154Z"
    },
    "scrolled": false
   },
   "outputs": [
    {
     "data": {
      "text/html": [
       "<div>\n",
       "<style scoped>\n",
       "    .dataframe tbody tr th:only-of-type {\n",
       "        vertical-align: middle;\n",
       "    }\n",
       "\n",
       "    .dataframe tbody tr th {\n",
       "        vertical-align: top;\n",
       "    }\n",
       "\n",
       "    .dataframe thead th {\n",
       "        text-align: right;\n",
       "    }\n",
       "</style>\n",
       "<table border=\"1\" class=\"dataframe\">\n",
       "  <thead>\n",
       "    <tr style=\"text-align: right;\">\n",
       "      <th></th>\n",
       "      <th>county_state</th>\n",
       "      <th>state</th>\n",
       "      <th>county</th>\n",
       "      <th>location_type</th>\n",
       "      <th>name</th>\n",
       "      <th>address_1</th>\n",
       "      <th>address_2</th>\n",
       "      <th>city</th>\n",
       "      <th>zip</th>\n",
       "      <th>phone</th>\n",
       "      <th>county_website_url</th>\n",
       "      <th>validate_url</th>\n",
       "      <th>email</th>\n",
       "      <th>fax</th>\n",
       "      <th>social</th>\n",
       "      <th>notes</th>\n",
       "      <th>scraper</th>\n",
       "    </tr>\n",
       "  </thead>\n",
       "  <tbody>\n",
       "    <tr>\n",
       "      <th>0</th>\n",
       "      <td>Adams (14)_NE</td>\n",
       "      <td>NE</td>\n",
       "      <td>Adams (14)</td>\n",
       "      <td>NaN</td>\n",
       "      <td>Ramona Thomas</td>\n",
       "      <td>500 W 4th St., Ste. 109</td>\n",
       "      <td>NaN</td>\n",
       "      <td>Hastings</td>\n",
       "      <td>68901</td>\n",
       "      <td>(402) 461-7107</td>\n",
       "      <td>https://sos.nebraska.gov/elections/election-of...</td>\n",
       "      <td>https://sos.nebraska.gov/elections/election-of...</td>\n",
       "      <td>earlyvote@adamscounty.org</td>\n",
       "      <td>(402) 461-7185</td>\n",
       "      <td>NaN</td>\n",
       "      <td>NaN</td>\n",
       "      <td>Seymour Liao</td>\n",
       "    </tr>\n",
       "    <tr>\n",
       "      <th>1</th>\n",
       "      <td>Antelope (26)_NE</td>\n",
       "      <td>NE</td>\n",
       "      <td>Antelope (26)</td>\n",
       "      <td>NaN</td>\n",
       "      <td>Lisa Payne</td>\n",
       "      <td>501 Main Street, PO Box 26</td>\n",
       "      <td>NaN</td>\n",
       "      <td>Neligh</td>\n",
       "      <td>68756</td>\n",
       "      <td>(402) 887-4410</td>\n",
       "      <td>https://sos.nebraska.gov/elections/election-of...</td>\n",
       "      <td>https://sos.nebraska.gov/elections/election-of...</td>\n",
       "      <td>clerk@antelopecounty.org</td>\n",
       "      <td>(402) 887-4719</td>\n",
       "      <td>NaN</td>\n",
       "      <td>NaN</td>\n",
       "      <td>Seymour Liao</td>\n",
       "    </tr>\n",
       "    <tr>\n",
       "      <th>2</th>\n",
       "      <td>Arthur (91)_NE</td>\n",
       "      <td>NE</td>\n",
       "      <td>Arthur (91)</td>\n",
       "      <td>NaN</td>\n",
       "      <td>Becky Swanson</td>\n",
       "      <td>205 Fir St., PO Box 126</td>\n",
       "      <td>NaN</td>\n",
       "      <td>Arthur</td>\n",
       "      <td>69121</td>\n",
       "      <td>(308) 764-2203</td>\n",
       "      <td>https://sos.nebraska.gov/elections/election-of...</td>\n",
       "      <td>https://sos.nebraska.gov/elections/election-of...</td>\n",
       "      <td>becky.swanson@nebraska.gov</td>\n",
       "      <td>(308) 764-2216</td>\n",
       "      <td>NaN</td>\n",
       "      <td>NaN</td>\n",
       "      <td>Seymour Liao</td>\n",
       "    </tr>\n",
       "    <tr>\n",
       "      <th>3</th>\n",
       "      <td>Banner (85)_NE</td>\n",
       "      <td>NE</td>\n",
       "      <td>Banner (85)</td>\n",
       "      <td>NaN</td>\n",
       "      <td>Lisa Cross</td>\n",
       "      <td>PO Box 67</td>\n",
       "      <td>NaN</td>\n",
       "      <td>Harrisburg</td>\n",
       "      <td>69345</td>\n",
       "      <td>(308) 436-5265</td>\n",
       "      <td>https://sos.nebraska.gov/elections/election-of...</td>\n",
       "      <td>https://sos.nebraska.gov/elections/election-of...</td>\n",
       "      <td>clerk.banner@outlook.com</td>\n",
       "      <td>(308) 436-4180</td>\n",
       "      <td>NaN</td>\n",
       "      <td>NaN</td>\n",
       "      <td>Seymour Liao</td>\n",
       "    </tr>\n",
       "    <tr>\n",
       "      <th>4</th>\n",
       "      <td>Blaine (86)_NE</td>\n",
       "      <td>NE</td>\n",
       "      <td>Blaine (86)</td>\n",
       "      <td>NaN</td>\n",
       "      <td>April Warren</td>\n",
       "      <td>145 Lincoln Ave.</td>\n",
       "      <td>NaN</td>\n",
       "      <td>Brewster</td>\n",
       "      <td>68821</td>\n",
       "      <td>(308) 547-2222 ext.201</td>\n",
       "      <td>https://sos.nebraska.gov/elections/election-of...</td>\n",
       "      <td>https://sos.nebraska.gov/elections/election-of...</td>\n",
       "      <td>clerk@blainecountyne.com</td>\n",
       "      <td>(308) 547-2228</td>\n",
       "      <td>NaN</td>\n",
       "      <td>NaN</td>\n",
       "      <td>Seymour Liao</td>\n",
       "    </tr>\n",
       "    <tr>\n",
       "      <th>...</th>\n",
       "      <td>...</td>\n",
       "      <td>...</td>\n",
       "      <td>...</td>\n",
       "      <td>...</td>\n",
       "      <td>...</td>\n",
       "      <td>...</td>\n",
       "      <td>...</td>\n",
       "      <td>...</td>\n",
       "      <td>...</td>\n",
       "      <td>...</td>\n",
       "      <td>...</td>\n",
       "      <td>...</td>\n",
       "      <td>...</td>\n",
       "      <td>...</td>\n",
       "      <td>...</td>\n",
       "      <td>...</td>\n",
       "      <td>...</td>\n",
       "    </tr>\n",
       "    <tr>\n",
       "      <th>88</th>\n",
       "      <td>Washington (29)_NE</td>\n",
       "      <td>NE</td>\n",
       "      <td>Washington (29)</td>\n",
       "      <td>NaN</td>\n",
       "      <td>Barbara Sullivan</td>\n",
       "      <td>1555 Colfax St., PO Box 466</td>\n",
       "      <td>NaN</td>\n",
       "      <td>Blair</td>\n",
       "      <td>68008</td>\n",
       "      <td>(402) 426-6822</td>\n",
       "      <td>https://sos.nebraska.gov/elections/election-of...</td>\n",
       "      <td>https://sos.nebraska.gov/elections/election-of...</td>\n",
       "      <td>clerk@washingtoncountyne.org</td>\n",
       "      <td>(402) 426-6825</td>\n",
       "      <td>NaN</td>\n",
       "      <td>NaN</td>\n",
       "      <td>Seymour Liao</td>\n",
       "    </tr>\n",
       "    <tr>\n",
       "      <th>89</th>\n",
       "      <td>Wayne (27)_NE</td>\n",
       "      <td>NE</td>\n",
       "      <td>Wayne (27)</td>\n",
       "      <td>NaN</td>\n",
       "      <td>Deb Finn</td>\n",
       "      <td>510 N Pearl St., Ste. 5</td>\n",
       "      <td>NaN</td>\n",
       "      <td>Wayne</td>\n",
       "      <td>68787-1939</td>\n",
       "      <td>(402) 375-2288</td>\n",
       "      <td>https://sos.nebraska.gov/elections/election-of...</td>\n",
       "      <td>https://sos.nebraska.gov/elections/election-of...</td>\n",
       "      <td>clerk@wayne.nacone.org</td>\n",
       "      <td>(402) 375-4137</td>\n",
       "      <td>NaN</td>\n",
       "      <td>NaN</td>\n",
       "      <td>Seymour Liao</td>\n",
       "    </tr>\n",
       "    <tr>\n",
       "      <th>90</th>\n",
       "      <td>Webster (45)_NE</td>\n",
       "      <td>NE</td>\n",
       "      <td>Webster (45)</td>\n",
       "      <td>NaN</td>\n",
       "      <td>Louise Petsch</td>\n",
       "      <td>621 N Cedar St., PO Box 250</td>\n",
       "      <td>NaN</td>\n",
       "      <td>Red Cloud</td>\n",
       "      <td>68970</td>\n",
       "      <td>(402) 746-2716</td>\n",
       "      <td>https://sos.nebraska.gov/elections/election-of...</td>\n",
       "      <td>https://sos.nebraska.gov/elections/election-of...</td>\n",
       "      <td>clerk@webster.nacone.org</td>\n",
       "      <td>(402) 746-2710</td>\n",
       "      <td>NaN</td>\n",
       "      <td>NaN</td>\n",
       "      <td>Seymour Liao</td>\n",
       "    </tr>\n",
       "    <tr>\n",
       "      <th>91</th>\n",
       "      <td>Wheeler (84)_NE</td>\n",
       "      <td>NE</td>\n",
       "      <td>Wheeler (84)</td>\n",
       "      <td>NaN</td>\n",
       "      <td>Cara Snider</td>\n",
       "      <td>301 3rd St., PO Box 127</td>\n",
       "      <td>NaN</td>\n",
       "      <td>Bartlett</td>\n",
       "      <td>68622</td>\n",
       "      <td>(308) 654-3235</td>\n",
       "      <td>https://sos.nebraska.gov/elections/election-of...</td>\n",
       "      <td>https://sos.nebraska.gov/elections/election-of...</td>\n",
       "      <td>clerk@wheeler.nacone.org</td>\n",
       "      <td>(308) 654-3176</td>\n",
       "      <td>NaN</td>\n",
       "      <td>NaN</td>\n",
       "      <td>Seymour Liao</td>\n",
       "    </tr>\n",
       "    <tr>\n",
       "      <th>92</th>\n",
       "      <td>York (17)_NE</td>\n",
       "      <td>NE</td>\n",
       "      <td>York (17)</td>\n",
       "      <td>NaN</td>\n",
       "      <td>Kelly Turner</td>\n",
       "      <td>510 N Lincoln Ave.</td>\n",
       "      <td>NaN</td>\n",
       "      <td>York</td>\n",
       "      <td>68467</td>\n",
       "      <td>(402) 362-7759</td>\n",
       "      <td>https://sos.nebraska.gov/elections/election-of...</td>\n",
       "      <td>https://sos.nebraska.gov/elections/election-of...</td>\n",
       "      <td>clerk@york.nacone.org</td>\n",
       "      <td>(402) 362-7558</td>\n",
       "      <td>NaN</td>\n",
       "      <td>NaN</td>\n",
       "      <td>Seymour Liao</td>\n",
       "    </tr>\n",
       "  </tbody>\n",
       "</table>\n",
       "<p>93 rows × 17 columns</p>\n",
       "</div>"
      ],
      "text/plain": [
       "          county_state state           county  location_type  \\\n",
       "0        Adams (14)_NE    NE       Adams (14)            NaN   \n",
       "1     Antelope (26)_NE    NE    Antelope (26)            NaN   \n",
       "2       Arthur (91)_NE    NE      Arthur (91)            NaN   \n",
       "3       Banner (85)_NE    NE      Banner (85)            NaN   \n",
       "4       Blaine (86)_NE    NE      Blaine (86)            NaN   \n",
       "..                 ...   ...              ...            ...   \n",
       "88  Washington (29)_NE    NE  Washington (29)            NaN   \n",
       "89       Wayne (27)_NE    NE       Wayne (27)            NaN   \n",
       "90     Webster (45)_NE    NE     Webster (45)            NaN   \n",
       "91     Wheeler (84)_NE    NE     Wheeler (84)            NaN   \n",
       "92        York (17)_NE    NE        York (17)            NaN   \n",
       "\n",
       "                name                    address_1  address_2        city  \\\n",
       "0      Ramona Thomas      500 W 4th St., Ste. 109        NaN    Hastings   \n",
       "1         Lisa Payne   501 Main Street, PO Box 26        NaN      Neligh   \n",
       "2      Becky Swanson      205 Fir St., PO Box 126        NaN      Arthur   \n",
       "3         Lisa Cross                    PO Box 67        NaN  Harrisburg   \n",
       "4       April Warren             145 Lincoln Ave.        NaN    Brewster   \n",
       "..               ...                          ...        ...         ...   \n",
       "88  Barbara Sullivan  1555 Colfax St., PO Box 466        NaN       Blair   \n",
       "89          Deb Finn      510 N Pearl St., Ste. 5        NaN       Wayne   \n",
       "90     Louise Petsch  621 N Cedar St., PO Box 250        NaN   Red Cloud   \n",
       "91       Cara Snider      301 3rd St., PO Box 127        NaN    Bartlett   \n",
       "92      Kelly Turner           510 N Lincoln Ave.        NaN        York   \n",
       "\n",
       "           zip                   phone  \\\n",
       "0        68901          (402) 461-7107   \n",
       "1        68756          (402) 887-4410   \n",
       "2        69121          (308) 764-2203   \n",
       "3        69345          (308) 436-5265   \n",
       "4        68821  (308) 547-2222 ext.201   \n",
       "..         ...                     ...   \n",
       "88       68008          (402) 426-6822   \n",
       "89  68787-1939          (402) 375-2288   \n",
       "90       68970          (402) 746-2716   \n",
       "91       68622          (308) 654-3235   \n",
       "92       68467          (402) 362-7759   \n",
       "\n",
       "                                   county_website_url  \\\n",
       "0   https://sos.nebraska.gov/elections/election-of...   \n",
       "1   https://sos.nebraska.gov/elections/election-of...   \n",
       "2   https://sos.nebraska.gov/elections/election-of...   \n",
       "3   https://sos.nebraska.gov/elections/election-of...   \n",
       "4   https://sos.nebraska.gov/elections/election-of...   \n",
       "..                                                ...   \n",
       "88  https://sos.nebraska.gov/elections/election-of...   \n",
       "89  https://sos.nebraska.gov/elections/election-of...   \n",
       "90  https://sos.nebraska.gov/elections/election-of...   \n",
       "91  https://sos.nebraska.gov/elections/election-of...   \n",
       "92  https://sos.nebraska.gov/elections/election-of...   \n",
       "\n",
       "                                         validate_url  \\\n",
       "0   https://sos.nebraska.gov/elections/election-of...   \n",
       "1   https://sos.nebraska.gov/elections/election-of...   \n",
       "2   https://sos.nebraska.gov/elections/election-of...   \n",
       "3   https://sos.nebraska.gov/elections/election-of...   \n",
       "4   https://sos.nebraska.gov/elections/election-of...   \n",
       "..                                                ...   \n",
       "88  https://sos.nebraska.gov/elections/election-of...   \n",
       "89  https://sos.nebraska.gov/elections/election-of...   \n",
       "90  https://sos.nebraska.gov/elections/election-of...   \n",
       "91  https://sos.nebraska.gov/elections/election-of...   \n",
       "92  https://sos.nebraska.gov/elections/election-of...   \n",
       "\n",
       "                           email             fax  social  notes       scraper  \n",
       "0      earlyvote@adamscounty.org  (402) 461-7185     NaN    NaN  Seymour Liao  \n",
       "1       clerk@antelopecounty.org  (402) 887-4719     NaN    NaN  Seymour Liao  \n",
       "2     becky.swanson@nebraska.gov  (308) 764-2216     NaN    NaN  Seymour Liao  \n",
       "3       clerk.banner@outlook.com  (308) 436-4180     NaN    NaN  Seymour Liao  \n",
       "4       clerk@blainecountyne.com  (308) 547-2228     NaN    NaN  Seymour Liao  \n",
       "..                           ...             ...     ...    ...           ...  \n",
       "88  clerk@washingtoncountyne.org  (402) 426-6825     NaN    NaN  Seymour Liao  \n",
       "89        clerk@wayne.nacone.org  (402) 375-4137     NaN    NaN  Seymour Liao  \n",
       "90      clerk@webster.nacone.org  (402) 746-2710     NaN    NaN  Seymour Liao  \n",
       "91      clerk@wheeler.nacone.org  (308) 654-3176     NaN    NaN  Seymour Liao  \n",
       "92         clerk@york.nacone.org  (402) 362-7558     NaN    NaN  Seymour Liao  \n",
       "\n",
       "[93 rows x 17 columns]"
      ]
     },
     "execution_count": 21,
     "metadata": {},
     "output_type": "execute_result"
    }
   ],
   "source": [
    "all_data_df"
   ]
  },
  {
   "cell_type": "code",
   "execution_count": 22,
   "metadata": {
    "ExecuteTime": {
     "end_time": "2020-09-22T00:15:57.712092Z",
     "start_time": "2020-09-22T00:15:57.687929Z"
    }
   },
   "outputs": [
    {
     "name": "stdout",
     "output_type": "stream",
     "text": [
      "<class 'pandas.core.frame.DataFrame'>\n",
      "RangeIndex: 93 entries, 0 to 92\n",
      "Data columns (total 17 columns):\n",
      " #   Column              Non-Null Count  Dtype  \n",
      "---  ------              --------------  -----  \n",
      " 0   county_state        93 non-null     object \n",
      " 1   state               93 non-null     object \n",
      " 2   county              93 non-null     object \n",
      " 3   location_type       0 non-null      float64\n",
      " 4   name                93 non-null     object \n",
      " 5   address_1           93 non-null     object \n",
      " 6   address_2           0 non-null      float64\n",
      " 7   city                93 non-null     object \n",
      " 8   zip                 93 non-null     object \n",
      " 9   phone               93 non-null     object \n",
      " 10  county_website_url  93 non-null     object \n",
      " 11  validate_url        93 non-null     object \n",
      " 12  email               93 non-null     object \n",
      " 13  fax                 93 non-null     object \n",
      " 14  social              0 non-null      float64\n",
      " 15  notes               0 non-null      float64\n",
      " 16  scraper             93 non-null     object \n",
      "dtypes: float64(4), object(13)\n",
      "memory usage: 12.5+ KB\n"
     ]
    }
   ],
   "source": [
    "all_data_df.info()"
   ]
  },
  {
   "cell_type": "markdown",
   "metadata": {},
   "source": [
    "# Write DataFrame to csv"
   ]
  },
  {
   "cell_type": "code",
   "execution_count": 23,
   "metadata": {
    "ExecuteTime": {
     "end_time": "2020-09-22T00:15:57.725228Z",
     "start_time": "2020-09-22T00:15:57.720565Z"
    }
   },
   "outputs": [],
   "source": [
    "all_data_df.to_csv('Nebraska.csv')"
   ]
  }
 ],
 "metadata": {
  "kernelspec": {
   "display_name": "Python 3",
   "language": "python",
   "name": "python3"
  },
  "language_info": {
   "codemirror_mode": {
    "name": "ipython",
    "version": 3
   },
   "file_extension": ".py",
   "mimetype": "text/x-python",
   "name": "python",
   "nbconvert_exporter": "python",
   "pygments_lexer": "ipython3",
   "version": "3.6.8"
  },
  "toc": {
   "base_numbering": 1,
   "nav_menu": {},
   "number_sections": true,
   "sideBar": true,
   "skip_h1_title": false,
   "title_cell": "Table of Contents",
   "title_sidebar": "Contents",
   "toc_cell": true,
   "toc_position": {
    "height": "calc(100% - 180px)",
    "left": "10px",
    "top": "150px",
    "width": "323.59375px"
   },
   "toc_section_display": true,
   "toc_window_display": true
  }
 },
 "nbformat": 4,
 "nbformat_minor": 4
}

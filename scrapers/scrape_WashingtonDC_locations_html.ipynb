{
 "cells": [
  {
   "cell_type": "markdown",
   "metadata": {
    "toc": true
   },
   "source": [
    "<h1>Table of Contents<span class=\"tocSkip\"></span></h1>\n",
    "<div class=\"toc\"><ul class=\"toc-item\"><li><span><a href=\"#Scrape-WashingtonDC---County-(Ward)-Dropoff-Locations\" data-toc-modified-id=\"Scrape-WashingtonDC---County-(Ward)-Dropoff-Locations-1\"><span class=\"toc-item-num\">1&nbsp;&nbsp;</span>Scrape WashingtonDC - County (Ward) Dropoff Locations</a></span></li><li><span><a href=\"#Analyze-the-format-of-the-text\" data-toc-modified-id=\"Analyze-the-format-of-the-text-2\"><span class=\"toc-item-num\">2&nbsp;&nbsp;</span>Analyze the format of the text</a></span></li><li><span><a href=\"#Scrape-county,-location,-address\" data-toc-modified-id=\"Scrape-county,-location,-address-3\"><span class=\"toc-item-num\">3&nbsp;&nbsp;</span>Scrape county, location, address</a></span></li><li><span><a href=\"#Create-DataFrame-to-hold-the-data\" data-toc-modified-id=\"Create-DataFrame-to-hold-the-data-4\"><span class=\"toc-item-num\">4&nbsp;&nbsp;</span>Create DataFrame to hold the data</a></span></li><li><span><a href=\"#Scrape-zip-code-from-Google-Maps-link\" data-toc-modified-id=\"Scrape-zip-code-from-Google-Maps-link-5\"><span class=\"toc-item-num\">5&nbsp;&nbsp;</span>Scrape zip code from Google Maps link</a></span></li><li><span><a href=\"#Write-DataFrame-to-csv\" data-toc-modified-id=\"Write-DataFrame-to-csv-6\"><span class=\"toc-item-num\">6&nbsp;&nbsp;</span>Write DataFrame to csv</a></span></li></ul></div>"
   ]
  },
  {
   "cell_type": "markdown",
   "metadata": {},
   "source": [
    "# Scrape WashingtonDC - County (Ward) Dropoff Locations"
   ]
  },
  {
   "cell_type": "code",
   "execution_count": 1,
   "metadata": {
    "ExecuteTime": {
     "end_time": "2020-09-22T00:17:40.425169Z",
     "start_time": "2020-09-22T00:17:39.282763Z"
    }
   },
   "outputs": [],
   "source": [
    "import requests\n",
    "from bs4 import BeautifulSoup\n",
    "import pandas as pd\n",
    "import numpy as np"
   ]
  },
  {
   "cell_type": "code",
   "execution_count": 2,
   "metadata": {
    "ExecuteTime": {
     "end_time": "2020-09-22T00:17:40.434923Z",
     "start_time": "2020-09-22T00:17:40.428986Z"
    }
   },
   "outputs": [],
   "source": [
    "url = 'https://dcboe.org/Voters/Where-to-Vote/Mail-Ballot-Drop-Sites'"
   ]
  },
  {
   "cell_type": "code",
   "execution_count": 3,
   "metadata": {
    "ExecuteTime": {
     "end_time": "2020-09-22T00:17:40.888664Z",
     "start_time": "2020-09-22T00:17:40.440724Z"
    }
   },
   "outputs": [],
   "source": [
    "res = requests.get(url)"
   ]
  },
  {
   "cell_type": "code",
   "execution_count": 4,
   "metadata": {
    "ExecuteTime": {
     "end_time": "2020-09-22T00:17:40.912947Z",
     "start_time": "2020-09-22T00:17:40.892928Z"
    }
   },
   "outputs": [
    {
     "data": {
      "text/plain": [
       "200"
      ]
     },
     "execution_count": 4,
     "metadata": {},
     "output_type": "execute_result"
    }
   ],
   "source": [
    "res.status_code"
   ]
  },
  {
   "cell_type": "code",
   "execution_count": 5,
   "metadata": {
    "ExecuteTime": {
     "end_time": "2020-09-22T00:17:40.988200Z",
     "start_time": "2020-09-22T00:17:40.922245Z"
    }
   },
   "outputs": [],
   "source": [
    "soup = BeautifulSoup(res.text, \"html.parser\")"
   ]
  },
  {
   "cell_type": "markdown",
   "metadata": {},
   "source": [
    "# Analyze the format of the text\n",
    "\n",
    "- Pretty short list. There are 8 wards in DC\n",
    "- Entire list in class=\"article dcboeContent\"\n",
    "- The addresses do not have zip codes on the page, but can be scraped from the Google Map embedded link."
   ]
  },
  {
   "cell_type": "code",
   "execution_count": 6,
   "metadata": {
    "ExecuteTime": {
     "end_time": "2020-09-22T00:17:41.932961Z",
     "start_time": "2020-09-22T00:17:41.924789Z"
    }
   },
   "outputs": [
    {
     "data": {
      "text/plain": [
       "str"
      ]
     },
     "execution_count": 6,
     "metadata": {},
     "output_type": "execute_result"
    }
   ],
   "source": [
    "type(soup.text)"
   ]
  },
  {
   "cell_type": "code",
   "execution_count": 7,
   "metadata": {
    "ExecuteTime": {
     "end_time": "2020-09-22T00:17:42.709054Z",
     "start_time": "2020-09-22T00:17:42.699739Z"
    },
    "scrolled": false
   },
   "outputs": [
    {
     "data": {
      "text/plain": [
       "[<strong>You may drop off your voted mail-in-ballot in <u>ANY Ballot Drop Box at ANY time,</u> before 8:00 pm on Election Day, November 3, 2020.</strong>,\n",
       " <strong>WARD 1</strong>,\n",
       " <strong><span style=\"color:#FF0000;\">WARD 2</span></strong>,\n",
       " <strong><span style=\"color:#FF0000;\">WARD 3</span></strong>,\n",
       " <strong><span style=\"color:#FF0000;\">WARD 4</span></strong>,\n",
       " <strong><span style=\"color:#FF0000;\">WARD 5</span></strong>,\n",
       " <strong><span style=\"color:#FF0000;\">WARD 6</span></strong>,\n",
       " <strong><span style=\"color:#FF0000;\">WARD 7</span></strong>,\n",
       " <strong><span style=\"color:#FF0000;\">WARD 8</span></strong>]"
      ]
     },
     "execution_count": 7,
     "metadata": {},
     "output_type": "execute_result"
    }
   ],
   "source": [
    "soup.find_all('strong')"
   ]
  },
  {
   "cell_type": "code",
   "execution_count": 8,
   "metadata": {
    "ExecuteTime": {
     "end_time": "2020-09-22T00:17:42.950053Z",
     "start_time": "2020-09-22T00:17:42.928097Z"
    },
    "scrolled": true
   },
   "outputs": [],
   "source": [
    "divs = soup.find_all(class_='article dcboeContent')"
   ]
  },
  {
   "cell_type": "code",
   "execution_count": 9,
   "metadata": {
    "ExecuteTime": {
     "end_time": "2020-09-22T00:17:43.136885Z",
     "start_time": "2020-09-22T00:17:43.127686Z"
    }
   },
   "outputs": [
    {
     "data": {
      "text/plain": [
       "1"
      ]
     },
     "execution_count": 9,
     "metadata": {},
     "output_type": "execute_result"
    }
   ],
   "source": [
    "len(divs)"
   ]
  },
  {
   "cell_type": "code",
   "execution_count": 10,
   "metadata": {
    "ExecuteTime": {
     "end_time": "2020-09-22T00:17:43.338143Z",
     "start_time": "2020-09-22T00:17:43.327728Z"
    }
   },
   "outputs": [
    {
     "data": {
      "text/plain": [
       "[<strong>You may drop off your voted mail-in-ballot in <u>ANY Ballot Drop Box at ANY time,</u> before 8:00 pm on Election Day, November 3, 2020.</strong>,\n",
       " <strong>WARD 1</strong>,\n",
       " <strong><span style=\"color:#FF0000;\">WARD 2</span></strong>,\n",
       " <strong><span style=\"color:#FF0000;\">WARD 3</span></strong>,\n",
       " <strong><span style=\"color:#FF0000;\">WARD 4</span></strong>,\n",
       " <strong><span style=\"color:#FF0000;\">WARD 5</span></strong>,\n",
       " <strong><span style=\"color:#FF0000;\">WARD 6</span></strong>,\n",
       " <strong><span style=\"color:#FF0000;\">WARD 7</span></strong>,\n",
       " <strong><span style=\"color:#FF0000;\">WARD 8</span></strong>]"
      ]
     },
     "execution_count": 10,
     "metadata": {},
     "output_type": "execute_result"
    }
   ],
   "source": [
    "divs[0].find_all('strong')"
   ]
  },
  {
   "cell_type": "code",
   "execution_count": 11,
   "metadata": {
    "ExecuteTime": {
     "end_time": "2020-09-22T00:17:46.644152Z",
     "start_time": "2020-09-22T00:17:46.633637Z"
    }
   },
   "outputs": [
    {
     "data": {
      "text/plain": [
       "55"
      ]
     },
     "execution_count": 11,
     "metadata": {},
     "output_type": "execute_result"
    }
   ],
   "source": [
    "len(divs[0].find_all('a'))"
   ]
  },
  {
   "cell_type": "code",
   "execution_count": 12,
   "metadata": {
    "ExecuteTime": {
     "end_time": "2020-09-22T00:17:47.325626Z",
     "start_time": "2020-09-22T00:17:47.317286Z"
    },
    "scrolled": false
   },
   "outputs": [
    {
     "data": {
      "text/plain": [
       "[<a href=\"https://www.google.com/maps/place/2000+14th+St+NW,+Washington,+DC+20009/@38.9175589,-77.0346619,17z/data=!3m1!4b1!4m5!3m4!1s0x89b7b7e792f6bfa9:0xdc2a31827f13c8eb!8m2!3d38.9175547!4d-77.0324732\" target=\"_blank\">2000 14<sup>th</sup> Street, NW</a>,\n",
       " <a href=\"https://www.google.com/maps/place/3160+16th+St+NW,+Washington,+DC+20010/@38.9305317,-77.0394299,17z/data=!3m1!4b1!4m5!3m4!1s0x89b7c82113d40607:0xd9f7166dc091fe8a!8m2!3d38.9305275!4d-77.0372412\" target=\"_blank\">3160 16<sup>th</sup> Street, NW</a>,\n",
       " <a href=\"https://www.google.com/maps/place/3100+14th+St+NW,+Washington,+DC+20010/@38.9295597,-77.0354266,17z/data=!3m1!4b1!4m5!3m4!1s0x89b7c821d704d1c3:0x413cdcbe553f9797!8m2!3d38.9295555!4d-77.0332379\" target=\"_blank\">3100 14<sup>th</sup> Street, NW</a>]"
      ]
     },
     "execution_count": 12,
     "metadata": {},
     "output_type": "execute_result"
    }
   ],
   "source": [
    "divs[0].find_all('a')[:3]"
   ]
  },
  {
   "cell_type": "code",
   "execution_count": 13,
   "metadata": {
    "ExecuteTime": {
     "end_time": "2020-09-22T00:17:48.423373Z",
     "start_time": "2020-09-22T00:17:48.415816Z"
    },
    "scrolled": false
   },
   "outputs": [
    {
     "name": "stdout",
     "output_type": "stream",
     "text": [
      "\n",
      "Mail-in-Ballot Drop Box Locations\n",
      "You may drop off your voted mail-in-ballot in ANY Ballot Drop Box at ANY time, before 8:00 pm on Election Day, November 3, 2020.\n",
      "\n",
      "WARD 1\n",
      "\r\n",
      "Frank D. Reeves Center\n",
      "2000 14th Street, NW\r\n",
      " \r\n",
      "Mt. Pleasant Library\n",
      "3160 16th Street, NW\r\n",
      " \r\n",
      "Columbia Heights Shopping Center\n",
      "3100 14th Street, NW\r\n",
      " \r\n",
      "Sun Trust Bank (Park Area)\n",
      "1800 Columbia Road, NW\r\n",
      " \r\n",
      "Banneker Community Center\n",
      "2500 Georgia Avenue, NW\n",
      "\n",
      "WARD 2\n",
      "\r\n",
      "Georgetown Library\n",
      "3260 R Street, NW\r\n",
      " \r\n",
      "Martin Luther King \n"
     ]
    }
   ],
   "source": [
    "print(divs[0].text[:500])"
   ]
  },
  {
   "cell_type": "code",
   "execution_count": 14,
   "metadata": {
    "ExecuteTime": {
     "end_time": "2020-09-22T00:17:51.949986Z",
     "start_time": "2020-09-22T00:17:51.938341Z"
    }
   },
   "outputs": [
    {
     "name": "stdout",
     "output_type": "stream",
     "text": [
      "(0, '\\nMail-in-Ballot Drop Box Locations\\nYou may drop off your voted mail-in-ballot in\\xa0ANY Ballot Drop Box at ANY time,\\xa0before 8:00 pm on Election Day, November 3, 2020.\\n\\n')\n",
      "(1, ' 1\\n\\r\\nFrank D. Reeves Center\\n2000 14th Street, NW\\r\\n\\xa0\\r\\nMt. Pleasant Library\\n3160 16th Street, NW\\r\\n\\xa0\\r\\nColumbia Heights Shopping Center\\n3100 14th Street, NW\\r\\n\\xa0\\r\\nSun Trust Bank (Park Area)\\n1800 Columbia Road, NW\\r\\n\\xa0\\r\\nBanneker Community Center\\n2500 Georgia Avenue, NW\\n\\n')\n",
      "(2, ' 2\\n\\r\\nGeorgetown Library\\n3260 R Street, NW\\r\\n\\xa0\\r\\nMartin Luther King Jr. Library\\n901 G Street, NW\\r\\n\\xa0\\r\\nWest End Library\\n2301 L Street, NW\\r\\n\\xa0\\r\\nStead Recreation Center\\n1625 P Street, NW\\n\\r\\nFoggy Bottom/GWU Metro (Available October 8, 2020)\\n2301 I Street, NW\\n\\n')\n",
      "(3, ' 3\\n\\r\\nGuy Mason Recreation Center\\n3600 Calvert Street, NW\\n\\r\\nChevy Chase Library\\n5625 Connecticut Avenue, NW\\r\\n\\xa0\\r\\nTenley-Friendship Library\\n4450 Wisconsin Avenue, NW\\r\\n\\xa0\\r\\nCleveland Park Library\\n3310 Connecticut Avenue, NW\\r\\n\\xa0\\r\\nPalisades Library\\n4901 V Street, NW\\r\\n\\xa0\\r\\nSecond District Police Station\\n3320 Idaho Avenue, NW\\n\\n')\n",
      "(4, ' 4\\n\\r\\nTakoma Metro\\n327 Cedar Street, NW\\r\\n\\xa0\\r\\nPetworth Library\\n4200 Kansas Avenue, NW\\r\\n\\xa0\\r\\nShepherd Park (Juanita E. Thornton) Library\\n7420 Georgia Avenue, NW\\r\\n\\xa0\\r\\nFourth District Police Station\\n6001 Georgia Avenue, NW\\r\\n\\xa0\\r\\nLamond Recreation Center\\n20 Tuckerman Street, NE\\n\\r\\nTakoma Park Neighborhood Library (Available October 8, 2020)\\n416 Cedar Street, NW\\n\\n')\n",
      "(5, ' 5\\n\\r\\nWoodridge Library\\n1801 Hamlin Street, NE\\r\\n\\xa0\\r\\nUDC Community College @Backus\\n5171 South Dakota Avenue, NE\\r\\n\\xa0\\r\\nPerry Street Prep Charter School\\n1800 Perry Street, NE\\r\\n\\xa0\\r\\nJoseph H. Cole Recreation Center\\n1299 Neal Street, NE\\r\\n\\xa0\\r\\nDunbar High School\\n101 N Street, NW\\r\\n\\xa0\\r\\nUnion Market DC (6th Street Entrance)\\n1309 5th Street, NE\\r\\n\\xa0\\r\\nMonroe Street Market (Outside of Busboys and Poets closer to curb)\\n625 Monroe Street, NE\\r\\n\\xa0\\r\\nRhode Island Place Shopping Center (Median in Giant Parking Lot)\\n1060 Brentwood Road NE\\n\\n')\n",
      "(6, ' 6\\n\\r\\nShaw (Watha T. Daniel) Library\\n1630 7th Street, NW\\r\\n\\xa0\\r\\nNortheast Library\\n330 7th Street, NE\\r\\n\\xa0\\r\\nRosedale Library\\n1701 Gales Street, NE\\r\\n\\xa0\\r\\nSouthwest Library\\n425 M Street, SW\\r\\n\\xa0\\r\\nEastern Market\\n225 7th Street, SE\\r\\n\\xa0\\r\\nBOE Headquarters\\n1015 Half Street, SE\\n\\r\\nNorthwest One Neighborhood Library (Available October 8, 2020)\\n155 L Street, NW\\n\\r\\nSoutheast Neighborhood Library (Available October 8, 2020)\\n403 7th Street, SE\\n\\n')\n",
      "(7, ' 7\\n\\r\\nCapital View Library\\n5001 Central Avenue, SE\\r\\n\\xa0\\r\\nDeanwood Library\\n1350 49th Street, NE\\r\\n\\xa0\\r\\nBenning (Dorothy I. Height) Library\\n3935 Benning Road, NE\\r\\n\\xa0\\r\\nFrancis A. Gregory Library\\n3660 Alabama Avenue, SE\\r\\n\\xa0\\r\\nSixth District Police Station\\n5002 Hayes Street, NE\\r\\n\\xa0\\r\\nBenning Ridge Service Center (DMV)\\n4525 Benning Road, SE\\r\\n\\xa0\\r\\nPenn Branch Center (Backside Parking Lot)\\n3202 Pennsylvania Avenue, SE\\r\\n\\xa0\\r\\nRidge Road Community Center\\n830 Ridge Road, SE\\n\\n')\n",
      "(8, ' 8\\n\\r\\nAnacostia Library\\n1800 Good Hope Road SE\\r\\n\\xa0\\r\\nParklands-Turner Library\\n1547 Alabama Avenue, SE\\r\\n\\xa0\\r\\nBellevue (William O. Lockridge) Library\\n115 Atlantic Street, SW\\r\\n\\xa0\\r\\nSeventh District Police Station\\n2455 Alabama Avenue, SE\\r\\n\\xa0\\r\\nThe ARC\\n1901 Mississippi Avenue, SE\\r\\n\\xa0\\r\\nDepartment of Human Services\\n2100 Martin Luther King Jr. Avenue, SE\\r\\n\\xa0\\r\\nHendley Elementary School\\n425 Chesapeake Street, SE\\r\\n\\xa0\\r\\nPatterson Elementary School\\n4399 South Capitol Terrace, SW\\n\\r\\nFort Stanton Recreation Center (Available October 8, 2020)\\n1812 Erie Street, SE\\r\\n\\xa0\\r\\n\\r\\n\\r\\n\\r\\n')\n"
     ]
    },
    {
     "data": {
      "text/plain": [
       "[None, None, None, None, None, None, None, None, None]"
      ]
     },
     "execution_count": 14,
     "metadata": {},
     "output_type": "execute_result"
    }
   ],
   "source": [
    "[print(x) for x in enumerate(divs[0].text.split('WARD'))]"
   ]
  },
  {
   "cell_type": "code",
   "execution_count": 15,
   "metadata": {
    "ExecuteTime": {
     "end_time": "2020-09-22T00:17:52.675147Z",
     "start_time": "2020-09-22T00:17:52.663724Z"
    }
   },
   "outputs": [
    {
     "data": {
      "text/plain": [
       "[' 1',\n",
       " '',\n",
       " 'Frank D. Reeves Center',\n",
       " '2000 14th Street, NW',\n",
       " '\\xa0',\n",
       " 'Mt. Pleasant Library',\n",
       " '3160 16th Street, NW',\n",
       " '\\xa0',\n",
       " 'Columbia Heights Shopping Center',\n",
       " '3100 14th Street, NW',\n",
       " '\\xa0',\n",
       " 'Sun Trust Bank (Park Area)',\n",
       " '1800 Columbia Road, NW',\n",
       " '\\xa0',\n",
       " 'Banneker Community Center',\n",
       " '2500 Georgia Avenue, NW',\n",
       " '']"
      ]
     },
     "execution_count": 15,
     "metadata": {},
     "output_type": "execute_result"
    }
   ],
   "source": [
    "divs[0].text.split('WARD')[1].splitlines()"
   ]
  },
  {
   "cell_type": "code",
   "execution_count": 16,
   "metadata": {
    "ExecuteTime": {
     "end_time": "2020-09-22T00:17:56.289699Z",
     "start_time": "2020-09-22T00:17:56.280403Z"
    }
   },
   "outputs": [
    {
     "data": {
      "text/plain": [
       "'Woodridge Library'"
      ]
     },
     "execution_count": 16,
     "metadata": {},
     "output_type": "execute_result"
    }
   ],
   "source": [
    "divs[0].text.split('WARD')[5].splitlines()[2]"
   ]
  },
  {
   "cell_type": "code",
   "execution_count": 17,
   "metadata": {
    "ExecuteTime": {
     "end_time": "2020-09-22T00:17:56.851545Z",
     "start_time": "2020-09-22T00:17:56.841927Z"
    }
   },
   "outputs": [
    {
     "data": {
      "text/plain": [
       "[' 8',\n",
       " '',\n",
       " 'Anacostia Library',\n",
       " '1800 Good Hope Road SE',\n",
       " '\\xa0',\n",
       " 'Parklands-Turner Library',\n",
       " '1547 Alabama Avenue, SE',\n",
       " '\\xa0',\n",
       " 'Bellevue (William O. Lockridge) Library',\n",
       " '115 Atlantic Street, SW',\n",
       " '\\xa0',\n",
       " 'Seventh District Police Station',\n",
       " '2455 Alabama Avenue, SE',\n",
       " '\\xa0',\n",
       " 'The ARC',\n",
       " '1901 Mississippi Avenue, SE',\n",
       " '\\xa0',\n",
       " 'Department of Human Services',\n",
       " '2100 Martin Luther King Jr. Avenue, SE',\n",
       " '\\xa0',\n",
       " 'Hendley Elementary School',\n",
       " '425 Chesapeake Street, SE',\n",
       " '\\xa0',\n",
       " 'Patterson Elementary School',\n",
       " '4399 South Capitol Terrace, SW',\n",
       " '',\n",
       " 'Fort Stanton Recreation Center (Available October 8, 2020)',\n",
       " '1812 Erie Street, SE',\n",
       " '\\xa0',\n",
       " '',\n",
       " '',\n",
       " '']"
      ]
     },
     "execution_count": 17,
     "metadata": {},
     "output_type": "execute_result"
    }
   ],
   "source": [
    "divs[0].text.split('WARD')[8].splitlines()"
   ]
  },
  {
   "cell_type": "code",
   "execution_count": 18,
   "metadata": {
    "ExecuteTime": {
     "end_time": "2020-09-22T00:17:57.640535Z",
     "start_time": "2020-09-22T00:17:57.629632Z"
    }
   },
   "outputs": [
    {
     "name": "stdout",
     "output_type": "stream",
     "text": [
      "2\n",
      "5\n",
      "8\n",
      "11\n",
      "14\n",
      "17\n",
      "20\n",
      "23\n"
     ]
    },
    {
     "data": {
      "text/plain": [
       "[None, None, None, None, None, None, None, None]"
      ]
     },
     "execution_count": 18,
     "metadata": {},
     "output_type": "execute_result"
    }
   ],
   "source": [
    "[print(x) for x in range(2, len(divs[0].text.split('WARD')[5].splitlines()), 3)]"
   ]
  },
  {
   "cell_type": "code",
   "execution_count": 19,
   "metadata": {
    "ExecuteTime": {
     "end_time": "2020-09-22T00:18:01.059072Z",
     "start_time": "2020-09-22T00:18:01.050245Z"
    }
   },
   "outputs": [
    {
     "data": {
      "text/plain": [
       "'2000 14th Street, NW'"
      ]
     },
     "execution_count": 19,
     "metadata": {},
     "output_type": "execute_result"
    }
   ],
   "source": [
    "divs[0].text.split('WARD')[1].splitlines()[3]"
   ]
  },
  {
   "cell_type": "markdown",
   "metadata": {},
   "source": [
    "# Scrape county, location, address\n",
    "**Assign city, state, website and hours**"
   ]
  },
  {
   "cell_type": "code",
   "execution_count": 20,
   "metadata": {
    "ExecuteTime": {
     "end_time": "2020-09-22T00:18:02.246127Z",
     "start_time": "2020-09-22T00:18:02.165363Z"
    },
    "scrolled": true
   },
   "outputs": [],
   "source": [
    "all_data = []\n",
    "for ward_num in range(1,9):\n",
    "    county = 'Ward {ward}'.format(ward=divs[0].text.split('WARD')[ward_num].splitlines()[0][1])\n",
    "    for loc in range(2, len(divs[0].text.split('WARD')[ward_num].splitlines()), 3):\n",
    "        if len(divs[0].text.split('WARD')[ward_num].splitlines()[loc])>0:\n",
    "            location = divs[0].text.split('WARD')[ward_num].splitlines()[loc]\n",
    "            address = divs[0].text.split('WARD')[ward_num].splitlines()[loc+1]\n",
    "            city = 'Washington'\n",
    "            state = 'District of Columbia'\n",
    "            data = {\n",
    "             'address_1': address,\n",
    "             'state': 'DC',\n",
    "             'county': county,\n",
    "             'Field 23': np.nan,\n",
    "             'location_type': location,\n",
    "             'address_2':np.nan,\n",
    "             'city': city,\n",
    "             'state_2': np.nan,\n",
    "             'zip': np.nan,\n",
    "             'phone': '(202) 727-2525',\n",
    "             'latitude': np.nan, \n",
    "             'longitude': np.nan, \n",
    "             'has_droppff_location': 'Yes', \n",
    "             'has_phone_number': 'Yes', \n",
    "             'county_website_url': 'https://dcboe.org/Voters/Where-to-Vote/Mail-Ballot-Drop-Sites', \n",
    "             'validate_url': 'https://dcboe.org/Voters/Where-to-Vote/Mail-Ballot-Drop-Sites', \n",
    "             'email': np.nan, \n",
    "             'fax': np.nan, \n",
    "             'social':np.nan, \n",
    "             'inactive':np.nan, \n",
    "             'hours':'Any ballot drop box at any time before 8:00 pm on Election Day, Nov 3, 2020.',\n",
    "             'rules': np.nan,\n",
    "             'notes': np.nan\n",
    "            }\n",
    "            all_data.append(data)"
   ]
  },
  {
   "cell_type": "code",
   "execution_count": 21,
   "metadata": {
    "ExecuteTime": {
     "end_time": "2020-09-22T00:18:05.076271Z",
     "start_time": "2020-09-22T00:18:05.068054Z"
    }
   },
   "outputs": [
    {
     "data": {
      "text/plain": [
       "55"
      ]
     },
     "execution_count": 21,
     "metadata": {},
     "output_type": "execute_result"
    }
   ],
   "source": [
    "len(all_data)"
   ]
  },
  {
   "cell_type": "code",
   "execution_count": 22,
   "metadata": {
    "ExecuteTime": {
     "end_time": "2020-09-22T00:18:05.766146Z",
     "start_time": "2020-09-22T00:18:05.753518Z"
    },
    "scrolled": false
   },
   "outputs": [
    {
     "data": {
      "text/plain": [
       "{'address_1': '1812 Erie Street, SE',\n",
       " 'state': 'DC',\n",
       " 'county': 'Ward 8',\n",
       " 'Field 23': nan,\n",
       " 'location_type': 'Fort Stanton Recreation Center (Available October 8, 2020)',\n",
       " 'address_2': nan,\n",
       " 'city': 'Washington',\n",
       " 'state_2': nan,\n",
       " 'zip': nan,\n",
       " 'phone': '(202) 727-2525',\n",
       " 'latitude': nan,\n",
       " 'longitude': nan,\n",
       " 'has_droppff_location': 'Yes',\n",
       " 'has_phone_number': 'Yes',\n",
       " 'county_website_url': 'https://dcboe.org/Voters/Where-to-Vote/Mail-Ballot-Drop-Sites',\n",
       " 'validate_url': 'https://dcboe.org/Voters/Where-to-Vote/Mail-Ballot-Drop-Sites',\n",
       " 'email': nan,\n",
       " 'fax': nan,\n",
       " 'social': nan,\n",
       " 'inactive': nan,\n",
       " 'hours': 'Any ballot drop box at any time before 8:00 pm on Election Day, Nov 3, 2020.',\n",
       " 'rules': nan,\n",
       " 'notes': nan}"
      ]
     },
     "execution_count": 22,
     "metadata": {},
     "output_type": "execute_result"
    }
   ],
   "source": [
    "all_data[-1]"
   ]
  },
  {
   "cell_type": "markdown",
   "metadata": {},
   "source": [
    "# Create DataFrame to hold the data"
   ]
  },
  {
   "cell_type": "code",
   "execution_count": 23,
   "metadata": {
    "ExecuteTime": {
     "end_time": "2020-09-22T00:18:11.483076Z",
     "start_time": "2020-09-22T00:18:11.467276Z"
    }
   },
   "outputs": [],
   "source": [
    "all_data_df = pd.DataFrame(all_data)"
   ]
  },
  {
   "cell_type": "code",
   "execution_count": 24,
   "metadata": {
    "ExecuteTime": {
     "end_time": "2020-09-22T00:18:17.784132Z",
     "start_time": "2020-09-22T00:18:17.730001Z"
    },
    "scrolled": false
   },
   "outputs": [
    {
     "data": {
      "text/html": [
       "<div>\n",
       "<style scoped>\n",
       "    .dataframe tbody tr th:only-of-type {\n",
       "        vertical-align: middle;\n",
       "    }\n",
       "\n",
       "    .dataframe tbody tr th {\n",
       "        vertical-align: top;\n",
       "    }\n",
       "\n",
       "    .dataframe thead th {\n",
       "        text-align: right;\n",
       "    }\n",
       "</style>\n",
       "<table border=\"1\" class=\"dataframe\">\n",
       "  <thead>\n",
       "    <tr style=\"text-align: right;\">\n",
       "      <th></th>\n",
       "      <th>address_1</th>\n",
       "      <th>state</th>\n",
       "      <th>county</th>\n",
       "      <th>Field 23</th>\n",
       "      <th>location_type</th>\n",
       "      <th>address_2</th>\n",
       "      <th>city</th>\n",
       "      <th>state_2</th>\n",
       "      <th>zip</th>\n",
       "      <th>phone</th>\n",
       "      <th>...</th>\n",
       "      <th>has_phone_number</th>\n",
       "      <th>county_website_url</th>\n",
       "      <th>validate_url</th>\n",
       "      <th>email</th>\n",
       "      <th>fax</th>\n",
       "      <th>social</th>\n",
       "      <th>inactive</th>\n",
       "      <th>hours</th>\n",
       "      <th>rules</th>\n",
       "      <th>notes</th>\n",
       "    </tr>\n",
       "  </thead>\n",
       "  <tbody>\n",
       "    <tr>\n",
       "      <th>50</th>\n",
       "      <td>1901 Mississippi Avenue, SE</td>\n",
       "      <td>DC</td>\n",
       "      <td>Ward 8</td>\n",
       "      <td>NaN</td>\n",
       "      <td>The ARC</td>\n",
       "      <td>NaN</td>\n",
       "      <td>Washington</td>\n",
       "      <td>NaN</td>\n",
       "      <td>NaN</td>\n",
       "      <td>(202) 727-2525</td>\n",
       "      <td>...</td>\n",
       "      <td>Yes</td>\n",
       "      <td>https://dcboe.org/Voters/Where-to-Vote/Mail-Ba...</td>\n",
       "      <td>https://dcboe.org/Voters/Where-to-Vote/Mail-Ba...</td>\n",
       "      <td>NaN</td>\n",
       "      <td>NaN</td>\n",
       "      <td>NaN</td>\n",
       "      <td>NaN</td>\n",
       "      <td>Any ballot drop box at any time before 8:00 pm...</td>\n",
       "      <td>NaN</td>\n",
       "      <td>NaN</td>\n",
       "    </tr>\n",
       "    <tr>\n",
       "      <th>51</th>\n",
       "      <td>2100 Martin Luther King Jr. Avenue, SE</td>\n",
       "      <td>DC</td>\n",
       "      <td>Ward 8</td>\n",
       "      <td>NaN</td>\n",
       "      <td>Department of Human Services</td>\n",
       "      <td>NaN</td>\n",
       "      <td>Washington</td>\n",
       "      <td>NaN</td>\n",
       "      <td>NaN</td>\n",
       "      <td>(202) 727-2525</td>\n",
       "      <td>...</td>\n",
       "      <td>Yes</td>\n",
       "      <td>https://dcboe.org/Voters/Where-to-Vote/Mail-Ba...</td>\n",
       "      <td>https://dcboe.org/Voters/Where-to-Vote/Mail-Ba...</td>\n",
       "      <td>NaN</td>\n",
       "      <td>NaN</td>\n",
       "      <td>NaN</td>\n",
       "      <td>NaN</td>\n",
       "      <td>Any ballot drop box at any time before 8:00 pm...</td>\n",
       "      <td>NaN</td>\n",
       "      <td>NaN</td>\n",
       "    </tr>\n",
       "    <tr>\n",
       "      <th>52</th>\n",
       "      <td>425 Chesapeake Street, SE</td>\n",
       "      <td>DC</td>\n",
       "      <td>Ward 8</td>\n",
       "      <td>NaN</td>\n",
       "      <td>Hendley Elementary School</td>\n",
       "      <td>NaN</td>\n",
       "      <td>Washington</td>\n",
       "      <td>NaN</td>\n",
       "      <td>NaN</td>\n",
       "      <td>(202) 727-2525</td>\n",
       "      <td>...</td>\n",
       "      <td>Yes</td>\n",
       "      <td>https://dcboe.org/Voters/Where-to-Vote/Mail-Ba...</td>\n",
       "      <td>https://dcboe.org/Voters/Where-to-Vote/Mail-Ba...</td>\n",
       "      <td>NaN</td>\n",
       "      <td>NaN</td>\n",
       "      <td>NaN</td>\n",
       "      <td>NaN</td>\n",
       "      <td>Any ballot drop box at any time before 8:00 pm...</td>\n",
       "      <td>NaN</td>\n",
       "      <td>NaN</td>\n",
       "    </tr>\n",
       "    <tr>\n",
       "      <th>53</th>\n",
       "      <td>4399 South Capitol Terrace, SW</td>\n",
       "      <td>DC</td>\n",
       "      <td>Ward 8</td>\n",
       "      <td>NaN</td>\n",
       "      <td>Patterson Elementary School</td>\n",
       "      <td>NaN</td>\n",
       "      <td>Washington</td>\n",
       "      <td>NaN</td>\n",
       "      <td>NaN</td>\n",
       "      <td>(202) 727-2525</td>\n",
       "      <td>...</td>\n",
       "      <td>Yes</td>\n",
       "      <td>https://dcboe.org/Voters/Where-to-Vote/Mail-Ba...</td>\n",
       "      <td>https://dcboe.org/Voters/Where-to-Vote/Mail-Ba...</td>\n",
       "      <td>NaN</td>\n",
       "      <td>NaN</td>\n",
       "      <td>NaN</td>\n",
       "      <td>NaN</td>\n",
       "      <td>Any ballot drop box at any time before 8:00 pm...</td>\n",
       "      <td>NaN</td>\n",
       "      <td>NaN</td>\n",
       "    </tr>\n",
       "    <tr>\n",
       "      <th>54</th>\n",
       "      <td>1812 Erie Street, SE</td>\n",
       "      <td>DC</td>\n",
       "      <td>Ward 8</td>\n",
       "      <td>NaN</td>\n",
       "      <td>Fort Stanton Recreation Center (Available Octo...</td>\n",
       "      <td>NaN</td>\n",
       "      <td>Washington</td>\n",
       "      <td>NaN</td>\n",
       "      <td>NaN</td>\n",
       "      <td>(202) 727-2525</td>\n",
       "      <td>...</td>\n",
       "      <td>Yes</td>\n",
       "      <td>https://dcboe.org/Voters/Where-to-Vote/Mail-Ba...</td>\n",
       "      <td>https://dcboe.org/Voters/Where-to-Vote/Mail-Ba...</td>\n",
       "      <td>NaN</td>\n",
       "      <td>NaN</td>\n",
       "      <td>NaN</td>\n",
       "      <td>NaN</td>\n",
       "      <td>Any ballot drop box at any time before 8:00 pm...</td>\n",
       "      <td>NaN</td>\n",
       "      <td>NaN</td>\n",
       "    </tr>\n",
       "  </tbody>\n",
       "</table>\n",
       "<p>5 rows × 23 columns</p>\n",
       "</div>"
      ],
      "text/plain": [
       "                                 address_1 state  county  Field 23  \\\n",
       "50             1901 Mississippi Avenue, SE    DC  Ward 8       NaN   \n",
       "51  2100 Martin Luther King Jr. Avenue, SE    DC  Ward 8       NaN   \n",
       "52               425 Chesapeake Street, SE    DC  Ward 8       NaN   \n",
       "53          4399 South Capitol Terrace, SW    DC  Ward 8       NaN   \n",
       "54                    1812 Erie Street, SE    DC  Ward 8       NaN   \n",
       "\n",
       "                                        location_type  address_2        city  \\\n",
       "50                                            The ARC        NaN  Washington   \n",
       "51                       Department of Human Services        NaN  Washington   \n",
       "52                          Hendley Elementary School        NaN  Washington   \n",
       "53                        Patterson Elementary School        NaN  Washington   \n",
       "54  Fort Stanton Recreation Center (Available Octo...        NaN  Washington   \n",
       "\n",
       "    state_2  zip           phone  ...  has_phone_number  \\\n",
       "50      NaN  NaN  (202) 727-2525  ...               Yes   \n",
       "51      NaN  NaN  (202) 727-2525  ...               Yes   \n",
       "52      NaN  NaN  (202) 727-2525  ...               Yes   \n",
       "53      NaN  NaN  (202) 727-2525  ...               Yes   \n",
       "54      NaN  NaN  (202) 727-2525  ...               Yes   \n",
       "\n",
       "                                   county_website_url  \\\n",
       "50  https://dcboe.org/Voters/Where-to-Vote/Mail-Ba...   \n",
       "51  https://dcboe.org/Voters/Where-to-Vote/Mail-Ba...   \n",
       "52  https://dcboe.org/Voters/Where-to-Vote/Mail-Ba...   \n",
       "53  https://dcboe.org/Voters/Where-to-Vote/Mail-Ba...   \n",
       "54  https://dcboe.org/Voters/Where-to-Vote/Mail-Ba...   \n",
       "\n",
       "                                         validate_url email fax social  \\\n",
       "50  https://dcboe.org/Voters/Where-to-Vote/Mail-Ba...   NaN NaN    NaN   \n",
       "51  https://dcboe.org/Voters/Where-to-Vote/Mail-Ba...   NaN NaN    NaN   \n",
       "52  https://dcboe.org/Voters/Where-to-Vote/Mail-Ba...   NaN NaN    NaN   \n",
       "53  https://dcboe.org/Voters/Where-to-Vote/Mail-Ba...   NaN NaN    NaN   \n",
       "54  https://dcboe.org/Voters/Where-to-Vote/Mail-Ba...   NaN NaN    NaN   \n",
       "\n",
       "    inactive                                              hours  rules  notes  \n",
       "50       NaN  Any ballot drop box at any time before 8:00 pm...    NaN    NaN  \n",
       "51       NaN  Any ballot drop box at any time before 8:00 pm...    NaN    NaN  \n",
       "52       NaN  Any ballot drop box at any time before 8:00 pm...    NaN    NaN  \n",
       "53       NaN  Any ballot drop box at any time before 8:00 pm...    NaN    NaN  \n",
       "54       NaN  Any ballot drop box at any time before 8:00 pm...    NaN    NaN  \n",
       "\n",
       "[5 rows x 23 columns]"
      ]
     },
     "execution_count": 24,
     "metadata": {},
     "output_type": "execute_result"
    }
   ],
   "source": [
    "all_data_df.tail()"
   ]
  },
  {
   "cell_type": "markdown",
   "metadata": {},
   "source": [
    "# Scrape zip code from Google Maps link"
   ]
  },
  {
   "cell_type": "code",
   "execution_count": 25,
   "metadata": {
    "ExecuteTime": {
     "end_time": "2020-09-22T00:18:29.029107Z",
     "start_time": "2020-09-22T00:18:29.008556Z"
    }
   },
   "outputs": [
    {
     "data": {
      "text/plain": [
       "<a href=\"https://www.google.com/maps/place/2000+14th+St+NW,+Washington,+DC+20009/@38.9175589,-77.0346619,17z/data=!3m1!4b1!4m5!3m4!1s0x89b7b7e792f6bfa9:0xdc2a31827f13c8eb!8m2!3d38.9175547!4d-77.0324732\" target=\"_blank\">2000 14<sup>th</sup> Street, NW</a>"
      ]
     },
     "execution_count": 25,
     "metadata": {},
     "output_type": "execute_result"
    }
   ],
   "source": [
    "divs[0].find_all('a')[0]"
   ]
  },
  {
   "cell_type": "code",
   "execution_count": 26,
   "metadata": {
    "ExecuteTime": {
     "end_time": "2020-09-22T00:18:29.216469Z",
     "start_time": "2020-09-22T00:18:29.207337Z"
    }
   },
   "outputs": [
    {
     "data": {
      "text/plain": [
       "55"
      ]
     },
     "execution_count": 26,
     "metadata": {},
     "output_type": "execute_result"
    }
   ],
   "source": [
    "len(divs[0].find_all('a'))"
   ]
  },
  {
   "cell_type": "code",
   "execution_count": 27,
   "metadata": {
    "ExecuteTime": {
     "end_time": "2020-09-22T00:18:29.466062Z",
     "start_time": "2020-09-22T00:18:29.457709Z"
    }
   },
   "outputs": [
    {
     "data": {
      "text/plain": [
       "'2000 14th Street, NW'"
      ]
     },
     "execution_count": 27,
     "metadata": {},
     "output_type": "execute_result"
    }
   ],
   "source": [
    "divs[0].find_all('a')[0].text"
   ]
  },
  {
   "cell_type": "code",
   "execution_count": 28,
   "metadata": {
    "ExecuteTime": {
     "end_time": "2020-09-22T00:18:29.676540Z",
     "start_time": "2020-09-22T00:18:29.668326Z"
    }
   },
   "outputs": [
    {
     "data": {
      "text/plain": [
       "3"
      ]
     },
     "execution_count": 28,
     "metadata": {},
     "output_type": "execute_result"
    }
   ],
   "source": [
    "len(divs[0].find_all('a')[0])"
   ]
  },
  {
   "cell_type": "code",
   "execution_count": 29,
   "metadata": {
    "ExecuteTime": {
     "end_time": "2020-09-22T00:18:30.369427Z",
     "start_time": "2020-09-22T00:18:30.360075Z"
    }
   },
   "outputs": [
    {
     "data": {
      "text/plain": [
       "bs4.element.Tag"
      ]
     },
     "execution_count": 29,
     "metadata": {},
     "output_type": "execute_result"
    }
   ],
   "source": [
    "type(divs[0].find_all('a')[0])"
   ]
  },
  {
   "cell_type": "code",
   "execution_count": 30,
   "metadata": {
    "ExecuteTime": {
     "end_time": "2020-09-22T00:18:30.614116Z",
     "start_time": "2020-09-22T00:18:30.604496Z"
    }
   },
   "outputs": [
    {
     "data": {
      "text/plain": [
       "{'href': 'https://www.google.com/maps/place/2000+14th+St+NW,+Washington,+DC+20009/@38.9175589,-77.0346619,17z/data=!3m1!4b1!4m5!3m4!1s0x89b7b7e792f6bfa9:0xdc2a31827f13c8eb!8m2!3d38.9175547!4d-77.0324732',\n",
       " 'target': '_blank'}"
      ]
     },
     "execution_count": 30,
     "metadata": {},
     "output_type": "execute_result"
    }
   ],
   "source": [
    "divs[0].find_all('a')[0].attrs"
   ]
  },
  {
   "cell_type": "code",
   "execution_count": 31,
   "metadata": {
    "ExecuteTime": {
     "end_time": "2020-09-22T00:18:30.850922Z",
     "start_time": "2020-09-22T00:18:30.841835Z"
    }
   },
   "outputs": [
    {
     "data": {
      "text/plain": [
       "'https://www.google.com/maps/place/2000+14th+St+NW,+Washington,+DC+20009/@38.9175589,-77.0346619,17z/data=!3m1!4b1!4m5!3m4!1s0x89b7b7e792f6bfa9:0xdc2a31827f13c8eb!8m2!3d38.9175547!4d-77.0324732'"
      ]
     },
     "execution_count": 31,
     "metadata": {},
     "output_type": "execute_result"
    }
   ],
   "source": [
    "divs[0].find_all('a')[0]['href']"
   ]
  },
  {
   "cell_type": "code",
   "execution_count": 32,
   "metadata": {
    "ExecuteTime": {
     "end_time": "2020-09-22T00:18:33.514911Z",
     "start_time": "2020-09-22T00:18:33.506879Z"
    }
   },
   "outputs": [
    {
     "data": {
      "text/plain": [
       "str"
      ]
     },
     "execution_count": 32,
     "metadata": {},
     "output_type": "execute_result"
    }
   ],
   "source": [
    "type(divs[0].find_all('a')[0]['href'])"
   ]
  },
  {
   "cell_type": "code",
   "execution_count": 33,
   "metadata": {
    "ExecuteTime": {
     "end_time": "2020-09-22T00:18:33.717737Z",
     "start_time": "2020-09-22T00:18:33.708383Z"
    }
   },
   "outputs": [
    {
     "data": {
      "text/plain": [
       "['https://www.google.com/maps/place/2000',\n",
       " '14th',\n",
       " 'St',\n",
       " 'NW,',\n",
       " 'Washington,',\n",
       " 'DC',\n",
       " '20009/@38.9175589,-77.0346619,17z/data=!3m1!4b1!4m5!3m4!1s0x89b7b7e792f6bfa9:0xdc2a31827f13c8eb!8m2!3d38.9175547!4d-77.0324732']"
      ]
     },
     "execution_count": 33,
     "metadata": {},
     "output_type": "execute_result"
    }
   ],
   "source": [
    "divs[0].find_all('a')[0]['href'].split('+')"
   ]
  },
  {
   "cell_type": "code",
   "execution_count": 34,
   "metadata": {
    "ExecuteTime": {
     "end_time": "2020-09-22T00:18:34.078104Z",
     "start_time": "2020-09-22T00:18:34.066952Z"
    }
   },
   "outputs": [
    {
     "data": {
      "text/plain": [
       "['https://www.google.com/maps/place/1309',\n",
       " '5th',\n",
       " 'St',\n",
       " 'NE,',\n",
       " 'Washington,',\n",
       " 'DC',\n",
       " '20002/@38.908604,-76.9997057,17z/data=!3m1!4b1!4m5!3m4!1s0x89b7b810eb488625:0x62d428c6c430d84a!8m2!3d38.9085998!4d-76.997517?hl=en']"
      ]
     },
     "execution_count": 34,
     "metadata": {},
     "output_type": "execute_result"
    }
   ],
   "source": [
    "divs[0].find_all('a')[27]['href'].split('+')"
   ]
  },
  {
   "cell_type": "code",
   "execution_count": 35,
   "metadata": {
    "ExecuteTime": {
     "end_time": "2020-09-22T00:18:34.296403Z",
     "start_time": "2020-09-22T00:18:34.284487Z"
    }
   },
   "outputs": [],
   "source": [
    "all_zips = []\n",
    "for x in divs[0].find_all('a'):\n",
    "    address = x.text\n",
    "    try:\n",
    "        if x['href'].split('+')[6][:2]=='20':\n",
    "            zip_code = x['href'].split('+')[6][:5]\n",
    "        elif x['href'].split('+')[7][:2]=='20':\n",
    "            zip_code = x['href'].split('+')[7][:5]\n",
    "        elif x['href'].split('+')[9][:2]=='20':\n",
    "            zip_code = x['href'].split('+')[9][:5]\n",
    "    except IndexError:\n",
    "            zip_code = np.nan\n",
    "    data = {'address': address, 'zip':zip_code}\n",
    "    all_zips.append(data)"
   ]
  },
  {
   "cell_type": "code",
   "execution_count": 36,
   "metadata": {
    "ExecuteTime": {
     "end_time": "2020-09-22T00:18:35.402766Z",
     "start_time": "2020-09-22T00:18:35.396623Z"
    }
   },
   "outputs": [],
   "source": [
    "all_zips_df = pd.DataFrame(all_zips)"
   ]
  },
  {
   "cell_type": "code",
   "execution_count": 37,
   "metadata": {
    "ExecuteTime": {
     "end_time": "2020-09-22T00:18:36.098303Z",
     "start_time": "2020-09-22T00:18:36.077494Z"
    }
   },
   "outputs": [
    {
     "data": {
      "text/html": [
       "<div>\n",
       "<style scoped>\n",
       "    .dataframe tbody tr th:only-of-type {\n",
       "        vertical-align: middle;\n",
       "    }\n",
       "\n",
       "    .dataframe tbody tr th {\n",
       "        vertical-align: top;\n",
       "    }\n",
       "\n",
       "    .dataframe thead th {\n",
       "        text-align: right;\n",
       "    }\n",
       "</style>\n",
       "<table border=\"1\" class=\"dataframe\">\n",
       "  <thead>\n",
       "    <tr style=\"text-align: right;\">\n",
       "      <th></th>\n",
       "      <th>address</th>\n",
       "      <th>zip</th>\n",
       "    </tr>\n",
       "  </thead>\n",
       "  <tbody>\n",
       "    <tr>\n",
       "      <th>0</th>\n",
       "      <td>2000 14th Street, NW</td>\n",
       "      <td>20009</td>\n",
       "    </tr>\n",
       "    <tr>\n",
       "      <th>1</th>\n",
       "      <td>3160 16th Street, NW</td>\n",
       "      <td>20010</td>\n",
       "    </tr>\n",
       "    <tr>\n",
       "      <th>2</th>\n",
       "      <td>3100 14th Street, NW</td>\n",
       "      <td>20010</td>\n",
       "    </tr>\n",
       "    <tr>\n",
       "      <th>3</th>\n",
       "      <td>1800 Columbia Road, NW</td>\n",
       "      <td>20009</td>\n",
       "    </tr>\n",
       "    <tr>\n",
       "      <th>4</th>\n",
       "      <td>2500 Georgia Avenue, NW</td>\n",
       "      <td>20001</td>\n",
       "    </tr>\n",
       "    <tr>\n",
       "      <th>5</th>\n",
       "      <td>3260 R Street, NW</td>\n",
       "      <td>20007</td>\n",
       "    </tr>\n",
       "    <tr>\n",
       "      <th>6</th>\n",
       "      <td>901 G Street, NW</td>\n",
       "      <td>20001</td>\n",
       "    </tr>\n",
       "    <tr>\n",
       "      <th>7</th>\n",
       "      <td>2301 L Street, NW</td>\n",
       "      <td>20037</td>\n",
       "    </tr>\n",
       "    <tr>\n",
       "      <th>8</th>\n",
       "      <td>1625 P Street, NW</td>\n",
       "      <td>20036</td>\n",
       "    </tr>\n",
       "    <tr>\n",
       "      <th>9</th>\n",
       "      <td>2301 I Street, NW</td>\n",
       "      <td>20037</td>\n",
       "    </tr>\n",
       "    <tr>\n",
       "      <th>10</th>\n",
       "      <td>3600 Calvert Street, NW</td>\n",
       "      <td>20007</td>\n",
       "    </tr>\n",
       "    <tr>\n",
       "      <th>11</th>\n",
       "      <td>5625 Connecticut Avenue, NW</td>\n",
       "      <td>20015</td>\n",
       "    </tr>\n",
       "    <tr>\n",
       "      <th>12</th>\n",
       "      <td>4450 Wisconsin Avenue, NW</td>\n",
       "      <td>20016</td>\n",
       "    </tr>\n",
       "    <tr>\n",
       "      <th>13</th>\n",
       "      <td>3310 Connecticut Avenue, NW</td>\n",
       "      <td>20008</td>\n",
       "    </tr>\n",
       "    <tr>\n",
       "      <th>14</th>\n",
       "      <td>4901 V Street, NW</td>\n",
       "      <td>20007</td>\n",
       "    </tr>\n",
       "    <tr>\n",
       "      <th>15</th>\n",
       "      <td>3320 Idaho Avenue, NW</td>\n",
       "      <td>20016</td>\n",
       "    </tr>\n",
       "    <tr>\n",
       "      <th>16</th>\n",
       "      <td>327 Cedar Street, NW</td>\n",
       "      <td>20012</td>\n",
       "    </tr>\n",
       "    <tr>\n",
       "      <th>17</th>\n",
       "      <td>4200 Kansas Avenue, NW</td>\n",
       "      <td>20011</td>\n",
       "    </tr>\n",
       "    <tr>\n",
       "      <th>18</th>\n",
       "      <td>7420 Georgia Avenue, NW</td>\n",
       "      <td>20012</td>\n",
       "    </tr>\n",
       "    <tr>\n",
       "      <th>19</th>\n",
       "      <td>6001 Georgia Avenue, NW</td>\n",
       "      <td>20011</td>\n",
       "    </tr>\n",
       "    <tr>\n",
       "      <th>20</th>\n",
       "      <td>20 Tuckerman Street, NE</td>\n",
       "      <td>20011</td>\n",
       "    </tr>\n",
       "    <tr>\n",
       "      <th>21</th>\n",
       "      <td>416 Cedar Street, NW</td>\n",
       "      <td>20012</td>\n",
       "    </tr>\n",
       "    <tr>\n",
       "      <th>22</th>\n",
       "      <td>1801 Hamlin Street, NE</td>\n",
       "      <td>20018</td>\n",
       "    </tr>\n",
       "    <tr>\n",
       "      <th>23</th>\n",
       "      <td>5171 South Dakota Avenue, NE</td>\n",
       "      <td>20017</td>\n",
       "    </tr>\n",
       "    <tr>\n",
       "      <th>24</th>\n",
       "      <td>1800 Perry Street, NE</td>\n",
       "      <td>20018</td>\n",
       "    </tr>\n",
       "    <tr>\n",
       "      <th>25</th>\n",
       "      <td>1299 Neal Street, NE</td>\n",
       "      <td>20002</td>\n",
       "    </tr>\n",
       "    <tr>\n",
       "      <th>26</th>\n",
       "      <td>101 N Street, NW</td>\n",
       "      <td>20001</td>\n",
       "    </tr>\n",
       "    <tr>\n",
       "      <th>27</th>\n",
       "      <td>1309 5th Street, NE</td>\n",
       "      <td>20002</td>\n",
       "    </tr>\n",
       "    <tr>\n",
       "      <th>28</th>\n",
       "      <td>625 Monroe Street, NE</td>\n",
       "      <td>20017</td>\n",
       "    </tr>\n",
       "    <tr>\n",
       "      <th>29</th>\n",
       "      <td>1060 Brentwood Road NE</td>\n",
       "      <td>NaN</td>\n",
       "    </tr>\n",
       "    <tr>\n",
       "      <th>30</th>\n",
       "      <td>1630 7th Street, NW</td>\n",
       "      <td>20001</td>\n",
       "    </tr>\n",
       "    <tr>\n",
       "      <th>31</th>\n",
       "      <td>330 7th Street, NE</td>\n",
       "      <td>20002</td>\n",
       "    </tr>\n",
       "    <tr>\n",
       "      <th>32</th>\n",
       "      <td>1701 Gales Street, NE</td>\n",
       "      <td>20002</td>\n",
       "    </tr>\n",
       "    <tr>\n",
       "      <th>33</th>\n",
       "      <td>425 M Street, SW</td>\n",
       "      <td>20024</td>\n",
       "    </tr>\n",
       "    <tr>\n",
       "      <th>34</th>\n",
       "      <td>225 7th Street, SE</td>\n",
       "      <td>20003</td>\n",
       "    </tr>\n",
       "    <tr>\n",
       "      <th>35</th>\n",
       "      <td>1015 Half Street, SE</td>\n",
       "      <td>20003</td>\n",
       "    </tr>\n",
       "    <tr>\n",
       "      <th>36</th>\n",
       "      <td>155 L Street, NW</td>\n",
       "      <td>20001</td>\n",
       "    </tr>\n",
       "    <tr>\n",
       "      <th>37</th>\n",
       "      <td>403 7th Street, SE</td>\n",
       "      <td>20003</td>\n",
       "    </tr>\n",
       "    <tr>\n",
       "      <th>38</th>\n",
       "      <td>5001 Central Avenue, SE</td>\n",
       "      <td>20019</td>\n",
       "    </tr>\n",
       "    <tr>\n",
       "      <th>39</th>\n",
       "      <td>1350 49th Street, NE</td>\n",
       "      <td>20019</td>\n",
       "    </tr>\n",
       "    <tr>\n",
       "      <th>40</th>\n",
       "      <td>3935 Benning Road, NE</td>\n",
       "      <td>20019</td>\n",
       "    </tr>\n",
       "    <tr>\n",
       "      <th>41</th>\n",
       "      <td>3660 Alabama Avenue, SE</td>\n",
       "      <td>20020</td>\n",
       "    </tr>\n",
       "    <tr>\n",
       "      <th>42</th>\n",
       "      <td>5002 Hayes Street, NE</td>\n",
       "      <td>20019</td>\n",
       "    </tr>\n",
       "    <tr>\n",
       "      <th>43</th>\n",
       "      <td>4525 Benning Road, SE</td>\n",
       "      <td>20019</td>\n",
       "    </tr>\n",
       "    <tr>\n",
       "      <th>44</th>\n",
       "      <td>3202 Pennsylvania Avenue, SE</td>\n",
       "      <td>20020</td>\n",
       "    </tr>\n",
       "    <tr>\n",
       "      <th>45</th>\n",
       "      <td>830 Ridge Road, SE</td>\n",
       "      <td>20019</td>\n",
       "    </tr>\n",
       "    <tr>\n",
       "      <th>46</th>\n",
       "      <td>1800 Good Hope Road SE</td>\n",
       "      <td>20020</td>\n",
       "    </tr>\n",
       "    <tr>\n",
       "      <th>47</th>\n",
       "      <td>1547 Alabama Avenue, SE</td>\n",
       "      <td>20032</td>\n",
       "    </tr>\n",
       "    <tr>\n",
       "      <th>48</th>\n",
       "      <td>115 Atlantic Street, SW</td>\n",
       "      <td>20032</td>\n",
       "    </tr>\n",
       "    <tr>\n",
       "      <th>49</th>\n",
       "      <td>2455 Alabama Avenue, SE</td>\n",
       "      <td>20020</td>\n",
       "    </tr>\n",
       "    <tr>\n",
       "      <th>50</th>\n",
       "      <td>1901 Mississippi Avenue, SE</td>\n",
       "      <td>20020</td>\n",
       "    </tr>\n",
       "    <tr>\n",
       "      <th>51</th>\n",
       "      <td>2100 Martin Luther King Jr. Avenue, SE</td>\n",
       "      <td>20020</td>\n",
       "    </tr>\n",
       "    <tr>\n",
       "      <th>52</th>\n",
       "      <td>425 Chesapeake Street, SE</td>\n",
       "      <td>20032</td>\n",
       "    </tr>\n",
       "    <tr>\n",
       "      <th>53</th>\n",
       "      <td>4399 South Capitol Terrace, SW</td>\n",
       "      <td>20032</td>\n",
       "    </tr>\n",
       "    <tr>\n",
       "      <th>54</th>\n",
       "      <td>1812 Erie Street, SE</td>\n",
       "      <td>20020</td>\n",
       "    </tr>\n",
       "  </tbody>\n",
       "</table>\n",
       "</div>"
      ],
      "text/plain": [
       "                                   address    zip\n",
       "0                     2000 14th Street, NW  20009\n",
       "1                     3160 16th Street, NW  20010\n",
       "2                     3100 14th Street, NW  20010\n",
       "3                   1800 Columbia Road, NW  20009\n",
       "4                  2500 Georgia Avenue, NW  20001\n",
       "5                        3260 R Street, NW  20007\n",
       "6                         901 G Street, NW  20001\n",
       "7                        2301 L Street, NW  20037\n",
       "8                        1625 P Street, NW  20036\n",
       "9                        2301 I Street, NW  20037\n",
       "10                 3600 Calvert Street, NW  20007\n",
       "11             5625 Connecticut Avenue, NW  20015\n",
       "12               4450 Wisconsin Avenue, NW  20016\n",
       "13             3310 Connecticut Avenue, NW  20008\n",
       "14                       4901 V Street, NW  20007\n",
       "15                   3320 Idaho Avenue, NW  20016\n",
       "16                    327 Cedar Street, NW  20012\n",
       "17                  4200 Kansas Avenue, NW  20011\n",
       "18                 7420 Georgia Avenue, NW  20012\n",
       "19                 6001 Georgia Avenue, NW  20011\n",
       "20                 20 Tuckerman Street, NE  20011\n",
       "21                    416 Cedar Street, NW  20012\n",
       "22                  1801 Hamlin Street, NE  20018\n",
       "23            5171 South Dakota Avenue, NE  20017\n",
       "24                   1800 Perry Street, NE  20018\n",
       "25                    1299 Neal Street, NE  20002\n",
       "26                        101 N Street, NW  20001\n",
       "27                     1309 5th Street, NE  20002\n",
       "28                   625 Monroe Street, NE  20017\n",
       "29                  1060 Brentwood Road NE    NaN\n",
       "30                     1630 7th Street, NW  20001\n",
       "31                      330 7th Street, NE  20002\n",
       "32                   1701 Gales Street, NE  20002\n",
       "33                        425 M Street, SW  20024\n",
       "34                      225 7th Street, SE  20003\n",
       "35                    1015 Half Street, SE  20003\n",
       "36                        155 L Street, NW  20001\n",
       "37                      403 7th Street, SE  20003\n",
       "38                 5001 Central Avenue, SE  20019\n",
       "39                    1350 49th Street, NE  20019\n",
       "40                   3935 Benning Road, NE  20019\n",
       "41                 3660 Alabama Avenue, SE  20020\n",
       "42                   5002 Hayes Street, NE  20019\n",
       "43                   4525 Benning Road, SE  20019\n",
       "44            3202 Pennsylvania Avenue, SE  20020\n",
       "45                      830 Ridge Road, SE  20019\n",
       "46                  1800 Good Hope Road SE  20020\n",
       "47                 1547 Alabama Avenue, SE  20032\n",
       "48                 115 Atlantic Street, SW  20032\n",
       "49                 2455 Alabama Avenue, SE  20020\n",
       "50             1901 Mississippi Avenue, SE  20020\n",
       "51  2100 Martin Luther King Jr. Avenue, SE  20020\n",
       "52               425 Chesapeake Street, SE  20032\n",
       "53          4399 South Capitol Terrace, SW  20032\n",
       "54                    1812 Erie Street, SE  20020"
      ]
     },
     "execution_count": 37,
     "metadata": {},
     "output_type": "execute_result"
    }
   ],
   "source": [
    "all_zips_df"
   ]
  },
  {
   "cell_type": "code",
   "execution_count": 38,
   "metadata": {
    "ExecuteTime": {
     "end_time": "2020-09-22T00:18:40.540266Z",
     "start_time": "2020-09-22T00:18:40.528796Z"
    },
    "scrolled": true
   },
   "outputs": [],
   "source": [
    "all_data_df['zip'] = all_zips_df['zip']"
   ]
  },
  {
   "cell_type": "code",
   "execution_count": 39,
   "metadata": {
    "ExecuteTime": {
     "end_time": "2020-09-22T00:18:41.763490Z",
     "start_time": "2020-09-22T00:18:41.720488Z"
    },
    "scrolled": false
   },
   "outputs": [
    {
     "data": {
      "text/html": [
       "<div>\n",
       "<style scoped>\n",
       "    .dataframe tbody tr th:only-of-type {\n",
       "        vertical-align: middle;\n",
       "    }\n",
       "\n",
       "    .dataframe tbody tr th {\n",
       "        vertical-align: top;\n",
       "    }\n",
       "\n",
       "    .dataframe thead th {\n",
       "        text-align: right;\n",
       "    }\n",
       "</style>\n",
       "<table border=\"1\" class=\"dataframe\">\n",
       "  <thead>\n",
       "    <tr style=\"text-align: right;\">\n",
       "      <th></th>\n",
       "      <th>address_1</th>\n",
       "      <th>state</th>\n",
       "      <th>county</th>\n",
       "      <th>Field 23</th>\n",
       "      <th>location_type</th>\n",
       "      <th>address_2</th>\n",
       "      <th>city</th>\n",
       "      <th>state_2</th>\n",
       "      <th>zip</th>\n",
       "      <th>phone</th>\n",
       "      <th>...</th>\n",
       "      <th>has_phone_number</th>\n",
       "      <th>county_website_url</th>\n",
       "      <th>validate_url</th>\n",
       "      <th>email</th>\n",
       "      <th>fax</th>\n",
       "      <th>social</th>\n",
       "      <th>inactive</th>\n",
       "      <th>hours</th>\n",
       "      <th>rules</th>\n",
       "      <th>notes</th>\n",
       "    </tr>\n",
       "  </thead>\n",
       "  <tbody>\n",
       "    <tr>\n",
       "      <th>50</th>\n",
       "      <td>1901 Mississippi Avenue, SE</td>\n",
       "      <td>DC</td>\n",
       "      <td>Ward 8</td>\n",
       "      <td>NaN</td>\n",
       "      <td>The ARC</td>\n",
       "      <td>NaN</td>\n",
       "      <td>Washington</td>\n",
       "      <td>NaN</td>\n",
       "      <td>20020</td>\n",
       "      <td>(202) 727-2525</td>\n",
       "      <td>...</td>\n",
       "      <td>Yes</td>\n",
       "      <td>https://dcboe.org/Voters/Where-to-Vote/Mail-Ba...</td>\n",
       "      <td>https://dcboe.org/Voters/Where-to-Vote/Mail-Ba...</td>\n",
       "      <td>NaN</td>\n",
       "      <td>NaN</td>\n",
       "      <td>NaN</td>\n",
       "      <td>NaN</td>\n",
       "      <td>Any ballot drop box at any time before 8:00 pm...</td>\n",
       "      <td>NaN</td>\n",
       "      <td>NaN</td>\n",
       "    </tr>\n",
       "    <tr>\n",
       "      <th>51</th>\n",
       "      <td>2100 Martin Luther King Jr. Avenue, SE</td>\n",
       "      <td>DC</td>\n",
       "      <td>Ward 8</td>\n",
       "      <td>NaN</td>\n",
       "      <td>Department of Human Services</td>\n",
       "      <td>NaN</td>\n",
       "      <td>Washington</td>\n",
       "      <td>NaN</td>\n",
       "      <td>20020</td>\n",
       "      <td>(202) 727-2525</td>\n",
       "      <td>...</td>\n",
       "      <td>Yes</td>\n",
       "      <td>https://dcboe.org/Voters/Where-to-Vote/Mail-Ba...</td>\n",
       "      <td>https://dcboe.org/Voters/Where-to-Vote/Mail-Ba...</td>\n",
       "      <td>NaN</td>\n",
       "      <td>NaN</td>\n",
       "      <td>NaN</td>\n",
       "      <td>NaN</td>\n",
       "      <td>Any ballot drop box at any time before 8:00 pm...</td>\n",
       "      <td>NaN</td>\n",
       "      <td>NaN</td>\n",
       "    </tr>\n",
       "    <tr>\n",
       "      <th>52</th>\n",
       "      <td>425 Chesapeake Street, SE</td>\n",
       "      <td>DC</td>\n",
       "      <td>Ward 8</td>\n",
       "      <td>NaN</td>\n",
       "      <td>Hendley Elementary School</td>\n",
       "      <td>NaN</td>\n",
       "      <td>Washington</td>\n",
       "      <td>NaN</td>\n",
       "      <td>20032</td>\n",
       "      <td>(202) 727-2525</td>\n",
       "      <td>...</td>\n",
       "      <td>Yes</td>\n",
       "      <td>https://dcboe.org/Voters/Where-to-Vote/Mail-Ba...</td>\n",
       "      <td>https://dcboe.org/Voters/Where-to-Vote/Mail-Ba...</td>\n",
       "      <td>NaN</td>\n",
       "      <td>NaN</td>\n",
       "      <td>NaN</td>\n",
       "      <td>NaN</td>\n",
       "      <td>Any ballot drop box at any time before 8:00 pm...</td>\n",
       "      <td>NaN</td>\n",
       "      <td>NaN</td>\n",
       "    </tr>\n",
       "    <tr>\n",
       "      <th>53</th>\n",
       "      <td>4399 South Capitol Terrace, SW</td>\n",
       "      <td>DC</td>\n",
       "      <td>Ward 8</td>\n",
       "      <td>NaN</td>\n",
       "      <td>Patterson Elementary School</td>\n",
       "      <td>NaN</td>\n",
       "      <td>Washington</td>\n",
       "      <td>NaN</td>\n",
       "      <td>20032</td>\n",
       "      <td>(202) 727-2525</td>\n",
       "      <td>...</td>\n",
       "      <td>Yes</td>\n",
       "      <td>https://dcboe.org/Voters/Where-to-Vote/Mail-Ba...</td>\n",
       "      <td>https://dcboe.org/Voters/Where-to-Vote/Mail-Ba...</td>\n",
       "      <td>NaN</td>\n",
       "      <td>NaN</td>\n",
       "      <td>NaN</td>\n",
       "      <td>NaN</td>\n",
       "      <td>Any ballot drop box at any time before 8:00 pm...</td>\n",
       "      <td>NaN</td>\n",
       "      <td>NaN</td>\n",
       "    </tr>\n",
       "    <tr>\n",
       "      <th>54</th>\n",
       "      <td>1812 Erie Street, SE</td>\n",
       "      <td>DC</td>\n",
       "      <td>Ward 8</td>\n",
       "      <td>NaN</td>\n",
       "      <td>Fort Stanton Recreation Center (Available Octo...</td>\n",
       "      <td>NaN</td>\n",
       "      <td>Washington</td>\n",
       "      <td>NaN</td>\n",
       "      <td>20020</td>\n",
       "      <td>(202) 727-2525</td>\n",
       "      <td>...</td>\n",
       "      <td>Yes</td>\n",
       "      <td>https://dcboe.org/Voters/Where-to-Vote/Mail-Ba...</td>\n",
       "      <td>https://dcboe.org/Voters/Where-to-Vote/Mail-Ba...</td>\n",
       "      <td>NaN</td>\n",
       "      <td>NaN</td>\n",
       "      <td>NaN</td>\n",
       "      <td>NaN</td>\n",
       "      <td>Any ballot drop box at any time before 8:00 pm...</td>\n",
       "      <td>NaN</td>\n",
       "      <td>NaN</td>\n",
       "    </tr>\n",
       "  </tbody>\n",
       "</table>\n",
       "<p>5 rows × 23 columns</p>\n",
       "</div>"
      ],
      "text/plain": [
       "                                 address_1 state  county  Field 23  \\\n",
       "50             1901 Mississippi Avenue, SE    DC  Ward 8       NaN   \n",
       "51  2100 Martin Luther King Jr. Avenue, SE    DC  Ward 8       NaN   \n",
       "52               425 Chesapeake Street, SE    DC  Ward 8       NaN   \n",
       "53          4399 South Capitol Terrace, SW    DC  Ward 8       NaN   \n",
       "54                    1812 Erie Street, SE    DC  Ward 8       NaN   \n",
       "\n",
       "                                        location_type  address_2        city  \\\n",
       "50                                            The ARC        NaN  Washington   \n",
       "51                       Department of Human Services        NaN  Washington   \n",
       "52                          Hendley Elementary School        NaN  Washington   \n",
       "53                        Patterson Elementary School        NaN  Washington   \n",
       "54  Fort Stanton Recreation Center (Available Octo...        NaN  Washington   \n",
       "\n",
       "    state_2    zip           phone  ...  has_phone_number  \\\n",
       "50      NaN  20020  (202) 727-2525  ...               Yes   \n",
       "51      NaN  20020  (202) 727-2525  ...               Yes   \n",
       "52      NaN  20032  (202) 727-2525  ...               Yes   \n",
       "53      NaN  20032  (202) 727-2525  ...               Yes   \n",
       "54      NaN  20020  (202) 727-2525  ...               Yes   \n",
       "\n",
       "                                   county_website_url  \\\n",
       "50  https://dcboe.org/Voters/Where-to-Vote/Mail-Ba...   \n",
       "51  https://dcboe.org/Voters/Where-to-Vote/Mail-Ba...   \n",
       "52  https://dcboe.org/Voters/Where-to-Vote/Mail-Ba...   \n",
       "53  https://dcboe.org/Voters/Where-to-Vote/Mail-Ba...   \n",
       "54  https://dcboe.org/Voters/Where-to-Vote/Mail-Ba...   \n",
       "\n",
       "                                         validate_url email fax social  \\\n",
       "50  https://dcboe.org/Voters/Where-to-Vote/Mail-Ba...   NaN NaN    NaN   \n",
       "51  https://dcboe.org/Voters/Where-to-Vote/Mail-Ba...   NaN NaN    NaN   \n",
       "52  https://dcboe.org/Voters/Where-to-Vote/Mail-Ba...   NaN NaN    NaN   \n",
       "53  https://dcboe.org/Voters/Where-to-Vote/Mail-Ba...   NaN NaN    NaN   \n",
       "54  https://dcboe.org/Voters/Where-to-Vote/Mail-Ba...   NaN NaN    NaN   \n",
       "\n",
       "    inactive                                              hours  rules  notes  \n",
       "50       NaN  Any ballot drop box at any time before 8:00 pm...    NaN    NaN  \n",
       "51       NaN  Any ballot drop box at any time before 8:00 pm...    NaN    NaN  \n",
       "52       NaN  Any ballot drop box at any time before 8:00 pm...    NaN    NaN  \n",
       "53       NaN  Any ballot drop box at any time before 8:00 pm...    NaN    NaN  \n",
       "54       NaN  Any ballot drop box at any time before 8:00 pm...    NaN    NaN  \n",
       "\n",
       "[5 rows x 23 columns]"
      ]
     },
     "execution_count": 39,
     "metadata": {},
     "output_type": "execute_result"
    }
   ],
   "source": [
    "all_data_df.tail()"
   ]
  },
  {
   "cell_type": "code",
   "execution_count": 40,
   "metadata": {
    "ExecuteTime": {
     "end_time": "2020-09-22T00:18:45.336306Z",
     "start_time": "2020-09-22T00:18:45.308789Z"
    }
   },
   "outputs": [
    {
     "name": "stdout",
     "output_type": "stream",
     "text": [
      "<class 'pandas.core.frame.DataFrame'>\n",
      "RangeIndex: 55 entries, 0 to 54\n",
      "Data columns (total 23 columns):\n",
      " #   Column                Non-Null Count  Dtype  \n",
      "---  ------                --------------  -----  \n",
      " 0   address_1             55 non-null     object \n",
      " 1   state                 55 non-null     object \n",
      " 2   county                55 non-null     object \n",
      " 3   Field 23              0 non-null      float64\n",
      " 4   location_type         55 non-null     object \n",
      " 5   address_2             0 non-null      float64\n",
      " 6   city                  55 non-null     object \n",
      " 7   state_2               0 non-null      float64\n",
      " 8   zip                   54 non-null     object \n",
      " 9   phone                 55 non-null     object \n",
      " 10  latitude              0 non-null      float64\n",
      " 11  longitude             0 non-null      float64\n",
      " 12  has_droppff_location  55 non-null     object \n",
      " 13  has_phone_number      55 non-null     object \n",
      " 14  county_website_url    55 non-null     object \n",
      " 15  validate_url          55 non-null     object \n",
      " 16  email                 0 non-null      float64\n",
      " 17  fax                   0 non-null      float64\n",
      " 18  social                0 non-null      float64\n",
      " 19  inactive              0 non-null      float64\n",
      " 20  hours                 55 non-null     object \n",
      " 21  rules                 0 non-null      float64\n",
      " 22  notes                 0 non-null      float64\n",
      "dtypes: float64(11), object(12)\n",
      "memory usage: 10.0+ KB\n"
     ]
    }
   ],
   "source": [
    "all_data_df.info()"
   ]
  },
  {
   "cell_type": "markdown",
   "metadata": {},
   "source": [
    "# Write DataFrame to csv"
   ]
  },
  {
   "cell_type": "code",
   "execution_count": 41,
   "metadata": {
    "ExecuteTime": {
     "end_time": "2020-09-21T19:39:50.507495Z",
     "start_time": "2020-09-21T19:39:50.495325Z"
    }
   },
   "outputs": [],
   "source": [
    "all_data_df.to_csv('WashingtonDC.csv')"
   ]
  }
 ],
 "metadata": {
  "kernelspec": {
   "display_name": "Python 3",
   "language": "python",
   "name": "python3"
  },
  "language_info": {
   "codemirror_mode": {
    "name": "ipython",
    "version": 3
   },
   "file_extension": ".py",
   "mimetype": "text/x-python",
   "name": "python",
   "nbconvert_exporter": "python",
   "pygments_lexer": "ipython3",
   "version": "3.6.8"
  },
  "toc": {
   "base_numbering": 1,
   "nav_menu": {},
   "number_sections": true,
   "sideBar": true,
   "skip_h1_title": false,
   "title_cell": "Table of Contents",
   "title_sidebar": "Contents",
   "toc_cell": true,
   "toc_position": {
    "height": "calc(100% - 180px)",
    "left": "10px",
    "top": "150px",
    "width": "345.59375px"
   },
   "toc_section_display": true,
   "toc_window_display": true
  }
 },
 "nbformat": 4,
 "nbformat_minor": 4
}

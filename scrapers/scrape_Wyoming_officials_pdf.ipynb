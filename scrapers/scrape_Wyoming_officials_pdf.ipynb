{
 "cells": [
  {
   "cell_type": "markdown",
   "metadata": {
    "toc": true
   },
   "source": [
    "<h1>Table of Contents<span class=\"tocSkip\"></span></h1>\n",
    "<div class=\"toc\"><ul class=\"toc-item\"><li><span><a href=\"#Scrape-Wyoming---County-Officials\" data-toc-modified-id=\"Scrape-Wyoming---County-Officials-1\"><span class=\"toc-item-num\">1&nbsp;&nbsp;</span>Scrape Wyoming - County Officials</a></span><ul class=\"toc-item\"><li><span><a href=\"#fitz-needs-the-pdf-file-to-be-located-locally.\" data-toc-modified-id=\"fitz-needs-the-pdf-file-to-be-located-locally.-1.1\"><span class=\"toc-item-num\">1.1&nbsp;&nbsp;</span>fitz needs the pdf file to be located locally.</a></span></li></ul></li><li><span><a href=\"#Analyze-the-format-of-the-text\" data-toc-modified-id=\"Analyze-the-format-of-the-text-2\"><span class=\"toc-item-num\">2&nbsp;&nbsp;</span>Analyze the format of the text</a></span></li><li><span><a href=\"#Extract-the-a-list-of-the-county-clerks'-names\" data-toc-modified-id=\"Extract-the-a-list-of-the-county-clerks'-names-3\"><span class=\"toc-item-num\">3&nbsp;&nbsp;</span>Extract the a list of the county clerks' names</a></span></li><li><span><a href=\"#Break-counties-into-two-groups,-those-in-the-left-column-and-those-in-the-right\" data-toc-modified-id=\"Break-counties-into-two-groups,-those-in-the-left-column-and-those-in-the-right-4\"><span class=\"toc-item-num\">4&nbsp;&nbsp;</span>Break counties into two groups, those in the left column and those in the right</a></span></li><li><span><a href=\"#Loop-through-the-left-column-of-addresses-to-build-a-dict\" data-toc-modified-id=\"Loop-through-the-left-column-of-addresses-to-build-a-dict-5\"><span class=\"toc-item-num\">5&nbsp;&nbsp;</span>Loop through the left column of addresses to build a dict</a></span></li><li><span><a href=\"#Loop-through-the-right-column-of-address-to-build-a-dict\" data-toc-modified-id=\"Loop-through-the-right-column-of-address-to-build-a-dict-6\"><span class=\"toc-item-num\">6&nbsp;&nbsp;</span>Loop through the right column of address to build a dict</a></span></li><li><span><a href=\"#Create-DataFrame-of-data\" data-toc-modified-id=\"Create-DataFrame-of-data-7\"><span class=\"toc-item-num\">7&nbsp;&nbsp;</span>Create DataFrame of data</a></span></li><li><span><a href=\"#Remove-'clerk'-from-county-name\" data-toc-modified-id=\"Remove-'clerk'-from-county-name-8\"><span class=\"toc-item-num\">8&nbsp;&nbsp;</span>Remove 'clerk' from county name</a></span></li><li><span><a href=\"#Remove-'Email'-from-email\" data-toc-modified-id=\"Remove-'Email'-from-email-9\"><span class=\"toc-item-num\">9&nbsp;&nbsp;</span>Remove 'Email' from email</a></span></li><li><span><a href=\"#Create-'county_state'\" data-toc-modified-id=\"Create-'county_state'-10\"><span class=\"toc-item-num\">10&nbsp;&nbsp;</span>Create 'county_state'</a></span></li><li><span><a href=\"#Write-DataFrame-to-csv\" data-toc-modified-id=\"Write-DataFrame-to-csv-11\"><span class=\"toc-item-num\">11&nbsp;&nbsp;</span>Write DataFrame to csv</a></span></li></ul></div>"
   ]
  },
  {
   "cell_type": "markdown",
   "metadata": {},
   "source": [
    "# Scrape Wyoming - County Officials"
   ]
  },
  {
   "cell_type": "code",
   "execution_count": 1,
   "metadata": {
    "ExecuteTime": {
     "end_time": "2020-09-22T00:28:40.577686Z",
     "start_time": "2020-09-22T00:28:40.158448Z"
    }
   },
   "outputs": [],
   "source": [
    "import fitz\n",
    "import numpy as np\n",
    "import pandas as pd\n",
    "import re"
   ]
  },
  {
   "cell_type": "code",
   "execution_count": 2,
   "metadata": {
    "ExecuteTime": {
     "end_time": "2020-09-22T00:28:40.587674Z",
     "start_time": "2020-09-22T00:28:40.580464Z"
    },
    "scrolled": true
   },
   "outputs": [
    {
     "name": "stdout",
     "output_type": "stream",
     "text": [
      "\n",
      "PyMuPDF 1.17.6: Python bindings for the MuPDF 1.17.0 library.\n",
      "Version date: 2020-08-26 14:54:32.\n",
      "Built for Python 3.6 on darwin (64-bit).\n",
      "\n"
     ]
    }
   ],
   "source": [
    "# verify installation\n",
    "print(fitz.__doc__)"
   ]
  },
  {
   "cell_type": "markdown",
   "metadata": {},
   "source": [
    "## fitz needs the pdf file to be located locally. \n",
    "\n",
    "Downloaded from this url: https://sos.wyo.gov/Elections/Docs/WYCountyClerks_AbsRequest_VRChange.pdf"
   ]
  },
  {
   "cell_type": "code",
   "execution_count": 3,
   "metadata": {
    "ExecuteTime": {
     "end_time": "2020-09-22T00:28:46.277319Z",
     "start_time": "2020-09-22T00:28:46.272448Z"
    }
   },
   "outputs": [],
   "source": [
    "path = \".../WYCountyClerks_AbsRequest_VRChange.pdf\"\n",
    "doc = fitz.open(path)"
   ]
  },
  {
   "cell_type": "code",
   "execution_count": 4,
   "metadata": {
    "ExecuteTime": {
     "end_time": "2020-09-22T00:28:47.210859Z",
     "start_time": "2020-09-22T00:28:47.170372Z"
    }
   },
   "outputs": [],
   "source": [
    "raw_text = \"\"\n",
    "for page in doc:\n",
    "    text = page.getText(\"text\")\n",
    "    raw_text += text"
   ]
  },
  {
   "cell_type": "code",
   "execution_count": 5,
   "metadata": {
    "ExecuteTime": {
     "end_time": "2020-09-22T00:28:47.581507Z",
     "start_time": "2020-09-22T00:28:47.564275Z"
    }
   },
   "outputs": [
    {
     "data": {
      "text/plain": [
       "str"
      ]
     },
     "execution_count": 5,
     "metadata": {},
     "output_type": "execute_result"
    }
   ],
   "source": [
    "type(raw_text)"
   ]
  },
  {
   "cell_type": "code",
   "execution_count": 6,
   "metadata": {
    "ExecuteTime": {
     "end_time": "2020-09-22T00:28:47.852989Z",
     "start_time": "2020-09-22T00:28:47.843786Z"
    },
    "scrolled": false
   },
   "outputs": [
    {
     "data": {
      "text/plain": [
       "'Wyoming County Clerk’s Office \\nAbsentee Request and Updates to Voter Registration \\nContact Information \\n \\n \\n \\n \\n \\n \\nPage 1 of 3 \\nAlbany County Clerk \\nBig Horn County Clerk \\n525 Grand Avenue, Suite 202 \\nLaramie, WY 82070 \\nPh. 307.721.2546 \\nFax 307.721.2544 \\nEmail: elections@co.albany.wy.us \\nCounty Courthouse, P.O. Box 31 \\nBasin, WY 82410-0031 \\nPh. 307.568.2357 \\nFax 307.568.9375 \\nEmail: Lori.Smallwood@bighorncountywy.gov \\n          annette.dillon@bighorncountywy.gov \\nCampbell County Clerk \\nCarbon County Clerk \\nP.O. Box 3010 \\nGillette, WY 82717-3010 \\nPh. 307.686.1892 \\nFax 307.687.6455 \\nEmail: cds02@ccgov.net \\nP.O. Box 6 \\nRawlins, WY 82301-0006 \\nPh. 307.328.2650 \\nFax 307.328.2669 \\nEmail: elections@carbonwy.com     \\nConverse County Clerk \\nCrook County Clerk \\n107 North 5th Street, Suite 114 \\nDouglas, WY 82633-2448 \\nPh. 307.358.2244 \\nFax 307.358.5998 \\nEmail:janeen.morvee@conversecountywy.gov \\n            \\nP.O. Box 37 \\nSundance, WY 82729-0037 \\nPh. 307.283.1323 \\nFax 307.283.3038 \\nEmail: LindaF@crookcounty.wy.gov \\n               melissaj@crookcounty.wy.gov \\nFremont County Clerk \\nGoshen County Clerk \\n450 North 2nd Street, Room 220 \\nLander, WY 82520-0090 \\nPh. 307.332.1089 \\nFax 307.332.1132 \\nEmail: elections@fremontcountywy.gov \\nP.O. Box 160 \\nTorrington, WY 82240-0160 \\nPh. 307.532.4051 \\nFax 307.532.7375 \\nEmail: countyclerk@goshencounty.org \\n \\nPage 2 of 3 \\n \\nHot Springs County Clerk \\nJohnson County Clerk \\n415 Arapahoe \\nThermopolis, WY 82443-2783 \\nPh. 307.864.3515 \\nFax 307.864.3333 \\nEmail: elections@hscounty.com \\n76 North Main Street \\nBuffalo, WY 82834-1883 \\nPh. 307.684.7272 \\nFax 307.684.2708 \\nEmail: vedelman@johnsoncowy.us \\n   clerk@johnsoncowy.us \\nLaramie County Clerk \\nLincoln County Clerk \\nP.O. Box 608 \\nCheyenne, WY 82003-0608 \\nPh. 307.633.4242 \\nFax 307.633.4240 \\nEmail: election@laramiecountyclerk.com \\n925 Sage Avenue, Suite 101 \\nKemmerer, WY 83101 \\nPh. 307.877.2027 or 2021 \\nFax 307.877.3101 \\nEmail: jpainter@lcwy.org \\n             abrunski@lcwy.org \\nNatrona County Clerk \\nNiobrara County Clerk \\n200 North Center Street \\nP.O. Box 863 \\nCasper, WY 82601-0863 \\nPh. 307.235.9217 \\nFax 307.235.9367 \\nEmail: elections@natronacounty-wy.gov \\nP.O. Box 420 \\nLusk, WY 82225-0420 \\nPh. 307.334.2211 \\nFax 307.334.3013 \\nEmail: bfreeman@niobraracounty.org \\nPark County Clerk \\nPlatte County Clerk \\n1002 Sheridan \\nCody, WY 82414-3589 \\nPh. 307.527.8620 \\nFax 307.527.8626 \\nEmail: voterinfo@parkcounty.us \\nP.O. Drawer 728 \\nWheatland, WY 82201-0728 \\nPh. 307.322.2315 \\nFax 307.322.2245 \\nEmail: pcelection@plattecountywyoming.com \\n \\nPage 3 of 3 \\n \\nSheridan County Clerk \\nSublette County Clerk \\n224 South Main Street; Suite B-17 \\nSheridan, WY 82801 \\nPh. 307.674.2515 \\nFax 307.674.2909 \\nEmail: elections@sheridancounty.com \\nP.O. Box 250 \\nPinedale, WY 82941-0250 \\nPh. 307.367.4372 \\nFax 307.367.6396 \\nEmail: Carrie.Long@sublettewyo.com \\nSweetwater County Clerk \\nTeton County Clerk \\n80 West Flaming Gorge Way, Suite 155 \\nGreen River, WY 82935 \\nPh. 307.872.3733 \\nFax 307.872.3994 \\nEmail: elections@sweet.wy.us \\nP.O. Box 1727 \\nJackson, WY 83001-1727 \\nPh. 307.733.4430 \\nFax 307.739.8681 \\nEmail: elections@tetoncountywy.gov \\nUinta County Clerk \\nWashakie County Clerk \\nP.O. Box 810 \\nEvanston, WY 82931 \\nPh. 307.783.0306 \\nFax 307.783.0376 \\nEmail: kigoble@uintacounty.com \\n1001 Big Horn Avenue \\nP.O. Box 260 \\nWorland, WY 82401 \\nPh. 307.347.3131 \\nFax 307.347.9366 \\nEmail: clerk@washakiecounty.net \\n \\nWeston County Clerk \\n  \\n1 West Main \\nNewcastle, WY 82701 \\nPh. 307.746.4744 \\nFax 307.746.9505 \\nEmail: clerk@westongov.com \\n \\n'"
      ]
     },
     "execution_count": 6,
     "metadata": {},
     "output_type": "execute_result"
    }
   ],
   "source": [
    "raw_text"
   ]
  },
  {
   "cell_type": "markdown",
   "metadata": {},
   "source": [
    "# Analyze the format of the text\n",
    "\n",
    "It looks like the fitz has extracted the tables in the PDF by row, and then by page, so that the county titles appear one after the other, and then the information for the those two counties one after the other."
   ]
  },
  {
   "cell_type": "code",
   "execution_count": 10,
   "metadata": {
    "ExecuteTime": {
     "end_time": "2020-09-22T00:30:08.434037Z",
     "start_time": "2020-09-22T00:30:08.427572Z"
    },
    "scrolled": false
   },
   "outputs": [
    {
     "name": "stdout",
     "output_type": "stream",
     "text": [
      "Wyoming County Clerk’s Office \n",
      "Absentee Request and Updates to Voter Registration \n",
      "Contact Information \n",
      " \n",
      " \n",
      " \n",
      " \n",
      " \n",
      " \n",
      "Page 1 of 3 \n",
      "Albany County Clerk \n",
      "Big Horn County Clerk \n",
      "525 Grand Avenue, Suite 202 \n",
      "Laramie, WY 82070 \n",
      "Ph. 307.721.2546 \n",
      "Fax 307.721.2544 \n",
      "Email: elections@co.albany.wy.us \n",
      "County Courthouse, P.O. Box 31 \n",
      "Basin, WY 82410-0031 \n",
      "Ph. 307.568.2357 \n",
      "Fax 307.568.9375 \n",
      "Email: Lori.Smallwood@bighorncountywy.gov \n",
      "          annette.dillon@bighorncountywy.gov \n",
      "Campbell County Clerk \n",
      "Carbon County Clerk \n",
      "P.O. Box 3010 \n",
      "Gillette, WY 82717-3010 \n",
      "Ph. 307.686.1892 \n",
      "Fax 307.687.6455 \n",
      "Email: cds02@ccgov.net \n",
      "P.O. Box 6 \n",
      "Rawlins, WY 82301-0006 \n",
      "Ph. 307.328.2650 \n",
      "Fax 307.328.2669 \n",
      "Email: elections@carbonwy.com     \n",
      "Converse County Clerk \n",
      "Crook County Clerk \n",
      "107 North 5th Street, Suite 114 \n",
      "Douglas, WY 82633-2448 \n",
      "Ph. 307.358.2244 \n",
      "Fax 307.358.5998 \n",
      "Email:janeen.morvee@conversecountywy.gov \n",
      "            \n",
      "P.O. Box 37 \n",
      "Sundance, WY 82729-0037 \n",
      "Ph. 307.283.1323 \n",
      "Fax 307.283.3038 \n",
      "Email: LindaF@crookcounty.wy.gov \n",
      "               melissaj@crookcounty.wy.gov \n",
      "Fremont County Clerk \n",
      "Goshen County Clerk \n",
      "450 North 2nd Street, Room 220 \n",
      "Lander, WY 82520-0090 \n",
      "Ph. 307.332.1089 \n",
      "Fax 307.332.1132 \n",
      "Email: elections@fremontcountywy.gov \n",
      "P.O. Box 160 \n",
      "Torrington, WY 82240-0160 \n",
      "Ph. 307.532.4051 \n",
      "Fax 307.532.7375 \n",
      "Email: countyclerk@goshencounty.org \n",
      " \n",
      "Page 2 of 3 \n",
      " \n",
      "Hot Springs County Clerk \n",
      "Johnson County Clerk \n",
      "415 Arapahoe \n",
      "Thermopolis, WY 82443-2783 \n",
      "Ph. 307.864.3515 \n",
      "Fax 307.864.3333 \n",
      "Email: elections@hscounty.com \n",
      "76 North Main Street \n",
      "Buffalo, WY 82834-1883 \n",
      "Ph. 307.684.7272 \n",
      "Fax 307.684.2708 \n",
      "Email: vedelman@johnsoncowy.us \n",
      "   clerk@johnsoncowy.us \n",
      "Laramie County Clerk \n",
      "Lincoln County Clerk \n",
      "P.O. Box 608 \n",
      "Cheyenne, WY 82003-0608 \n",
      "Ph. 307.633.4242 \n",
      "Fax 307.633.4240 \n",
      "Email: election@laramiecountyclerk.com \n",
      "925 Sage Avenue, Suite 101 \n",
      "Kemmerer, WY 83101 \n",
      "Ph. 307.877.2027 or 2021 \n",
      "Fax 307.877.3101 \n",
      "Email: jpainter@lcwy.org \n",
      "             abrunski@lcwy.org \n",
      "Natrona County Clerk \n",
      "Niobrara County Clerk \n",
      "200 North Center Street \n",
      "P.O. Box 863 \n",
      "Casper, WY 82601-0863 \n",
      "Ph. 307.235.9217 \n",
      "Fax 307.235.9367 \n",
      "Email: elections@natronacounty-wy.gov \n",
      "P.O. Box 420 \n",
      "Lusk, WY 82225-0420 \n",
      "Ph. 307.334.2211 \n",
      "Fax 307.334.3013 \n",
      "Email: bfreeman@niobraracounty.org \n",
      "Park County Clerk \n",
      "Platte County Clerk \n",
      "1002 Sheridan \n",
      "Cody, WY 82414-3589 \n",
      "Ph. 307.527.8620 \n",
      "Fax 307.527.8626 \n",
      "Email: voterinfo@parkcounty.us \n",
      "P.O. Drawer 728 \n",
      "Wheatland, WY 82201-0728 \n",
      "Ph. 307.322.2315 \n",
      "Fax 307.322.2245 \n",
      "Email: pcelection@plattecountywyoming.com \n",
      " \n",
      "Page 3 of 3 \n",
      " \n",
      "Sheridan County Clerk \n",
      "Sublette County Clerk \n",
      "224 South Main Street; Suite B-17 \n",
      "Sheridan, WY 82801 \n",
      "Ph. 307.674.2515 \n",
      "Fax 307.674.2909 \n",
      "Email: elections@sheridancounty.com \n",
      "P.O. Box 250 \n",
      "Pinedale, WY 82941-0250 \n",
      "Ph. 307.367.4372 \n",
      "Fax 307.367.6396 \n",
      "Email: Carrie.Long@sublettewyo.com \n",
      "Sweetwater County Clerk \n",
      "Teton County Clerk \n",
      "80 West Flaming Gorge Way, Suite 155 \n",
      "Green River, WY 82935 \n",
      "Ph. 307.872.3733 \n",
      "Fax 307.872.3994 \n",
      "Email: elections@sweet.wy.us \n",
      "P.O. Box 1727 \n",
      "Jackson, WY 83001-1727 \n",
      "Ph. 307.733.4430 \n",
      "Fax 307.739.8681 \n",
      "Email: elections@tetoncountywy.gov \n",
      "Uinta County Clerk \n",
      "Washakie County Clerk \n",
      "P.O. Box 810 \n",
      "Evanston, WY 82931 \n",
      "Ph. 307.783.0306 \n",
      "Fax 307.783.0376 \n",
      "Email: kigoble@uintacounty.com \n",
      "1001 Big Horn Avenue \n",
      "P.O. Box 260 \n",
      "Worland, WY 82401 \n",
      "Ph. 307.347.3131 \n",
      "Fax 307.347.9366 \n",
      "Email: clerk@washakiecounty.net \n",
      " \n",
      "Weston County Clerk \n",
      "  \n",
      "1 West Main \n",
      "Newcastle, WY 82701 \n",
      "Ph. 307.746.4744 \n",
      "Fax 307.746.9505 \n",
      "Email: clerk@westongov.com \n",
      " \n",
      "\n"
     ]
    }
   ],
   "source": [
    "print(raw_text)"
   ]
  },
  {
   "cell_type": "code",
   "execution_count": 11,
   "metadata": {
    "ExecuteTime": {
     "end_time": "2020-09-22T00:30:20.584071Z",
     "start_time": "2020-09-22T00:30:20.577614Z"
    }
   },
   "outputs": [],
   "source": [
    "text_lines = []\n",
    "for x in raw_text.splitlines():\n",
    "    text_lines.append(x.strip())"
   ]
  },
  {
   "cell_type": "code",
   "execution_count": 16,
   "metadata": {
    "ExecuteTime": {
     "end_time": "2020-09-22T00:30:59.651694Z",
     "start_time": "2020-09-22T00:30:59.639014Z"
    },
    "scrolled": false
   },
   "outputs": [
    {
     "data": {
      "text/plain": [
       "[[0, 'Wyoming County Clerk’s Office'],\n",
       " [1, 'Absentee Request and Updates to Voter Registration'],\n",
       " [2, 'Contact Information'],\n",
       " [3, ''],\n",
       " [4, ''],\n",
       " [5, ''],\n",
       " [6, ''],\n",
       " [7, ''],\n",
       " [8, ''],\n",
       " [9, 'Page 1 of 3'],\n",
       " [10, 'Albany County Clerk'],\n",
       " [11, 'Big Horn County Clerk'],\n",
       " [12, '525 Grand Avenue, Suite 202'],\n",
       " [13, 'Laramie, WY 82070'],\n",
       " [14, 'Ph. 307.721.2546'],\n",
       " [15, 'Fax 307.721.2544'],\n",
       " [16, 'Email: elections@co.albany.wy.us'],\n",
       " [17, 'County Courthouse, P.O. Box 31'],\n",
       " [18, 'Basin, WY 82410-0031'],\n",
       " [19, 'Ph. 307.568.2357'],\n",
       " [20, 'Fax 307.568.9375'],\n",
       " [21, 'Email: Lori.Smallwood@bighorncountywy.gov'],\n",
       " [22, 'annette.dillon@bighorncountywy.gov'],\n",
       " [23, 'Campbell County Clerk'],\n",
       " [24, 'Carbon County Clerk'],\n",
       " [25, 'P.O. Box 3010'],\n",
       " [26, 'Gillette, WY 82717-3010'],\n",
       " [27, 'Ph. 307.686.1892'],\n",
       " [28, 'Fax 307.687.6455'],\n",
       " [29, 'Email: cds02@ccgov.net'],\n",
       " [30, 'P.O. Box 6'],\n",
       " [31, 'Rawlins, WY 82301-0006'],\n",
       " [32, 'Ph. 307.328.2650'],\n",
       " [33, 'Fax 307.328.2669'],\n",
       " [34, 'Email: elections@carbonwy.com'],\n",
       " [35, 'Converse County Clerk'],\n",
       " [36, 'Crook County Clerk'],\n",
       " [37, '107 North 5th Street, Suite 114'],\n",
       " [38, 'Douglas, WY 82633-2448'],\n",
       " [39, 'Ph. 307.358.2244']]"
      ]
     },
     "execution_count": 16,
     "metadata": {},
     "output_type": "execute_result"
    }
   ],
   "source": [
    "[[x,y] for x,y in enumerate(text_lines[:40])]"
   ]
  },
  {
   "cell_type": "markdown",
   "metadata": {},
   "source": [
    "# Extract the a list of the county clerks' names"
   ]
  },
  {
   "cell_type": "code",
   "execution_count": 17,
   "metadata": {
    "ExecuteTime": {
     "end_time": "2020-09-22T00:31:15.643513Z",
     "start_time": "2020-09-22T00:31:15.636303Z"
    }
   },
   "outputs": [],
   "source": [
    "counties = []\n",
    "for row in raw_text.splitlines():\n",
    "    if re.search(' Clerk ', row):\n",
    "        county = row.strip()\n",
    "        counties.append(county)"
   ]
  },
  {
   "cell_type": "code",
   "execution_count": 18,
   "metadata": {
    "ExecuteTime": {
     "end_time": "2020-09-22T00:31:16.386958Z",
     "start_time": "2020-09-22T00:31:16.378674Z"
    },
    "scrolled": false
   },
   "outputs": [
    {
     "data": {
      "text/plain": [
       "['Albany County Clerk',\n",
       " 'Big Horn County Clerk',\n",
       " 'Campbell County Clerk',\n",
       " 'Carbon County Clerk',\n",
       " 'Converse County Clerk',\n",
       " 'Crook County Clerk',\n",
       " 'Fremont County Clerk',\n",
       " 'Goshen County Clerk',\n",
       " 'Hot Springs County Clerk',\n",
       " 'Johnson County Clerk',\n",
       " 'Laramie County Clerk',\n",
       " 'Lincoln County Clerk',\n",
       " 'Natrona County Clerk',\n",
       " 'Niobrara County Clerk',\n",
       " 'Park County Clerk',\n",
       " 'Platte County Clerk',\n",
       " 'Sheridan County Clerk',\n",
       " 'Sublette County Clerk',\n",
       " 'Sweetwater County Clerk',\n",
       " 'Teton County Clerk',\n",
       " 'Uinta County Clerk',\n",
       " 'Washakie County Clerk',\n",
       " 'Weston County Clerk']"
      ]
     },
     "execution_count": 18,
     "metadata": {},
     "output_type": "execute_result"
    }
   ],
   "source": [
    "counties"
   ]
  },
  {
   "cell_type": "code",
   "execution_count": 19,
   "metadata": {
    "ExecuteTime": {
     "end_time": "2020-09-22T00:31:19.728717Z",
     "start_time": "2020-09-22T00:31:19.720144Z"
    }
   },
   "outputs": [
    {
     "data": {
      "text/plain": [
       "23"
      ]
     },
     "execution_count": 19,
     "metadata": {},
     "output_type": "execute_result"
    }
   ],
   "source": [
    "len(counties)"
   ]
  },
  {
   "cell_type": "markdown",
   "metadata": {},
   "source": [
    "# Break counties into two groups, those in the left column and those in the right"
   ]
  },
  {
   "cell_type": "code",
   "execution_count": 20,
   "metadata": {
    "ExecuteTime": {
     "end_time": "2020-09-22T00:31:20.367836Z",
     "start_time": "2020-09-22T00:31:20.361361Z"
    }
   },
   "outputs": [],
   "source": [
    "counties_1 = []\n",
    "for row in range(0, len(counties), 2):\n",
    "    counties_1.append(counties[row])"
   ]
  },
  {
   "cell_type": "code",
   "execution_count": 21,
   "metadata": {
    "ExecuteTime": {
     "end_time": "2020-09-22T00:31:20.740363Z",
     "start_time": "2020-09-22T00:31:20.734467Z"
    }
   },
   "outputs": [],
   "source": [
    "counties_2 = []\n",
    "for row in range(1, len(counties), 2):\n",
    "    counties_2.append(counties[row])"
   ]
  },
  {
   "cell_type": "markdown",
   "metadata": {},
   "source": [
    "# Loop through the left column of addresses to build a dict"
   ]
  },
  {
   "cell_type": "code",
   "execution_count": 22,
   "metadata": {
    "ExecuteTime": {
     "end_time": "2020-09-22T00:31:21.584144Z",
     "start_time": "2020-09-22T00:31:21.576730Z"
    }
   },
   "outputs": [
    {
     "data": {
      "text/plain": [
       "['Albany County Clerk',\n",
       " 'Campbell County Clerk',\n",
       " 'Converse County Clerk',\n",
       " 'Fremont County Clerk',\n",
       " 'Hot Springs County Clerk',\n",
       " 'Laramie County Clerk',\n",
       " 'Natrona County Clerk',\n",
       " 'Park County Clerk',\n",
       " 'Sheridan County Clerk',\n",
       " 'Sweetwater County Clerk',\n",
       " 'Uinta County Clerk',\n",
       " 'Weston County Clerk']"
      ]
     },
     "execution_count": 22,
     "metadata": {},
     "output_type": "execute_result"
    }
   ],
   "source": [
    "counties_1"
   ]
  },
  {
   "cell_type": "code",
   "execution_count": 23,
   "metadata": {
    "ExecuteTime": {
     "end_time": "2020-09-22T00:31:23.959290Z",
     "start_time": "2020-09-22T00:31:23.940250Z"
    }
   },
   "outputs": [
    {
     "name": "stdout",
     "output_type": "stream",
     "text": [
      "10 Albany County Clerk\n",
      "23 Campbell County Clerk\n",
      "35 Converse County Clerk\n",
      "49 Fremont County Clerk\n",
      "64 Hot Springs County Clerk\n",
      "77 Laramie County Clerk\n",
      "90 Natrona County Clerk\n",
      "103 Park County Clerk\n",
      "118 Sheridan County Clerk\n",
      "130 Sweetwater County Clerk\n",
      "142 Uinta County Clerk\n",
      "156 Weston County Clerk\n"
     ]
    }
   ],
   "source": [
    "data_1 = []\n",
    "for num,row in enumerate(text_lines):\n",
    "    if row in set(counties_1):\n",
    "        if row=='Natrona County Clerk':\n",
    "            state = 'WY'\n",
    "            county = row\n",
    "            print(num, row)\n",
    "            location_type = np.nan\n",
    "            name = np.nan\n",
    "            address_1 = text_lines[num+2]\n",
    "            address_2 = text_lines[num+3]\n",
    "            city = text_lines[num+4].split(', ')[0]\n",
    "            zip_code = text_lines[num+4].split(', WY ')[1]\n",
    "            phone = text_lines[num+5].split('Ph. ')[1]\n",
    "            county_website_url =  'https://sos.wyo.gov/Elections/Docs/WYCountyClerks_AbsRequest_VRChange.pdf'\n",
    "            validate_url = np.nan\n",
    "            email = text_lines[num+7]\n",
    "            fax = text_lines[num+6].split('Fax ')[1]            \n",
    "        else:\n",
    "            state = 'WY'\n",
    "            county = row\n",
    "            print(num, row)\n",
    "            location_type = np.nan\n",
    "            name = np.nan\n",
    "            address_1 = text_lines[num+2]\n",
    "            address_2 = np.nan\n",
    "            city = text_lines[num+3].split(', ')[0]\n",
    "            zip_code = text_lines[num+3].split(', WY ')[1]\n",
    "            phone = text_lines[num+4].split('Ph. ')[1]\n",
    "            county_website_url = 'https://sos.wyo.gov/Elections/Docs/WYCountyClerks_AbsRequest_VRChange.pdf'\n",
    "            validate_url = np.nan\n",
    "            email = text_lines[num+6]\n",
    "            fax = text_lines[num+5].split('Fax ')[1]\n",
    "        \n",
    "        data = {\n",
    "                'county_state': np.nan,\n",
    "                'state': state, \n",
    "                'county': county, \n",
    "                'location_type': location_type, \n",
    "                'name': name, \n",
    "                'address_1': address_1,\n",
    "                'address_2': address_2, \n",
    "                'city': city, \n",
    "                'zip_code': zip_code, \n",
    "                'phone': phone, \n",
    "                'county_website_url':county_website_url,\n",
    "                'validate_url': validate_url, \n",
    "                'email':email, \n",
    "                'fax':fax,\n",
    "                'social': np.nan,\n",
    "                'notes': np.nan,\n",
    "                'scraper': 'Seymour Liao'}\n",
    "        \n",
    "        data_1.append(data)"
   ]
  },
  {
   "cell_type": "code",
   "execution_count": 25,
   "metadata": {
    "ExecuteTime": {
     "end_time": "2020-09-22T00:31:42.568259Z",
     "start_time": "2020-09-22T00:31:42.548214Z"
    },
    "scrolled": false
   },
   "outputs": [
    {
     "data": {
      "text/plain": [
       "[{'county_state': nan,\n",
       "  'state': 'WY',\n",
       "  'county': 'Albany County Clerk',\n",
       "  'location_type': nan,\n",
       "  'name': nan,\n",
       "  'address_1': '525 Grand Avenue, Suite 202',\n",
       "  'address_2': nan,\n",
       "  'city': 'Laramie',\n",
       "  'zip_code': '82070',\n",
       "  'phone': '307.721.2546',\n",
       "  'county_website_url': 'https://sos.wyo.gov/Elections/Docs/WYCountyClerks_AbsRequest_VRChange.pdf',\n",
       "  'validate_url': nan,\n",
       "  'email': 'Email: elections@co.albany.wy.us',\n",
       "  'fax': '307.721.2544',\n",
       "  'social': nan,\n",
       "  'notes': nan,\n",
       "  'scraper': 'Seymour Liao'},\n",
       " {'county_state': nan,\n",
       "  'state': 'WY',\n",
       "  'county': 'Campbell County Clerk',\n",
       "  'location_type': nan,\n",
       "  'name': nan,\n",
       "  'address_1': 'P.O. Box 3010',\n",
       "  'address_2': nan,\n",
       "  'city': 'Gillette',\n",
       "  'zip_code': '82717-3010',\n",
       "  'phone': '307.686.1892',\n",
       "  'county_website_url': 'https://sos.wyo.gov/Elections/Docs/WYCountyClerks_AbsRequest_VRChange.pdf',\n",
       "  'validate_url': nan,\n",
       "  'email': 'Email: cds02@ccgov.net',\n",
       "  'fax': '307.687.6455',\n",
       "  'social': nan,\n",
       "  'notes': nan,\n",
       "  'scraper': 'Seymour Liao'},\n",
       " {'county_state': nan,\n",
       "  'state': 'WY',\n",
       "  'county': 'Converse County Clerk',\n",
       "  'location_type': nan,\n",
       "  'name': nan,\n",
       "  'address_1': '107 North 5th Street, Suite 114',\n",
       "  'address_2': nan,\n",
       "  'city': 'Douglas',\n",
       "  'zip_code': '82633-2448',\n",
       "  'phone': '307.358.2244',\n",
       "  'county_website_url': 'https://sos.wyo.gov/Elections/Docs/WYCountyClerks_AbsRequest_VRChange.pdf',\n",
       "  'validate_url': nan,\n",
       "  'email': 'Email:janeen.morvee@conversecountywy.gov',\n",
       "  'fax': '307.358.5998',\n",
       "  'social': nan,\n",
       "  'notes': nan,\n",
       "  'scraper': 'Seymour Liao'}]"
      ]
     },
     "execution_count": 25,
     "metadata": {},
     "output_type": "execute_result"
    }
   ],
   "source": [
    "data_1[:3]"
   ]
  },
  {
   "cell_type": "markdown",
   "metadata": {},
   "source": [
    "# Loop through the right column of address to build a dict\n",
    "\n",
    "Some counties have two emails listed. Adust the row reference to account for the extra row."
   ]
  },
  {
   "cell_type": "code",
   "execution_count": 26,
   "metadata": {
    "ExecuteTime": {
     "end_time": "2020-09-22T00:31:47.113662Z",
     "start_time": "2020-09-22T00:31:47.105746Z"
    }
   },
   "outputs": [
    {
     "data": {
      "text/plain": [
       "['Big Horn County Clerk',\n",
       " 'Carbon County Clerk',\n",
       " 'Crook County Clerk',\n",
       " 'Goshen County Clerk',\n",
       " 'Johnson County Clerk',\n",
       " 'Lincoln County Clerk',\n",
       " 'Niobrara County Clerk',\n",
       " 'Platte County Clerk',\n",
       " 'Sublette County Clerk',\n",
       " 'Teton County Clerk',\n",
       " 'Washakie County Clerk']"
      ]
     },
     "execution_count": 26,
     "metadata": {},
     "output_type": "execute_result"
    }
   ],
   "source": [
    "counties_2"
   ]
  },
  {
   "cell_type": "code",
   "execution_count": 27,
   "metadata": {
    "ExecuteTime": {
     "end_time": "2020-09-22T00:31:48.804793Z",
     "start_time": "2020-09-22T00:31:48.782089Z"
    }
   },
   "outputs": [
    {
     "name": "stdout",
     "output_type": "stream",
     "text": [
      "Big Horn County Clerk\n",
      "Carbon County Clerk\n",
      "Crook County Clerk\n",
      "Goshen County Clerk\n",
      "Johnson County Clerk\n",
      "Lincoln County Clerk\n",
      "Niobrara County Clerk\n",
      "Platte County Clerk\n",
      "Sublette County Clerk\n",
      "Teton County Clerk\n",
      "Washakie County Clerk\n"
     ]
    }
   ],
   "source": [
    "data_2 = []\n",
    "for num,row in enumerate(text_lines):\n",
    "    if row in set(counties_2):\n",
    "        if row=='Crook County Clerk' or row=='Niobrara County Clerk':\n",
    "            print(row)\n",
    "            state = 'WY'\n",
    "            county = row\n",
    "            location_type = np.nan\n",
    "            name = np.nan\n",
    "            address_1 = text_lines[num+7]\n",
    "            address_2 = np.nan\n",
    "            city = text_lines[num+8].split(', ')[0]\n",
    "            zip_code = text_lines[num+8].split(', WY ')[1]\n",
    "            phone = text_lines[num+9].split('Ph. ')[1]\n",
    "            county_website_url =  'https://sos.wyo.gov/Elections/Docs/WYCountyClerks_AbsRequest_VRChange.pdf'\n",
    "            validate_url = np.nan\n",
    "            email = text_lines[num+11]\n",
    "            fax = text_lines[num+10].split('Fax ')[1]            \n",
    "        elif row=='Washakie County Clerk':\n",
    "            print(row)\n",
    "            state = 'WY'\n",
    "            county = row\n",
    "            location_type = np.nan\n",
    "            name = np.nan\n",
    "            address_1 = text_lines[num+6]\n",
    "            address_2 = text_lines[num+7]\n",
    "            city = text_lines[num+8].split(', ')[0]\n",
    "            zip_code = text_lines[num+8].split(', WY ')[1]\n",
    "            phone = text_lines[num+9].split('Ph. ')[1]\n",
    "            county_website_url = 'https://sos.wyo.gov/Elections/Docs/WYCountyClerks_AbsRequest_VRChange.pdf'\n",
    "            validate_url = np.nan\n",
    "            email = text_lines[num+11]\n",
    "            fax = text_lines[num+10].split('Fax ')[1]  \n",
    "        else:\n",
    "            state = 'WY'\n",
    "            county = row\n",
    "            print(row)\n",
    "            location_type = np.nan\n",
    "            name = np.nan\n",
    "            address_1 = text_lines[num+6]\n",
    "            address_2 = np.nan\n",
    "            city = text_lines[num+7].split(', ')[0]\n",
    "            zip_code = text_lines[num+7].split(', WY ')[1]\n",
    "            phone = text_lines[num+8].split('Ph. ')[1]\n",
    "            county_website_url =  'https://sos.wyo.gov/Elections/Docs/WYCountyClerks_AbsRequest_VRChange.pdf'\n",
    "            validate_url = np.nan\n",
    "            email = text_lines[num+10]\n",
    "            fax = text_lines[num+9].split('Fax ')[1]\n",
    "        \n",
    "        data = {\n",
    "                'county_state': np.nan,\n",
    "                'state': state, \n",
    "                'county': county, \n",
    "                'location_type': location_type, \n",
    "                'name': name, \n",
    "                'address_1': address_1,\n",
    "                'address_2': address_2, \n",
    "                'city': city, \n",
    "                'zip_code': zip_code, \n",
    "                'phone': phone, \n",
    "                'county_website_url':county_website_url,\n",
    "                'validate_url': validate_url, \n",
    "                'email':email, \n",
    "                'fax':fax,\n",
    "                'social': np.nan,\n",
    "                'notes': np.nan,\n",
    "                'scraper': 'Seymour Liao'}\n",
    "        \n",
    "        data_2.append(data)"
   ]
  },
  {
   "cell_type": "code",
   "execution_count": 28,
   "metadata": {
    "ExecuteTime": {
     "end_time": "2020-09-22T00:32:00.537302Z",
     "start_time": "2020-09-22T00:32:00.526269Z"
    },
    "scrolled": false
   },
   "outputs": [
    {
     "data": {
      "text/plain": [
       "[{'county_state': nan,\n",
       "  'state': 'WY',\n",
       "  'county': 'Big Horn County Clerk',\n",
       "  'location_type': nan,\n",
       "  'name': nan,\n",
       "  'address_1': 'County Courthouse, P.O. Box 31',\n",
       "  'address_2': nan,\n",
       "  'city': 'Basin',\n",
       "  'zip_code': '82410-0031',\n",
       "  'phone': '307.568.2357',\n",
       "  'county_website_url': 'https://sos.wyo.gov/Elections/Docs/WYCountyClerks_AbsRequest_VRChange.pdf',\n",
       "  'validate_url': nan,\n",
       "  'email': 'Email: Lori.Smallwood@bighorncountywy.gov',\n",
       "  'fax': '307.568.9375',\n",
       "  'social': nan,\n",
       "  'notes': nan,\n",
       "  'scraper': 'Seymour Liao'},\n",
       " {'county_state': nan,\n",
       "  'state': 'WY',\n",
       "  'county': 'Carbon County Clerk',\n",
       "  'location_type': nan,\n",
       "  'name': nan,\n",
       "  'address_1': 'P.O. Box 6',\n",
       "  'address_2': nan,\n",
       "  'city': 'Rawlins',\n",
       "  'zip_code': '82301-0006',\n",
       "  'phone': '307.328.2650',\n",
       "  'county_website_url': 'https://sos.wyo.gov/Elections/Docs/WYCountyClerks_AbsRequest_VRChange.pdf',\n",
       "  'validate_url': nan,\n",
       "  'email': 'Email: elections@carbonwy.com',\n",
       "  'fax': '307.328.2669',\n",
       "  'social': nan,\n",
       "  'notes': nan,\n",
       "  'scraper': 'Seymour Liao'},\n",
       " {'county_state': nan,\n",
       "  'state': 'WY',\n",
       "  'county': 'Crook County Clerk',\n",
       "  'location_type': nan,\n",
       "  'name': nan,\n",
       "  'address_1': 'P.O. Box 37',\n",
       "  'address_2': nan,\n",
       "  'city': 'Sundance',\n",
       "  'zip_code': '82729-0037',\n",
       "  'phone': '307.283.1323',\n",
       "  'county_website_url': 'https://sos.wyo.gov/Elections/Docs/WYCountyClerks_AbsRequest_VRChange.pdf',\n",
       "  'validate_url': nan,\n",
       "  'email': 'Email: LindaF@crookcounty.wy.gov',\n",
       "  'fax': '307.283.3038',\n",
       "  'social': nan,\n",
       "  'notes': nan,\n",
       "  'scraper': 'Seymour Liao'}]"
      ]
     },
     "execution_count": 28,
     "metadata": {},
     "output_type": "execute_result"
    }
   ],
   "source": [
    "data_2[:3]"
   ]
  },
  {
   "cell_type": "markdown",
   "metadata": {},
   "source": [
    "# Create DataFrame of data"
   ]
  },
  {
   "cell_type": "code",
   "execution_count": 29,
   "metadata": {
    "ExecuteTime": {
     "end_time": "2020-09-22T00:32:12.380197Z",
     "start_time": "2020-09-22T00:32:12.360940Z"
    }
   },
   "outputs": [],
   "source": [
    "data_1 = pd.DataFrame(data_1)"
   ]
  },
  {
   "cell_type": "code",
   "execution_count": 30,
   "metadata": {
    "ExecuteTime": {
     "end_time": "2020-09-22T00:32:12.654156Z",
     "start_time": "2020-09-22T00:32:12.644380Z"
    }
   },
   "outputs": [],
   "source": [
    "data_2 = pd.DataFrame(data_2)"
   ]
  },
  {
   "cell_type": "code",
   "execution_count": 31,
   "metadata": {
    "ExecuteTime": {
     "end_time": "2020-09-22T00:32:12.883438Z",
     "start_time": "2020-09-22T00:32:12.856693Z"
    }
   },
   "outputs": [],
   "source": [
    "data_df = pd.concat([data_1, data_2]).sort_values(by='county', ignore_index=True)"
   ]
  },
  {
   "cell_type": "code",
   "execution_count": 32,
   "metadata": {
    "ExecuteTime": {
     "end_time": "2020-09-22T00:32:14.275419Z",
     "start_time": "2020-09-22T00:32:14.219804Z"
    }
   },
   "outputs": [
    {
     "data": {
      "text/html": [
       "<div>\n",
       "<style scoped>\n",
       "    .dataframe tbody tr th:only-of-type {\n",
       "        vertical-align: middle;\n",
       "    }\n",
       "\n",
       "    .dataframe tbody tr th {\n",
       "        vertical-align: top;\n",
       "    }\n",
       "\n",
       "    .dataframe thead th {\n",
       "        text-align: right;\n",
       "    }\n",
       "</style>\n",
       "<table border=\"1\" class=\"dataframe\">\n",
       "  <thead>\n",
       "    <tr style=\"text-align: right;\">\n",
       "      <th></th>\n",
       "      <th>county_state</th>\n",
       "      <th>state</th>\n",
       "      <th>county</th>\n",
       "      <th>location_type</th>\n",
       "      <th>name</th>\n",
       "      <th>address_1</th>\n",
       "      <th>address_2</th>\n",
       "      <th>city</th>\n",
       "      <th>zip_code</th>\n",
       "      <th>phone</th>\n",
       "      <th>county_website_url</th>\n",
       "      <th>validate_url</th>\n",
       "      <th>email</th>\n",
       "      <th>fax</th>\n",
       "      <th>social</th>\n",
       "      <th>notes</th>\n",
       "      <th>scraper</th>\n",
       "    </tr>\n",
       "  </thead>\n",
       "  <tbody>\n",
       "    <tr>\n",
       "      <th>0</th>\n",
       "      <td>NaN</td>\n",
       "      <td>WY</td>\n",
       "      <td>Albany County Clerk</td>\n",
       "      <td>NaN</td>\n",
       "      <td>NaN</td>\n",
       "      <td>525 Grand Avenue, Suite 202</td>\n",
       "      <td>NaN</td>\n",
       "      <td>Laramie</td>\n",
       "      <td>82070</td>\n",
       "      <td>307.721.2546</td>\n",
       "      <td>https://sos.wyo.gov/Elections/Docs/WYCountyCle...</td>\n",
       "      <td>NaN</td>\n",
       "      <td>Email: elections@co.albany.wy.us</td>\n",
       "      <td>307.721.2544</td>\n",
       "      <td>NaN</td>\n",
       "      <td>NaN</td>\n",
       "      <td>Seymour Liao</td>\n",
       "    </tr>\n",
       "    <tr>\n",
       "      <th>1</th>\n",
       "      <td>NaN</td>\n",
       "      <td>WY</td>\n",
       "      <td>Big Horn County Clerk</td>\n",
       "      <td>NaN</td>\n",
       "      <td>NaN</td>\n",
       "      <td>County Courthouse, P.O. Box 31</td>\n",
       "      <td>NaN</td>\n",
       "      <td>Basin</td>\n",
       "      <td>82410-0031</td>\n",
       "      <td>307.568.2357</td>\n",
       "      <td>https://sos.wyo.gov/Elections/Docs/WYCountyCle...</td>\n",
       "      <td>NaN</td>\n",
       "      <td>Email: Lori.Smallwood@bighorncountywy.gov</td>\n",
       "      <td>307.568.9375</td>\n",
       "      <td>NaN</td>\n",
       "      <td>NaN</td>\n",
       "      <td>Seymour Liao</td>\n",
       "    </tr>\n",
       "    <tr>\n",
       "      <th>2</th>\n",
       "      <td>NaN</td>\n",
       "      <td>WY</td>\n",
       "      <td>Campbell County Clerk</td>\n",
       "      <td>NaN</td>\n",
       "      <td>NaN</td>\n",
       "      <td>P.O. Box 3010</td>\n",
       "      <td>NaN</td>\n",
       "      <td>Gillette</td>\n",
       "      <td>82717-3010</td>\n",
       "      <td>307.686.1892</td>\n",
       "      <td>https://sos.wyo.gov/Elections/Docs/WYCountyCle...</td>\n",
       "      <td>NaN</td>\n",
       "      <td>Email: cds02@ccgov.net</td>\n",
       "      <td>307.687.6455</td>\n",
       "      <td>NaN</td>\n",
       "      <td>NaN</td>\n",
       "      <td>Seymour Liao</td>\n",
       "    </tr>\n",
       "    <tr>\n",
       "      <th>3</th>\n",
       "      <td>NaN</td>\n",
       "      <td>WY</td>\n",
       "      <td>Carbon County Clerk</td>\n",
       "      <td>NaN</td>\n",
       "      <td>NaN</td>\n",
       "      <td>P.O. Box 6</td>\n",
       "      <td>NaN</td>\n",
       "      <td>Rawlins</td>\n",
       "      <td>82301-0006</td>\n",
       "      <td>307.328.2650</td>\n",
       "      <td>https://sos.wyo.gov/Elections/Docs/WYCountyCle...</td>\n",
       "      <td>NaN</td>\n",
       "      <td>Email: elections@carbonwy.com</td>\n",
       "      <td>307.328.2669</td>\n",
       "      <td>NaN</td>\n",
       "      <td>NaN</td>\n",
       "      <td>Seymour Liao</td>\n",
       "    </tr>\n",
       "    <tr>\n",
       "      <th>4</th>\n",
       "      <td>NaN</td>\n",
       "      <td>WY</td>\n",
       "      <td>Converse County Clerk</td>\n",
       "      <td>NaN</td>\n",
       "      <td>NaN</td>\n",
       "      <td>107 North 5th Street, Suite 114</td>\n",
       "      <td>NaN</td>\n",
       "      <td>Douglas</td>\n",
       "      <td>82633-2448</td>\n",
       "      <td>307.358.2244</td>\n",
       "      <td>https://sos.wyo.gov/Elections/Docs/WYCountyCle...</td>\n",
       "      <td>NaN</td>\n",
       "      <td>Email:janeen.morvee@conversecountywy.gov</td>\n",
       "      <td>307.358.5998</td>\n",
       "      <td>NaN</td>\n",
       "      <td>NaN</td>\n",
       "      <td>Seymour Liao</td>\n",
       "    </tr>\n",
       "    <tr>\n",
       "      <th>5</th>\n",
       "      <td>NaN</td>\n",
       "      <td>WY</td>\n",
       "      <td>Crook County Clerk</td>\n",
       "      <td>NaN</td>\n",
       "      <td>NaN</td>\n",
       "      <td>P.O. Box 37</td>\n",
       "      <td>NaN</td>\n",
       "      <td>Sundance</td>\n",
       "      <td>82729-0037</td>\n",
       "      <td>307.283.1323</td>\n",
       "      <td>https://sos.wyo.gov/Elections/Docs/WYCountyCle...</td>\n",
       "      <td>NaN</td>\n",
       "      <td>Email: LindaF@crookcounty.wy.gov</td>\n",
       "      <td>307.283.3038</td>\n",
       "      <td>NaN</td>\n",
       "      <td>NaN</td>\n",
       "      <td>Seymour Liao</td>\n",
       "    </tr>\n",
       "    <tr>\n",
       "      <th>6</th>\n",
       "      <td>NaN</td>\n",
       "      <td>WY</td>\n",
       "      <td>Fremont County Clerk</td>\n",
       "      <td>NaN</td>\n",
       "      <td>NaN</td>\n",
       "      <td>450 North 2nd Street, Room 220</td>\n",
       "      <td>NaN</td>\n",
       "      <td>Lander</td>\n",
       "      <td>82520-0090</td>\n",
       "      <td>307.332.1089</td>\n",
       "      <td>https://sos.wyo.gov/Elections/Docs/WYCountyCle...</td>\n",
       "      <td>NaN</td>\n",
       "      <td>Email: elections@fremontcountywy.gov</td>\n",
       "      <td>307.332.1132</td>\n",
       "      <td>NaN</td>\n",
       "      <td>NaN</td>\n",
       "      <td>Seymour Liao</td>\n",
       "    </tr>\n",
       "    <tr>\n",
       "      <th>7</th>\n",
       "      <td>NaN</td>\n",
       "      <td>WY</td>\n",
       "      <td>Goshen County Clerk</td>\n",
       "      <td>NaN</td>\n",
       "      <td>NaN</td>\n",
       "      <td>P.O. Box 160</td>\n",
       "      <td>NaN</td>\n",
       "      <td>Torrington</td>\n",
       "      <td>82240-0160</td>\n",
       "      <td>307.532.4051</td>\n",
       "      <td>https://sos.wyo.gov/Elections/Docs/WYCountyCle...</td>\n",
       "      <td>NaN</td>\n",
       "      <td>Email: countyclerk@goshencounty.org</td>\n",
       "      <td>307.532.7375</td>\n",
       "      <td>NaN</td>\n",
       "      <td>NaN</td>\n",
       "      <td>Seymour Liao</td>\n",
       "    </tr>\n",
       "    <tr>\n",
       "      <th>8</th>\n",
       "      <td>NaN</td>\n",
       "      <td>WY</td>\n",
       "      <td>Hot Springs County Clerk</td>\n",
       "      <td>NaN</td>\n",
       "      <td>NaN</td>\n",
       "      <td>415 Arapahoe</td>\n",
       "      <td>NaN</td>\n",
       "      <td>Thermopolis</td>\n",
       "      <td>82443-2783</td>\n",
       "      <td>307.864.3515</td>\n",
       "      <td>https://sos.wyo.gov/Elections/Docs/WYCountyCle...</td>\n",
       "      <td>NaN</td>\n",
       "      <td>Email: elections@hscounty.com</td>\n",
       "      <td>307.864.3333</td>\n",
       "      <td>NaN</td>\n",
       "      <td>NaN</td>\n",
       "      <td>Seymour Liao</td>\n",
       "    </tr>\n",
       "    <tr>\n",
       "      <th>9</th>\n",
       "      <td>NaN</td>\n",
       "      <td>WY</td>\n",
       "      <td>Johnson County Clerk</td>\n",
       "      <td>NaN</td>\n",
       "      <td>NaN</td>\n",
       "      <td>76 North Main Street</td>\n",
       "      <td>NaN</td>\n",
       "      <td>Buffalo</td>\n",
       "      <td>82834-1883</td>\n",
       "      <td>307.684.7272</td>\n",
       "      <td>https://sos.wyo.gov/Elections/Docs/WYCountyCle...</td>\n",
       "      <td>NaN</td>\n",
       "      <td>Email: vedelman@johnsoncowy.us</td>\n",
       "      <td>307.684.2708</td>\n",
       "      <td>NaN</td>\n",
       "      <td>NaN</td>\n",
       "      <td>Seymour Liao</td>\n",
       "    </tr>\n",
       "    <tr>\n",
       "      <th>10</th>\n",
       "      <td>NaN</td>\n",
       "      <td>WY</td>\n",
       "      <td>Laramie County Clerk</td>\n",
       "      <td>NaN</td>\n",
       "      <td>NaN</td>\n",
       "      <td>P.O. Box 608</td>\n",
       "      <td>NaN</td>\n",
       "      <td>Cheyenne</td>\n",
       "      <td>82003-0608</td>\n",
       "      <td>307.633.4242</td>\n",
       "      <td>https://sos.wyo.gov/Elections/Docs/WYCountyCle...</td>\n",
       "      <td>NaN</td>\n",
       "      <td>Email: election@laramiecountyclerk.com</td>\n",
       "      <td>307.633.4240</td>\n",
       "      <td>NaN</td>\n",
       "      <td>NaN</td>\n",
       "      <td>Seymour Liao</td>\n",
       "    </tr>\n",
       "    <tr>\n",
       "      <th>11</th>\n",
       "      <td>NaN</td>\n",
       "      <td>WY</td>\n",
       "      <td>Lincoln County Clerk</td>\n",
       "      <td>NaN</td>\n",
       "      <td>NaN</td>\n",
       "      <td>925 Sage Avenue, Suite 101</td>\n",
       "      <td>NaN</td>\n",
       "      <td>Kemmerer</td>\n",
       "      <td>83101</td>\n",
       "      <td>307.877.2027 or 2021</td>\n",
       "      <td>https://sos.wyo.gov/Elections/Docs/WYCountyCle...</td>\n",
       "      <td>NaN</td>\n",
       "      <td>Email: jpainter@lcwy.org</td>\n",
       "      <td>307.877.3101</td>\n",
       "      <td>NaN</td>\n",
       "      <td>NaN</td>\n",
       "      <td>Seymour Liao</td>\n",
       "    </tr>\n",
       "    <tr>\n",
       "      <th>12</th>\n",
       "      <td>NaN</td>\n",
       "      <td>WY</td>\n",
       "      <td>Natrona County Clerk</td>\n",
       "      <td>NaN</td>\n",
       "      <td>NaN</td>\n",
       "      <td>200 North Center Street</td>\n",
       "      <td>P.O. Box 863</td>\n",
       "      <td>Casper</td>\n",
       "      <td>82601-0863</td>\n",
       "      <td>307.235.9217</td>\n",
       "      <td>https://sos.wyo.gov/Elections/Docs/WYCountyCle...</td>\n",
       "      <td>NaN</td>\n",
       "      <td>Email: elections@natronacounty-wy.gov</td>\n",
       "      <td>307.235.9367</td>\n",
       "      <td>NaN</td>\n",
       "      <td>NaN</td>\n",
       "      <td>Seymour Liao</td>\n",
       "    </tr>\n",
       "    <tr>\n",
       "      <th>13</th>\n",
       "      <td>NaN</td>\n",
       "      <td>WY</td>\n",
       "      <td>Niobrara County Clerk</td>\n",
       "      <td>NaN</td>\n",
       "      <td>NaN</td>\n",
       "      <td>P.O. Box 420</td>\n",
       "      <td>NaN</td>\n",
       "      <td>Lusk</td>\n",
       "      <td>82225-0420</td>\n",
       "      <td>307.334.2211</td>\n",
       "      <td>https://sos.wyo.gov/Elections/Docs/WYCountyCle...</td>\n",
       "      <td>NaN</td>\n",
       "      <td>Email: bfreeman@niobraracounty.org</td>\n",
       "      <td>307.334.3013</td>\n",
       "      <td>NaN</td>\n",
       "      <td>NaN</td>\n",
       "      <td>Seymour Liao</td>\n",
       "    </tr>\n",
       "    <tr>\n",
       "      <th>14</th>\n",
       "      <td>NaN</td>\n",
       "      <td>WY</td>\n",
       "      <td>Park County Clerk</td>\n",
       "      <td>NaN</td>\n",
       "      <td>NaN</td>\n",
       "      <td>1002 Sheridan</td>\n",
       "      <td>NaN</td>\n",
       "      <td>Cody</td>\n",
       "      <td>82414-3589</td>\n",
       "      <td>307.527.8620</td>\n",
       "      <td>https://sos.wyo.gov/Elections/Docs/WYCountyCle...</td>\n",
       "      <td>NaN</td>\n",
       "      <td>Email: voterinfo@parkcounty.us</td>\n",
       "      <td>307.527.8626</td>\n",
       "      <td>NaN</td>\n",
       "      <td>NaN</td>\n",
       "      <td>Seymour Liao</td>\n",
       "    </tr>\n",
       "    <tr>\n",
       "      <th>15</th>\n",
       "      <td>NaN</td>\n",
       "      <td>WY</td>\n",
       "      <td>Platte County Clerk</td>\n",
       "      <td>NaN</td>\n",
       "      <td>NaN</td>\n",
       "      <td>P.O. Drawer 728</td>\n",
       "      <td>NaN</td>\n",
       "      <td>Wheatland</td>\n",
       "      <td>82201-0728</td>\n",
       "      <td>307.322.2315</td>\n",
       "      <td>https://sos.wyo.gov/Elections/Docs/WYCountyCle...</td>\n",
       "      <td>NaN</td>\n",
       "      <td>Email: pcelection@plattecountywyoming.com</td>\n",
       "      <td>307.322.2245</td>\n",
       "      <td>NaN</td>\n",
       "      <td>NaN</td>\n",
       "      <td>Seymour Liao</td>\n",
       "    </tr>\n",
       "    <tr>\n",
       "      <th>16</th>\n",
       "      <td>NaN</td>\n",
       "      <td>WY</td>\n",
       "      <td>Sheridan County Clerk</td>\n",
       "      <td>NaN</td>\n",
       "      <td>NaN</td>\n",
       "      <td>224 South Main Street; Suite B-17</td>\n",
       "      <td>NaN</td>\n",
       "      <td>Sheridan</td>\n",
       "      <td>82801</td>\n",
       "      <td>307.674.2515</td>\n",
       "      <td>https://sos.wyo.gov/Elections/Docs/WYCountyCle...</td>\n",
       "      <td>NaN</td>\n",
       "      <td>Email: elections@sheridancounty.com</td>\n",
       "      <td>307.674.2909</td>\n",
       "      <td>NaN</td>\n",
       "      <td>NaN</td>\n",
       "      <td>Seymour Liao</td>\n",
       "    </tr>\n",
       "    <tr>\n",
       "      <th>17</th>\n",
       "      <td>NaN</td>\n",
       "      <td>WY</td>\n",
       "      <td>Sublette County Clerk</td>\n",
       "      <td>NaN</td>\n",
       "      <td>NaN</td>\n",
       "      <td>P.O. Box 250</td>\n",
       "      <td>NaN</td>\n",
       "      <td>Pinedale</td>\n",
       "      <td>82941-0250</td>\n",
       "      <td>307.367.4372</td>\n",
       "      <td>https://sos.wyo.gov/Elections/Docs/WYCountyCle...</td>\n",
       "      <td>NaN</td>\n",
       "      <td>Email: Carrie.Long@sublettewyo.com</td>\n",
       "      <td>307.367.6396</td>\n",
       "      <td>NaN</td>\n",
       "      <td>NaN</td>\n",
       "      <td>Seymour Liao</td>\n",
       "    </tr>\n",
       "    <tr>\n",
       "      <th>18</th>\n",
       "      <td>NaN</td>\n",
       "      <td>WY</td>\n",
       "      <td>Sweetwater County Clerk</td>\n",
       "      <td>NaN</td>\n",
       "      <td>NaN</td>\n",
       "      <td>80 West Flaming Gorge Way, Suite 155</td>\n",
       "      <td>NaN</td>\n",
       "      <td>Green River</td>\n",
       "      <td>82935</td>\n",
       "      <td>307.872.3733</td>\n",
       "      <td>https://sos.wyo.gov/Elections/Docs/WYCountyCle...</td>\n",
       "      <td>NaN</td>\n",
       "      <td>Email: elections@sweet.wy.us</td>\n",
       "      <td>307.872.3994</td>\n",
       "      <td>NaN</td>\n",
       "      <td>NaN</td>\n",
       "      <td>Seymour Liao</td>\n",
       "    </tr>\n",
       "    <tr>\n",
       "      <th>19</th>\n",
       "      <td>NaN</td>\n",
       "      <td>WY</td>\n",
       "      <td>Teton County Clerk</td>\n",
       "      <td>NaN</td>\n",
       "      <td>NaN</td>\n",
       "      <td>P.O. Box 1727</td>\n",
       "      <td>NaN</td>\n",
       "      <td>Jackson</td>\n",
       "      <td>83001-1727</td>\n",
       "      <td>307.733.4430</td>\n",
       "      <td>https://sos.wyo.gov/Elections/Docs/WYCountyCle...</td>\n",
       "      <td>NaN</td>\n",
       "      <td>Email: elections@tetoncountywy.gov</td>\n",
       "      <td>307.739.8681</td>\n",
       "      <td>NaN</td>\n",
       "      <td>NaN</td>\n",
       "      <td>Seymour Liao</td>\n",
       "    </tr>\n",
       "    <tr>\n",
       "      <th>20</th>\n",
       "      <td>NaN</td>\n",
       "      <td>WY</td>\n",
       "      <td>Uinta County Clerk</td>\n",
       "      <td>NaN</td>\n",
       "      <td>NaN</td>\n",
       "      <td>P.O. Box 810</td>\n",
       "      <td>NaN</td>\n",
       "      <td>Evanston</td>\n",
       "      <td>82931</td>\n",
       "      <td>307.783.0306</td>\n",
       "      <td>https://sos.wyo.gov/Elections/Docs/WYCountyCle...</td>\n",
       "      <td>NaN</td>\n",
       "      <td>Email: kigoble@uintacounty.com</td>\n",
       "      <td>307.783.0376</td>\n",
       "      <td>NaN</td>\n",
       "      <td>NaN</td>\n",
       "      <td>Seymour Liao</td>\n",
       "    </tr>\n",
       "    <tr>\n",
       "      <th>21</th>\n",
       "      <td>NaN</td>\n",
       "      <td>WY</td>\n",
       "      <td>Washakie County Clerk</td>\n",
       "      <td>NaN</td>\n",
       "      <td>NaN</td>\n",
       "      <td>1001 Big Horn Avenue</td>\n",
       "      <td>P.O. Box 260</td>\n",
       "      <td>Worland</td>\n",
       "      <td>82401</td>\n",
       "      <td>307.347.3131</td>\n",
       "      <td>https://sos.wyo.gov/Elections/Docs/WYCountyCle...</td>\n",
       "      <td>NaN</td>\n",
       "      <td>Email: clerk@washakiecounty.net</td>\n",
       "      <td>307.347.9366</td>\n",
       "      <td>NaN</td>\n",
       "      <td>NaN</td>\n",
       "      <td>Seymour Liao</td>\n",
       "    </tr>\n",
       "    <tr>\n",
       "      <th>22</th>\n",
       "      <td>NaN</td>\n",
       "      <td>WY</td>\n",
       "      <td>Weston County Clerk</td>\n",
       "      <td>NaN</td>\n",
       "      <td>NaN</td>\n",
       "      <td>1 West Main</td>\n",
       "      <td>NaN</td>\n",
       "      <td>Newcastle</td>\n",
       "      <td>82701</td>\n",
       "      <td>307.746.4744</td>\n",
       "      <td>https://sos.wyo.gov/Elections/Docs/WYCountyCle...</td>\n",
       "      <td>NaN</td>\n",
       "      <td>Email: clerk@westongov.com</td>\n",
       "      <td>307.746.9505</td>\n",
       "      <td>NaN</td>\n",
       "      <td>NaN</td>\n",
       "      <td>Seymour Liao</td>\n",
       "    </tr>\n",
       "  </tbody>\n",
       "</table>\n",
       "</div>"
      ],
      "text/plain": [
       "    county_state state                    county  location_type  name  \\\n",
       "0            NaN    WY       Albany County Clerk            NaN   NaN   \n",
       "1            NaN    WY     Big Horn County Clerk            NaN   NaN   \n",
       "2            NaN    WY     Campbell County Clerk            NaN   NaN   \n",
       "3            NaN    WY       Carbon County Clerk            NaN   NaN   \n",
       "4            NaN    WY     Converse County Clerk            NaN   NaN   \n",
       "5            NaN    WY        Crook County Clerk            NaN   NaN   \n",
       "6            NaN    WY      Fremont County Clerk            NaN   NaN   \n",
       "7            NaN    WY       Goshen County Clerk            NaN   NaN   \n",
       "8            NaN    WY  Hot Springs County Clerk            NaN   NaN   \n",
       "9            NaN    WY      Johnson County Clerk            NaN   NaN   \n",
       "10           NaN    WY      Laramie County Clerk            NaN   NaN   \n",
       "11           NaN    WY      Lincoln County Clerk            NaN   NaN   \n",
       "12           NaN    WY      Natrona County Clerk            NaN   NaN   \n",
       "13           NaN    WY     Niobrara County Clerk            NaN   NaN   \n",
       "14           NaN    WY         Park County Clerk            NaN   NaN   \n",
       "15           NaN    WY       Platte County Clerk            NaN   NaN   \n",
       "16           NaN    WY     Sheridan County Clerk            NaN   NaN   \n",
       "17           NaN    WY     Sublette County Clerk            NaN   NaN   \n",
       "18           NaN    WY   Sweetwater County Clerk            NaN   NaN   \n",
       "19           NaN    WY        Teton County Clerk            NaN   NaN   \n",
       "20           NaN    WY        Uinta County Clerk            NaN   NaN   \n",
       "21           NaN    WY     Washakie County Clerk            NaN   NaN   \n",
       "22           NaN    WY       Weston County Clerk            NaN   NaN   \n",
       "\n",
       "                               address_1     address_2         city  \\\n",
       "0            525 Grand Avenue, Suite 202           NaN      Laramie   \n",
       "1         County Courthouse, P.O. Box 31           NaN        Basin   \n",
       "2                          P.O. Box 3010           NaN     Gillette   \n",
       "3                             P.O. Box 6           NaN      Rawlins   \n",
       "4        107 North 5th Street, Suite 114           NaN      Douglas   \n",
       "5                            P.O. Box 37           NaN     Sundance   \n",
       "6         450 North 2nd Street, Room 220           NaN       Lander   \n",
       "7                           P.O. Box 160           NaN   Torrington   \n",
       "8                           415 Arapahoe           NaN  Thermopolis   \n",
       "9                   76 North Main Street           NaN      Buffalo   \n",
       "10                          P.O. Box 608           NaN     Cheyenne   \n",
       "11            925 Sage Avenue, Suite 101           NaN     Kemmerer   \n",
       "12               200 North Center Street  P.O. Box 863       Casper   \n",
       "13                          P.O. Box 420           NaN         Lusk   \n",
       "14                         1002 Sheridan           NaN         Cody   \n",
       "15                       P.O. Drawer 728           NaN    Wheatland   \n",
       "16     224 South Main Street; Suite B-17           NaN     Sheridan   \n",
       "17                          P.O. Box 250           NaN     Pinedale   \n",
       "18  80 West Flaming Gorge Way, Suite 155           NaN  Green River   \n",
       "19                         P.O. Box 1727           NaN      Jackson   \n",
       "20                          P.O. Box 810           NaN     Evanston   \n",
       "21                  1001 Big Horn Avenue  P.O. Box 260      Worland   \n",
       "22                           1 West Main           NaN    Newcastle   \n",
       "\n",
       "      zip_code                 phone  \\\n",
       "0        82070          307.721.2546   \n",
       "1   82410-0031          307.568.2357   \n",
       "2   82717-3010          307.686.1892   \n",
       "3   82301-0006          307.328.2650   \n",
       "4   82633-2448          307.358.2244   \n",
       "5   82729-0037          307.283.1323   \n",
       "6   82520-0090          307.332.1089   \n",
       "7   82240-0160          307.532.4051   \n",
       "8   82443-2783          307.864.3515   \n",
       "9   82834-1883          307.684.7272   \n",
       "10  82003-0608          307.633.4242   \n",
       "11       83101  307.877.2027 or 2021   \n",
       "12  82601-0863          307.235.9217   \n",
       "13  82225-0420          307.334.2211   \n",
       "14  82414-3589          307.527.8620   \n",
       "15  82201-0728          307.322.2315   \n",
       "16       82801          307.674.2515   \n",
       "17  82941-0250          307.367.4372   \n",
       "18       82935          307.872.3733   \n",
       "19  83001-1727          307.733.4430   \n",
       "20       82931          307.783.0306   \n",
       "21       82401          307.347.3131   \n",
       "22       82701          307.746.4744   \n",
       "\n",
       "                                   county_website_url  validate_url  \\\n",
       "0   https://sos.wyo.gov/Elections/Docs/WYCountyCle...           NaN   \n",
       "1   https://sos.wyo.gov/Elections/Docs/WYCountyCle...           NaN   \n",
       "2   https://sos.wyo.gov/Elections/Docs/WYCountyCle...           NaN   \n",
       "3   https://sos.wyo.gov/Elections/Docs/WYCountyCle...           NaN   \n",
       "4   https://sos.wyo.gov/Elections/Docs/WYCountyCle...           NaN   \n",
       "5   https://sos.wyo.gov/Elections/Docs/WYCountyCle...           NaN   \n",
       "6   https://sos.wyo.gov/Elections/Docs/WYCountyCle...           NaN   \n",
       "7   https://sos.wyo.gov/Elections/Docs/WYCountyCle...           NaN   \n",
       "8   https://sos.wyo.gov/Elections/Docs/WYCountyCle...           NaN   \n",
       "9   https://sos.wyo.gov/Elections/Docs/WYCountyCle...           NaN   \n",
       "10  https://sos.wyo.gov/Elections/Docs/WYCountyCle...           NaN   \n",
       "11  https://sos.wyo.gov/Elections/Docs/WYCountyCle...           NaN   \n",
       "12  https://sos.wyo.gov/Elections/Docs/WYCountyCle...           NaN   \n",
       "13  https://sos.wyo.gov/Elections/Docs/WYCountyCle...           NaN   \n",
       "14  https://sos.wyo.gov/Elections/Docs/WYCountyCle...           NaN   \n",
       "15  https://sos.wyo.gov/Elections/Docs/WYCountyCle...           NaN   \n",
       "16  https://sos.wyo.gov/Elections/Docs/WYCountyCle...           NaN   \n",
       "17  https://sos.wyo.gov/Elections/Docs/WYCountyCle...           NaN   \n",
       "18  https://sos.wyo.gov/Elections/Docs/WYCountyCle...           NaN   \n",
       "19  https://sos.wyo.gov/Elections/Docs/WYCountyCle...           NaN   \n",
       "20  https://sos.wyo.gov/Elections/Docs/WYCountyCle...           NaN   \n",
       "21  https://sos.wyo.gov/Elections/Docs/WYCountyCle...           NaN   \n",
       "22  https://sos.wyo.gov/Elections/Docs/WYCountyCle...           NaN   \n",
       "\n",
       "                                        email           fax  social  notes  \\\n",
       "0            Email: elections@co.albany.wy.us  307.721.2544     NaN    NaN   \n",
       "1   Email: Lori.Smallwood@bighorncountywy.gov  307.568.9375     NaN    NaN   \n",
       "2                      Email: cds02@ccgov.net  307.687.6455     NaN    NaN   \n",
       "3               Email: elections@carbonwy.com  307.328.2669     NaN    NaN   \n",
       "4    Email:janeen.morvee@conversecountywy.gov  307.358.5998     NaN    NaN   \n",
       "5            Email: LindaF@crookcounty.wy.gov  307.283.3038     NaN    NaN   \n",
       "6        Email: elections@fremontcountywy.gov  307.332.1132     NaN    NaN   \n",
       "7         Email: countyclerk@goshencounty.org  307.532.7375     NaN    NaN   \n",
       "8               Email: elections@hscounty.com  307.864.3333     NaN    NaN   \n",
       "9              Email: vedelman@johnsoncowy.us  307.684.2708     NaN    NaN   \n",
       "10     Email: election@laramiecountyclerk.com  307.633.4240     NaN    NaN   \n",
       "11                   Email: jpainter@lcwy.org  307.877.3101     NaN    NaN   \n",
       "12      Email: elections@natronacounty-wy.gov  307.235.9367     NaN    NaN   \n",
       "13         Email: bfreeman@niobraracounty.org  307.334.3013     NaN    NaN   \n",
       "14             Email: voterinfo@parkcounty.us  307.527.8626     NaN    NaN   \n",
       "15  Email: pcelection@plattecountywyoming.com  307.322.2245     NaN    NaN   \n",
       "16        Email: elections@sheridancounty.com  307.674.2909     NaN    NaN   \n",
       "17         Email: Carrie.Long@sublettewyo.com  307.367.6396     NaN    NaN   \n",
       "18               Email: elections@sweet.wy.us  307.872.3994     NaN    NaN   \n",
       "19         Email: elections@tetoncountywy.gov  307.739.8681     NaN    NaN   \n",
       "20             Email: kigoble@uintacounty.com  307.783.0376     NaN    NaN   \n",
       "21            Email: clerk@washakiecounty.net  307.347.9366     NaN    NaN   \n",
       "22                 Email: clerk@westongov.com  307.746.9505     NaN    NaN   \n",
       "\n",
       "         scraper  \n",
       "0   Seymour Liao  \n",
       "1   Seymour Liao  \n",
       "2   Seymour Liao  \n",
       "3   Seymour Liao  \n",
       "4   Seymour Liao  \n",
       "5   Seymour Liao  \n",
       "6   Seymour Liao  \n",
       "7   Seymour Liao  \n",
       "8   Seymour Liao  \n",
       "9   Seymour Liao  \n",
       "10  Seymour Liao  \n",
       "11  Seymour Liao  \n",
       "12  Seymour Liao  \n",
       "13  Seymour Liao  \n",
       "14  Seymour Liao  \n",
       "15  Seymour Liao  \n",
       "16  Seymour Liao  \n",
       "17  Seymour Liao  \n",
       "18  Seymour Liao  \n",
       "19  Seymour Liao  \n",
       "20  Seymour Liao  \n",
       "21  Seymour Liao  \n",
       "22  Seymour Liao  "
      ]
     },
     "execution_count": 32,
     "metadata": {},
     "output_type": "execute_result"
    }
   ],
   "source": [
    "data_df"
   ]
  },
  {
   "cell_type": "markdown",
   "metadata": {},
   "source": [
    "# Remove 'clerk' from county name"
   ]
  },
  {
   "cell_type": "code",
   "execution_count": 33,
   "metadata": {
    "ExecuteTime": {
     "end_time": "2020-09-22T00:32:24.398439Z",
     "start_time": "2020-09-22T00:32:24.389501Z"
    }
   },
   "outputs": [],
   "source": [
    "data_df['county'] = data_df['county'].apply(lambda x: x.split(' Clerk')[0].strip())"
   ]
  },
  {
   "cell_type": "markdown",
   "metadata": {},
   "source": [
    "# Remove 'Email' from email"
   ]
  },
  {
   "cell_type": "code",
   "execution_count": 34,
   "metadata": {
    "ExecuteTime": {
     "end_time": "2020-09-22T00:32:25.486315Z",
     "start_time": "2020-09-22T00:32:25.478614Z"
    }
   },
   "outputs": [],
   "source": [
    "data_df['email'] = data_df['email'].apply(lambda x: x.split('Email:')[1].strip())"
   ]
  },
  {
   "cell_type": "markdown",
   "metadata": {},
   "source": [
    "# Create 'county_state'"
   ]
  },
  {
   "cell_type": "code",
   "execution_count": 35,
   "metadata": {
    "ExecuteTime": {
     "end_time": "2020-09-22T00:32:28.596705Z",
     "start_time": "2020-09-22T00:32:28.583506Z"
    }
   },
   "outputs": [],
   "source": [
    "data_df['county_state']=data_df['county']+'_'+data_df['state']"
   ]
  },
  {
   "cell_type": "markdown",
   "metadata": {},
   "source": [
    "# Write DataFrame to csv"
   ]
  },
  {
   "cell_type": "code",
   "execution_count": 28,
   "metadata": {
    "ExecuteTime": {
     "end_time": "2020-09-21T18:44:54.273579Z",
     "start_time": "2020-09-21T18:44:54.262550Z"
    }
   },
   "outputs": [],
   "source": [
    "data_df.to_csv('Wyoming.csv')"
   ]
  }
 ],
 "metadata": {
  "kernelspec": {
   "display_name": "Python 3",
   "language": "python",
   "name": "python3"
  },
  "language_info": {
   "codemirror_mode": {
    "name": "ipython",
    "version": 3
   },
   "file_extension": ".py",
   "mimetype": "text/x-python",
   "name": "python",
   "nbconvert_exporter": "python",
   "pygments_lexer": "ipython3",
   "version": "3.6.8"
  },
  "toc": {
   "base_numbering": 1,
   "nav_menu": {},
   "number_sections": true,
   "sideBar": true,
   "skip_h1_title": false,
   "title_cell": "Table of Contents",
   "title_sidebar": "Contents",
   "toc_cell": true,
   "toc_position": {
    "height": "calc(100% - 180px)",
    "left": "10px",
    "top": "150px",
    "width": "346.1875px"
   },
   "toc_section_display": true,
   "toc_window_display": true
  }
 },
 "nbformat": 4,
 "nbformat_minor": 4
}

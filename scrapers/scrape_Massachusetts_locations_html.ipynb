{
 "cells": [
  {
   "cell_type": "markdown",
   "metadata": {
    "toc": true
   },
   "source": [
    "<h1>Table of Contents<span class=\"tocSkip\"></span></h1>\n",
    "<div class=\"toc\"><ul class=\"toc-item\"><li><span><a href=\"#Scrape-Massachusetts\" data-toc-modified-id=\"Scrape-Massachusetts-1\"><span class=\"toc-item-num\">1&nbsp;&nbsp;</span>Scrape Massachusetts</a></span></li><li><span><a href=\"#Looks-like-this-site-prevents-scraping.-Downloading-html-code-locally-to-scrape.\" data-toc-modified-id=\"Looks-like-this-site-prevents-scraping.-Downloading-html-code-locally-to-scrape.-2\"><span class=\"toc-item-num\">2&nbsp;&nbsp;</span>Looks like this site prevents scraping. Downloading html code locally to scrape.</a></span></li><li><span><a href=\"#Analyze-the-format-of-the-text\" data-toc-modified-id=\"Analyze-the-format-of-the-text-3\"><span class=\"toc-item-num\">3&nbsp;&nbsp;</span>Analyze the format of the text</a></span><ul class=\"toc-item\"><li><span><a href=\"#Create-bs4.element-of-'h2'-and-'p'-tags\" data-toc-modified-id=\"Create-bs4.element-of-'h2'-and-'p'-tags-3.1\"><span class=\"toc-item-num\">3.1&nbsp;&nbsp;</span>Create bs4.element of 'h2' and 'p' tags</a></span></li></ul></li><li><span><a href=\"#Create-a-DataFrame-to-hold-the-data\" data-toc-modified-id=\"Create-a-DataFrame-to-hold-the-data-4\"><span class=\"toc-item-num\">4&nbsp;&nbsp;</span>Create a DataFrame to hold the data</a></span></li><li><span><a href=\"#Scrape-'h2'-tags-for-cities\" data-toc-modified-id=\"Scrape-'h2'-tags-for-cities-5\"><span class=\"toc-item-num\">5&nbsp;&nbsp;</span>Scrape 'h2' tags for cities</a></span></li><li><span><a href=\"#Scrape-'h2'-and-'p'-tags-for-city,-address,-fax-and-email\" data-toc-modified-id=\"Scrape-'h2'-and-'p'-tags-for-city,-address,-fax-and-email-6\"><span class=\"toc-item-num\">6&nbsp;&nbsp;</span>Scrape 'h2' and 'p' tags for city, address, fax and email</a></span><ul class=\"toc-item\"><li><span><a href=\"#Clean-up-white-space-in-address_1\" data-toc-modified-id=\"Clean-up-white-space-in-address_1-6.1\"><span class=\"toc-item-num\">6.1&nbsp;&nbsp;</span>Clean-up white space in address_1</a></span></li><li><span><a href=\"#Create-dropbox-note\" data-toc-modified-id=\"Create-dropbox-note-6.2\"><span class=\"toc-item-num\">6.2&nbsp;&nbsp;</span>Create dropbox note</a></span></li><li><span><a href=\"#Clean-up-address_2-syntax\" data-toc-modified-id=\"Clean-up-address_2-syntax-6.3\"><span class=\"toc-item-num\">6.3&nbsp;&nbsp;</span>Clean-up address_2 syntax</a></span></li><li><span><a href=\"#Clean-up-fax-syntax\" data-toc-modified-id=\"Clean-up-fax-syntax-6.4\"><span class=\"toc-item-num\">6.4&nbsp;&nbsp;</span>Clean-up fax syntax</a></span></li><li><span><a href=\"#Clean-up-email-syntax\" data-toc-modified-id=\"Clean-up-email-syntax-6.5\"><span class=\"toc-item-num\">6.5&nbsp;&nbsp;</span>Clean-up email syntax</a></span></li><li><span><a href=\"#Correct-Charlemont\" data-toc-modified-id=\"Correct-Charlemont-6.6\"><span class=\"toc-item-num\">6.6&nbsp;&nbsp;</span>Correct Charlemont</a></span></li><li><span><a href=\"#Correct-Wilmington-email\" data-toc-modified-id=\"Correct-Wilmington-email-6.7\"><span class=\"toc-item-num\">6.7&nbsp;&nbsp;</span>Correct Wilmington email</a></span></li><li><span><a href=\"#Correct-Westford-address\" data-toc-modified-id=\"Correct-Westford-address-6.8\"><span class=\"toc-item-num\">6.8&nbsp;&nbsp;</span>Correct Westford address</a></span></li></ul></li><li><span><a href=\"#Add-state-and-has_dropoff-records\" data-toc-modified-id=\"Add-state-and-has_dropoff-records-7\"><span class=\"toc-item-num\">7&nbsp;&nbsp;</span>Add state and has_dropoff records</a></span></li><li><span><a href=\"#Write-DataFrame-to-csv\" data-toc-modified-id=\"Write-DataFrame-to-csv-8\"><span class=\"toc-item-num\">8&nbsp;&nbsp;</span>Write DataFrame to csv</a></span></li></ul></div>"
   ]
  },
  {
   "cell_type": "markdown",
   "metadata": {},
   "source": [
    "# Scrape Massachusetts"
   ]
  },
  {
   "cell_type": "code",
   "execution_count": 1,
   "metadata": {
    "ExecuteTime": {
     "end_time": "2020-09-21T23:20:51.786016Z",
     "start_time": "2020-09-21T23:20:50.446551Z"
    }
   },
   "outputs": [],
   "source": [
    "import pandas as pd\n",
    "import numpy as np\n",
    "import requests\n",
    "from bs4 import BeautifulSoup\n",
    "import re"
   ]
  },
  {
   "cell_type": "code",
   "execution_count": 2,
   "metadata": {
    "ExecuteTime": {
     "end_time": "2020-09-21T23:20:51.797251Z",
     "start_time": "2020-09-21T23:20:51.790281Z"
    }
   },
   "outputs": [],
   "source": [
    "url='https://www.sec.state.ma.us/ele/eleev/ev-find-my-election-office.htm'"
   ]
  },
  {
   "cell_type": "code",
   "execution_count": 3,
   "metadata": {
    "ExecuteTime": {
     "end_time": "2020-09-21T23:20:52.040577Z",
     "start_time": "2020-09-21T23:20:51.803559Z"
    }
   },
   "outputs": [],
   "source": [
    "res = requests.get(url)"
   ]
  },
  {
   "cell_type": "code",
   "execution_count": 4,
   "metadata": {
    "ExecuteTime": {
     "end_time": "2020-09-21T23:20:52.071669Z",
     "start_time": "2020-09-21T23:20:52.045990Z"
    }
   },
   "outputs": [
    {
     "data": {
      "text/plain": [
       "200"
      ]
     },
     "execution_count": 4,
     "metadata": {},
     "output_type": "execute_result"
    }
   ],
   "source": [
    "res.status_code"
   ]
  },
  {
   "cell_type": "code",
   "execution_count": 5,
   "metadata": {
    "ExecuteTime": {
     "end_time": "2020-09-21T23:20:52.091553Z",
     "start_time": "2020-09-21T23:20:52.077930Z"
    }
   },
   "outputs": [],
   "source": [
    "soup = BeautifulSoup(res.text)"
   ]
  },
  {
   "cell_type": "code",
   "execution_count": 6,
   "metadata": {
    "ExecuteTime": {
     "end_time": "2020-09-21T23:20:52.125307Z",
     "start_time": "2020-09-21T23:20:52.109482Z"
    },
    "scrolled": true
   },
   "outputs": [
    {
     "data": {
      "text/plain": [
       "<html>\n",
       "<head>\n",
       "<meta content=\"noindex,nofollow\" name=\"robots\"/>\n",
       "<script src=\"/_Incapsula_Resource?SWJIYLWA=5074a744e2e3d891814e9a2dace20bd4,719d34d31c8e3a6e6fffd425f7e032f3\">\n",
       "</script>\n",
       "</head><body>\n",
       "</body></html>"
      ]
     },
     "execution_count": 6,
     "metadata": {},
     "output_type": "execute_result"
    }
   ],
   "source": [
    "soup"
   ]
  },
  {
   "cell_type": "markdown",
   "metadata": {},
   "source": [
    "# Looks like this site prevents scraping. Downloading html code locally to scrape.\n",
    "\n",
    "pip3 install requests_file to use requests on a local file"
   ]
  },
  {
   "cell_type": "code",
   "execution_count": 7,
   "metadata": {
    "ExecuteTime": {
     "end_time": "2020-09-21T23:20:52.150647Z",
     "start_time": "2020-09-21T23:20:52.134499Z"
    }
   },
   "outputs": [],
   "source": [
    "from requests_file import FileAdapter"
   ]
  },
  {
   "cell_type": "code",
   "execution_count": 8,
   "metadata": {
    "ExecuteTime": {
     "end_time": "2020-09-21T23:20:52.193312Z",
     "start_time": "2020-09-21T23:20:52.167158Z"
    }
   },
   "outputs": [],
   "source": [
    "s = requests.Session()\n",
    "s.mount('file://', FileAdapter())\n",
    "\n",
    "resp = s.get('file://.../web_scape_MA/index.html')"
   ]
  },
  {
   "cell_type": "code",
   "execution_count": 9,
   "metadata": {
    "ExecuteTime": {
     "end_time": "2020-09-21T23:20:52.213343Z",
     "start_time": "2020-09-21T23:20:52.203988Z"
    }
   },
   "outputs": [
    {
     "data": {
      "text/plain": [
       "<Response [200]>"
      ]
     },
     "execution_count": 9,
     "metadata": {},
     "output_type": "execute_result"
    }
   ],
   "source": [
    "resp"
   ]
  },
  {
   "cell_type": "code",
   "execution_count": 10,
   "metadata": {
    "ExecuteTime": {
     "end_time": "2020-09-21T23:20:52.674495Z",
     "start_time": "2020-09-21T23:20:52.220180Z"
    }
   },
   "outputs": [],
   "source": [
    "soup = BeautifulSoup(resp.text, 'html.parser')"
   ]
  },
  {
   "cell_type": "markdown",
   "metadata": {},
   "source": [
    "# Analyze the format of the text\n",
    "\n",
    "**Note: The Massachusetts site is listing location by city, not county. There are 350 records."
   ]
  },
  {
   "cell_type": "code",
   "execution_count": 11,
   "metadata": {
    "ExecuteTime": {
     "end_time": "2020-09-21T23:20:52.686921Z",
     "start_time": "2020-09-21T23:20:52.677711Z"
    },
    "scrolled": true
   },
   "outputs": [
    {
     "data": {
      "text/plain": [
       "4"
      ]
     },
     "execution_count": 11,
     "metadata": {},
     "output_type": "execute_result"
    }
   ],
   "source": [
    "len(soup)"
   ]
  },
  {
   "cell_type": "code",
   "execution_count": 12,
   "metadata": {
    "ExecuteTime": {
     "end_time": "2020-09-21T23:20:52.713707Z",
     "start_time": "2020-09-21T23:20:52.692016Z"
    },
    "scrolled": false
   },
   "outputs": [
    {
     "data": {
      "text/plain": [
       "[<h2 id=\"a\">ABINGTON</h2>,\n",
       " <h2> ACTON </h2>,\n",
       " <h2> ACUSHNET </h2>,\n",
       " <h2> ADAMS </h2>,\n",
       " <h2> AGAWAM </h2>,\n",
       " <h2> ALFORD </h2>,\n",
       " <h2> AMESBURY </h2>,\n",
       " <h2> AMHERST </h2>]"
      ]
     },
     "execution_count": 12,
     "metadata": {},
     "output_type": "execute_result"
    }
   ],
   "source": [
    "soup.find_all('h2')[:8]"
   ]
  },
  {
   "cell_type": "code",
   "execution_count": 13,
   "metadata": {
    "ExecuteTime": {
     "end_time": "2020-09-21T23:20:52.746451Z",
     "start_time": "2020-09-21T23:20:52.724612Z"
    }
   },
   "outputs": [
    {
     "data": {
      "text/plain": [
       "351"
      ]
     },
     "execution_count": 13,
     "metadata": {},
     "output_type": "execute_result"
    }
   ],
   "source": [
    "len(soup.find_all('h2'))"
   ]
  },
  {
   "cell_type": "code",
   "execution_count": 14,
   "metadata": {
    "ExecuteTime": {
     "end_time": "2020-09-21T23:20:52.799508Z",
     "start_time": "2020-09-21T23:20:52.750428Z"
    },
    "scrolled": false
   },
   "outputs": [
    {
     "data": {
      "text/plain": [
       "[<p><strong>MAILING ADDRESS</strong>:<br/>\n",
       " <span class=\"indent\">Town Clerk</span><br/>\n",
       " <span class=\"indent\">500 Gliniewicz Way </span><br/>\n",
       " <span class=\"indent\">Abington, MA  02351</span></p>,\n",
       " <p> <strong>EMAIL</strong>: <a href=\"mailto:lmadams@abingtonma.gov\">lmadams@abingtonma.gov</a></p>,\n",
       " <p> <strong>FAX</strong>: (781) 982-2138</p>,\n",
       " <p> <strong>OFFICE ADDRESS</strong>: 500 Gliniewicz Way, Abington</p>,\n",
       " <p><strong> MAILING ADDRESS</strong>:<br/>\n",
       " <span class=\"indent\">Town Clerk</span><br/>\n",
       " <span class=\"indent\">472 Main Street </span><br/>\n",
       " <span class=\"indent\">Acton, MA  01720 </span></p>,\n",
       " <p><strong>EMAIL</strong>: <a href=\"mailto:clerk@acton-ma.gov\">clerk@acton-ma.gov</a></p>,\n",
       " <p><strong>FAX</strong>: (978) 929-6340</p>,\n",
       " <p><strong>OFFICE ADDRESS</strong>: 472 Main Street, Acton</p>,\n",
       " <p><strong> MAILING ADDRESS</strong>: <br/>\n",
       " <span class=\"indent\">Town Clerk</span><br/>\n",
       " <span class=\"indent\">130 Main Street </span><br/>\n",
       " <span class=\"indent\">Acushnet, MA  02743 </span></p>,\n",
       " <p><strong>EMAIL</strong>: <a href=\"mailto:plabonte@acushnet.ma.us\">plabonte@acushnet.ma.us</a></p>]"
      ]
     },
     "execution_count": 14,
     "metadata": {},
     "output_type": "execute_result"
    }
   ],
   "source": [
    "soup.find_all('p')[:10]"
   ]
  },
  {
   "cell_type": "code",
   "execution_count": 15,
   "metadata": {
    "ExecuteTime": {
     "end_time": "2020-09-21T23:20:52.826913Z",
     "start_time": "2020-09-21T23:20:52.806093Z"
    }
   },
   "outputs": [
    {
     "data": {
      "text/plain": [
       "1673"
      ]
     },
     "execution_count": 15,
     "metadata": {},
     "output_type": "execute_result"
    }
   ],
   "source": [
    "len(soup.find_all('p'))"
   ]
  },
  {
   "cell_type": "code",
   "execution_count": 16,
   "metadata": {
    "ExecuteTime": {
     "end_time": "2020-09-21T23:20:52.968382Z",
     "start_time": "2020-09-21T23:20:52.834411Z"
    }
   },
   "outputs": [
    {
     "data": {
      "text/plain": [
       "[<span class=\"indent\">Town Clerk</span>,\n",
       " <span class=\"indent\">500 Gliniewicz Way </span>,\n",
       " <span class=\"indent\">Abington, MA  02351</span>,\n",
       " <span class=\"indent\">Town Clerk</span>,\n",
       " <span class=\"indent\">472 Main Street </span>,\n",
       " <span class=\"indent\">Acton, MA  01720 </span>,\n",
       " <span class=\"indent\">Town Clerk</span>,\n",
       " <span class=\"indent\">130 Main Street </span>]"
      ]
     },
     "execution_count": 16,
     "metadata": {},
     "output_type": "execute_result"
    }
   ],
   "source": [
    "soup.find_all(class_='indent')[:8]"
   ]
  },
  {
   "cell_type": "code",
   "execution_count": 17,
   "metadata": {
    "ExecuteTime": {
     "end_time": "2020-09-21T23:20:53.126491Z",
     "start_time": "2020-09-21T23:20:52.974841Z"
    },
    "scrolled": true
   },
   "outputs": [
    {
     "data": {
      "text/plain": [
       "1117"
      ]
     },
     "execution_count": 17,
     "metadata": {},
     "output_type": "execute_result"
    }
   ],
   "source": [
    "len(soup.find_all(class_='indent'))"
   ]
  },
  {
   "cell_type": "code",
   "execution_count": 18,
   "metadata": {
    "ExecuteTime": {
     "end_time": "2020-09-21T23:20:53.150816Z",
     "start_time": "2020-09-21T23:20:53.131581Z"
    }
   },
   "outputs": [
    {
     "data": {
      "text/plain": [
       "[<a href=\"mailto:lmadams@abingtonma.gov\">lmadams@abingtonma.gov</a>,\n",
       " <a href=\"mailto:clerk@acton-ma.gov\">clerk@acton-ma.gov</a>,\n",
       " <a href=\"mailto:plabonte@acushnet.ma.us\">plabonte@acushnet.ma.us</a>,\n",
       " <a href=\"mailto:hmeczywor@town.adams.ma.us\">hmeczywor@town.adams.ma.us</a>,\n",
       " <a href=\"mailto:vote@agawam.ma.us\">vote@agawam.ma.us</a>,\n",
       " <a href=\"mailto:clerk@townofalford.org\">clerk@townofalford.org</a>,\n",
       " <a href=\"mailto:clerklist@amesburyma.gov\">clerklist@amesburyma.gov</a>,\n",
       " <a href=\"mailto:vote@amherstma.gov\">vote@amherstma.gov</a>]"
      ]
     },
     "execution_count": 18,
     "metadata": {},
     "output_type": "execute_result"
    }
   ],
   "source": [
    "soup.find_all('a')[:8]"
   ]
  },
  {
   "cell_type": "code",
   "execution_count": 19,
   "metadata": {
    "ExecuteTime": {
     "end_time": "2020-09-21T23:20:53.174832Z",
     "start_time": "2020-09-21T23:20:53.155437Z"
    }
   },
   "outputs": [
    {
     "data": {
      "text/plain": [
       "350"
      ]
     },
     "execution_count": 19,
     "metadata": {},
     "output_type": "execute_result"
    }
   ],
   "source": [
    "len(soup.find_all('a'))"
   ]
  },
  {
   "cell_type": "markdown",
   "metadata": {},
   "source": [
    "## Create bs4.element of 'h2' and 'p' tags"
   ]
  },
  {
   "cell_type": "code",
   "execution_count": 20,
   "metadata": {
    "ExecuteTime": {
     "end_time": "2020-09-21T23:20:53.370892Z",
     "start_time": "2020-09-21T23:20:53.179192Z"
    }
   },
   "outputs": [],
   "source": [
    "body = soup.find_all(['h2', 'p'])"
   ]
  },
  {
   "cell_type": "code",
   "execution_count": 21,
   "metadata": {
    "ExecuteTime": {
     "end_time": "2020-09-21T23:20:53.383728Z",
     "start_time": "2020-09-21T23:20:53.374304Z"
    }
   },
   "outputs": [
    {
     "data": {
      "text/plain": [
       "2024"
      ]
     },
     "execution_count": 21,
     "metadata": {},
     "output_type": "execute_result"
    }
   ],
   "source": [
    "len(body)"
   ]
  },
  {
   "cell_type": "code",
   "execution_count": 22,
   "metadata": {
    "ExecuteTime": {
     "end_time": "2020-09-21T23:20:53.396093Z",
     "start_time": "2020-09-21T23:20:53.388251Z"
    }
   },
   "outputs": [
    {
     "data": {
      "text/plain": [
       "1964"
      ]
     },
     "execution_count": 22,
     "metadata": {},
     "output_type": "execute_result"
    }
   ],
   "source": [
    "350+1614"
   ]
  },
  {
   "cell_type": "code",
   "execution_count": 23,
   "metadata": {
    "ExecuteTime": {
     "end_time": "2020-09-21T23:20:53.433145Z",
     "start_time": "2020-09-21T23:20:53.425136Z"
    }
   },
   "outputs": [
    {
     "data": {
      "text/plain": [
       "bs4.element.ResultSet"
      ]
     },
     "execution_count": 23,
     "metadata": {},
     "output_type": "execute_result"
    }
   ],
   "source": [
    "type(body)"
   ]
  },
  {
   "cell_type": "code",
   "execution_count": 24,
   "metadata": {
    "ExecuteTime": {
     "end_time": "2020-09-21T23:20:53.458091Z",
     "start_time": "2020-09-21T23:20:53.449157Z"
    },
    "scrolled": false
   },
   "outputs": [
    {
     "data": {
      "text/plain": [
       "[<h2 id=\"a\">ABINGTON</h2>,\n",
       " <p><strong>MAILING ADDRESS</strong>:<br/>\n",
       " <span class=\"indent\">Town Clerk</span><br/>\n",
       " <span class=\"indent\">500 Gliniewicz Way </span><br/>\n",
       " <span class=\"indent\">Abington, MA  02351</span></p>,\n",
       " <p> <strong>EMAIL</strong>: <a href=\"mailto:lmadams@abingtonma.gov\">lmadams@abingtonma.gov</a></p>,\n",
       " <p> <strong>FAX</strong>: (781) 982-2138</p>,\n",
       " <p> <strong>OFFICE ADDRESS</strong>: 500 Gliniewicz Way, Abington</p>,\n",
       " <h2> ACTON </h2>,\n",
       " <p><strong> MAILING ADDRESS</strong>:<br/>\n",
       " <span class=\"indent\">Town Clerk</span><br/>\n",
       " <span class=\"indent\">472 Main Street </span><br/>\n",
       " <span class=\"indent\">Acton, MA  01720 </span></p>,\n",
       " <p><strong>EMAIL</strong>: <a href=\"mailto:clerk@acton-ma.gov\">clerk@acton-ma.gov</a></p>]"
      ]
     },
     "execution_count": 24,
     "metadata": {},
     "output_type": "execute_result"
    }
   ],
   "source": [
    "body[:8]"
   ]
  },
  {
   "cell_type": "code",
   "execution_count": 25,
   "metadata": {
    "ExecuteTime": {
     "end_time": "2020-09-21T23:20:53.472653Z",
     "start_time": "2020-09-21T23:20:53.462525Z"
    }
   },
   "outputs": [
    {
     "data": {
      "text/plain": [
       "<h2 id=\"a\">ABINGTON</h2>"
      ]
     },
     "execution_count": 25,
     "metadata": {},
     "output_type": "execute_result"
    }
   ],
   "source": [
    "body[0]"
   ]
  },
  {
   "cell_type": "code",
   "execution_count": 26,
   "metadata": {
    "ExecuteTime": {
     "end_time": "2020-09-21T23:20:53.486674Z",
     "start_time": "2020-09-21T23:20:53.477658Z"
    }
   },
   "outputs": [
    {
     "data": {
      "text/plain": [
       "'ABINGTON'"
      ]
     },
     "execution_count": 26,
     "metadata": {},
     "output_type": "execute_result"
    }
   ],
   "source": [
    "body[0].text"
   ]
  },
  {
   "cell_type": "code",
   "execution_count": 27,
   "metadata": {
    "ExecuteTime": {
     "end_time": "2020-09-21T23:20:53.509810Z",
     "start_time": "2020-09-21T23:20:53.491955Z"
    }
   },
   "outputs": [
    {
     "data": {
      "text/plain": [
       "['h2', 'h2']"
      ]
     },
     "execution_count": 27,
     "metadata": {},
     "output_type": "execute_result"
    }
   ],
   "source": [
    "re.findall('h2', str(body[0]))"
   ]
  },
  {
   "cell_type": "code",
   "execution_count": 28,
   "metadata": {
    "ExecuteTime": {
     "end_time": "2020-09-21T23:20:53.545682Z",
     "start_time": "2020-09-21T23:20:53.536079Z"
    }
   },
   "outputs": [
    {
     "data": {
      "text/plain": [
       "[' 500 Gliniewicz Way, Abington']"
      ]
     },
     "execution_count": 28,
     "metadata": {},
     "output_type": "execute_result"
    }
   ],
   "source": [
    "re.findall('OFFICE ADDRESS</strong>:(.*?)</p>', str(body[4]))"
   ]
  },
  {
   "cell_type": "code",
   "execution_count": 29,
   "metadata": {
    "ExecuteTime": {
     "end_time": "2020-09-21T23:20:53.585929Z",
     "start_time": "2020-09-21T23:20:53.555728Z"
    }
   },
   "outputs": [
    {
     "data": {
      "text/plain": [
       "' OFFICE ADDRESS: 500 Gliniewicz Way, Abington'"
      ]
     },
     "execution_count": 29,
     "metadata": {},
     "output_type": "execute_result"
    }
   ],
   "source": [
    "body[4].text"
   ]
  },
  {
   "cell_type": "code",
   "execution_count": 30,
   "metadata": {
    "ExecuteTime": {
     "end_time": "2020-09-21T23:20:53.780861Z",
     "start_time": "2020-09-21T23:20:53.591889Z"
    },
    "scrolled": false
   },
   "outputs": [
    {
     "data": {
      "text/plain": [
       "[[],\n",
       " [' 5 Alford Center Road'],\n",
       " [],\n",
       " [],\n",
       " [],\n",
       " [],\n",
       " [],\n",
       " [' 62 Friend Street (In front of City Hall)'],\n",
       " [],\n",
       " [],\n",
       " [],\n",
       " [],\n",
       " [],\n",
       " [' 4 Boltwood Avenue (Main Street side of Town Hall)'],\n",
       " [],\n",
       " [],\n",
       " [],\n",
       " [],\n",
       " [],\n",
       " [' 36 Bartlet Street']]"
      ]
     },
     "execution_count": 30,
     "metadata": {},
     "output_type": "execute_result"
    }
   ],
   "source": [
    "[re.findall('DROP BOX ADDRESS</strong>:(.*?)</p>', str(x)) for x in body][30:50]"
   ]
  },
  {
   "cell_type": "code",
   "execution_count": 31,
   "metadata": {
    "ExecuteTime": {
     "end_time": "2020-09-21T23:20:53.797015Z",
     "start_time": "2020-09-21T23:20:53.787148Z"
    }
   },
   "outputs": [
    {
     "data": {
      "text/plain": [
       "True"
      ]
     },
     "execution_count": 31,
     "metadata": {},
     "output_type": "execute_result"
    }
   ],
   "source": [
    "len(re.findall('h2', str(body[0]))) > 0"
   ]
  },
  {
   "cell_type": "markdown",
   "metadata": {},
   "source": [
    "# Create a DataFrame to hold the data"
   ]
  },
  {
   "cell_type": "code",
   "execution_count": 32,
   "metadata": {
    "ExecuteTime": {
     "end_time": "2020-09-21T23:20:53.825698Z",
     "start_time": "2020-09-21T23:20:53.802526Z"
    }
   },
   "outputs": [],
   "source": [
    "all_data_df =pd.DataFrame(columns=[\n",
    "                'address_1',\n",
    "                'state',\n",
    "                'county',\n",
    "                'Field 23',\n",
    "                'location_type',\n",
    "                'address_2',\n",
    "                'city',\n",
    "                'state_2',\n",
    "                'zip',\n",
    "                'phone', \n",
    "                'latitude', \n",
    "                'longitude', \n",
    "                'has_droppff', \n",
    "                'has_phone', \n",
    "                'county_website_url', \n",
    "                'validate_url', \n",
    "                'email', \n",
    "                'fax',\n",
    "                'social', \n",
    "                'inactive', \n",
    "                'hours',\n",
    "                'rules',\n",
    "                'notes'])"
   ]
  },
  {
   "cell_type": "code",
   "execution_count": 33,
   "metadata": {
    "ExecuteTime": {
     "end_time": "2020-09-21T23:20:53.868849Z",
     "start_time": "2020-09-21T23:20:53.835083Z"
    },
    "scrolled": false
   },
   "outputs": [
    {
     "name": "stdout",
     "output_type": "stream",
     "text": [
      "<class 'pandas.core.frame.DataFrame'>\n",
      "Index: 0 entries\n",
      "Data columns (total 23 columns):\n",
      " #   Column              Non-Null Count  Dtype \n",
      "---  ------              --------------  ----- \n",
      " 0   address_1           0 non-null      object\n",
      " 1   state               0 non-null      object\n",
      " 2   county              0 non-null      object\n",
      " 3   Field 23            0 non-null      object\n",
      " 4   location_type       0 non-null      object\n",
      " 5   address_2           0 non-null      object\n",
      " 6   city                0 non-null      object\n",
      " 7   state_2             0 non-null      object\n",
      " 8   zip                 0 non-null      object\n",
      " 9   phone               0 non-null      object\n",
      " 10  latitude            0 non-null      object\n",
      " 11  longitude           0 non-null      object\n",
      " 12  has_droppff         0 non-null      object\n",
      " 13  has_phone           0 non-null      object\n",
      " 14  county_website_url  0 non-null      object\n",
      " 15  validate_url        0 non-null      object\n",
      " 16  email               0 non-null      object\n",
      " 17  fax                 0 non-null      object\n",
      " 18  social              0 non-null      object\n",
      " 19  inactive            0 non-null      object\n",
      " 20  hours               0 non-null      object\n",
      " 21  rules               0 non-null      object\n",
      " 22  notes               0 non-null      object\n",
      "dtypes: object(23)\n",
      "memory usage: 0.0+ bytes\n"
     ]
    }
   ],
   "source": [
    "all_data_df.info()"
   ]
  },
  {
   "cell_type": "markdown",
   "metadata": {},
   "source": [
    "# Scrape 'h2' tags for cities"
   ]
  },
  {
   "cell_type": "code",
   "execution_count": 34,
   "metadata": {
    "ExecuteTime": {
     "end_time": "2020-09-21T23:20:53.920791Z",
     "start_time": "2020-09-21T23:20:53.898447Z"
    }
   },
   "outputs": [],
   "source": [
    "cities = []\n",
    "for city in soup.find_all('h2'):\n",
    "    cities.append(city.text.strip().replace('\\n', '').replace('  ',' '))"
   ]
  },
  {
   "cell_type": "code",
   "execution_count": 35,
   "metadata": {
    "ExecuteTime": {
     "end_time": "2020-09-21T23:20:53.935168Z",
     "start_time": "2020-09-21T23:20:53.925155Z"
    }
   },
   "outputs": [
    {
     "data": {
      "text/plain": [
       "['ABINGTON',\n",
       " 'ACTON',\n",
       " 'ACUSHNET',\n",
       " 'ADAMS',\n",
       " 'AGAWAM',\n",
       " 'ALFORD',\n",
       " 'AMESBURY',\n",
       " 'AMHERST']"
      ]
     },
     "execution_count": 35,
     "metadata": {},
     "output_type": "execute_result"
    }
   ],
   "source": [
    "cities[:8]"
   ]
  },
  {
   "cell_type": "code",
   "execution_count": 36,
   "metadata": {
    "ExecuteTime": {
     "end_time": "2020-09-21T23:20:53.955686Z",
     "start_time": "2020-09-21T23:20:53.940208Z"
    }
   },
   "outputs": [],
   "source": [
    "all_data_df['city']=cities"
   ]
  },
  {
   "cell_type": "code",
   "execution_count": 37,
   "metadata": {
    "ExecuteTime": {
     "end_time": "2020-09-21T23:20:54.052423Z",
     "start_time": "2020-09-21T23:20:53.966835Z"
    },
    "scrolled": false
   },
   "outputs": [
    {
     "data": {
      "text/html": [
       "<div>\n",
       "<style scoped>\n",
       "    .dataframe tbody tr th:only-of-type {\n",
       "        vertical-align: middle;\n",
       "    }\n",
       "\n",
       "    .dataframe tbody tr th {\n",
       "        vertical-align: top;\n",
       "    }\n",
       "\n",
       "    .dataframe thead th {\n",
       "        text-align: right;\n",
       "    }\n",
       "</style>\n",
       "<table border=\"1\" class=\"dataframe\">\n",
       "  <thead>\n",
       "    <tr style=\"text-align: right;\">\n",
       "      <th></th>\n",
       "      <th>address_1</th>\n",
       "      <th>state</th>\n",
       "      <th>county</th>\n",
       "      <th>Field 23</th>\n",
       "      <th>location_type</th>\n",
       "      <th>address_2</th>\n",
       "      <th>city</th>\n",
       "      <th>state_2</th>\n",
       "      <th>zip</th>\n",
       "      <th>phone</th>\n",
       "      <th>...</th>\n",
       "      <th>has_phone</th>\n",
       "      <th>county_website_url</th>\n",
       "      <th>validate_url</th>\n",
       "      <th>email</th>\n",
       "      <th>fax</th>\n",
       "      <th>social</th>\n",
       "      <th>inactive</th>\n",
       "      <th>hours</th>\n",
       "      <th>rules</th>\n",
       "      <th>notes</th>\n",
       "    </tr>\n",
       "  </thead>\n",
       "  <tbody>\n",
       "    <tr>\n",
       "      <th>0</th>\n",
       "      <td>NaN</td>\n",
       "      <td>NaN</td>\n",
       "      <td>NaN</td>\n",
       "      <td>NaN</td>\n",
       "      <td>NaN</td>\n",
       "      <td>NaN</td>\n",
       "      <td>ABINGTON</td>\n",
       "      <td>NaN</td>\n",
       "      <td>NaN</td>\n",
       "      <td>NaN</td>\n",
       "      <td>...</td>\n",
       "      <td>NaN</td>\n",
       "      <td>NaN</td>\n",
       "      <td>NaN</td>\n",
       "      <td>NaN</td>\n",
       "      <td>NaN</td>\n",
       "      <td>NaN</td>\n",
       "      <td>NaN</td>\n",
       "      <td>NaN</td>\n",
       "      <td>NaN</td>\n",
       "      <td>NaN</td>\n",
       "    </tr>\n",
       "    <tr>\n",
       "      <th>1</th>\n",
       "      <td>NaN</td>\n",
       "      <td>NaN</td>\n",
       "      <td>NaN</td>\n",
       "      <td>NaN</td>\n",
       "      <td>NaN</td>\n",
       "      <td>NaN</td>\n",
       "      <td>ACTON</td>\n",
       "      <td>NaN</td>\n",
       "      <td>NaN</td>\n",
       "      <td>NaN</td>\n",
       "      <td>...</td>\n",
       "      <td>NaN</td>\n",
       "      <td>NaN</td>\n",
       "      <td>NaN</td>\n",
       "      <td>NaN</td>\n",
       "      <td>NaN</td>\n",
       "      <td>NaN</td>\n",
       "      <td>NaN</td>\n",
       "      <td>NaN</td>\n",
       "      <td>NaN</td>\n",
       "      <td>NaN</td>\n",
       "    </tr>\n",
       "    <tr>\n",
       "      <th>2</th>\n",
       "      <td>NaN</td>\n",
       "      <td>NaN</td>\n",
       "      <td>NaN</td>\n",
       "      <td>NaN</td>\n",
       "      <td>NaN</td>\n",
       "      <td>NaN</td>\n",
       "      <td>ACUSHNET</td>\n",
       "      <td>NaN</td>\n",
       "      <td>NaN</td>\n",
       "      <td>NaN</td>\n",
       "      <td>...</td>\n",
       "      <td>NaN</td>\n",
       "      <td>NaN</td>\n",
       "      <td>NaN</td>\n",
       "      <td>NaN</td>\n",
       "      <td>NaN</td>\n",
       "      <td>NaN</td>\n",
       "      <td>NaN</td>\n",
       "      <td>NaN</td>\n",
       "      <td>NaN</td>\n",
       "      <td>NaN</td>\n",
       "    </tr>\n",
       "    <tr>\n",
       "      <th>3</th>\n",
       "      <td>NaN</td>\n",
       "      <td>NaN</td>\n",
       "      <td>NaN</td>\n",
       "      <td>NaN</td>\n",
       "      <td>NaN</td>\n",
       "      <td>NaN</td>\n",
       "      <td>ADAMS</td>\n",
       "      <td>NaN</td>\n",
       "      <td>NaN</td>\n",
       "      <td>NaN</td>\n",
       "      <td>...</td>\n",
       "      <td>NaN</td>\n",
       "      <td>NaN</td>\n",
       "      <td>NaN</td>\n",
       "      <td>NaN</td>\n",
       "      <td>NaN</td>\n",
       "      <td>NaN</td>\n",
       "      <td>NaN</td>\n",
       "      <td>NaN</td>\n",
       "      <td>NaN</td>\n",
       "      <td>NaN</td>\n",
       "    </tr>\n",
       "    <tr>\n",
       "      <th>4</th>\n",
       "      <td>NaN</td>\n",
       "      <td>NaN</td>\n",
       "      <td>NaN</td>\n",
       "      <td>NaN</td>\n",
       "      <td>NaN</td>\n",
       "      <td>NaN</td>\n",
       "      <td>AGAWAM</td>\n",
       "      <td>NaN</td>\n",
       "      <td>NaN</td>\n",
       "      <td>NaN</td>\n",
       "      <td>...</td>\n",
       "      <td>NaN</td>\n",
       "      <td>NaN</td>\n",
       "      <td>NaN</td>\n",
       "      <td>NaN</td>\n",
       "      <td>NaN</td>\n",
       "      <td>NaN</td>\n",
       "      <td>NaN</td>\n",
       "      <td>NaN</td>\n",
       "      <td>NaN</td>\n",
       "      <td>NaN</td>\n",
       "    </tr>\n",
       "    <tr>\n",
       "      <th>...</th>\n",
       "      <td>...</td>\n",
       "      <td>...</td>\n",
       "      <td>...</td>\n",
       "      <td>...</td>\n",
       "      <td>...</td>\n",
       "      <td>...</td>\n",
       "      <td>...</td>\n",
       "      <td>...</td>\n",
       "      <td>...</td>\n",
       "      <td>...</td>\n",
       "      <td>...</td>\n",
       "      <td>...</td>\n",
       "      <td>...</td>\n",
       "      <td>...</td>\n",
       "      <td>...</td>\n",
       "      <td>...</td>\n",
       "      <td>...</td>\n",
       "      <td>...</td>\n",
       "      <td>...</td>\n",
       "      <td>...</td>\n",
       "      <td>...</td>\n",
       "    </tr>\n",
       "    <tr>\n",
       "      <th>346</th>\n",
       "      <td>NaN</td>\n",
       "      <td>NaN</td>\n",
       "      <td>NaN</td>\n",
       "      <td>NaN</td>\n",
       "      <td>NaN</td>\n",
       "      <td>NaN</td>\n",
       "      <td>WOBURN</td>\n",
       "      <td>NaN</td>\n",
       "      <td>NaN</td>\n",
       "      <td>NaN</td>\n",
       "      <td>...</td>\n",
       "      <td>NaN</td>\n",
       "      <td>NaN</td>\n",
       "      <td>NaN</td>\n",
       "      <td>NaN</td>\n",
       "      <td>NaN</td>\n",
       "      <td>NaN</td>\n",
       "      <td>NaN</td>\n",
       "      <td>NaN</td>\n",
       "      <td>NaN</td>\n",
       "      <td>NaN</td>\n",
       "    </tr>\n",
       "    <tr>\n",
       "      <th>347</th>\n",
       "      <td>NaN</td>\n",
       "      <td>NaN</td>\n",
       "      <td>NaN</td>\n",
       "      <td>NaN</td>\n",
       "      <td>NaN</td>\n",
       "      <td>NaN</td>\n",
       "      <td>WORCESTER</td>\n",
       "      <td>NaN</td>\n",
       "      <td>NaN</td>\n",
       "      <td>NaN</td>\n",
       "      <td>...</td>\n",
       "      <td>NaN</td>\n",
       "      <td>NaN</td>\n",
       "      <td>NaN</td>\n",
       "      <td>NaN</td>\n",
       "      <td>NaN</td>\n",
       "      <td>NaN</td>\n",
       "      <td>NaN</td>\n",
       "      <td>NaN</td>\n",
       "      <td>NaN</td>\n",
       "      <td>NaN</td>\n",
       "    </tr>\n",
       "    <tr>\n",
       "      <th>348</th>\n",
       "      <td>NaN</td>\n",
       "      <td>NaN</td>\n",
       "      <td>NaN</td>\n",
       "      <td>NaN</td>\n",
       "      <td>NaN</td>\n",
       "      <td>NaN</td>\n",
       "      <td>WORTHINGTON</td>\n",
       "      <td>NaN</td>\n",
       "      <td>NaN</td>\n",
       "      <td>NaN</td>\n",
       "      <td>...</td>\n",
       "      <td>NaN</td>\n",
       "      <td>NaN</td>\n",
       "      <td>NaN</td>\n",
       "      <td>NaN</td>\n",
       "      <td>NaN</td>\n",
       "      <td>NaN</td>\n",
       "      <td>NaN</td>\n",
       "      <td>NaN</td>\n",
       "      <td>NaN</td>\n",
       "      <td>NaN</td>\n",
       "    </tr>\n",
       "    <tr>\n",
       "      <th>349</th>\n",
       "      <td>NaN</td>\n",
       "      <td>NaN</td>\n",
       "      <td>NaN</td>\n",
       "      <td>NaN</td>\n",
       "      <td>NaN</td>\n",
       "      <td>NaN</td>\n",
       "      <td>WRENTHAM</td>\n",
       "      <td>NaN</td>\n",
       "      <td>NaN</td>\n",
       "      <td>NaN</td>\n",
       "      <td>...</td>\n",
       "      <td>NaN</td>\n",
       "      <td>NaN</td>\n",
       "      <td>NaN</td>\n",
       "      <td>NaN</td>\n",
       "      <td>NaN</td>\n",
       "      <td>NaN</td>\n",
       "      <td>NaN</td>\n",
       "      <td>NaN</td>\n",
       "      <td>NaN</td>\n",
       "      <td>NaN</td>\n",
       "    </tr>\n",
       "    <tr>\n",
       "      <th>350</th>\n",
       "      <td>NaN</td>\n",
       "      <td>NaN</td>\n",
       "      <td>NaN</td>\n",
       "      <td>NaN</td>\n",
       "      <td>NaN</td>\n",
       "      <td>NaN</td>\n",
       "      <td>YARMOUTH</td>\n",
       "      <td>NaN</td>\n",
       "      <td>NaN</td>\n",
       "      <td>NaN</td>\n",
       "      <td>...</td>\n",
       "      <td>NaN</td>\n",
       "      <td>NaN</td>\n",
       "      <td>NaN</td>\n",
       "      <td>NaN</td>\n",
       "      <td>NaN</td>\n",
       "      <td>NaN</td>\n",
       "      <td>NaN</td>\n",
       "      <td>NaN</td>\n",
       "      <td>NaN</td>\n",
       "      <td>NaN</td>\n",
       "    </tr>\n",
       "  </tbody>\n",
       "</table>\n",
       "<p>351 rows × 23 columns</p>\n",
       "</div>"
      ],
      "text/plain": [
       "    address_1 state county Field 23 location_type address_2         city  \\\n",
       "0         NaN   NaN    NaN      NaN           NaN       NaN     ABINGTON   \n",
       "1         NaN   NaN    NaN      NaN           NaN       NaN        ACTON   \n",
       "2         NaN   NaN    NaN      NaN           NaN       NaN     ACUSHNET   \n",
       "3         NaN   NaN    NaN      NaN           NaN       NaN        ADAMS   \n",
       "4         NaN   NaN    NaN      NaN           NaN       NaN       AGAWAM   \n",
       "..        ...   ...    ...      ...           ...       ...          ...   \n",
       "346       NaN   NaN    NaN      NaN           NaN       NaN       WOBURN   \n",
       "347       NaN   NaN    NaN      NaN           NaN       NaN    WORCESTER   \n",
       "348       NaN   NaN    NaN      NaN           NaN       NaN  WORTHINGTON   \n",
       "349       NaN   NaN    NaN      NaN           NaN       NaN     WRENTHAM   \n",
       "350       NaN   NaN    NaN      NaN           NaN       NaN     YARMOUTH   \n",
       "\n",
       "    state_2  zip phone  ... has_phone county_website_url validate_url email  \\\n",
       "0       NaN  NaN   NaN  ...       NaN                NaN          NaN   NaN   \n",
       "1       NaN  NaN   NaN  ...       NaN                NaN          NaN   NaN   \n",
       "2       NaN  NaN   NaN  ...       NaN                NaN          NaN   NaN   \n",
       "3       NaN  NaN   NaN  ...       NaN                NaN          NaN   NaN   \n",
       "4       NaN  NaN   NaN  ...       NaN                NaN          NaN   NaN   \n",
       "..      ...  ...   ...  ...       ...                ...          ...   ...   \n",
       "346     NaN  NaN   NaN  ...       NaN                NaN          NaN   NaN   \n",
       "347     NaN  NaN   NaN  ...       NaN                NaN          NaN   NaN   \n",
       "348     NaN  NaN   NaN  ...       NaN                NaN          NaN   NaN   \n",
       "349     NaN  NaN   NaN  ...       NaN                NaN          NaN   NaN   \n",
       "350     NaN  NaN   NaN  ...       NaN                NaN          NaN   NaN   \n",
       "\n",
       "     fax social inactive hours rules notes  \n",
       "0    NaN    NaN      NaN   NaN   NaN   NaN  \n",
       "1    NaN    NaN      NaN   NaN   NaN   NaN  \n",
       "2    NaN    NaN      NaN   NaN   NaN   NaN  \n",
       "3    NaN    NaN      NaN   NaN   NaN   NaN  \n",
       "4    NaN    NaN      NaN   NaN   NaN   NaN  \n",
       "..   ...    ...      ...   ...   ...   ...  \n",
       "346  NaN    NaN      NaN   NaN   NaN   NaN  \n",
       "347  NaN    NaN      NaN   NaN   NaN   NaN  \n",
       "348  NaN    NaN      NaN   NaN   NaN   NaN  \n",
       "349  NaN    NaN      NaN   NaN   NaN   NaN  \n",
       "350  NaN    NaN      NaN   NaN   NaN   NaN  \n",
       "\n",
       "[351 rows x 23 columns]"
      ]
     },
     "execution_count": 37,
     "metadata": {},
     "output_type": "execute_result"
    }
   ],
   "source": [
    "all_data_df"
   ]
  },
  {
   "cell_type": "markdown",
   "metadata": {},
   "source": [
    "# Scrape 'h2' and 'p' tags for city, address, fax and email"
   ]
  },
  {
   "cell_type": "code",
   "execution_count": 38,
   "metadata": {
    "ExecuteTime": {
     "end_time": "2020-09-21T23:20:54.076291Z",
     "start_time": "2020-09-21T23:20:54.057749Z"
    },
    "scrolled": false
   },
   "outputs": [
    {
     "data": {
      "text/plain": [
       "[<h2 id=\"a\">ABINGTON</h2>,\n",
       " <p><strong>MAILING ADDRESS</strong>:<br/>\n",
       " <span class=\"indent\">Town Clerk</span><br/>\n",
       " <span class=\"indent\">500 Gliniewicz Way </span><br/>\n",
       " <span class=\"indent\">Abington, MA  02351</span></p>,\n",
       " <p> <strong>EMAIL</strong>: <a href=\"mailto:lmadams@abingtonma.gov\">lmadams@abingtonma.gov</a></p>,\n",
       " <p> <strong>FAX</strong>: (781) 982-2138</p>,\n",
       " <p> <strong>OFFICE ADDRESS</strong>: 500 Gliniewicz Way, Abington</p>,\n",
       " <h2> ACTON </h2>,\n",
       " <p><strong> MAILING ADDRESS</strong>:<br/>\n",
       " <span class=\"indent\">Town Clerk</span><br/>\n",
       " <span class=\"indent\">472 Main Street </span><br/>\n",
       " <span class=\"indent\">Acton, MA  01720 </span></p>,\n",
       " <p><strong>EMAIL</strong>: <a href=\"mailto:clerk@acton-ma.gov\">clerk@acton-ma.gov</a></p>,\n",
       " <p><strong>FAX</strong>: (978) 929-6340</p>,\n",
       " <p><strong>OFFICE ADDRESS</strong>: 472 Main Street, Acton</p>,\n",
       " <h2> ACUSHNET </h2>,\n",
       " <p><strong> MAILING ADDRESS</strong>: <br/>\n",
       " <span class=\"indent\">Town Clerk</span><br/>\n",
       " <span class=\"indent\">130 Main Street </span><br/>\n",
       " <span class=\"indent\">Acushnet, MA  02743 </span></p>,\n",
       " <p><strong>EMAIL</strong>: <a href=\"mailto:plabonte@acushnet.ma.us\">plabonte@acushnet.ma.us</a></p>,\n",
       " <p><strong>FAX</strong>: (508) 998-0216</p>,\n",
       " <p><strong>OFFICE ADDRESS</strong>: 130 Main Street, Acushnet</p>]"
      ]
     },
     "execution_count": 38,
     "metadata": {},
     "output_type": "execute_result"
    }
   ],
   "source": [
    "body[:15]"
   ]
  },
  {
   "cell_type": "code",
   "execution_count": 39,
   "metadata": {
    "ExecuteTime": {
     "end_time": "2020-09-21T23:20:54.122548Z",
     "start_time": "2020-09-21T23:20:54.084104Z"
    },
    "scrolled": true
   },
   "outputs": [
    {
     "data": {
      "text/plain": [
       "'lmadams@abingtonma.gov'"
      ]
     },
     "execution_count": 39,
     "metadata": {},
     "output_type": "execute_result"
    }
   ],
   "source": [
    "body[2].text.split(':')[1].strip()"
   ]
  },
  {
   "cell_type": "code",
   "execution_count": 40,
   "metadata": {
    "ExecuteTime": {
     "end_time": "2020-09-21T23:20:54.137646Z",
     "start_time": "2020-09-21T23:20:54.126803Z"
    }
   },
   "outputs": [
    {
     "data": {
      "text/plain": [
       "350"
      ]
     },
     "execution_count": 40,
     "metadata": {},
     "output_type": "execute_result"
    }
   ],
   "source": [
    "all_data_df[all_data_df['city'] == 'YARMOUTH'].index.item()"
   ]
  },
  {
   "cell_type": "code",
   "execution_count": 41,
   "metadata": {
    "ExecuteTime": {
     "end_time": "2020-09-21T23:20:55.331628Z",
     "start_time": "2020-09-21T23:20:54.142806Z"
    },
    "scrolled": true
   },
   "outputs": [],
   "source": [
    "for row in body:\n",
    "    if len(re.findall('h2', str(row))) > 0:\n",
    "        city = row.text.strip().replace('\\n', '').replace('  ',' ')\n",
    "        index = all_data_df[all_data_df['city'] == city].index.item()\n",
    "    elif len(re.findall('OFFICE ADDRESS</strong>:(.*?)</p>', str(row))) > 0:\n",
    "        address_1 = row.text\n",
    "        all_data_df.loc[index, 'address_1'] = address_1\n",
    "    elif len(re.findall('DROP BOX ADDRESS</strong>:(.*?)</p>', str(row))) > 0:\n",
    "        address_2 = row.text\n",
    "        all_data_df.loc[index, 'address_2'] = address_2\n",
    "    elif len(re.findall('href', str(row))) > 0:\n",
    "        email = row.text\n",
    "        all_data_df.loc[index, 'email'] = email\n",
    "    elif len(re.findall('FAX</strong>:(.*?)</p>', str(row))) > 0:\n",
    "        fax = row.text\n",
    "        all_data_df.loc[index, 'fax'] = fax"
   ]
  },
  {
   "cell_type": "code",
   "execution_count": 42,
   "metadata": {
    "ExecuteTime": {
     "end_time": "2020-09-21T23:20:55.342119Z",
     "start_time": "2020-09-21T23:20:55.334063Z"
    },
    "scrolled": true
   },
   "outputs": [
    {
     "data": {
      "text/plain": [
       "'YARMOUTH'"
      ]
     },
     "execution_count": 42,
     "metadata": {},
     "output_type": "execute_result"
    }
   ],
   "source": [
    "city"
   ]
  },
  {
   "cell_type": "code",
   "execution_count": 43,
   "metadata": {
    "ExecuteTime": {
     "end_time": "2020-09-21T23:20:55.368010Z",
     "start_time": "2020-09-21T23:20:55.345690Z"
    }
   },
   "outputs": [
    {
     "name": "stdout",
     "output_type": "stream",
     "text": [
      "<class 'pandas.core.frame.DataFrame'>\n",
      "RangeIndex: 351 entries, 0 to 350\n",
      "Data columns (total 23 columns):\n",
      " #   Column              Non-Null Count  Dtype \n",
      "---  ------              --------------  ----- \n",
      " 0   address_1           349 non-null    object\n",
      " 1   state               0 non-null      object\n",
      " 2   county              0 non-null      object\n",
      " 3   Field 23            0 non-null      object\n",
      " 4   location_type       0 non-null      object\n",
      " 5   address_2           231 non-null    object\n",
      " 6   city                351 non-null    object\n",
      " 7   state_2             0 non-null      object\n",
      " 8   zip                 0 non-null      object\n",
      " 9   phone               0 non-null      object\n",
      " 10  latitude            0 non-null      object\n",
      " 11  longitude           0 non-null      object\n",
      " 12  has_droppff         0 non-null      object\n",
      " 13  has_phone           0 non-null      object\n",
      " 14  county_website_url  0 non-null      object\n",
      " 15  validate_url        0 non-null      object\n",
      " 16  email               350 non-null    object\n",
      " 17  fax                 338 non-null    object\n",
      " 18  social              0 non-null      object\n",
      " 19  inactive            0 non-null      object\n",
      " 20  hours               0 non-null      object\n",
      " 21  rules               0 non-null      object\n",
      " 22  notes               0 non-null      object\n",
      "dtypes: object(23)\n",
      "memory usage: 63.2+ KB\n"
     ]
    }
   ],
   "source": [
    "all_data_df.info()"
   ]
  },
  {
   "cell_type": "code",
   "execution_count": 44,
   "metadata": {
    "ExecuteTime": {
     "end_time": "2020-09-21T23:20:55.439539Z",
     "start_time": "2020-09-21T23:20:55.372998Z"
    },
    "scrolled": false
   },
   "outputs": [
    {
     "data": {
      "text/html": [
       "<div>\n",
       "<style scoped>\n",
       "    .dataframe tbody tr th:only-of-type {\n",
       "        vertical-align: middle;\n",
       "    }\n",
       "\n",
       "    .dataframe tbody tr th {\n",
       "        vertical-align: top;\n",
       "    }\n",
       "\n",
       "    .dataframe thead th {\n",
       "        text-align: right;\n",
       "    }\n",
       "</style>\n",
       "<table border=\"1\" class=\"dataframe\">\n",
       "  <thead>\n",
       "    <tr style=\"text-align: right;\">\n",
       "      <th></th>\n",
       "      <th>address_1</th>\n",
       "      <th>state</th>\n",
       "      <th>county</th>\n",
       "      <th>Field 23</th>\n",
       "      <th>location_type</th>\n",
       "      <th>address_2</th>\n",
       "      <th>city</th>\n",
       "      <th>state_2</th>\n",
       "      <th>zip</th>\n",
       "      <th>phone</th>\n",
       "      <th>...</th>\n",
       "      <th>has_phone</th>\n",
       "      <th>county_website_url</th>\n",
       "      <th>validate_url</th>\n",
       "      <th>email</th>\n",
       "      <th>fax</th>\n",
       "      <th>social</th>\n",
       "      <th>inactive</th>\n",
       "      <th>hours</th>\n",
       "      <th>rules</th>\n",
       "      <th>notes</th>\n",
       "    </tr>\n",
       "  </thead>\n",
       "  <tbody>\n",
       "    <tr>\n",
       "      <th>0</th>\n",
       "      <td>OFFICE ADDRESS: 500 Gliniewicz Way, Abington</td>\n",
       "      <td>NaN</td>\n",
       "      <td>NaN</td>\n",
       "      <td>NaN</td>\n",
       "      <td>NaN</td>\n",
       "      <td>NaN</td>\n",
       "      <td>ABINGTON</td>\n",
       "      <td>NaN</td>\n",
       "      <td>NaN</td>\n",
       "      <td>NaN</td>\n",
       "      <td>...</td>\n",
       "      <td>NaN</td>\n",
       "      <td>NaN</td>\n",
       "      <td>NaN</td>\n",
       "      <td>EMAIL: lmadams@abingtonma.gov</td>\n",
       "      <td>FAX: (781) 982-2138</td>\n",
       "      <td>NaN</td>\n",
       "      <td>NaN</td>\n",
       "      <td>NaN</td>\n",
       "      <td>NaN</td>\n",
       "      <td>NaN</td>\n",
       "    </tr>\n",
       "    <tr>\n",
       "      <th>1</th>\n",
       "      <td>OFFICE ADDRESS: 472 Main Street, Acton</td>\n",
       "      <td>NaN</td>\n",
       "      <td>NaN</td>\n",
       "      <td>NaN</td>\n",
       "      <td>NaN</td>\n",
       "      <td>NaN</td>\n",
       "      <td>ACTON</td>\n",
       "      <td>NaN</td>\n",
       "      <td>NaN</td>\n",
       "      <td>NaN</td>\n",
       "      <td>...</td>\n",
       "      <td>NaN</td>\n",
       "      <td>NaN</td>\n",
       "      <td>NaN</td>\n",
       "      <td>EMAIL: clerk@acton-ma.gov</td>\n",
       "      <td>FAX: (978) 929-6340</td>\n",
       "      <td>NaN</td>\n",
       "      <td>NaN</td>\n",
       "      <td>NaN</td>\n",
       "      <td>NaN</td>\n",
       "      <td>NaN</td>\n",
       "    </tr>\n",
       "    <tr>\n",
       "      <th>2</th>\n",
       "      <td>OFFICE ADDRESS: 130 Main Street, Acushnet</td>\n",
       "      <td>NaN</td>\n",
       "      <td>NaN</td>\n",
       "      <td>NaN</td>\n",
       "      <td>NaN</td>\n",
       "      <td>NaN</td>\n",
       "      <td>ACUSHNET</td>\n",
       "      <td>NaN</td>\n",
       "      <td>NaN</td>\n",
       "      <td>NaN</td>\n",
       "      <td>...</td>\n",
       "      <td>NaN</td>\n",
       "      <td>NaN</td>\n",
       "      <td>NaN</td>\n",
       "      <td>EMAIL: plabonte@acushnet.ma.us</td>\n",
       "      <td>FAX: (508) 998-0216</td>\n",
       "      <td>NaN</td>\n",
       "      <td>NaN</td>\n",
       "      <td>NaN</td>\n",
       "      <td>NaN</td>\n",
       "      <td>NaN</td>\n",
       "    </tr>\n",
       "    <tr>\n",
       "      <th>3</th>\n",
       "      <td>OFFICE ADDRESS: 8 Park Street, Adams</td>\n",
       "      <td>NaN</td>\n",
       "      <td>NaN</td>\n",
       "      <td>NaN</td>\n",
       "      <td>NaN</td>\n",
       "      <td>DROP BOX ADDRESS: 8 Park Street (In front of T...</td>\n",
       "      <td>ADAMS</td>\n",
       "      <td>NaN</td>\n",
       "      <td>NaN</td>\n",
       "      <td>NaN</td>\n",
       "      <td>...</td>\n",
       "      <td>NaN</td>\n",
       "      <td>NaN</td>\n",
       "      <td>NaN</td>\n",
       "      <td>EMAIL: hmeczywor@town.adams.ma.us</td>\n",
       "      <td>FAX: (413) 743-8316</td>\n",
       "      <td>NaN</td>\n",
       "      <td>NaN</td>\n",
       "      <td>NaN</td>\n",
       "      <td>NaN</td>\n",
       "      <td>NaN</td>\n",
       "    </tr>\n",
       "    <tr>\n",
       "      <th>4</th>\n",
       "      <td>OFFICE ADDRESS: 36 Main Street, Agawam</td>\n",
       "      <td>NaN</td>\n",
       "      <td>NaN</td>\n",
       "      <td>NaN</td>\n",
       "      <td>NaN</td>\n",
       "      <td>NaN</td>\n",
       "      <td>AGAWAM</td>\n",
       "      <td>NaN</td>\n",
       "      <td>NaN</td>\n",
       "      <td>NaN</td>\n",
       "      <td>...</td>\n",
       "      <td>NaN</td>\n",
       "      <td>NaN</td>\n",
       "      <td>NaN</td>\n",
       "      <td>EMAIL: vote@agawam.ma.us</td>\n",
       "      <td>FAX: (413) 786-9927</td>\n",
       "      <td>NaN</td>\n",
       "      <td>NaN</td>\n",
       "      <td>NaN</td>\n",
       "      <td>NaN</td>\n",
       "      <td>NaN</td>\n",
       "    </tr>\n",
       "    <tr>\n",
       "      <th>...</th>\n",
       "      <td>...</td>\n",
       "      <td>...</td>\n",
       "      <td>...</td>\n",
       "      <td>...</td>\n",
       "      <td>...</td>\n",
       "      <td>...</td>\n",
       "      <td>...</td>\n",
       "      <td>...</td>\n",
       "      <td>...</td>\n",
       "      <td>...</td>\n",
       "      <td>...</td>\n",
       "      <td>...</td>\n",
       "      <td>...</td>\n",
       "      <td>...</td>\n",
       "      <td>...</td>\n",
       "      <td>...</td>\n",
       "      <td>...</td>\n",
       "      <td>...</td>\n",
       "      <td>...</td>\n",
       "      <td>...</td>\n",
       "      <td>...</td>\n",
       "    </tr>\n",
       "    <tr>\n",
       "      <th>346</th>\n",
       "      <td>OFFICE ADDRESS: 10 Common Street, Woburn</td>\n",
       "      <td>NaN</td>\n",
       "      <td>NaN</td>\n",
       "      <td>NaN</td>\n",
       "      <td>NaN</td>\n",
       "      <td>DROP BOX ADDRESS: 10 Common Street (At rear ac...</td>\n",
       "      <td>WOBURN</td>\n",
       "      <td>NaN</td>\n",
       "      <td>NaN</td>\n",
       "      <td>NaN</td>\n",
       "      <td>...</td>\n",
       "      <td>NaN</td>\n",
       "      <td>NaN</td>\n",
       "      <td>NaN</td>\n",
       "      <td>EMAIL: ballot@woburnma.gov</td>\n",
       "      <td>FAX: (781) 897-5859</td>\n",
       "      <td>NaN</td>\n",
       "      <td>NaN</td>\n",
       "      <td>NaN</td>\n",
       "      <td>NaN</td>\n",
       "      <td>NaN</td>\n",
       "    </tr>\n",
       "    <tr>\n",
       "      <th>347</th>\n",
       "      <td>OFFICE ADDRESS: 455 Main Street, Worcester</td>\n",
       "      <td>NaN</td>\n",
       "      <td>NaN</td>\n",
       "      <td>NaN</td>\n",
       "      <td>NaN</td>\n",
       "      <td>NaN</td>\n",
       "      <td>WORCESTER</td>\n",
       "      <td>NaN</td>\n",
       "      <td>NaN</td>\n",
       "      <td>NaN</td>\n",
       "      <td>...</td>\n",
       "      <td>NaN</td>\n",
       "      <td>NaN</td>\n",
       "      <td>NaN</td>\n",
       "      <td>EMAIL: elections@worcesterma.gov</td>\n",
       "      <td>FAX: (508) 799-1137</td>\n",
       "      <td>NaN</td>\n",
       "      <td>NaN</td>\n",
       "      <td>NaN</td>\n",
       "      <td>NaN</td>\n",
       "      <td>NaN</td>\n",
       "    </tr>\n",
       "    <tr>\n",
       "      <th>348</th>\n",
       "      <td>OFFICE ADDRESS: 160 Huntington Road, Worthington</td>\n",
       "      <td>NaN</td>\n",
       "      <td>NaN</td>\n",
       "      <td>NaN</td>\n",
       "      <td>NaN</td>\n",
       "      <td>DROP BOX ADDRESS: 160 Huntington Rd (Outside o...</td>\n",
       "      <td>WORTHINGTON</td>\n",
       "      <td>NaN</td>\n",
       "      <td>NaN</td>\n",
       "      <td>NaN</td>\n",
       "      <td>...</td>\n",
       "      <td>NaN</td>\n",
       "      <td>NaN</td>\n",
       "      <td>NaN</td>\n",
       "      <td>EMAIL: townclerk@worthington-ma.us</td>\n",
       "      <td>FAX: (413) 238-5579</td>\n",
       "      <td>NaN</td>\n",
       "      <td>NaN</td>\n",
       "      <td>NaN</td>\n",
       "      <td>NaN</td>\n",
       "      <td>NaN</td>\n",
       "    </tr>\n",
       "    <tr>\n",
       "      <th>349</th>\n",
       "      <td>OFFICE ADDRESS: 79 South Street, Wrentham</td>\n",
       "      <td>NaN</td>\n",
       "      <td>NaN</td>\n",
       "      <td>NaN</td>\n",
       "      <td>NaN</td>\n",
       "      <td>DROP BOX ADDRESS: 79 South Street (Outside Tow...</td>\n",
       "      <td>WRENTHAM</td>\n",
       "      <td>NaN</td>\n",
       "      <td>NaN</td>\n",
       "      <td>NaN</td>\n",
       "      <td>...</td>\n",
       "      <td>NaN</td>\n",
       "      <td>NaN</td>\n",
       "      <td>NaN</td>\n",
       "      <td>EMAIL: townclerk@wrentham.ma.us</td>\n",
       "      <td>FAX: (508) 384-5434</td>\n",
       "      <td>NaN</td>\n",
       "      <td>NaN</td>\n",
       "      <td>NaN</td>\n",
       "      <td>NaN</td>\n",
       "      <td>NaN</td>\n",
       "    </tr>\n",
       "    <tr>\n",
       "      <th>350</th>\n",
       "      <td>OFFICE ADDRESS: 1146 Route 28, South Yarmouth</td>\n",
       "      <td>NaN</td>\n",
       "      <td>NaN</td>\n",
       "      <td>NaN</td>\n",
       "      <td>NaN</td>\n",
       "      <td>DROP BOX ADDRESS: 1146 Routh 28, South Yarmout...</td>\n",
       "      <td>YARMOUTH</td>\n",
       "      <td>NaN</td>\n",
       "      <td>NaN</td>\n",
       "      <td>NaN</td>\n",
       "      <td>...</td>\n",
       "      <td>NaN</td>\n",
       "      <td>NaN</td>\n",
       "      <td>NaN</td>\n",
       "      <td>EMAIL: clerks@yarmouth.ma.us</td>\n",
       "      <td>FAX: (508) 760-4842</td>\n",
       "      <td>NaN</td>\n",
       "      <td>NaN</td>\n",
       "      <td>NaN</td>\n",
       "      <td>NaN</td>\n",
       "      <td>NaN</td>\n",
       "    </tr>\n",
       "  </tbody>\n",
       "</table>\n",
       "<p>351 rows × 23 columns</p>\n",
       "</div>"
      ],
      "text/plain": [
       "                                            address_1 state county Field 23  \\\n",
       "0        OFFICE ADDRESS: 500 Gliniewicz Way, Abington   NaN    NaN      NaN   \n",
       "1              OFFICE ADDRESS: 472 Main Street, Acton   NaN    NaN      NaN   \n",
       "2           OFFICE ADDRESS: 130 Main Street, Acushnet   NaN    NaN      NaN   \n",
       "3                OFFICE ADDRESS: 8 Park Street, Adams   NaN    NaN      NaN   \n",
       "4              OFFICE ADDRESS: 36 Main Street, Agawam   NaN    NaN      NaN   \n",
       "..                                                ...   ...    ...      ...   \n",
       "346          OFFICE ADDRESS: 10 Common Street, Woburn   NaN    NaN      NaN   \n",
       "347        OFFICE ADDRESS: 455 Main Street, Worcester   NaN    NaN      NaN   \n",
       "348  OFFICE ADDRESS: 160 Huntington Road, Worthington   NaN    NaN      NaN   \n",
       "349         OFFICE ADDRESS: 79 South Street, Wrentham   NaN    NaN      NaN   \n",
       "350     OFFICE ADDRESS: 1146 Route 28, South Yarmouth   NaN    NaN      NaN   \n",
       "\n",
       "    location_type                                          address_2  \\\n",
       "0             NaN                                                NaN   \n",
       "1             NaN                                                NaN   \n",
       "2             NaN                                                NaN   \n",
       "3             NaN  DROP BOX ADDRESS: 8 Park Street (In front of T...   \n",
       "4             NaN                                                NaN   \n",
       "..            ...                                                ...   \n",
       "346           NaN  DROP BOX ADDRESS: 10 Common Street (At rear ac...   \n",
       "347           NaN                                                NaN   \n",
       "348           NaN  DROP BOX ADDRESS: 160 Huntington Rd (Outside o...   \n",
       "349           NaN  DROP BOX ADDRESS: 79 South Street (Outside Tow...   \n",
       "350           NaN  DROP BOX ADDRESS: 1146 Routh 28, South Yarmout...   \n",
       "\n",
       "            city state_2  zip phone  ... has_phone county_website_url  \\\n",
       "0       ABINGTON     NaN  NaN   NaN  ...       NaN                NaN   \n",
       "1          ACTON     NaN  NaN   NaN  ...       NaN                NaN   \n",
       "2       ACUSHNET     NaN  NaN   NaN  ...       NaN                NaN   \n",
       "3          ADAMS     NaN  NaN   NaN  ...       NaN                NaN   \n",
       "4         AGAWAM     NaN  NaN   NaN  ...       NaN                NaN   \n",
       "..           ...     ...  ...   ...  ...       ...                ...   \n",
       "346       WOBURN     NaN  NaN   NaN  ...       NaN                NaN   \n",
       "347    WORCESTER     NaN  NaN   NaN  ...       NaN                NaN   \n",
       "348  WORTHINGTON     NaN  NaN   NaN  ...       NaN                NaN   \n",
       "349     WRENTHAM     NaN  NaN   NaN  ...       NaN                NaN   \n",
       "350     YARMOUTH     NaN  NaN   NaN  ...       NaN                NaN   \n",
       "\n",
       "    validate_url                               email                   fax  \\\n",
       "0            NaN       EMAIL: lmadams@abingtonma.gov   FAX: (781) 982-2138   \n",
       "1            NaN           EMAIL: clerk@acton-ma.gov   FAX: (978) 929-6340   \n",
       "2            NaN      EMAIL: plabonte@acushnet.ma.us   FAX: (508) 998-0216   \n",
       "3            NaN   EMAIL: hmeczywor@town.adams.ma.us   FAX: (413) 743-8316   \n",
       "4            NaN            EMAIL: vote@agawam.ma.us   FAX: (413) 786-9927   \n",
       "..           ...                                 ...                   ...   \n",
       "346          NaN          EMAIL: ballot@woburnma.gov   FAX: (781) 897-5859   \n",
       "347          NaN    EMAIL: elections@worcesterma.gov   FAX: (508) 799-1137   \n",
       "348          NaN  EMAIL: townclerk@worthington-ma.us   FAX: (413) 238-5579   \n",
       "349          NaN     EMAIL: townclerk@wrentham.ma.us   FAX: (508) 384-5434   \n",
       "350          NaN        EMAIL: clerks@yarmouth.ma.us   FAX: (508) 760-4842   \n",
       "\n",
       "    social inactive hours rules notes  \n",
       "0      NaN      NaN   NaN   NaN   NaN  \n",
       "1      NaN      NaN   NaN   NaN   NaN  \n",
       "2      NaN      NaN   NaN   NaN   NaN  \n",
       "3      NaN      NaN   NaN   NaN   NaN  \n",
       "4      NaN      NaN   NaN   NaN   NaN  \n",
       "..     ...      ...   ...   ...   ...  \n",
       "346    NaN      NaN   NaN   NaN   NaN  \n",
       "347    NaN      NaN   NaN   NaN   NaN  \n",
       "348    NaN      NaN   NaN   NaN   NaN  \n",
       "349    NaN      NaN   NaN   NaN   NaN  \n",
       "350    NaN      NaN   NaN   NaN   NaN  \n",
       "\n",
       "[351 rows x 23 columns]"
      ]
     },
     "execution_count": 44,
     "metadata": {},
     "output_type": "execute_result"
    }
   ],
   "source": [
    "all_data_df"
   ]
  },
  {
   "cell_type": "markdown",
   "metadata": {},
   "source": [
    "## Clean-up white space in address_1"
   ]
  },
  {
   "cell_type": "code",
   "execution_count": 45,
   "metadata": {
    "ExecuteTime": {
     "end_time": "2020-09-21T23:20:55.466669Z",
     "start_time": "2020-09-21T23:20:55.443937Z"
    }
   },
   "outputs": [
    {
     "data": {
      "text/plain": [
       "'500 Gliniewicz Way'"
      ]
     },
     "execution_count": 45,
     "metadata": {},
     "output_type": "execute_result"
    }
   ],
   "source": [
    "all_data_df['address_1'][0].split(':')[1].split(', ')[0].strip()"
   ]
  },
  {
   "cell_type": "code",
   "execution_count": 46,
   "metadata": {
    "ExecuteTime": {
     "end_time": "2020-09-21T23:20:55.504393Z",
     "start_time": "2020-09-21T23:20:55.473710Z"
    },
    "scrolled": true
   },
   "outputs": [],
   "source": [
    "addresses=[]\n",
    "for address in all_data_df['address_1']:\n",
    "    try:\n",
    "        addresses.append(address.split(':')[1].split(', ')[0].strip())\n",
    "    except:\n",
    "        addresses.append(np.nan)"
   ]
  },
  {
   "cell_type": "code",
   "execution_count": 47,
   "metadata": {
    "ExecuteTime": {
     "end_time": "2020-09-21T23:20:55.518411Z",
     "start_time": "2020-09-21T23:20:55.508221Z"
    },
    "scrolled": true
   },
   "outputs": [
    {
     "data": {
      "text/plain": [
       "351"
      ]
     },
     "execution_count": 47,
     "metadata": {},
     "output_type": "execute_result"
    }
   ],
   "source": [
    "len(addresses)"
   ]
  },
  {
   "cell_type": "code",
   "execution_count": 48,
   "metadata": {
    "ExecuteTime": {
     "end_time": "2020-09-21T23:20:55.530482Z",
     "start_time": "2020-09-21T23:20:55.522986Z"
    }
   },
   "outputs": [],
   "source": [
    "all_data_df['address_1']=addresses"
   ]
  },
  {
   "cell_type": "code",
   "execution_count": 49,
   "metadata": {
    "ExecuteTime": {
     "end_time": "2020-09-21T23:20:55.583017Z",
     "start_time": "2020-09-21T23:20:55.538179Z"
    },
    "scrolled": false
   },
   "outputs": [
    {
     "data": {
      "text/html": [
       "<div>\n",
       "<style scoped>\n",
       "    .dataframe tbody tr th:only-of-type {\n",
       "        vertical-align: middle;\n",
       "    }\n",
       "\n",
       "    .dataframe tbody tr th {\n",
       "        vertical-align: top;\n",
       "    }\n",
       "\n",
       "    .dataframe thead th {\n",
       "        text-align: right;\n",
       "    }\n",
       "</style>\n",
       "<table border=\"1\" class=\"dataframe\">\n",
       "  <thead>\n",
       "    <tr style=\"text-align: right;\">\n",
       "      <th></th>\n",
       "      <th>address_1</th>\n",
       "      <th>state</th>\n",
       "      <th>county</th>\n",
       "      <th>Field 23</th>\n",
       "      <th>location_type</th>\n",
       "      <th>address_2</th>\n",
       "      <th>city</th>\n",
       "      <th>state_2</th>\n",
       "      <th>zip</th>\n",
       "      <th>phone</th>\n",
       "      <th>...</th>\n",
       "      <th>has_phone</th>\n",
       "      <th>county_website_url</th>\n",
       "      <th>validate_url</th>\n",
       "      <th>email</th>\n",
       "      <th>fax</th>\n",
       "      <th>social</th>\n",
       "      <th>inactive</th>\n",
       "      <th>hours</th>\n",
       "      <th>rules</th>\n",
       "      <th>notes</th>\n",
       "    </tr>\n",
       "  </thead>\n",
       "  <tbody>\n",
       "    <tr>\n",
       "      <th>0</th>\n",
       "      <td>500 Gliniewicz Way</td>\n",
       "      <td>NaN</td>\n",
       "      <td>NaN</td>\n",
       "      <td>NaN</td>\n",
       "      <td>NaN</td>\n",
       "      <td>NaN</td>\n",
       "      <td>ABINGTON</td>\n",
       "      <td>NaN</td>\n",
       "      <td>NaN</td>\n",
       "      <td>NaN</td>\n",
       "      <td>...</td>\n",
       "      <td>NaN</td>\n",
       "      <td>NaN</td>\n",
       "      <td>NaN</td>\n",
       "      <td>EMAIL: lmadams@abingtonma.gov</td>\n",
       "      <td>FAX: (781) 982-2138</td>\n",
       "      <td>NaN</td>\n",
       "      <td>NaN</td>\n",
       "      <td>NaN</td>\n",
       "      <td>NaN</td>\n",
       "      <td>NaN</td>\n",
       "    </tr>\n",
       "    <tr>\n",
       "      <th>1</th>\n",
       "      <td>472 Main Street</td>\n",
       "      <td>NaN</td>\n",
       "      <td>NaN</td>\n",
       "      <td>NaN</td>\n",
       "      <td>NaN</td>\n",
       "      <td>NaN</td>\n",
       "      <td>ACTON</td>\n",
       "      <td>NaN</td>\n",
       "      <td>NaN</td>\n",
       "      <td>NaN</td>\n",
       "      <td>...</td>\n",
       "      <td>NaN</td>\n",
       "      <td>NaN</td>\n",
       "      <td>NaN</td>\n",
       "      <td>EMAIL: clerk@acton-ma.gov</td>\n",
       "      <td>FAX: (978) 929-6340</td>\n",
       "      <td>NaN</td>\n",
       "      <td>NaN</td>\n",
       "      <td>NaN</td>\n",
       "      <td>NaN</td>\n",
       "      <td>NaN</td>\n",
       "    </tr>\n",
       "    <tr>\n",
       "      <th>2</th>\n",
       "      <td>130 Main Street</td>\n",
       "      <td>NaN</td>\n",
       "      <td>NaN</td>\n",
       "      <td>NaN</td>\n",
       "      <td>NaN</td>\n",
       "      <td>NaN</td>\n",
       "      <td>ACUSHNET</td>\n",
       "      <td>NaN</td>\n",
       "      <td>NaN</td>\n",
       "      <td>NaN</td>\n",
       "      <td>...</td>\n",
       "      <td>NaN</td>\n",
       "      <td>NaN</td>\n",
       "      <td>NaN</td>\n",
       "      <td>EMAIL: plabonte@acushnet.ma.us</td>\n",
       "      <td>FAX: (508) 998-0216</td>\n",
       "      <td>NaN</td>\n",
       "      <td>NaN</td>\n",
       "      <td>NaN</td>\n",
       "      <td>NaN</td>\n",
       "      <td>NaN</td>\n",
       "    </tr>\n",
       "    <tr>\n",
       "      <th>3</th>\n",
       "      <td>8 Park Street</td>\n",
       "      <td>NaN</td>\n",
       "      <td>NaN</td>\n",
       "      <td>NaN</td>\n",
       "      <td>NaN</td>\n",
       "      <td>DROP BOX ADDRESS: 8 Park Street (In front of T...</td>\n",
       "      <td>ADAMS</td>\n",
       "      <td>NaN</td>\n",
       "      <td>NaN</td>\n",
       "      <td>NaN</td>\n",
       "      <td>...</td>\n",
       "      <td>NaN</td>\n",
       "      <td>NaN</td>\n",
       "      <td>NaN</td>\n",
       "      <td>EMAIL: hmeczywor@town.adams.ma.us</td>\n",
       "      <td>FAX: (413) 743-8316</td>\n",
       "      <td>NaN</td>\n",
       "      <td>NaN</td>\n",
       "      <td>NaN</td>\n",
       "      <td>NaN</td>\n",
       "      <td>NaN</td>\n",
       "    </tr>\n",
       "    <tr>\n",
       "      <th>4</th>\n",
       "      <td>36 Main Street</td>\n",
       "      <td>NaN</td>\n",
       "      <td>NaN</td>\n",
       "      <td>NaN</td>\n",
       "      <td>NaN</td>\n",
       "      <td>NaN</td>\n",
       "      <td>AGAWAM</td>\n",
       "      <td>NaN</td>\n",
       "      <td>NaN</td>\n",
       "      <td>NaN</td>\n",
       "      <td>...</td>\n",
       "      <td>NaN</td>\n",
       "      <td>NaN</td>\n",
       "      <td>NaN</td>\n",
       "      <td>EMAIL: vote@agawam.ma.us</td>\n",
       "      <td>FAX: (413) 786-9927</td>\n",
       "      <td>NaN</td>\n",
       "      <td>NaN</td>\n",
       "      <td>NaN</td>\n",
       "      <td>NaN</td>\n",
       "      <td>NaN</td>\n",
       "    </tr>\n",
       "    <tr>\n",
       "      <th>...</th>\n",
       "      <td>...</td>\n",
       "      <td>...</td>\n",
       "      <td>...</td>\n",
       "      <td>...</td>\n",
       "      <td>...</td>\n",
       "      <td>...</td>\n",
       "      <td>...</td>\n",
       "      <td>...</td>\n",
       "      <td>...</td>\n",
       "      <td>...</td>\n",
       "      <td>...</td>\n",
       "      <td>...</td>\n",
       "      <td>...</td>\n",
       "      <td>...</td>\n",
       "      <td>...</td>\n",
       "      <td>...</td>\n",
       "      <td>...</td>\n",
       "      <td>...</td>\n",
       "      <td>...</td>\n",
       "      <td>...</td>\n",
       "      <td>...</td>\n",
       "    </tr>\n",
       "    <tr>\n",
       "      <th>346</th>\n",
       "      <td>10 Common Street</td>\n",
       "      <td>NaN</td>\n",
       "      <td>NaN</td>\n",
       "      <td>NaN</td>\n",
       "      <td>NaN</td>\n",
       "      <td>DROP BOX ADDRESS: 10 Common Street (At rear ac...</td>\n",
       "      <td>WOBURN</td>\n",
       "      <td>NaN</td>\n",
       "      <td>NaN</td>\n",
       "      <td>NaN</td>\n",
       "      <td>...</td>\n",
       "      <td>NaN</td>\n",
       "      <td>NaN</td>\n",
       "      <td>NaN</td>\n",
       "      <td>EMAIL: ballot@woburnma.gov</td>\n",
       "      <td>FAX: (781) 897-5859</td>\n",
       "      <td>NaN</td>\n",
       "      <td>NaN</td>\n",
       "      <td>NaN</td>\n",
       "      <td>NaN</td>\n",
       "      <td>NaN</td>\n",
       "    </tr>\n",
       "    <tr>\n",
       "      <th>347</th>\n",
       "      <td>455 Main Street</td>\n",
       "      <td>NaN</td>\n",
       "      <td>NaN</td>\n",
       "      <td>NaN</td>\n",
       "      <td>NaN</td>\n",
       "      <td>NaN</td>\n",
       "      <td>WORCESTER</td>\n",
       "      <td>NaN</td>\n",
       "      <td>NaN</td>\n",
       "      <td>NaN</td>\n",
       "      <td>...</td>\n",
       "      <td>NaN</td>\n",
       "      <td>NaN</td>\n",
       "      <td>NaN</td>\n",
       "      <td>EMAIL: elections@worcesterma.gov</td>\n",
       "      <td>FAX: (508) 799-1137</td>\n",
       "      <td>NaN</td>\n",
       "      <td>NaN</td>\n",
       "      <td>NaN</td>\n",
       "      <td>NaN</td>\n",
       "      <td>NaN</td>\n",
       "    </tr>\n",
       "    <tr>\n",
       "      <th>348</th>\n",
       "      <td>160 Huntington Road</td>\n",
       "      <td>NaN</td>\n",
       "      <td>NaN</td>\n",
       "      <td>NaN</td>\n",
       "      <td>NaN</td>\n",
       "      <td>DROP BOX ADDRESS: 160 Huntington Rd (Outside o...</td>\n",
       "      <td>WORTHINGTON</td>\n",
       "      <td>NaN</td>\n",
       "      <td>NaN</td>\n",
       "      <td>NaN</td>\n",
       "      <td>...</td>\n",
       "      <td>NaN</td>\n",
       "      <td>NaN</td>\n",
       "      <td>NaN</td>\n",
       "      <td>EMAIL: townclerk@worthington-ma.us</td>\n",
       "      <td>FAX: (413) 238-5579</td>\n",
       "      <td>NaN</td>\n",
       "      <td>NaN</td>\n",
       "      <td>NaN</td>\n",
       "      <td>NaN</td>\n",
       "      <td>NaN</td>\n",
       "    </tr>\n",
       "    <tr>\n",
       "      <th>349</th>\n",
       "      <td>79 South Street</td>\n",
       "      <td>NaN</td>\n",
       "      <td>NaN</td>\n",
       "      <td>NaN</td>\n",
       "      <td>NaN</td>\n",
       "      <td>DROP BOX ADDRESS: 79 South Street (Outside Tow...</td>\n",
       "      <td>WRENTHAM</td>\n",
       "      <td>NaN</td>\n",
       "      <td>NaN</td>\n",
       "      <td>NaN</td>\n",
       "      <td>...</td>\n",
       "      <td>NaN</td>\n",
       "      <td>NaN</td>\n",
       "      <td>NaN</td>\n",
       "      <td>EMAIL: townclerk@wrentham.ma.us</td>\n",
       "      <td>FAX: (508) 384-5434</td>\n",
       "      <td>NaN</td>\n",
       "      <td>NaN</td>\n",
       "      <td>NaN</td>\n",
       "      <td>NaN</td>\n",
       "      <td>NaN</td>\n",
       "    </tr>\n",
       "    <tr>\n",
       "      <th>350</th>\n",
       "      <td>1146 Route 28</td>\n",
       "      <td>NaN</td>\n",
       "      <td>NaN</td>\n",
       "      <td>NaN</td>\n",
       "      <td>NaN</td>\n",
       "      <td>DROP BOX ADDRESS: 1146 Routh 28, South Yarmout...</td>\n",
       "      <td>YARMOUTH</td>\n",
       "      <td>NaN</td>\n",
       "      <td>NaN</td>\n",
       "      <td>NaN</td>\n",
       "      <td>...</td>\n",
       "      <td>NaN</td>\n",
       "      <td>NaN</td>\n",
       "      <td>NaN</td>\n",
       "      <td>EMAIL: clerks@yarmouth.ma.us</td>\n",
       "      <td>FAX: (508) 760-4842</td>\n",
       "      <td>NaN</td>\n",
       "      <td>NaN</td>\n",
       "      <td>NaN</td>\n",
       "      <td>NaN</td>\n",
       "      <td>NaN</td>\n",
       "    </tr>\n",
       "  </tbody>\n",
       "</table>\n",
       "<p>351 rows × 23 columns</p>\n",
       "</div>"
      ],
      "text/plain": [
       "               address_1 state county Field 23 location_type  \\\n",
       "0     500 Gliniewicz Way   NaN    NaN      NaN           NaN   \n",
       "1        472 Main Street   NaN    NaN      NaN           NaN   \n",
       "2        130 Main Street   NaN    NaN      NaN           NaN   \n",
       "3          8 Park Street   NaN    NaN      NaN           NaN   \n",
       "4         36 Main Street   NaN    NaN      NaN           NaN   \n",
       "..                   ...   ...    ...      ...           ...   \n",
       "346     10 Common Street   NaN    NaN      NaN           NaN   \n",
       "347      455 Main Street   NaN    NaN      NaN           NaN   \n",
       "348  160 Huntington Road   NaN    NaN      NaN           NaN   \n",
       "349      79 South Street   NaN    NaN      NaN           NaN   \n",
       "350        1146 Route 28   NaN    NaN      NaN           NaN   \n",
       "\n",
       "                                             address_2         city state_2  \\\n",
       "0                                                  NaN     ABINGTON     NaN   \n",
       "1                                                  NaN        ACTON     NaN   \n",
       "2                                                  NaN     ACUSHNET     NaN   \n",
       "3    DROP BOX ADDRESS: 8 Park Street (In front of T...        ADAMS     NaN   \n",
       "4                                                  NaN       AGAWAM     NaN   \n",
       "..                                                 ...          ...     ...   \n",
       "346  DROP BOX ADDRESS: 10 Common Street (At rear ac...       WOBURN     NaN   \n",
       "347                                                NaN    WORCESTER     NaN   \n",
       "348  DROP BOX ADDRESS: 160 Huntington Rd (Outside o...  WORTHINGTON     NaN   \n",
       "349  DROP BOX ADDRESS: 79 South Street (Outside Tow...     WRENTHAM     NaN   \n",
       "350  DROP BOX ADDRESS: 1146 Routh 28, South Yarmout...     YARMOUTH     NaN   \n",
       "\n",
       "     zip phone  ... has_phone county_website_url validate_url  \\\n",
       "0    NaN   NaN  ...       NaN                NaN          NaN   \n",
       "1    NaN   NaN  ...       NaN                NaN          NaN   \n",
       "2    NaN   NaN  ...       NaN                NaN          NaN   \n",
       "3    NaN   NaN  ...       NaN                NaN          NaN   \n",
       "4    NaN   NaN  ...       NaN                NaN          NaN   \n",
       "..   ...   ...  ...       ...                ...          ...   \n",
       "346  NaN   NaN  ...       NaN                NaN          NaN   \n",
       "347  NaN   NaN  ...       NaN                NaN          NaN   \n",
       "348  NaN   NaN  ...       NaN                NaN          NaN   \n",
       "349  NaN   NaN  ...       NaN                NaN          NaN   \n",
       "350  NaN   NaN  ...       NaN                NaN          NaN   \n",
       "\n",
       "                                  email                   fax social inactive  \\\n",
       "0         EMAIL: lmadams@abingtonma.gov   FAX: (781) 982-2138    NaN      NaN   \n",
       "1             EMAIL: clerk@acton-ma.gov   FAX: (978) 929-6340    NaN      NaN   \n",
       "2        EMAIL: plabonte@acushnet.ma.us   FAX: (508) 998-0216    NaN      NaN   \n",
       "3     EMAIL: hmeczywor@town.adams.ma.us   FAX: (413) 743-8316    NaN      NaN   \n",
       "4              EMAIL: vote@agawam.ma.us   FAX: (413) 786-9927    NaN      NaN   \n",
       "..                                  ...                   ...    ...      ...   \n",
       "346          EMAIL: ballot@woburnma.gov   FAX: (781) 897-5859    NaN      NaN   \n",
       "347    EMAIL: elections@worcesterma.gov   FAX: (508) 799-1137    NaN      NaN   \n",
       "348  EMAIL: townclerk@worthington-ma.us   FAX: (413) 238-5579    NaN      NaN   \n",
       "349     EMAIL: townclerk@wrentham.ma.us   FAX: (508) 384-5434    NaN      NaN   \n",
       "350        EMAIL: clerks@yarmouth.ma.us   FAX: (508) 760-4842    NaN      NaN   \n",
       "\n",
       "    hours rules notes  \n",
       "0     NaN   NaN   NaN  \n",
       "1     NaN   NaN   NaN  \n",
       "2     NaN   NaN   NaN  \n",
       "3     NaN   NaN   NaN  \n",
       "4     NaN   NaN   NaN  \n",
       "..    ...   ...   ...  \n",
       "346   NaN   NaN   NaN  \n",
       "347   NaN   NaN   NaN  \n",
       "348   NaN   NaN   NaN  \n",
       "349   NaN   NaN   NaN  \n",
       "350   NaN   NaN   NaN  \n",
       "\n",
       "[351 rows x 23 columns]"
      ]
     },
     "execution_count": 49,
     "metadata": {},
     "output_type": "execute_result"
    }
   ],
   "source": [
    "all_data_df"
   ]
  },
  {
   "cell_type": "code",
   "execution_count": 50,
   "metadata": {
    "ExecuteTime": {
     "end_time": "2020-09-21T23:20:55.608291Z",
     "start_time": "2020-09-21T23:20:55.587229Z"
    }
   },
   "outputs": [
    {
     "name": "stdout",
     "output_type": "stream",
     "text": [
      "<class 'pandas.core.frame.DataFrame'>\n",
      "RangeIndex: 351 entries, 0 to 350\n",
      "Data columns (total 23 columns):\n",
      " #   Column              Non-Null Count  Dtype \n",
      "---  ------              --------------  ----- \n",
      " 0   address_1           349 non-null    object\n",
      " 1   state               0 non-null      object\n",
      " 2   county              0 non-null      object\n",
      " 3   Field 23            0 non-null      object\n",
      " 4   location_type       0 non-null      object\n",
      " 5   address_2           231 non-null    object\n",
      " 6   city                351 non-null    object\n",
      " 7   state_2             0 non-null      object\n",
      " 8   zip                 0 non-null      object\n",
      " 9   phone               0 non-null      object\n",
      " 10  latitude            0 non-null      object\n",
      " 11  longitude           0 non-null      object\n",
      " 12  has_droppff         0 non-null      object\n",
      " 13  has_phone           0 non-null      object\n",
      " 14  county_website_url  0 non-null      object\n",
      " 15  validate_url        0 non-null      object\n",
      " 16  email               350 non-null    object\n",
      " 17  fax                 338 non-null    object\n",
      " 18  social              0 non-null      object\n",
      " 19  inactive            0 non-null      object\n",
      " 20  hours               0 non-null      object\n",
      " 21  rules               0 non-null      object\n",
      " 22  notes               0 non-null      object\n",
      "dtypes: object(23)\n",
      "memory usage: 63.2+ KB\n"
     ]
    }
   ],
   "source": [
    "all_data_df.info()"
   ]
  },
  {
   "cell_type": "markdown",
   "metadata": {},
   "source": [
    "## Create dropbox note"
   ]
  },
  {
   "cell_type": "code",
   "execution_count": 51,
   "metadata": {
    "ExecuteTime": {
     "end_time": "2020-09-21T23:20:55.622378Z",
     "start_time": "2020-09-21T23:20:55.612258Z"
    }
   },
   "outputs": [
    {
     "data": {
      "text/plain": [
       "0                                                    NaN\n",
       "1                                                    NaN\n",
       "2                                                    NaN\n",
       "3      DROP BOX ADDRESS: 8 Park Street (In front of T...\n",
       "4                                                    NaN\n",
       "                             ...                        \n",
       "346    DROP BOX ADDRESS: 10 Common Street (At rear ac...\n",
       "347                                                  NaN\n",
       "348    DROP BOX ADDRESS: 160 Huntington Rd (Outside o...\n",
       "349    DROP BOX ADDRESS: 79 South Street (Outside Tow...\n",
       "350    DROP BOX ADDRESS: 1146 Routh 28, South Yarmout...\n",
       "Name: address_2, Length: 351, dtype: object"
      ]
     },
     "execution_count": 51,
     "metadata": {},
     "output_type": "execute_result"
    }
   ],
   "source": [
    "all_data_df['address_2']"
   ]
  },
  {
   "cell_type": "code",
   "execution_count": 52,
   "metadata": {
    "ExecuteTime": {
     "end_time": "2020-09-21T23:20:55.635749Z",
     "start_time": "2020-09-21T23:20:55.627341Z"
    }
   },
   "outputs": [
    {
     "data": {
      "text/plain": [
       "'DROP BOX ADDRESS'"
      ]
     },
     "execution_count": 52,
     "metadata": {},
     "output_type": "execute_result"
    }
   ],
   "source": [
    "all_data_df['address_2'][348].split(':')[0].strip()"
   ]
  },
  {
   "cell_type": "code",
   "execution_count": 53,
   "metadata": {
    "ExecuteTime": {
     "end_time": "2020-09-21T23:20:55.647043Z",
     "start_time": "2020-09-21T23:20:55.639225Z"
    }
   },
   "outputs": [],
   "source": [
    "dropbox=[]\n",
    "for address in all_data_df['address_2']:\n",
    "    try:\n",
    "        dropbox.append(address.split(':')[0].strip()+'= address 2')\n",
    "    except:\n",
    "        dropbox.append(np.nan)"
   ]
  },
  {
   "cell_type": "code",
   "execution_count": 54,
   "metadata": {
    "ExecuteTime": {
     "end_time": "2020-09-21T23:20:55.659168Z",
     "start_time": "2020-09-21T23:20:55.651432Z"
    },
    "scrolled": false
   },
   "outputs": [
    {
     "data": {
      "text/plain": [
       "[nan,\n",
       " nan,\n",
       " nan,\n",
       " 'DROP BOX ADDRESS= address 2',\n",
       " nan,\n",
       " 'DROP BOX ADDRESS= address 2',\n",
       " 'DROP BOX ADDRESS= address 2',\n",
       " 'DROP BOX ADDRESS= address 2',\n",
       " 'DROP BOX ADDRESS= address 2',\n",
       " nan]"
      ]
     },
     "execution_count": 54,
     "metadata": {},
     "output_type": "execute_result"
    }
   ],
   "source": [
    "dropbox[:10]"
   ]
  },
  {
   "cell_type": "code",
   "execution_count": 55,
   "metadata": {
    "ExecuteTime": {
     "end_time": "2020-09-21T23:20:55.670453Z",
     "start_time": "2020-09-21T23:20:55.663538Z"
    }
   },
   "outputs": [],
   "source": [
    "all_data_df['notes'] = dropbox"
   ]
  },
  {
   "cell_type": "code",
   "execution_count": 56,
   "metadata": {
    "ExecuteTime": {
     "end_time": "2020-09-21T23:20:55.753347Z",
     "start_time": "2020-09-21T23:20:55.675038Z"
    }
   },
   "outputs": [
    {
     "data": {
      "text/html": [
       "<div>\n",
       "<style scoped>\n",
       "    .dataframe tbody tr th:only-of-type {\n",
       "        vertical-align: middle;\n",
       "    }\n",
       "\n",
       "    .dataframe tbody tr th {\n",
       "        vertical-align: top;\n",
       "    }\n",
       "\n",
       "    .dataframe thead th {\n",
       "        text-align: right;\n",
       "    }\n",
       "</style>\n",
       "<table border=\"1\" class=\"dataframe\">\n",
       "  <thead>\n",
       "    <tr style=\"text-align: right;\">\n",
       "      <th></th>\n",
       "      <th>address_1</th>\n",
       "      <th>state</th>\n",
       "      <th>county</th>\n",
       "      <th>Field 23</th>\n",
       "      <th>location_type</th>\n",
       "      <th>address_2</th>\n",
       "      <th>city</th>\n",
       "      <th>state_2</th>\n",
       "      <th>zip</th>\n",
       "      <th>phone</th>\n",
       "      <th>...</th>\n",
       "      <th>has_phone</th>\n",
       "      <th>county_website_url</th>\n",
       "      <th>validate_url</th>\n",
       "      <th>email</th>\n",
       "      <th>fax</th>\n",
       "      <th>social</th>\n",
       "      <th>inactive</th>\n",
       "      <th>hours</th>\n",
       "      <th>rules</th>\n",
       "      <th>notes</th>\n",
       "    </tr>\n",
       "  </thead>\n",
       "  <tbody>\n",
       "    <tr>\n",
       "      <th>0</th>\n",
       "      <td>500 Gliniewicz Way</td>\n",
       "      <td>NaN</td>\n",
       "      <td>NaN</td>\n",
       "      <td>NaN</td>\n",
       "      <td>NaN</td>\n",
       "      <td>NaN</td>\n",
       "      <td>ABINGTON</td>\n",
       "      <td>NaN</td>\n",
       "      <td>NaN</td>\n",
       "      <td>NaN</td>\n",
       "      <td>...</td>\n",
       "      <td>NaN</td>\n",
       "      <td>NaN</td>\n",
       "      <td>NaN</td>\n",
       "      <td>EMAIL: lmadams@abingtonma.gov</td>\n",
       "      <td>FAX: (781) 982-2138</td>\n",
       "      <td>NaN</td>\n",
       "      <td>NaN</td>\n",
       "      <td>NaN</td>\n",
       "      <td>NaN</td>\n",
       "      <td>NaN</td>\n",
       "    </tr>\n",
       "    <tr>\n",
       "      <th>1</th>\n",
       "      <td>472 Main Street</td>\n",
       "      <td>NaN</td>\n",
       "      <td>NaN</td>\n",
       "      <td>NaN</td>\n",
       "      <td>NaN</td>\n",
       "      <td>NaN</td>\n",
       "      <td>ACTON</td>\n",
       "      <td>NaN</td>\n",
       "      <td>NaN</td>\n",
       "      <td>NaN</td>\n",
       "      <td>...</td>\n",
       "      <td>NaN</td>\n",
       "      <td>NaN</td>\n",
       "      <td>NaN</td>\n",
       "      <td>EMAIL: clerk@acton-ma.gov</td>\n",
       "      <td>FAX: (978) 929-6340</td>\n",
       "      <td>NaN</td>\n",
       "      <td>NaN</td>\n",
       "      <td>NaN</td>\n",
       "      <td>NaN</td>\n",
       "      <td>NaN</td>\n",
       "    </tr>\n",
       "    <tr>\n",
       "      <th>2</th>\n",
       "      <td>130 Main Street</td>\n",
       "      <td>NaN</td>\n",
       "      <td>NaN</td>\n",
       "      <td>NaN</td>\n",
       "      <td>NaN</td>\n",
       "      <td>NaN</td>\n",
       "      <td>ACUSHNET</td>\n",
       "      <td>NaN</td>\n",
       "      <td>NaN</td>\n",
       "      <td>NaN</td>\n",
       "      <td>...</td>\n",
       "      <td>NaN</td>\n",
       "      <td>NaN</td>\n",
       "      <td>NaN</td>\n",
       "      <td>EMAIL: plabonte@acushnet.ma.us</td>\n",
       "      <td>FAX: (508) 998-0216</td>\n",
       "      <td>NaN</td>\n",
       "      <td>NaN</td>\n",
       "      <td>NaN</td>\n",
       "      <td>NaN</td>\n",
       "      <td>NaN</td>\n",
       "    </tr>\n",
       "    <tr>\n",
       "      <th>3</th>\n",
       "      <td>8 Park Street</td>\n",
       "      <td>NaN</td>\n",
       "      <td>NaN</td>\n",
       "      <td>NaN</td>\n",
       "      <td>NaN</td>\n",
       "      <td>DROP BOX ADDRESS: 8 Park Street (In front of T...</td>\n",
       "      <td>ADAMS</td>\n",
       "      <td>NaN</td>\n",
       "      <td>NaN</td>\n",
       "      <td>NaN</td>\n",
       "      <td>...</td>\n",
       "      <td>NaN</td>\n",
       "      <td>NaN</td>\n",
       "      <td>NaN</td>\n",
       "      <td>EMAIL: hmeczywor@town.adams.ma.us</td>\n",
       "      <td>FAX: (413) 743-8316</td>\n",
       "      <td>NaN</td>\n",
       "      <td>NaN</td>\n",
       "      <td>NaN</td>\n",
       "      <td>NaN</td>\n",
       "      <td>DROP BOX ADDRESS= address 2</td>\n",
       "    </tr>\n",
       "    <tr>\n",
       "      <th>4</th>\n",
       "      <td>36 Main Street</td>\n",
       "      <td>NaN</td>\n",
       "      <td>NaN</td>\n",
       "      <td>NaN</td>\n",
       "      <td>NaN</td>\n",
       "      <td>NaN</td>\n",
       "      <td>AGAWAM</td>\n",
       "      <td>NaN</td>\n",
       "      <td>NaN</td>\n",
       "      <td>NaN</td>\n",
       "      <td>...</td>\n",
       "      <td>NaN</td>\n",
       "      <td>NaN</td>\n",
       "      <td>NaN</td>\n",
       "      <td>EMAIL: vote@agawam.ma.us</td>\n",
       "      <td>FAX: (413) 786-9927</td>\n",
       "      <td>NaN</td>\n",
       "      <td>NaN</td>\n",
       "      <td>NaN</td>\n",
       "      <td>NaN</td>\n",
       "      <td>NaN</td>\n",
       "    </tr>\n",
       "    <tr>\n",
       "      <th>...</th>\n",
       "      <td>...</td>\n",
       "      <td>...</td>\n",
       "      <td>...</td>\n",
       "      <td>...</td>\n",
       "      <td>...</td>\n",
       "      <td>...</td>\n",
       "      <td>...</td>\n",
       "      <td>...</td>\n",
       "      <td>...</td>\n",
       "      <td>...</td>\n",
       "      <td>...</td>\n",
       "      <td>...</td>\n",
       "      <td>...</td>\n",
       "      <td>...</td>\n",
       "      <td>...</td>\n",
       "      <td>...</td>\n",
       "      <td>...</td>\n",
       "      <td>...</td>\n",
       "      <td>...</td>\n",
       "      <td>...</td>\n",
       "      <td>...</td>\n",
       "    </tr>\n",
       "    <tr>\n",
       "      <th>346</th>\n",
       "      <td>10 Common Street</td>\n",
       "      <td>NaN</td>\n",
       "      <td>NaN</td>\n",
       "      <td>NaN</td>\n",
       "      <td>NaN</td>\n",
       "      <td>DROP BOX ADDRESS: 10 Common Street (At rear ac...</td>\n",
       "      <td>WOBURN</td>\n",
       "      <td>NaN</td>\n",
       "      <td>NaN</td>\n",
       "      <td>NaN</td>\n",
       "      <td>...</td>\n",
       "      <td>NaN</td>\n",
       "      <td>NaN</td>\n",
       "      <td>NaN</td>\n",
       "      <td>EMAIL: ballot@woburnma.gov</td>\n",
       "      <td>FAX: (781) 897-5859</td>\n",
       "      <td>NaN</td>\n",
       "      <td>NaN</td>\n",
       "      <td>NaN</td>\n",
       "      <td>NaN</td>\n",
       "      <td>DROP BOX ADDRESS= address 2</td>\n",
       "    </tr>\n",
       "    <tr>\n",
       "      <th>347</th>\n",
       "      <td>455 Main Street</td>\n",
       "      <td>NaN</td>\n",
       "      <td>NaN</td>\n",
       "      <td>NaN</td>\n",
       "      <td>NaN</td>\n",
       "      <td>NaN</td>\n",
       "      <td>WORCESTER</td>\n",
       "      <td>NaN</td>\n",
       "      <td>NaN</td>\n",
       "      <td>NaN</td>\n",
       "      <td>...</td>\n",
       "      <td>NaN</td>\n",
       "      <td>NaN</td>\n",
       "      <td>NaN</td>\n",
       "      <td>EMAIL: elections@worcesterma.gov</td>\n",
       "      <td>FAX: (508) 799-1137</td>\n",
       "      <td>NaN</td>\n",
       "      <td>NaN</td>\n",
       "      <td>NaN</td>\n",
       "      <td>NaN</td>\n",
       "      <td>NaN</td>\n",
       "    </tr>\n",
       "    <tr>\n",
       "      <th>348</th>\n",
       "      <td>160 Huntington Road</td>\n",
       "      <td>NaN</td>\n",
       "      <td>NaN</td>\n",
       "      <td>NaN</td>\n",
       "      <td>NaN</td>\n",
       "      <td>DROP BOX ADDRESS: 160 Huntington Rd (Outside o...</td>\n",
       "      <td>WORTHINGTON</td>\n",
       "      <td>NaN</td>\n",
       "      <td>NaN</td>\n",
       "      <td>NaN</td>\n",
       "      <td>...</td>\n",
       "      <td>NaN</td>\n",
       "      <td>NaN</td>\n",
       "      <td>NaN</td>\n",
       "      <td>EMAIL: townclerk@worthington-ma.us</td>\n",
       "      <td>FAX: (413) 238-5579</td>\n",
       "      <td>NaN</td>\n",
       "      <td>NaN</td>\n",
       "      <td>NaN</td>\n",
       "      <td>NaN</td>\n",
       "      <td>DROP BOX ADDRESS= address 2</td>\n",
       "    </tr>\n",
       "    <tr>\n",
       "      <th>349</th>\n",
       "      <td>79 South Street</td>\n",
       "      <td>NaN</td>\n",
       "      <td>NaN</td>\n",
       "      <td>NaN</td>\n",
       "      <td>NaN</td>\n",
       "      <td>DROP BOX ADDRESS: 79 South Street (Outside Tow...</td>\n",
       "      <td>WRENTHAM</td>\n",
       "      <td>NaN</td>\n",
       "      <td>NaN</td>\n",
       "      <td>NaN</td>\n",
       "      <td>...</td>\n",
       "      <td>NaN</td>\n",
       "      <td>NaN</td>\n",
       "      <td>NaN</td>\n",
       "      <td>EMAIL: townclerk@wrentham.ma.us</td>\n",
       "      <td>FAX: (508) 384-5434</td>\n",
       "      <td>NaN</td>\n",
       "      <td>NaN</td>\n",
       "      <td>NaN</td>\n",
       "      <td>NaN</td>\n",
       "      <td>DROP BOX ADDRESS= address 2</td>\n",
       "    </tr>\n",
       "    <tr>\n",
       "      <th>350</th>\n",
       "      <td>1146 Route 28</td>\n",
       "      <td>NaN</td>\n",
       "      <td>NaN</td>\n",
       "      <td>NaN</td>\n",
       "      <td>NaN</td>\n",
       "      <td>DROP BOX ADDRESS: 1146 Routh 28, South Yarmout...</td>\n",
       "      <td>YARMOUTH</td>\n",
       "      <td>NaN</td>\n",
       "      <td>NaN</td>\n",
       "      <td>NaN</td>\n",
       "      <td>...</td>\n",
       "      <td>NaN</td>\n",
       "      <td>NaN</td>\n",
       "      <td>NaN</td>\n",
       "      <td>EMAIL: clerks@yarmouth.ma.us</td>\n",
       "      <td>FAX: (508) 760-4842</td>\n",
       "      <td>NaN</td>\n",
       "      <td>NaN</td>\n",
       "      <td>NaN</td>\n",
       "      <td>NaN</td>\n",
       "      <td>DROP BOX ADDRESS= address 2</td>\n",
       "    </tr>\n",
       "  </tbody>\n",
       "</table>\n",
       "<p>351 rows × 23 columns</p>\n",
       "</div>"
      ],
      "text/plain": [
       "               address_1 state county Field 23 location_type  \\\n",
       "0     500 Gliniewicz Way   NaN    NaN      NaN           NaN   \n",
       "1        472 Main Street   NaN    NaN      NaN           NaN   \n",
       "2        130 Main Street   NaN    NaN      NaN           NaN   \n",
       "3          8 Park Street   NaN    NaN      NaN           NaN   \n",
       "4         36 Main Street   NaN    NaN      NaN           NaN   \n",
       "..                   ...   ...    ...      ...           ...   \n",
       "346     10 Common Street   NaN    NaN      NaN           NaN   \n",
       "347      455 Main Street   NaN    NaN      NaN           NaN   \n",
       "348  160 Huntington Road   NaN    NaN      NaN           NaN   \n",
       "349      79 South Street   NaN    NaN      NaN           NaN   \n",
       "350        1146 Route 28   NaN    NaN      NaN           NaN   \n",
       "\n",
       "                                             address_2         city state_2  \\\n",
       "0                                                  NaN     ABINGTON     NaN   \n",
       "1                                                  NaN        ACTON     NaN   \n",
       "2                                                  NaN     ACUSHNET     NaN   \n",
       "3    DROP BOX ADDRESS: 8 Park Street (In front of T...        ADAMS     NaN   \n",
       "4                                                  NaN       AGAWAM     NaN   \n",
       "..                                                 ...          ...     ...   \n",
       "346  DROP BOX ADDRESS: 10 Common Street (At rear ac...       WOBURN     NaN   \n",
       "347                                                NaN    WORCESTER     NaN   \n",
       "348  DROP BOX ADDRESS: 160 Huntington Rd (Outside o...  WORTHINGTON     NaN   \n",
       "349  DROP BOX ADDRESS: 79 South Street (Outside Tow...     WRENTHAM     NaN   \n",
       "350  DROP BOX ADDRESS: 1146 Routh 28, South Yarmout...     YARMOUTH     NaN   \n",
       "\n",
       "     zip phone  ... has_phone county_website_url validate_url  \\\n",
       "0    NaN   NaN  ...       NaN                NaN          NaN   \n",
       "1    NaN   NaN  ...       NaN                NaN          NaN   \n",
       "2    NaN   NaN  ...       NaN                NaN          NaN   \n",
       "3    NaN   NaN  ...       NaN                NaN          NaN   \n",
       "4    NaN   NaN  ...       NaN                NaN          NaN   \n",
       "..   ...   ...  ...       ...                ...          ...   \n",
       "346  NaN   NaN  ...       NaN                NaN          NaN   \n",
       "347  NaN   NaN  ...       NaN                NaN          NaN   \n",
       "348  NaN   NaN  ...       NaN                NaN          NaN   \n",
       "349  NaN   NaN  ...       NaN                NaN          NaN   \n",
       "350  NaN   NaN  ...       NaN                NaN          NaN   \n",
       "\n",
       "                                  email                   fax social inactive  \\\n",
       "0         EMAIL: lmadams@abingtonma.gov   FAX: (781) 982-2138    NaN      NaN   \n",
       "1             EMAIL: clerk@acton-ma.gov   FAX: (978) 929-6340    NaN      NaN   \n",
       "2        EMAIL: plabonte@acushnet.ma.us   FAX: (508) 998-0216    NaN      NaN   \n",
       "3     EMAIL: hmeczywor@town.adams.ma.us   FAX: (413) 743-8316    NaN      NaN   \n",
       "4              EMAIL: vote@agawam.ma.us   FAX: (413) 786-9927    NaN      NaN   \n",
       "..                                  ...                   ...    ...      ...   \n",
       "346          EMAIL: ballot@woburnma.gov   FAX: (781) 897-5859    NaN      NaN   \n",
       "347    EMAIL: elections@worcesterma.gov   FAX: (508) 799-1137    NaN      NaN   \n",
       "348  EMAIL: townclerk@worthington-ma.us   FAX: (413) 238-5579    NaN      NaN   \n",
       "349     EMAIL: townclerk@wrentham.ma.us   FAX: (508) 384-5434    NaN      NaN   \n",
       "350        EMAIL: clerks@yarmouth.ma.us   FAX: (508) 760-4842    NaN      NaN   \n",
       "\n",
       "    hours rules                        notes  \n",
       "0     NaN   NaN                          NaN  \n",
       "1     NaN   NaN                          NaN  \n",
       "2     NaN   NaN                          NaN  \n",
       "3     NaN   NaN  DROP BOX ADDRESS= address 2  \n",
       "4     NaN   NaN                          NaN  \n",
       "..    ...   ...                          ...  \n",
       "346   NaN   NaN  DROP BOX ADDRESS= address 2  \n",
       "347   NaN   NaN                          NaN  \n",
       "348   NaN   NaN  DROP BOX ADDRESS= address 2  \n",
       "349   NaN   NaN  DROP BOX ADDRESS= address 2  \n",
       "350   NaN   NaN  DROP BOX ADDRESS= address 2  \n",
       "\n",
       "[351 rows x 23 columns]"
      ]
     },
     "execution_count": 56,
     "metadata": {},
     "output_type": "execute_result"
    }
   ],
   "source": [
    "all_data_df"
   ]
  },
  {
   "cell_type": "code",
   "execution_count": 57,
   "metadata": {
    "ExecuteTime": {
     "end_time": "2020-09-21T23:20:55.770841Z",
     "start_time": "2020-09-21T23:20:55.758504Z"
    }
   },
   "outputs": [
    {
     "data": {
      "text/plain": [
       "10    DROP BOX ADDRESS= address 2\n",
       "11                            NaN\n",
       "12    DROP BOX ADDRESS= address 2\n",
       "13                            NaN\n",
       "14                            NaN\n",
       "15    DROP BOX ADDRESS= address 2\n",
       "16    DROP BOX ADDRESS= address 2\n",
       "17                            NaN\n",
       "18    DROP BOX ADDRESS= address 2\n",
       "19    DROP BOX ADDRESS= address 2\n",
       "Name: notes, dtype: object"
      ]
     },
     "execution_count": 57,
     "metadata": {},
     "output_type": "execute_result"
    }
   ],
   "source": [
    "all_data_df['notes'][10:20]"
   ]
  },
  {
   "cell_type": "markdown",
   "metadata": {},
   "source": [
    "## Clean-up address_2 syntax"
   ]
  },
  {
   "cell_type": "code",
   "execution_count": 58,
   "metadata": {
    "ExecuteTime": {
     "end_time": "2020-09-21T23:20:55.786429Z",
     "start_time": "2020-09-21T23:20:55.775391Z"
    }
   },
   "outputs": [
    {
     "data": {
      "text/plain": [
       "'One Metcalf Square (Front door)'"
      ]
     },
     "execution_count": 58,
     "metadata": {},
     "output_type": "execute_result"
    }
   ],
   "source": [
    "all_data_df['address_2'][345].split(':')[1].strip()"
   ]
  },
  {
   "cell_type": "code",
   "execution_count": 59,
   "metadata": {
    "ExecuteTime": {
     "end_time": "2020-09-21T23:20:55.803890Z",
     "start_time": "2020-09-21T23:20:55.794044Z"
    }
   },
   "outputs": [],
   "source": [
    "dropbox_add=[]\n",
    "for address in all_data_df['address_2']:\n",
    "    try:\n",
    "        dropbox_add.append(address.split(':')[1].strip())\n",
    "    except:\n",
    "        dropbox_add.append(np.nan)"
   ]
  },
  {
   "cell_type": "code",
   "execution_count": 60,
   "metadata": {
    "ExecuteTime": {
     "end_time": "2020-09-21T23:20:55.818070Z",
     "start_time": "2020-09-21T23:20:55.807723Z"
    }
   },
   "outputs": [
    {
     "data": {
      "text/plain": [
       "[nan,\n",
       " nan,\n",
       " nan,\n",
       " '8 Park Street (In front of Town Hall)',\n",
       " nan,\n",
       " '5 Alford Center Road',\n",
       " '62 Friend Street (In front of City Hall)',\n",
       " '4 Boltwood Avenue (Main Street side of Town Hall)',\n",
       " '36 Bartlet Street',\n",
       " nan]"
      ]
     },
     "execution_count": 60,
     "metadata": {},
     "output_type": "execute_result"
    }
   ],
   "source": [
    "dropbox_add[:10]"
   ]
  },
  {
   "cell_type": "code",
   "execution_count": 61,
   "metadata": {
    "ExecuteTime": {
     "end_time": "2020-09-21T23:20:55.833020Z",
     "start_time": "2020-09-21T23:20:55.822239Z"
    }
   },
   "outputs": [],
   "source": [
    "all_data_df['address_2']=dropbox_add"
   ]
  },
  {
   "cell_type": "code",
   "execution_count": 62,
   "metadata": {
    "ExecuteTime": {
     "end_time": "2020-09-21T23:20:55.885558Z",
     "start_time": "2020-09-21T23:20:55.840107Z"
    }
   },
   "outputs": [
    {
     "data": {
      "text/html": [
       "<div>\n",
       "<style scoped>\n",
       "    .dataframe tbody tr th:only-of-type {\n",
       "        vertical-align: middle;\n",
       "    }\n",
       "\n",
       "    .dataframe tbody tr th {\n",
       "        vertical-align: top;\n",
       "    }\n",
       "\n",
       "    .dataframe thead th {\n",
       "        text-align: right;\n",
       "    }\n",
       "</style>\n",
       "<table border=\"1\" class=\"dataframe\">\n",
       "  <thead>\n",
       "    <tr style=\"text-align: right;\">\n",
       "      <th></th>\n",
       "      <th>address_1</th>\n",
       "      <th>state</th>\n",
       "      <th>county</th>\n",
       "      <th>Field 23</th>\n",
       "      <th>location_type</th>\n",
       "      <th>address_2</th>\n",
       "      <th>city</th>\n",
       "      <th>state_2</th>\n",
       "      <th>zip</th>\n",
       "      <th>phone</th>\n",
       "      <th>...</th>\n",
       "      <th>has_phone</th>\n",
       "      <th>county_website_url</th>\n",
       "      <th>validate_url</th>\n",
       "      <th>email</th>\n",
       "      <th>fax</th>\n",
       "      <th>social</th>\n",
       "      <th>inactive</th>\n",
       "      <th>hours</th>\n",
       "      <th>rules</th>\n",
       "      <th>notes</th>\n",
       "    </tr>\n",
       "  </thead>\n",
       "  <tbody>\n",
       "    <tr>\n",
       "      <th>0</th>\n",
       "      <td>500 Gliniewicz Way</td>\n",
       "      <td>NaN</td>\n",
       "      <td>NaN</td>\n",
       "      <td>NaN</td>\n",
       "      <td>NaN</td>\n",
       "      <td>NaN</td>\n",
       "      <td>ABINGTON</td>\n",
       "      <td>NaN</td>\n",
       "      <td>NaN</td>\n",
       "      <td>NaN</td>\n",
       "      <td>...</td>\n",
       "      <td>NaN</td>\n",
       "      <td>NaN</td>\n",
       "      <td>NaN</td>\n",
       "      <td>EMAIL: lmadams@abingtonma.gov</td>\n",
       "      <td>FAX: (781) 982-2138</td>\n",
       "      <td>NaN</td>\n",
       "      <td>NaN</td>\n",
       "      <td>NaN</td>\n",
       "      <td>NaN</td>\n",
       "      <td>NaN</td>\n",
       "    </tr>\n",
       "    <tr>\n",
       "      <th>1</th>\n",
       "      <td>472 Main Street</td>\n",
       "      <td>NaN</td>\n",
       "      <td>NaN</td>\n",
       "      <td>NaN</td>\n",
       "      <td>NaN</td>\n",
       "      <td>NaN</td>\n",
       "      <td>ACTON</td>\n",
       "      <td>NaN</td>\n",
       "      <td>NaN</td>\n",
       "      <td>NaN</td>\n",
       "      <td>...</td>\n",
       "      <td>NaN</td>\n",
       "      <td>NaN</td>\n",
       "      <td>NaN</td>\n",
       "      <td>EMAIL: clerk@acton-ma.gov</td>\n",
       "      <td>FAX: (978) 929-6340</td>\n",
       "      <td>NaN</td>\n",
       "      <td>NaN</td>\n",
       "      <td>NaN</td>\n",
       "      <td>NaN</td>\n",
       "      <td>NaN</td>\n",
       "    </tr>\n",
       "    <tr>\n",
       "      <th>2</th>\n",
       "      <td>130 Main Street</td>\n",
       "      <td>NaN</td>\n",
       "      <td>NaN</td>\n",
       "      <td>NaN</td>\n",
       "      <td>NaN</td>\n",
       "      <td>NaN</td>\n",
       "      <td>ACUSHNET</td>\n",
       "      <td>NaN</td>\n",
       "      <td>NaN</td>\n",
       "      <td>NaN</td>\n",
       "      <td>...</td>\n",
       "      <td>NaN</td>\n",
       "      <td>NaN</td>\n",
       "      <td>NaN</td>\n",
       "      <td>EMAIL: plabonte@acushnet.ma.us</td>\n",
       "      <td>FAX: (508) 998-0216</td>\n",
       "      <td>NaN</td>\n",
       "      <td>NaN</td>\n",
       "      <td>NaN</td>\n",
       "      <td>NaN</td>\n",
       "      <td>NaN</td>\n",
       "    </tr>\n",
       "    <tr>\n",
       "      <th>3</th>\n",
       "      <td>8 Park Street</td>\n",
       "      <td>NaN</td>\n",
       "      <td>NaN</td>\n",
       "      <td>NaN</td>\n",
       "      <td>NaN</td>\n",
       "      <td>8 Park Street (In front of Town Hall)</td>\n",
       "      <td>ADAMS</td>\n",
       "      <td>NaN</td>\n",
       "      <td>NaN</td>\n",
       "      <td>NaN</td>\n",
       "      <td>...</td>\n",
       "      <td>NaN</td>\n",
       "      <td>NaN</td>\n",
       "      <td>NaN</td>\n",
       "      <td>EMAIL: hmeczywor@town.adams.ma.us</td>\n",
       "      <td>FAX: (413) 743-8316</td>\n",
       "      <td>NaN</td>\n",
       "      <td>NaN</td>\n",
       "      <td>NaN</td>\n",
       "      <td>NaN</td>\n",
       "      <td>DROP BOX ADDRESS= address 2</td>\n",
       "    </tr>\n",
       "    <tr>\n",
       "      <th>4</th>\n",
       "      <td>36 Main Street</td>\n",
       "      <td>NaN</td>\n",
       "      <td>NaN</td>\n",
       "      <td>NaN</td>\n",
       "      <td>NaN</td>\n",
       "      <td>NaN</td>\n",
       "      <td>AGAWAM</td>\n",
       "      <td>NaN</td>\n",
       "      <td>NaN</td>\n",
       "      <td>NaN</td>\n",
       "      <td>...</td>\n",
       "      <td>NaN</td>\n",
       "      <td>NaN</td>\n",
       "      <td>NaN</td>\n",
       "      <td>EMAIL: vote@agawam.ma.us</td>\n",
       "      <td>FAX: (413) 786-9927</td>\n",
       "      <td>NaN</td>\n",
       "      <td>NaN</td>\n",
       "      <td>NaN</td>\n",
       "      <td>NaN</td>\n",
       "      <td>NaN</td>\n",
       "    </tr>\n",
       "    <tr>\n",
       "      <th>...</th>\n",
       "      <td>...</td>\n",
       "      <td>...</td>\n",
       "      <td>...</td>\n",
       "      <td>...</td>\n",
       "      <td>...</td>\n",
       "      <td>...</td>\n",
       "      <td>...</td>\n",
       "      <td>...</td>\n",
       "      <td>...</td>\n",
       "      <td>...</td>\n",
       "      <td>...</td>\n",
       "      <td>...</td>\n",
       "      <td>...</td>\n",
       "      <td>...</td>\n",
       "      <td>...</td>\n",
       "      <td>...</td>\n",
       "      <td>...</td>\n",
       "      <td>...</td>\n",
       "      <td>...</td>\n",
       "      <td>...</td>\n",
       "      <td>...</td>\n",
       "    </tr>\n",
       "    <tr>\n",
       "      <th>346</th>\n",
       "      <td>10 Common Street</td>\n",
       "      <td>NaN</td>\n",
       "      <td>NaN</td>\n",
       "      <td>NaN</td>\n",
       "      <td>NaN</td>\n",
       "      <td>10 Common Street (At rear accessible entrance)</td>\n",
       "      <td>WOBURN</td>\n",
       "      <td>NaN</td>\n",
       "      <td>NaN</td>\n",
       "      <td>NaN</td>\n",
       "      <td>...</td>\n",
       "      <td>NaN</td>\n",
       "      <td>NaN</td>\n",
       "      <td>NaN</td>\n",
       "      <td>EMAIL: ballot@woburnma.gov</td>\n",
       "      <td>FAX: (781) 897-5859</td>\n",
       "      <td>NaN</td>\n",
       "      <td>NaN</td>\n",
       "      <td>NaN</td>\n",
       "      <td>NaN</td>\n",
       "      <td>DROP BOX ADDRESS= address 2</td>\n",
       "    </tr>\n",
       "    <tr>\n",
       "      <th>347</th>\n",
       "      <td>455 Main Street</td>\n",
       "      <td>NaN</td>\n",
       "      <td>NaN</td>\n",
       "      <td>NaN</td>\n",
       "      <td>NaN</td>\n",
       "      <td>NaN</td>\n",
       "      <td>WORCESTER</td>\n",
       "      <td>NaN</td>\n",
       "      <td>NaN</td>\n",
       "      <td>NaN</td>\n",
       "      <td>...</td>\n",
       "      <td>NaN</td>\n",
       "      <td>NaN</td>\n",
       "      <td>NaN</td>\n",
       "      <td>EMAIL: elections@worcesterma.gov</td>\n",
       "      <td>FAX: (508) 799-1137</td>\n",
       "      <td>NaN</td>\n",
       "      <td>NaN</td>\n",
       "      <td>NaN</td>\n",
       "      <td>NaN</td>\n",
       "      <td>NaN</td>\n",
       "    </tr>\n",
       "    <tr>\n",
       "      <th>348</th>\n",
       "      <td>160 Huntington Road</td>\n",
       "      <td>NaN</td>\n",
       "      <td>NaN</td>\n",
       "      <td>NaN</td>\n",
       "      <td>NaN</td>\n",
       "      <td>160 Huntington Rd (Outside on Town Hall ramp)</td>\n",
       "      <td>WORTHINGTON</td>\n",
       "      <td>NaN</td>\n",
       "      <td>NaN</td>\n",
       "      <td>NaN</td>\n",
       "      <td>...</td>\n",
       "      <td>NaN</td>\n",
       "      <td>NaN</td>\n",
       "      <td>NaN</td>\n",
       "      <td>EMAIL: townclerk@worthington-ma.us</td>\n",
       "      <td>FAX: (413) 238-5579</td>\n",
       "      <td>NaN</td>\n",
       "      <td>NaN</td>\n",
       "      <td>NaN</td>\n",
       "      <td>NaN</td>\n",
       "      <td>DROP BOX ADDRESS= address 2</td>\n",
       "    </tr>\n",
       "    <tr>\n",
       "      <th>349</th>\n",
       "      <td>79 South Street</td>\n",
       "      <td>NaN</td>\n",
       "      <td>NaN</td>\n",
       "      <td>NaN</td>\n",
       "      <td>NaN</td>\n",
       "      <td>79 South Street (Outside Town Hall, on right s...</td>\n",
       "      <td>WRENTHAM</td>\n",
       "      <td>NaN</td>\n",
       "      <td>NaN</td>\n",
       "      <td>NaN</td>\n",
       "      <td>...</td>\n",
       "      <td>NaN</td>\n",
       "      <td>NaN</td>\n",
       "      <td>NaN</td>\n",
       "      <td>EMAIL: townclerk@wrentham.ma.us</td>\n",
       "      <td>FAX: (508) 384-5434</td>\n",
       "      <td>NaN</td>\n",
       "      <td>NaN</td>\n",
       "      <td>NaN</td>\n",
       "      <td>NaN</td>\n",
       "      <td>DROP BOX ADDRESS= address 2</td>\n",
       "    </tr>\n",
       "    <tr>\n",
       "      <th>350</th>\n",
       "      <td>1146 Route 28</td>\n",
       "      <td>NaN</td>\n",
       "      <td>NaN</td>\n",
       "      <td>NaN</td>\n",
       "      <td>NaN</td>\n",
       "      <td>1146 Routh 28, South Yarmouth (By accessible s...</td>\n",
       "      <td>YARMOUTH</td>\n",
       "      <td>NaN</td>\n",
       "      <td>NaN</td>\n",
       "      <td>NaN</td>\n",
       "      <td>...</td>\n",
       "      <td>NaN</td>\n",
       "      <td>NaN</td>\n",
       "      <td>NaN</td>\n",
       "      <td>EMAIL: clerks@yarmouth.ma.us</td>\n",
       "      <td>FAX: (508) 760-4842</td>\n",
       "      <td>NaN</td>\n",
       "      <td>NaN</td>\n",
       "      <td>NaN</td>\n",
       "      <td>NaN</td>\n",
       "      <td>DROP BOX ADDRESS= address 2</td>\n",
       "    </tr>\n",
       "  </tbody>\n",
       "</table>\n",
       "<p>351 rows × 23 columns</p>\n",
       "</div>"
      ],
      "text/plain": [
       "               address_1 state county Field 23 location_type  \\\n",
       "0     500 Gliniewicz Way   NaN    NaN      NaN           NaN   \n",
       "1        472 Main Street   NaN    NaN      NaN           NaN   \n",
       "2        130 Main Street   NaN    NaN      NaN           NaN   \n",
       "3          8 Park Street   NaN    NaN      NaN           NaN   \n",
       "4         36 Main Street   NaN    NaN      NaN           NaN   \n",
       "..                   ...   ...    ...      ...           ...   \n",
       "346     10 Common Street   NaN    NaN      NaN           NaN   \n",
       "347      455 Main Street   NaN    NaN      NaN           NaN   \n",
       "348  160 Huntington Road   NaN    NaN      NaN           NaN   \n",
       "349      79 South Street   NaN    NaN      NaN           NaN   \n",
       "350        1146 Route 28   NaN    NaN      NaN           NaN   \n",
       "\n",
       "                                             address_2         city state_2  \\\n",
       "0                                                  NaN     ABINGTON     NaN   \n",
       "1                                                  NaN        ACTON     NaN   \n",
       "2                                                  NaN     ACUSHNET     NaN   \n",
       "3                8 Park Street (In front of Town Hall)        ADAMS     NaN   \n",
       "4                                                  NaN       AGAWAM     NaN   \n",
       "..                                                 ...          ...     ...   \n",
       "346     10 Common Street (At rear accessible entrance)       WOBURN     NaN   \n",
       "347                                                NaN    WORCESTER     NaN   \n",
       "348      160 Huntington Rd (Outside on Town Hall ramp)  WORTHINGTON     NaN   \n",
       "349  79 South Street (Outside Town Hall, on right s...     WRENTHAM     NaN   \n",
       "350  1146 Routh 28, South Yarmouth (By accessible s...     YARMOUTH     NaN   \n",
       "\n",
       "     zip phone  ... has_phone county_website_url validate_url  \\\n",
       "0    NaN   NaN  ...       NaN                NaN          NaN   \n",
       "1    NaN   NaN  ...       NaN                NaN          NaN   \n",
       "2    NaN   NaN  ...       NaN                NaN          NaN   \n",
       "3    NaN   NaN  ...       NaN                NaN          NaN   \n",
       "4    NaN   NaN  ...       NaN                NaN          NaN   \n",
       "..   ...   ...  ...       ...                ...          ...   \n",
       "346  NaN   NaN  ...       NaN                NaN          NaN   \n",
       "347  NaN   NaN  ...       NaN                NaN          NaN   \n",
       "348  NaN   NaN  ...       NaN                NaN          NaN   \n",
       "349  NaN   NaN  ...       NaN                NaN          NaN   \n",
       "350  NaN   NaN  ...       NaN                NaN          NaN   \n",
       "\n",
       "                                  email                   fax social inactive  \\\n",
       "0         EMAIL: lmadams@abingtonma.gov   FAX: (781) 982-2138    NaN      NaN   \n",
       "1             EMAIL: clerk@acton-ma.gov   FAX: (978) 929-6340    NaN      NaN   \n",
       "2        EMAIL: plabonte@acushnet.ma.us   FAX: (508) 998-0216    NaN      NaN   \n",
       "3     EMAIL: hmeczywor@town.adams.ma.us   FAX: (413) 743-8316    NaN      NaN   \n",
       "4              EMAIL: vote@agawam.ma.us   FAX: (413) 786-9927    NaN      NaN   \n",
       "..                                  ...                   ...    ...      ...   \n",
       "346          EMAIL: ballot@woburnma.gov   FAX: (781) 897-5859    NaN      NaN   \n",
       "347    EMAIL: elections@worcesterma.gov   FAX: (508) 799-1137    NaN      NaN   \n",
       "348  EMAIL: townclerk@worthington-ma.us   FAX: (413) 238-5579    NaN      NaN   \n",
       "349     EMAIL: townclerk@wrentham.ma.us   FAX: (508) 384-5434    NaN      NaN   \n",
       "350        EMAIL: clerks@yarmouth.ma.us   FAX: (508) 760-4842    NaN      NaN   \n",
       "\n",
       "    hours rules                        notes  \n",
       "0     NaN   NaN                          NaN  \n",
       "1     NaN   NaN                          NaN  \n",
       "2     NaN   NaN                          NaN  \n",
       "3     NaN   NaN  DROP BOX ADDRESS= address 2  \n",
       "4     NaN   NaN                          NaN  \n",
       "..    ...   ...                          ...  \n",
       "346   NaN   NaN  DROP BOX ADDRESS= address 2  \n",
       "347   NaN   NaN                          NaN  \n",
       "348   NaN   NaN  DROP BOX ADDRESS= address 2  \n",
       "349   NaN   NaN  DROP BOX ADDRESS= address 2  \n",
       "350   NaN   NaN  DROP BOX ADDRESS= address 2  \n",
       "\n",
       "[351 rows x 23 columns]"
      ]
     },
     "execution_count": 62,
     "metadata": {},
     "output_type": "execute_result"
    }
   ],
   "source": [
    "all_data_df"
   ]
  },
  {
   "cell_type": "markdown",
   "metadata": {},
   "source": [
    "## Clean-up fax syntax"
   ]
  },
  {
   "cell_type": "code",
   "execution_count": 63,
   "metadata": {
    "ExecuteTime": {
     "end_time": "2020-09-21T23:20:55.900711Z",
     "start_time": "2020-09-21T23:20:55.892111Z"
    }
   },
   "outputs": [
    {
     "data": {
      "text/plain": [
       "'(617) 539-0812'"
      ]
     },
     "execution_count": 63,
     "metadata": {},
     "output_type": "execute_result"
    }
   ],
   "source": [
    "all_data_df['fax'][345].split('FAX:')[1].strip()"
   ]
  },
  {
   "cell_type": "code",
   "execution_count": 64,
   "metadata": {
    "ExecuteTime": {
     "end_time": "2020-09-21T23:20:55.911768Z",
     "start_time": "2020-09-21T23:20:55.904358Z"
    }
   },
   "outputs": [],
   "source": [
    "faxes=[]\n",
    "for fax in all_data_df['fax']:\n",
    "    try:\n",
    "        faxes.append(fax.split('FAX:')[1].strip())\n",
    "    except:\n",
    "        faxes.append(np.nan)"
   ]
  },
  {
   "cell_type": "code",
   "execution_count": 65,
   "metadata": {
    "ExecuteTime": {
     "end_time": "2020-09-21T23:20:55.925674Z",
     "start_time": "2020-09-21T23:20:55.916211Z"
    }
   },
   "outputs": [
    {
     "data": {
      "text/plain": [
       "['(781) 982-2138',\n",
       " '(978) 929-6340',\n",
       " '(508) 998-0216',\n",
       " '(413) 743-8316',\n",
       " '(413) 786-9927',\n",
       " '(413) 528-4581',\n",
       " '(978) 388-8150',\n",
       " '(413) 259-2499',\n",
       " '(978) 623-8295',\n",
       " '(508) 645-7884']"
      ]
     },
     "execution_count": 65,
     "metadata": {},
     "output_type": "execute_result"
    }
   ],
   "source": [
    "faxes[:10]"
   ]
  },
  {
   "cell_type": "code",
   "execution_count": 66,
   "metadata": {
    "ExecuteTime": {
     "end_time": "2020-09-21T23:20:55.939938Z",
     "start_time": "2020-09-21T23:20:55.931325Z"
    }
   },
   "outputs": [],
   "source": [
    "all_data_df['fax']=faxes"
   ]
  },
  {
   "cell_type": "code",
   "execution_count": 67,
   "metadata": {
    "ExecuteTime": {
     "end_time": "2020-09-21T23:20:56.009098Z",
     "start_time": "2020-09-21T23:20:55.944094Z"
    }
   },
   "outputs": [
    {
     "data": {
      "text/html": [
       "<div>\n",
       "<style scoped>\n",
       "    .dataframe tbody tr th:only-of-type {\n",
       "        vertical-align: middle;\n",
       "    }\n",
       "\n",
       "    .dataframe tbody tr th {\n",
       "        vertical-align: top;\n",
       "    }\n",
       "\n",
       "    .dataframe thead th {\n",
       "        text-align: right;\n",
       "    }\n",
       "</style>\n",
       "<table border=\"1\" class=\"dataframe\">\n",
       "  <thead>\n",
       "    <tr style=\"text-align: right;\">\n",
       "      <th></th>\n",
       "      <th>address_1</th>\n",
       "      <th>state</th>\n",
       "      <th>county</th>\n",
       "      <th>Field 23</th>\n",
       "      <th>location_type</th>\n",
       "      <th>address_2</th>\n",
       "      <th>city</th>\n",
       "      <th>state_2</th>\n",
       "      <th>zip</th>\n",
       "      <th>phone</th>\n",
       "      <th>...</th>\n",
       "      <th>has_phone</th>\n",
       "      <th>county_website_url</th>\n",
       "      <th>validate_url</th>\n",
       "      <th>email</th>\n",
       "      <th>fax</th>\n",
       "      <th>social</th>\n",
       "      <th>inactive</th>\n",
       "      <th>hours</th>\n",
       "      <th>rules</th>\n",
       "      <th>notes</th>\n",
       "    </tr>\n",
       "  </thead>\n",
       "  <tbody>\n",
       "    <tr>\n",
       "      <th>0</th>\n",
       "      <td>500 Gliniewicz Way</td>\n",
       "      <td>NaN</td>\n",
       "      <td>NaN</td>\n",
       "      <td>NaN</td>\n",
       "      <td>NaN</td>\n",
       "      <td>NaN</td>\n",
       "      <td>ABINGTON</td>\n",
       "      <td>NaN</td>\n",
       "      <td>NaN</td>\n",
       "      <td>NaN</td>\n",
       "      <td>...</td>\n",
       "      <td>NaN</td>\n",
       "      <td>NaN</td>\n",
       "      <td>NaN</td>\n",
       "      <td>EMAIL: lmadams@abingtonma.gov</td>\n",
       "      <td>(781) 982-2138</td>\n",
       "      <td>NaN</td>\n",
       "      <td>NaN</td>\n",
       "      <td>NaN</td>\n",
       "      <td>NaN</td>\n",
       "      <td>NaN</td>\n",
       "    </tr>\n",
       "    <tr>\n",
       "      <th>1</th>\n",
       "      <td>472 Main Street</td>\n",
       "      <td>NaN</td>\n",
       "      <td>NaN</td>\n",
       "      <td>NaN</td>\n",
       "      <td>NaN</td>\n",
       "      <td>NaN</td>\n",
       "      <td>ACTON</td>\n",
       "      <td>NaN</td>\n",
       "      <td>NaN</td>\n",
       "      <td>NaN</td>\n",
       "      <td>...</td>\n",
       "      <td>NaN</td>\n",
       "      <td>NaN</td>\n",
       "      <td>NaN</td>\n",
       "      <td>EMAIL: clerk@acton-ma.gov</td>\n",
       "      <td>(978) 929-6340</td>\n",
       "      <td>NaN</td>\n",
       "      <td>NaN</td>\n",
       "      <td>NaN</td>\n",
       "      <td>NaN</td>\n",
       "      <td>NaN</td>\n",
       "    </tr>\n",
       "    <tr>\n",
       "      <th>2</th>\n",
       "      <td>130 Main Street</td>\n",
       "      <td>NaN</td>\n",
       "      <td>NaN</td>\n",
       "      <td>NaN</td>\n",
       "      <td>NaN</td>\n",
       "      <td>NaN</td>\n",
       "      <td>ACUSHNET</td>\n",
       "      <td>NaN</td>\n",
       "      <td>NaN</td>\n",
       "      <td>NaN</td>\n",
       "      <td>...</td>\n",
       "      <td>NaN</td>\n",
       "      <td>NaN</td>\n",
       "      <td>NaN</td>\n",
       "      <td>EMAIL: plabonte@acushnet.ma.us</td>\n",
       "      <td>(508) 998-0216</td>\n",
       "      <td>NaN</td>\n",
       "      <td>NaN</td>\n",
       "      <td>NaN</td>\n",
       "      <td>NaN</td>\n",
       "      <td>NaN</td>\n",
       "    </tr>\n",
       "    <tr>\n",
       "      <th>3</th>\n",
       "      <td>8 Park Street</td>\n",
       "      <td>NaN</td>\n",
       "      <td>NaN</td>\n",
       "      <td>NaN</td>\n",
       "      <td>NaN</td>\n",
       "      <td>8 Park Street (In front of Town Hall)</td>\n",
       "      <td>ADAMS</td>\n",
       "      <td>NaN</td>\n",
       "      <td>NaN</td>\n",
       "      <td>NaN</td>\n",
       "      <td>...</td>\n",
       "      <td>NaN</td>\n",
       "      <td>NaN</td>\n",
       "      <td>NaN</td>\n",
       "      <td>EMAIL: hmeczywor@town.adams.ma.us</td>\n",
       "      <td>(413) 743-8316</td>\n",
       "      <td>NaN</td>\n",
       "      <td>NaN</td>\n",
       "      <td>NaN</td>\n",
       "      <td>NaN</td>\n",
       "      <td>DROP BOX ADDRESS= address 2</td>\n",
       "    </tr>\n",
       "    <tr>\n",
       "      <th>4</th>\n",
       "      <td>36 Main Street</td>\n",
       "      <td>NaN</td>\n",
       "      <td>NaN</td>\n",
       "      <td>NaN</td>\n",
       "      <td>NaN</td>\n",
       "      <td>NaN</td>\n",
       "      <td>AGAWAM</td>\n",
       "      <td>NaN</td>\n",
       "      <td>NaN</td>\n",
       "      <td>NaN</td>\n",
       "      <td>...</td>\n",
       "      <td>NaN</td>\n",
       "      <td>NaN</td>\n",
       "      <td>NaN</td>\n",
       "      <td>EMAIL: vote@agawam.ma.us</td>\n",
       "      <td>(413) 786-9927</td>\n",
       "      <td>NaN</td>\n",
       "      <td>NaN</td>\n",
       "      <td>NaN</td>\n",
       "      <td>NaN</td>\n",
       "      <td>NaN</td>\n",
       "    </tr>\n",
       "    <tr>\n",
       "      <th>...</th>\n",
       "      <td>...</td>\n",
       "      <td>...</td>\n",
       "      <td>...</td>\n",
       "      <td>...</td>\n",
       "      <td>...</td>\n",
       "      <td>...</td>\n",
       "      <td>...</td>\n",
       "      <td>...</td>\n",
       "      <td>...</td>\n",
       "      <td>...</td>\n",
       "      <td>...</td>\n",
       "      <td>...</td>\n",
       "      <td>...</td>\n",
       "      <td>...</td>\n",
       "      <td>...</td>\n",
       "      <td>...</td>\n",
       "      <td>...</td>\n",
       "      <td>...</td>\n",
       "      <td>...</td>\n",
       "      <td>...</td>\n",
       "      <td>...</td>\n",
       "    </tr>\n",
       "    <tr>\n",
       "      <th>346</th>\n",
       "      <td>10 Common Street</td>\n",
       "      <td>NaN</td>\n",
       "      <td>NaN</td>\n",
       "      <td>NaN</td>\n",
       "      <td>NaN</td>\n",
       "      <td>10 Common Street (At rear accessible entrance)</td>\n",
       "      <td>WOBURN</td>\n",
       "      <td>NaN</td>\n",
       "      <td>NaN</td>\n",
       "      <td>NaN</td>\n",
       "      <td>...</td>\n",
       "      <td>NaN</td>\n",
       "      <td>NaN</td>\n",
       "      <td>NaN</td>\n",
       "      <td>EMAIL: ballot@woburnma.gov</td>\n",
       "      <td>(781) 897-5859</td>\n",
       "      <td>NaN</td>\n",
       "      <td>NaN</td>\n",
       "      <td>NaN</td>\n",
       "      <td>NaN</td>\n",
       "      <td>DROP BOX ADDRESS= address 2</td>\n",
       "    </tr>\n",
       "    <tr>\n",
       "      <th>347</th>\n",
       "      <td>455 Main Street</td>\n",
       "      <td>NaN</td>\n",
       "      <td>NaN</td>\n",
       "      <td>NaN</td>\n",
       "      <td>NaN</td>\n",
       "      <td>NaN</td>\n",
       "      <td>WORCESTER</td>\n",
       "      <td>NaN</td>\n",
       "      <td>NaN</td>\n",
       "      <td>NaN</td>\n",
       "      <td>...</td>\n",
       "      <td>NaN</td>\n",
       "      <td>NaN</td>\n",
       "      <td>NaN</td>\n",
       "      <td>EMAIL: elections@worcesterma.gov</td>\n",
       "      <td>(508) 799-1137</td>\n",
       "      <td>NaN</td>\n",
       "      <td>NaN</td>\n",
       "      <td>NaN</td>\n",
       "      <td>NaN</td>\n",
       "      <td>NaN</td>\n",
       "    </tr>\n",
       "    <tr>\n",
       "      <th>348</th>\n",
       "      <td>160 Huntington Road</td>\n",
       "      <td>NaN</td>\n",
       "      <td>NaN</td>\n",
       "      <td>NaN</td>\n",
       "      <td>NaN</td>\n",
       "      <td>160 Huntington Rd (Outside on Town Hall ramp)</td>\n",
       "      <td>WORTHINGTON</td>\n",
       "      <td>NaN</td>\n",
       "      <td>NaN</td>\n",
       "      <td>NaN</td>\n",
       "      <td>...</td>\n",
       "      <td>NaN</td>\n",
       "      <td>NaN</td>\n",
       "      <td>NaN</td>\n",
       "      <td>EMAIL: townclerk@worthington-ma.us</td>\n",
       "      <td>(413) 238-5579</td>\n",
       "      <td>NaN</td>\n",
       "      <td>NaN</td>\n",
       "      <td>NaN</td>\n",
       "      <td>NaN</td>\n",
       "      <td>DROP BOX ADDRESS= address 2</td>\n",
       "    </tr>\n",
       "    <tr>\n",
       "      <th>349</th>\n",
       "      <td>79 South Street</td>\n",
       "      <td>NaN</td>\n",
       "      <td>NaN</td>\n",
       "      <td>NaN</td>\n",
       "      <td>NaN</td>\n",
       "      <td>79 South Street (Outside Town Hall, on right s...</td>\n",
       "      <td>WRENTHAM</td>\n",
       "      <td>NaN</td>\n",
       "      <td>NaN</td>\n",
       "      <td>NaN</td>\n",
       "      <td>...</td>\n",
       "      <td>NaN</td>\n",
       "      <td>NaN</td>\n",
       "      <td>NaN</td>\n",
       "      <td>EMAIL: townclerk@wrentham.ma.us</td>\n",
       "      <td>(508) 384-5434</td>\n",
       "      <td>NaN</td>\n",
       "      <td>NaN</td>\n",
       "      <td>NaN</td>\n",
       "      <td>NaN</td>\n",
       "      <td>DROP BOX ADDRESS= address 2</td>\n",
       "    </tr>\n",
       "    <tr>\n",
       "      <th>350</th>\n",
       "      <td>1146 Route 28</td>\n",
       "      <td>NaN</td>\n",
       "      <td>NaN</td>\n",
       "      <td>NaN</td>\n",
       "      <td>NaN</td>\n",
       "      <td>1146 Routh 28, South Yarmouth (By accessible s...</td>\n",
       "      <td>YARMOUTH</td>\n",
       "      <td>NaN</td>\n",
       "      <td>NaN</td>\n",
       "      <td>NaN</td>\n",
       "      <td>...</td>\n",
       "      <td>NaN</td>\n",
       "      <td>NaN</td>\n",
       "      <td>NaN</td>\n",
       "      <td>EMAIL: clerks@yarmouth.ma.us</td>\n",
       "      <td>(508) 760-4842</td>\n",
       "      <td>NaN</td>\n",
       "      <td>NaN</td>\n",
       "      <td>NaN</td>\n",
       "      <td>NaN</td>\n",
       "      <td>DROP BOX ADDRESS= address 2</td>\n",
       "    </tr>\n",
       "  </tbody>\n",
       "</table>\n",
       "<p>351 rows × 23 columns</p>\n",
       "</div>"
      ],
      "text/plain": [
       "               address_1 state county Field 23 location_type  \\\n",
       "0     500 Gliniewicz Way   NaN    NaN      NaN           NaN   \n",
       "1        472 Main Street   NaN    NaN      NaN           NaN   \n",
       "2        130 Main Street   NaN    NaN      NaN           NaN   \n",
       "3          8 Park Street   NaN    NaN      NaN           NaN   \n",
       "4         36 Main Street   NaN    NaN      NaN           NaN   \n",
       "..                   ...   ...    ...      ...           ...   \n",
       "346     10 Common Street   NaN    NaN      NaN           NaN   \n",
       "347      455 Main Street   NaN    NaN      NaN           NaN   \n",
       "348  160 Huntington Road   NaN    NaN      NaN           NaN   \n",
       "349      79 South Street   NaN    NaN      NaN           NaN   \n",
       "350        1146 Route 28   NaN    NaN      NaN           NaN   \n",
       "\n",
       "                                             address_2         city state_2  \\\n",
       "0                                                  NaN     ABINGTON     NaN   \n",
       "1                                                  NaN        ACTON     NaN   \n",
       "2                                                  NaN     ACUSHNET     NaN   \n",
       "3                8 Park Street (In front of Town Hall)        ADAMS     NaN   \n",
       "4                                                  NaN       AGAWAM     NaN   \n",
       "..                                                 ...          ...     ...   \n",
       "346     10 Common Street (At rear accessible entrance)       WOBURN     NaN   \n",
       "347                                                NaN    WORCESTER     NaN   \n",
       "348      160 Huntington Rd (Outside on Town Hall ramp)  WORTHINGTON     NaN   \n",
       "349  79 South Street (Outside Town Hall, on right s...     WRENTHAM     NaN   \n",
       "350  1146 Routh 28, South Yarmouth (By accessible s...     YARMOUTH     NaN   \n",
       "\n",
       "     zip phone  ... has_phone county_website_url validate_url  \\\n",
       "0    NaN   NaN  ...       NaN                NaN          NaN   \n",
       "1    NaN   NaN  ...       NaN                NaN          NaN   \n",
       "2    NaN   NaN  ...       NaN                NaN          NaN   \n",
       "3    NaN   NaN  ...       NaN                NaN          NaN   \n",
       "4    NaN   NaN  ...       NaN                NaN          NaN   \n",
       "..   ...   ...  ...       ...                ...          ...   \n",
       "346  NaN   NaN  ...       NaN                NaN          NaN   \n",
       "347  NaN   NaN  ...       NaN                NaN          NaN   \n",
       "348  NaN   NaN  ...       NaN                NaN          NaN   \n",
       "349  NaN   NaN  ...       NaN                NaN          NaN   \n",
       "350  NaN   NaN  ...       NaN                NaN          NaN   \n",
       "\n",
       "                                  email             fax social inactive hours  \\\n",
       "0         EMAIL: lmadams@abingtonma.gov  (781) 982-2138    NaN      NaN   NaN   \n",
       "1             EMAIL: clerk@acton-ma.gov  (978) 929-6340    NaN      NaN   NaN   \n",
       "2        EMAIL: plabonte@acushnet.ma.us  (508) 998-0216    NaN      NaN   NaN   \n",
       "3     EMAIL: hmeczywor@town.adams.ma.us  (413) 743-8316    NaN      NaN   NaN   \n",
       "4              EMAIL: vote@agawam.ma.us  (413) 786-9927    NaN      NaN   NaN   \n",
       "..                                  ...             ...    ...      ...   ...   \n",
       "346          EMAIL: ballot@woburnma.gov  (781) 897-5859    NaN      NaN   NaN   \n",
       "347    EMAIL: elections@worcesterma.gov  (508) 799-1137    NaN      NaN   NaN   \n",
       "348  EMAIL: townclerk@worthington-ma.us  (413) 238-5579    NaN      NaN   NaN   \n",
       "349     EMAIL: townclerk@wrentham.ma.us  (508) 384-5434    NaN      NaN   NaN   \n",
       "350        EMAIL: clerks@yarmouth.ma.us  (508) 760-4842    NaN      NaN   NaN   \n",
       "\n",
       "    rules                        notes  \n",
       "0     NaN                          NaN  \n",
       "1     NaN                          NaN  \n",
       "2     NaN                          NaN  \n",
       "3     NaN  DROP BOX ADDRESS= address 2  \n",
       "4     NaN                          NaN  \n",
       "..    ...                          ...  \n",
       "346   NaN  DROP BOX ADDRESS= address 2  \n",
       "347   NaN                          NaN  \n",
       "348   NaN  DROP BOX ADDRESS= address 2  \n",
       "349   NaN  DROP BOX ADDRESS= address 2  \n",
       "350   NaN  DROP BOX ADDRESS= address 2  \n",
       "\n",
       "[351 rows x 23 columns]"
      ]
     },
     "execution_count": 67,
     "metadata": {},
     "output_type": "execute_result"
    }
   ],
   "source": [
    "all_data_df"
   ]
  },
  {
   "cell_type": "markdown",
   "metadata": {},
   "source": [
    "## Clean-up email syntax"
   ]
  },
  {
   "cell_type": "code",
   "execution_count": 68,
   "metadata": {
    "ExecuteTime": {
     "end_time": "2020-09-21T23:20:56.043219Z",
     "start_time": "2020-09-21T23:20:56.035322Z"
    }
   },
   "outputs": [
    {
     "data": {
      "text/plain": [
       "'cvitale@town.winthrop.ma.us'"
      ]
     },
     "execution_count": 68,
     "metadata": {},
     "output_type": "execute_result"
    }
   ],
   "source": [
    "all_data_df['email'][345].split('EMAIL:')[1].strip()"
   ]
  },
  {
   "cell_type": "code",
   "execution_count": 69,
   "metadata": {
    "ExecuteTime": {
     "end_time": "2020-09-21T23:20:56.058967Z",
     "start_time": "2020-09-21T23:20:56.052133Z"
    }
   },
   "outputs": [],
   "source": [
    "emails=[]\n",
    "for email in all_data_df['email']:\n",
    "    try:\n",
    "        emails.append(email.split('EMAIL:')[1].strip())\n",
    "    except:\n",
    "        emails.append(np.nan)"
   ]
  },
  {
   "cell_type": "code",
   "execution_count": 70,
   "metadata": {
    "ExecuteTime": {
     "end_time": "2020-09-21T23:20:56.072547Z",
     "start_time": "2020-09-21T23:20:56.064359Z"
    }
   },
   "outputs": [
    {
     "data": {
      "text/plain": [
       "['lmadams@abingtonma.gov',\n",
       " 'clerk@acton-ma.gov',\n",
       " 'plabonte@acushnet.ma.us',\n",
       " 'hmeczywor@town.adams.ma.us',\n",
       " 'vote@agawam.ma.us',\n",
       " 'clerk@townofalford.org',\n",
       " 'clerklist@amesburyma.gov',\n",
       " 'vote@amherstma.gov',\n",
       " 'townclerk@andoverma.us',\n",
       " 'townclerk@aquinnah-ma.gov']"
      ]
     },
     "execution_count": 70,
     "metadata": {},
     "output_type": "execute_result"
    }
   ],
   "source": [
    "emails[:10]"
   ]
  },
  {
   "cell_type": "code",
   "execution_count": 71,
   "metadata": {
    "ExecuteTime": {
     "end_time": "2020-09-21T23:20:56.084886Z",
     "start_time": "2020-09-21T23:20:56.077138Z"
    }
   },
   "outputs": [],
   "source": [
    "all_data_df['email']=emails"
   ]
  },
  {
   "cell_type": "markdown",
   "metadata": {},
   "source": [
    "## Correct Charlemont"
   ]
  },
  {
   "cell_type": "code",
   "execution_count": 72,
   "metadata": {
    "ExecuteTime": {
     "end_time": "2020-09-21T23:20:56.096588Z",
     "start_time": "2020-09-21T23:20:56.088649Z"
    }
   },
   "outputs": [],
   "source": [
    "charlemont_index = all_data_df[all_data_df['city']=='CHARLEMONT'].index.item()"
   ]
  },
  {
   "cell_type": "code",
   "execution_count": 73,
   "metadata": {
    "ExecuteTime": {
     "end_time": "2020-09-21T23:20:56.109725Z",
     "start_time": "2020-09-21T23:20:56.101326Z"
    }
   },
   "outputs": [
    {
     "data": {
      "text/plain": [
       "53"
      ]
     },
     "execution_count": 73,
     "metadata": {},
     "output_type": "execute_result"
    }
   ],
   "source": [
    "charlemont_index"
   ]
  },
  {
   "cell_type": "code",
   "execution_count": 74,
   "metadata": {
    "ExecuteTime": {
     "end_time": "2020-09-21T23:20:56.122126Z",
     "start_time": "2020-09-21T23:20:56.114725Z"
    }
   },
   "outputs": [],
   "source": [
    "all_data_df.loc[charlemont_index, 'address_1'] = '157 Main Street, Box 605'"
   ]
  },
  {
   "cell_type": "markdown",
   "metadata": {},
   "source": [
    "## Correct Wilmington email"
   ]
  },
  {
   "cell_type": "code",
   "execution_count": 75,
   "metadata": {
    "ExecuteTime": {
     "end_time": "2020-09-21T23:20:56.135103Z",
     "start_time": "2020-09-21T23:20:56.126058Z"
    }
   },
   "outputs": [],
   "source": [
    "wilmington_index = all_data_df[all_data_df['city']=='WILMINGTON'].index.item()"
   ]
  },
  {
   "cell_type": "code",
   "execution_count": 76,
   "metadata": {
    "ExecuteTime": {
     "end_time": "2020-09-21T23:20:56.149128Z",
     "start_time": "2020-09-21T23:20:56.139493Z"
    }
   },
   "outputs": [
    {
     "data": {
      "text/plain": [
       "341"
      ]
     },
     "execution_count": 76,
     "metadata": {},
     "output_type": "execute_result"
    }
   ],
   "source": [
    "wilmington_index"
   ]
  },
  {
   "cell_type": "code",
   "execution_count": 77,
   "metadata": {
    "ExecuteTime": {
     "end_time": "2020-09-21T23:20:56.159472Z",
     "start_time": "2020-09-21T23:20:56.153101Z"
    }
   },
   "outputs": [],
   "source": [
    "all_data_df.loc[wilmington_index, 'email'] = 'townclerk@wilmingtonma.gov'"
   ]
  },
  {
   "cell_type": "markdown",
   "metadata": {},
   "source": [
    "## Correct Westford address"
   ]
  },
  {
   "cell_type": "code",
   "execution_count": 78,
   "metadata": {
    "ExecuteTime": {
     "end_time": "2020-09-21T23:20:56.171013Z",
     "start_time": "2020-09-21T23:20:56.164436Z"
    }
   },
   "outputs": [],
   "source": [
    "westford_index = all_data_df[all_data_df['city']=='WESTFORD'].index.item()"
   ]
  },
  {
   "cell_type": "code",
   "execution_count": 79,
   "metadata": {
    "ExecuteTime": {
     "end_time": "2020-09-21T23:20:56.183490Z",
     "start_time": "2020-09-21T23:20:56.175184Z"
    }
   },
   "outputs": [
    {
     "data": {
      "text/plain": [
       "329"
      ]
     },
     "execution_count": 79,
     "metadata": {},
     "output_type": "execute_result"
    }
   ],
   "source": [
    "westford_index"
   ]
  },
  {
   "cell_type": "code",
   "execution_count": 80,
   "metadata": {
    "ExecuteTime": {
     "end_time": "2020-09-21T23:20:56.193537Z",
     "start_time": "2020-09-21T23:20:56.187239Z"
    }
   },
   "outputs": [],
   "source": [
    "all_data_df.loc[westford_index, 'address_1'] = '55 Main Street'"
   ]
  },
  {
   "cell_type": "code",
   "execution_count": 81,
   "metadata": {
    "ExecuteTime": {
     "end_time": "2020-09-21T23:20:56.245084Z",
     "start_time": "2020-09-21T23:20:56.199650Z"
    }
   },
   "outputs": [
    {
     "data": {
      "text/html": [
       "<div>\n",
       "<style scoped>\n",
       "    .dataframe tbody tr th:only-of-type {\n",
       "        vertical-align: middle;\n",
       "    }\n",
       "\n",
       "    .dataframe tbody tr th {\n",
       "        vertical-align: top;\n",
       "    }\n",
       "\n",
       "    .dataframe thead th {\n",
       "        text-align: right;\n",
       "    }\n",
       "</style>\n",
       "<table border=\"1\" class=\"dataframe\">\n",
       "  <thead>\n",
       "    <tr style=\"text-align: right;\">\n",
       "      <th></th>\n",
       "      <th>address_1</th>\n",
       "      <th>state</th>\n",
       "      <th>county</th>\n",
       "      <th>Field 23</th>\n",
       "      <th>location_type</th>\n",
       "      <th>address_2</th>\n",
       "      <th>city</th>\n",
       "      <th>state_2</th>\n",
       "      <th>zip</th>\n",
       "      <th>phone</th>\n",
       "      <th>...</th>\n",
       "      <th>has_phone</th>\n",
       "      <th>county_website_url</th>\n",
       "      <th>validate_url</th>\n",
       "      <th>email</th>\n",
       "      <th>fax</th>\n",
       "      <th>social</th>\n",
       "      <th>inactive</th>\n",
       "      <th>hours</th>\n",
       "      <th>rules</th>\n",
       "      <th>notes</th>\n",
       "    </tr>\n",
       "  </thead>\n",
       "  <tbody>\n",
       "    <tr>\n",
       "      <th>0</th>\n",
       "      <td>500 Gliniewicz Way</td>\n",
       "      <td>NaN</td>\n",
       "      <td>NaN</td>\n",
       "      <td>NaN</td>\n",
       "      <td>NaN</td>\n",
       "      <td>NaN</td>\n",
       "      <td>ABINGTON</td>\n",
       "      <td>NaN</td>\n",
       "      <td>NaN</td>\n",
       "      <td>NaN</td>\n",
       "      <td>...</td>\n",
       "      <td>NaN</td>\n",
       "      <td>NaN</td>\n",
       "      <td>NaN</td>\n",
       "      <td>lmadams@abingtonma.gov</td>\n",
       "      <td>(781) 982-2138</td>\n",
       "      <td>NaN</td>\n",
       "      <td>NaN</td>\n",
       "      <td>NaN</td>\n",
       "      <td>NaN</td>\n",
       "      <td>NaN</td>\n",
       "    </tr>\n",
       "    <tr>\n",
       "      <th>1</th>\n",
       "      <td>472 Main Street</td>\n",
       "      <td>NaN</td>\n",
       "      <td>NaN</td>\n",
       "      <td>NaN</td>\n",
       "      <td>NaN</td>\n",
       "      <td>NaN</td>\n",
       "      <td>ACTON</td>\n",
       "      <td>NaN</td>\n",
       "      <td>NaN</td>\n",
       "      <td>NaN</td>\n",
       "      <td>...</td>\n",
       "      <td>NaN</td>\n",
       "      <td>NaN</td>\n",
       "      <td>NaN</td>\n",
       "      <td>clerk@acton-ma.gov</td>\n",
       "      <td>(978) 929-6340</td>\n",
       "      <td>NaN</td>\n",
       "      <td>NaN</td>\n",
       "      <td>NaN</td>\n",
       "      <td>NaN</td>\n",
       "      <td>NaN</td>\n",
       "    </tr>\n",
       "    <tr>\n",
       "      <th>2</th>\n",
       "      <td>130 Main Street</td>\n",
       "      <td>NaN</td>\n",
       "      <td>NaN</td>\n",
       "      <td>NaN</td>\n",
       "      <td>NaN</td>\n",
       "      <td>NaN</td>\n",
       "      <td>ACUSHNET</td>\n",
       "      <td>NaN</td>\n",
       "      <td>NaN</td>\n",
       "      <td>NaN</td>\n",
       "      <td>...</td>\n",
       "      <td>NaN</td>\n",
       "      <td>NaN</td>\n",
       "      <td>NaN</td>\n",
       "      <td>plabonte@acushnet.ma.us</td>\n",
       "      <td>(508) 998-0216</td>\n",
       "      <td>NaN</td>\n",
       "      <td>NaN</td>\n",
       "      <td>NaN</td>\n",
       "      <td>NaN</td>\n",
       "      <td>NaN</td>\n",
       "    </tr>\n",
       "    <tr>\n",
       "      <th>3</th>\n",
       "      <td>8 Park Street</td>\n",
       "      <td>NaN</td>\n",
       "      <td>NaN</td>\n",
       "      <td>NaN</td>\n",
       "      <td>NaN</td>\n",
       "      <td>8 Park Street (In front of Town Hall)</td>\n",
       "      <td>ADAMS</td>\n",
       "      <td>NaN</td>\n",
       "      <td>NaN</td>\n",
       "      <td>NaN</td>\n",
       "      <td>...</td>\n",
       "      <td>NaN</td>\n",
       "      <td>NaN</td>\n",
       "      <td>NaN</td>\n",
       "      <td>hmeczywor@town.adams.ma.us</td>\n",
       "      <td>(413) 743-8316</td>\n",
       "      <td>NaN</td>\n",
       "      <td>NaN</td>\n",
       "      <td>NaN</td>\n",
       "      <td>NaN</td>\n",
       "      <td>DROP BOX ADDRESS= address 2</td>\n",
       "    </tr>\n",
       "    <tr>\n",
       "      <th>4</th>\n",
       "      <td>36 Main Street</td>\n",
       "      <td>NaN</td>\n",
       "      <td>NaN</td>\n",
       "      <td>NaN</td>\n",
       "      <td>NaN</td>\n",
       "      <td>NaN</td>\n",
       "      <td>AGAWAM</td>\n",
       "      <td>NaN</td>\n",
       "      <td>NaN</td>\n",
       "      <td>NaN</td>\n",
       "      <td>...</td>\n",
       "      <td>NaN</td>\n",
       "      <td>NaN</td>\n",
       "      <td>NaN</td>\n",
       "      <td>vote@agawam.ma.us</td>\n",
       "      <td>(413) 786-9927</td>\n",
       "      <td>NaN</td>\n",
       "      <td>NaN</td>\n",
       "      <td>NaN</td>\n",
       "      <td>NaN</td>\n",
       "      <td>NaN</td>\n",
       "    </tr>\n",
       "    <tr>\n",
       "      <th>...</th>\n",
       "      <td>...</td>\n",
       "      <td>...</td>\n",
       "      <td>...</td>\n",
       "      <td>...</td>\n",
       "      <td>...</td>\n",
       "      <td>...</td>\n",
       "      <td>...</td>\n",
       "      <td>...</td>\n",
       "      <td>...</td>\n",
       "      <td>...</td>\n",
       "      <td>...</td>\n",
       "      <td>...</td>\n",
       "      <td>...</td>\n",
       "      <td>...</td>\n",
       "      <td>...</td>\n",
       "      <td>...</td>\n",
       "      <td>...</td>\n",
       "      <td>...</td>\n",
       "      <td>...</td>\n",
       "      <td>...</td>\n",
       "      <td>...</td>\n",
       "    </tr>\n",
       "    <tr>\n",
       "      <th>346</th>\n",
       "      <td>10 Common Street</td>\n",
       "      <td>NaN</td>\n",
       "      <td>NaN</td>\n",
       "      <td>NaN</td>\n",
       "      <td>NaN</td>\n",
       "      <td>10 Common Street (At rear accessible entrance)</td>\n",
       "      <td>WOBURN</td>\n",
       "      <td>NaN</td>\n",
       "      <td>NaN</td>\n",
       "      <td>NaN</td>\n",
       "      <td>...</td>\n",
       "      <td>NaN</td>\n",
       "      <td>NaN</td>\n",
       "      <td>NaN</td>\n",
       "      <td>ballot@woburnma.gov</td>\n",
       "      <td>(781) 897-5859</td>\n",
       "      <td>NaN</td>\n",
       "      <td>NaN</td>\n",
       "      <td>NaN</td>\n",
       "      <td>NaN</td>\n",
       "      <td>DROP BOX ADDRESS= address 2</td>\n",
       "    </tr>\n",
       "    <tr>\n",
       "      <th>347</th>\n",
       "      <td>455 Main Street</td>\n",
       "      <td>NaN</td>\n",
       "      <td>NaN</td>\n",
       "      <td>NaN</td>\n",
       "      <td>NaN</td>\n",
       "      <td>NaN</td>\n",
       "      <td>WORCESTER</td>\n",
       "      <td>NaN</td>\n",
       "      <td>NaN</td>\n",
       "      <td>NaN</td>\n",
       "      <td>...</td>\n",
       "      <td>NaN</td>\n",
       "      <td>NaN</td>\n",
       "      <td>NaN</td>\n",
       "      <td>elections@worcesterma.gov</td>\n",
       "      <td>(508) 799-1137</td>\n",
       "      <td>NaN</td>\n",
       "      <td>NaN</td>\n",
       "      <td>NaN</td>\n",
       "      <td>NaN</td>\n",
       "      <td>NaN</td>\n",
       "    </tr>\n",
       "    <tr>\n",
       "      <th>348</th>\n",
       "      <td>160 Huntington Road</td>\n",
       "      <td>NaN</td>\n",
       "      <td>NaN</td>\n",
       "      <td>NaN</td>\n",
       "      <td>NaN</td>\n",
       "      <td>160 Huntington Rd (Outside on Town Hall ramp)</td>\n",
       "      <td>WORTHINGTON</td>\n",
       "      <td>NaN</td>\n",
       "      <td>NaN</td>\n",
       "      <td>NaN</td>\n",
       "      <td>...</td>\n",
       "      <td>NaN</td>\n",
       "      <td>NaN</td>\n",
       "      <td>NaN</td>\n",
       "      <td>townclerk@worthington-ma.us</td>\n",
       "      <td>(413) 238-5579</td>\n",
       "      <td>NaN</td>\n",
       "      <td>NaN</td>\n",
       "      <td>NaN</td>\n",
       "      <td>NaN</td>\n",
       "      <td>DROP BOX ADDRESS= address 2</td>\n",
       "    </tr>\n",
       "    <tr>\n",
       "      <th>349</th>\n",
       "      <td>79 South Street</td>\n",
       "      <td>NaN</td>\n",
       "      <td>NaN</td>\n",
       "      <td>NaN</td>\n",
       "      <td>NaN</td>\n",
       "      <td>79 South Street (Outside Town Hall, on right s...</td>\n",
       "      <td>WRENTHAM</td>\n",
       "      <td>NaN</td>\n",
       "      <td>NaN</td>\n",
       "      <td>NaN</td>\n",
       "      <td>...</td>\n",
       "      <td>NaN</td>\n",
       "      <td>NaN</td>\n",
       "      <td>NaN</td>\n",
       "      <td>townclerk@wrentham.ma.us</td>\n",
       "      <td>(508) 384-5434</td>\n",
       "      <td>NaN</td>\n",
       "      <td>NaN</td>\n",
       "      <td>NaN</td>\n",
       "      <td>NaN</td>\n",
       "      <td>DROP BOX ADDRESS= address 2</td>\n",
       "    </tr>\n",
       "    <tr>\n",
       "      <th>350</th>\n",
       "      <td>1146 Route 28</td>\n",
       "      <td>NaN</td>\n",
       "      <td>NaN</td>\n",
       "      <td>NaN</td>\n",
       "      <td>NaN</td>\n",
       "      <td>1146 Routh 28, South Yarmouth (By accessible s...</td>\n",
       "      <td>YARMOUTH</td>\n",
       "      <td>NaN</td>\n",
       "      <td>NaN</td>\n",
       "      <td>NaN</td>\n",
       "      <td>...</td>\n",
       "      <td>NaN</td>\n",
       "      <td>NaN</td>\n",
       "      <td>NaN</td>\n",
       "      <td>clerks@yarmouth.ma.us</td>\n",
       "      <td>(508) 760-4842</td>\n",
       "      <td>NaN</td>\n",
       "      <td>NaN</td>\n",
       "      <td>NaN</td>\n",
       "      <td>NaN</td>\n",
       "      <td>DROP BOX ADDRESS= address 2</td>\n",
       "    </tr>\n",
       "  </tbody>\n",
       "</table>\n",
       "<p>351 rows × 23 columns</p>\n",
       "</div>"
      ],
      "text/plain": [
       "               address_1 state county Field 23 location_type  \\\n",
       "0     500 Gliniewicz Way   NaN    NaN      NaN           NaN   \n",
       "1        472 Main Street   NaN    NaN      NaN           NaN   \n",
       "2        130 Main Street   NaN    NaN      NaN           NaN   \n",
       "3          8 Park Street   NaN    NaN      NaN           NaN   \n",
       "4         36 Main Street   NaN    NaN      NaN           NaN   \n",
       "..                   ...   ...    ...      ...           ...   \n",
       "346     10 Common Street   NaN    NaN      NaN           NaN   \n",
       "347      455 Main Street   NaN    NaN      NaN           NaN   \n",
       "348  160 Huntington Road   NaN    NaN      NaN           NaN   \n",
       "349      79 South Street   NaN    NaN      NaN           NaN   \n",
       "350        1146 Route 28   NaN    NaN      NaN           NaN   \n",
       "\n",
       "                                             address_2         city state_2  \\\n",
       "0                                                  NaN     ABINGTON     NaN   \n",
       "1                                                  NaN        ACTON     NaN   \n",
       "2                                                  NaN     ACUSHNET     NaN   \n",
       "3                8 Park Street (In front of Town Hall)        ADAMS     NaN   \n",
       "4                                                  NaN       AGAWAM     NaN   \n",
       "..                                                 ...          ...     ...   \n",
       "346     10 Common Street (At rear accessible entrance)       WOBURN     NaN   \n",
       "347                                                NaN    WORCESTER     NaN   \n",
       "348      160 Huntington Rd (Outside on Town Hall ramp)  WORTHINGTON     NaN   \n",
       "349  79 South Street (Outside Town Hall, on right s...     WRENTHAM     NaN   \n",
       "350  1146 Routh 28, South Yarmouth (By accessible s...     YARMOUTH     NaN   \n",
       "\n",
       "     zip phone  ... has_phone county_website_url validate_url  \\\n",
       "0    NaN   NaN  ...       NaN                NaN          NaN   \n",
       "1    NaN   NaN  ...       NaN                NaN          NaN   \n",
       "2    NaN   NaN  ...       NaN                NaN          NaN   \n",
       "3    NaN   NaN  ...       NaN                NaN          NaN   \n",
       "4    NaN   NaN  ...       NaN                NaN          NaN   \n",
       "..   ...   ...  ...       ...                ...          ...   \n",
       "346  NaN   NaN  ...       NaN                NaN          NaN   \n",
       "347  NaN   NaN  ...       NaN                NaN          NaN   \n",
       "348  NaN   NaN  ...       NaN                NaN          NaN   \n",
       "349  NaN   NaN  ...       NaN                NaN          NaN   \n",
       "350  NaN   NaN  ...       NaN                NaN          NaN   \n",
       "\n",
       "                           email             fax social inactive hours rules  \\\n",
       "0         lmadams@abingtonma.gov  (781) 982-2138    NaN      NaN   NaN   NaN   \n",
       "1             clerk@acton-ma.gov  (978) 929-6340    NaN      NaN   NaN   NaN   \n",
       "2        plabonte@acushnet.ma.us  (508) 998-0216    NaN      NaN   NaN   NaN   \n",
       "3     hmeczywor@town.adams.ma.us  (413) 743-8316    NaN      NaN   NaN   NaN   \n",
       "4              vote@agawam.ma.us  (413) 786-9927    NaN      NaN   NaN   NaN   \n",
       "..                           ...             ...    ...      ...   ...   ...   \n",
       "346          ballot@woburnma.gov  (781) 897-5859    NaN      NaN   NaN   NaN   \n",
       "347    elections@worcesterma.gov  (508) 799-1137    NaN      NaN   NaN   NaN   \n",
       "348  townclerk@worthington-ma.us  (413) 238-5579    NaN      NaN   NaN   NaN   \n",
       "349     townclerk@wrentham.ma.us  (508) 384-5434    NaN      NaN   NaN   NaN   \n",
       "350        clerks@yarmouth.ma.us  (508) 760-4842    NaN      NaN   NaN   NaN   \n",
       "\n",
       "                           notes  \n",
       "0                            NaN  \n",
       "1                            NaN  \n",
       "2                            NaN  \n",
       "3    DROP BOX ADDRESS= address 2  \n",
       "4                            NaN  \n",
       "..                           ...  \n",
       "346  DROP BOX ADDRESS= address 2  \n",
       "347                          NaN  \n",
       "348  DROP BOX ADDRESS= address 2  \n",
       "349  DROP BOX ADDRESS= address 2  \n",
       "350  DROP BOX ADDRESS= address 2  \n",
       "\n",
       "[351 rows x 23 columns]"
      ]
     },
     "execution_count": 81,
     "metadata": {},
     "output_type": "execute_result"
    }
   ],
   "source": [
    "all_data_df"
   ]
  },
  {
   "cell_type": "markdown",
   "metadata": {},
   "source": [
    "# Add state and has_dropoff records"
   ]
  },
  {
   "cell_type": "code",
   "execution_count": 82,
   "metadata": {
    "ExecuteTime": {
     "end_time": "2020-09-21T23:20:56.254940Z",
     "start_time": "2020-09-21T23:20:56.250024Z"
    }
   },
   "outputs": [],
   "source": [
    "all_data_df['state']='MA'"
   ]
  },
  {
   "cell_type": "code",
   "execution_count": 83,
   "metadata": {
    "ExecuteTime": {
     "end_time": "2020-09-21T23:20:56.266548Z",
     "start_time": "2020-09-21T23:20:56.259592Z"
    }
   },
   "outputs": [],
   "source": [
    "all_data_df['state_2']='MA'"
   ]
  },
  {
   "cell_type": "code",
   "execution_count": 84,
   "metadata": {
    "ExecuteTime": {
     "end_time": "2020-09-21T23:20:56.276946Z",
     "start_time": "2020-09-21T23:20:56.270817Z"
    }
   },
   "outputs": [],
   "source": [
    "all_data_df['has_droppff']='Yes, at office or drop box'"
   ]
  },
  {
   "cell_type": "code",
   "execution_count": 85,
   "metadata": {
    "ExecuteTime": {
     "end_time": "2020-09-21T23:20:56.286707Z",
     "start_time": "2020-09-21T23:20:56.281133Z"
    }
   },
   "outputs": [],
   "source": [
    "all_data_df['has_phone']='No'"
   ]
  },
  {
   "cell_type": "code",
   "execution_count": 86,
   "metadata": {
    "ExecuteTime": {
     "end_time": "2020-09-21T23:20:56.296510Z",
     "start_time": "2020-09-21T23:20:56.290349Z"
    }
   },
   "outputs": [],
   "source": [
    "all_data_df['validate_url']='https://www.sec.state.ma.us/ele/eleev/ev-find-my-election-office.htm'"
   ]
  },
  {
   "cell_type": "code",
   "execution_count": 87,
   "metadata": {
    "ExecuteTime": {
     "end_time": "2020-09-21T23:20:56.317185Z",
     "start_time": "2020-09-21T23:20:56.300612Z"
    }
   },
   "outputs": [
    {
     "name": "stdout",
     "output_type": "stream",
     "text": [
      "<class 'pandas.core.frame.DataFrame'>\n",
      "RangeIndex: 351 entries, 0 to 350\n",
      "Data columns (total 23 columns):\n",
      " #   Column              Non-Null Count  Dtype \n",
      "---  ------              --------------  ----- \n",
      " 0   address_1           351 non-null    object\n",
      " 1   state               351 non-null    object\n",
      " 2   county              0 non-null      object\n",
      " 3   Field 23            0 non-null      object\n",
      " 4   location_type       0 non-null      object\n",
      " 5   address_2           231 non-null    object\n",
      " 6   city                351 non-null    object\n",
      " 7   state_2             351 non-null    object\n",
      " 8   zip                 0 non-null      object\n",
      " 9   phone               0 non-null      object\n",
      " 10  latitude            0 non-null      object\n",
      " 11  longitude           0 non-null      object\n",
      " 12  has_droppff         351 non-null    object\n",
      " 13  has_phone           351 non-null    object\n",
      " 14  county_website_url  0 non-null      object\n",
      " 15  validate_url        351 non-null    object\n",
      " 16  email               351 non-null    object\n",
      " 17  fax                 338 non-null    object\n",
      " 18  social              0 non-null      object\n",
      " 19  inactive            0 non-null      object\n",
      " 20  hours               0 non-null      object\n",
      " 21  rules               0 non-null      object\n",
      " 22  notes               231 non-null    object\n",
      "dtypes: object(23)\n",
      "memory usage: 63.2+ KB\n"
     ]
    }
   ],
   "source": [
    "all_data_df.info()"
   ]
  },
  {
   "cell_type": "markdown",
   "metadata": {},
   "source": [
    "# Write DataFrame to csv"
   ]
  },
  {
   "cell_type": "code",
   "execution_count": 88,
   "metadata": {
    "ExecuteTime": {
     "end_time": "2020-09-21T23:20:56.337919Z",
     "start_time": "2020-09-21T23:20:56.320625Z"
    }
   },
   "outputs": [],
   "source": [
    "all_data_df.to_csv('Massachusetts.csv')"
   ]
  }
 ],
 "metadata": {
  "kernelspec": {
   "display_name": "Python 3",
   "language": "python",
   "name": "python3"
  },
  "language_info": {
   "codemirror_mode": {
    "name": "ipython",
    "version": 3
   },
   "file_extension": ".py",
   "mimetype": "text/x-python",
   "name": "python",
   "nbconvert_exporter": "python",
   "pygments_lexer": "ipython3",
   "version": "3.6.8"
  },
  "toc": {
   "base_numbering": 1,
   "nav_menu": {},
   "number_sections": true,
   "sideBar": true,
   "skip_h1_title": false,
   "title_cell": "Table of Contents",
   "title_sidebar": "Contents",
   "toc_cell": true,
   "toc_position": {
    "height": "calc(100% - 180px)",
    "left": "10px",
    "top": "150px",
    "width": "365px"
   },
   "toc_section_display": true,
   "toc_window_display": true
  }
 },
 "nbformat": 4,
 "nbformat_minor": 4
}
